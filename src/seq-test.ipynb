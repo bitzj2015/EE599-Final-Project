{
 "cells": [
  {
   "cell_type": "code",
   "execution_count": 1,
   "metadata": {
    "scrolled": false
   },
   "outputs": [
    {
     "name": "stderr",
     "output_type": "stream",
     "text": [
      "2020-05-02 18:44:29,831\tINFO resource_spec.py:212 -- Starting Ray with 34.52 GiB memory available for workers and up to 17.26 GiB for objects. You can adjust these settings with ray.init(memory=<bytes>, object_store_memory=<bytes>).\n",
      "2020-05-02 18:44:29,947\tWARNING services.py:916 -- Redis failed to start, retrying now.\n",
      "2020-05-02 18:44:30,064\tWARNING services.py:916 -- Redis failed to start, retrying now.\n",
      "2020-05-02 18:44:30,547\tINFO services.py:1148 -- View the Ray dashboard at \u001b[1m\u001b[32mlocalhost:8266\u001b[39m\u001b[22m\n"
     ]
    },
    {
     "name": "stdout",
     "output_type": "stream",
     "text": [
      "[INFO] Complete loading data, with # of {'0': 4000, '1': 4000, '2': 4000}\n"
     ]
    },
    {
     "name": "stderr",
     "output_type": "stream",
     "text": [
      "100%|██████████| 38/38 [00:35<00:00,  1.07it/s]\n"
     ]
    }
   ],
   "source": [
    "# Load basic module\n",
    "import os\n",
    "import json\n",
    "import random\n",
    "random.seed(0)\n",
    "import math\n",
    "from copy import deepcopy\n",
    "import argparse\n",
    "from tqdm import tqdm\n",
    "import numpy as np\n",
    "import torch\n",
    "import torch.nn as nn\n",
    "import torch.optim as optim\n",
    "\n",
    "# Load self-defined module\n",
    "from generator_seq import Generator, Gen_args\n",
    "from discriminator_seq import Discriminator, Dis_args\n",
    "from train_seq import pretrain_gen, train_adv, train_dis, train_pri, train_gap\n",
    "from data_loader import LoadData\n",
    "\n",
    "# Set random seed\n",
    "SEED = 0\n",
    "random.seed(SEED)\n",
    "np.random.seed(SEED)\n",
    "\n",
    "# Basic Training Paramters\n",
    "BATCH_SIZE = 64\n",
    "USE_CUDA = False\n",
    "PRE_GEN_EPOCH_NUM = 20\n",
    "PRE_ADV_EPOCH_NUM = 10\n",
    "PRE_DIS_EPOCH_NUM = 2\n",
    "GAP_EPOCH_NUM = 100\n",
    "MC_NUM = 16\n",
    "GAP_W = [0.01, 0.2, 0.8]\n",
    "GEN_LR = 0.01\n",
    "ADV_LR = 0.01\n",
    "DIS_LR = 0.01\n",
    "v = \"11\"\n",
    "\n",
    "PRE_GEN_PATH = \"../param/pre_generator_v2.pkl\"\n",
    "PRE_ADV_PATH = \"../param/pre_adversary_v2.pkl\"\n",
    "PRE_DIS_PATH = \"../param/pre_discriminator_v2.pkl\"\n",
    "\n",
    "GEN_PATH = \"../param/generator_v2\" + v + \".pkl\"\n",
    "ADV_PATH = \"../param/adversary_v2\" + v + \".pkl\"\n",
    "DIS_PATH = \"../param/discriminator_v2\" + v + \".pkl\"\n",
    "\n",
    "# Get training and testing dataloader\n",
    "train_loader, test_loader, \\\n",
    "    MAX_SEQ_LEN, VOCAB_SIZE, index_map = LoadData(data_path=\"../data/dataset_batch_v3.json\", \n",
    "                                                  word2id_path=\"../data/word_map_v3.json\", \n",
    "                                                  train_split=0.8,\n",
    "                                                  BATCH_SIZE=64)\n",
    "\n",
    "\n",
    "# Genrator Parameters\n",
    "gen_args = Gen_args(vocab_size=VOCAB_SIZE, \n",
    "                    emb_dim=64,\n",
    "                    enc_hid_dim=64,\n",
    "                    dec_hid_dim=64,\n",
    "                    enc_dropout=0.5,\n",
    "                    attn_dim=8,\n",
    "                    dec_dropout=0.5)\n",
    "\n",
    "# Discriminator Parameters\n",
    "dis_args = Dis_args(vocab_size=VOCAB_SIZE, \n",
    "                    emb_dim=64,\n",
    "                    enc_hid_dim=64,\n",
    "                    dec_hid_dim=64,\n",
    "                    enc_dropout=0.5,\n",
    "                    attn_dim=8,\n",
    "                    dec_dropout=0.5,\n",
    "                    out_dim=2)\n",
    "\n",
    "# Adversarial Parameters\n",
    "adv_args = Dis_args(vocab_size=VOCAB_SIZE, \n",
    "                    emb_dim=64,\n",
    "                    enc_hid_dim=64,\n",
    "                    dec_hid_dim=64,\n",
    "                    enc_dropout=0.5,\n",
    "                    attn_dim=8,\n",
    "                    dec_dropout=0.5,\n",
    "                    out_dim=3)\n",
    "\n",
    "generator = Generator(gen_args, USE_CUDA)\n",
    "discriminator = Discriminator(dis_args, USE_CUDA)\n",
    "adversary = Discriminator(adv_args, USE_CUDA)\n",
    "\n",
    "if USE_CUDA:\n",
    "    generator = generator.cuda()\n",
    "    discriminator = discriminator.cuda()\n",
    "    adversary = adversary.cuda()\n",
    "\n",
    "# Enter training phase\n",
    "generator.load_state_dict(torch.load(GEN_PATH))\n",
    "gen_criterion = nn.NLLLoss(reduction='sum')\n",
    "\n",
    "model = generator\n",
    "criterion = gen_criterion\n",
    "total_loss = 0.\n",
    "total_words = 0.\n",
    "for batch in tqdm(test_loader):\n",
    "    data = batch[\"x\"]\n",
    "    target = batch[\"x\"][:,:,0]\n",
    "    if USE_CUDA:\n",
    "        data, target = data.cuda(), target.cuda()\n",
    "    target = target.contiguous().view(-1)\n",
    "    with torch.no_grad():\n",
    "        pred = model.forward(data)\n",
    "        loss = criterion(pred, target)\n",
    "        total_loss += loss.item()\n",
    "        total_words += data.size(0) * data.size(1)\n"
   ]
  },
  {
   "cell_type": "code",
   "execution_count": 2,
   "metadata": {},
   "outputs": [
    {
     "name": "stdout",
     "output_type": "stream",
     "text": [
      "[INFO] Target query:  ['<SOS>', 'cancer', 'cancer', 'death', 'per', 'year', 'cause', 'of', 'cancer', 'tire', 'bobcat', 'serval', 'black', 'bear', 'car', 'car', 'pic', 'car', 'pic', 'car', 'turbo', 'world', 'map', 'blazer', 'blazer', 'transmission', 'amnesty', 'free', 'green', 'for', '<EOS>', '*', '*', '*', '*', '*', '*', '*', '*', '*', '*', '*', '*', '*', '*', '*', '*', '*', '*', '*', '*', '<SOS>', 'free', 'nude', 'free', 'picture', 'girl', 'nude', 'my', 'cute', 'cute', 'girl', 'perfect', 'free', 'nude', 'girl', 'nude', 'free', 'picture', 'perfect', 'free', 'nude', 'girl', 'free', 'naked', 'blonde', 'gallery', 'free', 'free', 'naked', 'girl', 'pic', 'free', 'blonde', 'naked', 'pic', 'free', 'nude', 'blonde', 'pic', 'free', 'naked', 'blonde', 'gallery', 'spreading', 'girl', 'free', '<EOS>', '*', '*', '*', '*', '<SOS>', 'what', 'doe', 'mean', 'baby', 'bliss', 'gripe', 'water', 'almond', 'oil', 'almond', 'oil', 'for', '<EOS>', '*', '*', '*', '*', '*', '*', '*', '*', '*', '*', '*', '*', '*', '*', '*', '*', '*', '*', '*', '*', '*', '*', '*', '*', '*', '*', '*', '*', '*', '*', '*', '*', '*', '*', '*', '*', '*', '<SOS>', 'lyric', 'lyric', 'country', 'music', 'lyric', 'country', 'music', 'lyric', 'country', 'music', 'lyric', 'country', 'music', 'lyric', 'country', 'music', 'song', 'country', '<EOS>', '*', '*', '*', '*', '*', '*', '*', '*', '*', '*', '*', '*', '*', '*', '*', '*', '*', '*', '*', '*', '*', '*', '*', '*', '*', '*', '*', '*', '*', '*', '*', '<SOS>', 'picture', 'of', 'old', 'phone', 'picture', 'of', 'phone', 'from', 'th', 'picture', 'of', 'phone', 'from', 'the', 'desk', 'phone', 'basic', 'desk', 'phone', 'be', 'pregnant', '<EOS>', '*', '*', '*', '*', '*', '*', '*', '*', '*', '*', '*', '*', '*', '*', '*', '*', '*', '*', '*', '*', '*', '*', '*', '*', '*', '*', '*', '*', '<SOS>', 'free', 'video', 'the', 'dungeon', 'model', 'agency', 'in', 'missile', 'lyric', 'the', 'adventure', 'lyric', 'distraction', 'lyric', 'angel', 'and', 'distraction', 'lyric', 'start', 'the', 'machine', 'lyric', 'do', 'it', 'for', 'me', 'now', '<EOS>', '*', '*', '*', '*', '*', '*', '*', '*', '*', '*', '*', '*', '*', '*', '*', '*', '*', '*', '*', '*', '*', '*', '<SOS>', 'lyric', 'to', 'baby', 'get', 'back', 'graduation', 'lyric', 'doe', 'know', '<EOS>', '*', '*', '*', '*', '*', '*', '*', '*', '*', '*', '*', '*', '*', '*', '*', '*', '*', '*', '*', '*', '*', '*', '*', '*', '*', '*', '*', '*', '*', '*', '*', '*', '*', '*', '*', '*', '*', '*', '*', '*', '<SOS>', 'eight', 'loss', 'plan', 'weight', 'loss', 'plan', 'plan', 'plan', 'for', 'after', 'pregnancy', 'min', 'min', '<EOS>', '*', '*', '*', '*', '*', '*', '*', '*', '*', '*', '*', '*', '*', '*', '*', '*', '*', '*', '*', '*', '*', '*', '*', '*', '*', '*', '*', '*', '*', '*', '*', '*', '*', '*', '*', '*', '<SOS>', 'assessor', 'county', 'assessor', 'county', 'colorado', 'assessor', 'county', 'assessor', 'kennel', 'club', 'dog', '<EOS>', '*', '*', '*', '*', '*', '*', '*', '*', '*', '*', '*', '*', '*', '*', '*', '*', '*', '*', '*', '*', '*', '*', '*', '*', '*', '*', '*', '*', '*', '*', '*', '*', '*', '*', '*', '*', '*', '*', '<SOS>', 'a', 'cancer', 'by', 'with', 'wheat', 'grass', 'coping', 'with', 'cancer', 'journal', 'the', 'association', 'of', 'oncology', 'social', '<EOS>', '*', '*', '*', '*', '*', '*', '*', '*', '*', '*', '*', '*', '*', '*', '*', '*', '*', '*', '*', '*', '*', '*', '*', '*', '*', '*', '*', '*', '*', '*', '*', '*', '*', '*']\n",
      "[INFO] Predicted query:  ['<SOS>', 'cancer', 'cancer', 'draft', 'per', 'of', 'of', 'of', 'of', 'in', 'in', 'in', 'in', 'in', 'car', 'car', 'car', '<EOS>', '*', '*', '*', '*', '*', '*', '*', '*', '*', '*', '*', '*', '*', '*', '*', '*', '*', '*', '*', '*', '*', '*', '*', '*', '*', '*', '*', '*', '*', '*', '*', '*', '*', '<SOS>', 'free', 'nude', 'free', 'picture', 'girl', 'girl', 'nude', 'take', 'girl', 'girl', 'girl', 'girl', 'nude', 'nude', 'nude', 'nude', 'nude', 'nude', 'free', 'free', 'free', 'free', 'free', 'free', 'free', 'free', 'free', 'free', 'free', 'free', 'free', 'free', 'free', 'free', 'free', 'free', 'free', 'free', 'free', 'free', 'free', 'free', 'free', 'free', 'free', 'free', 'free', 'free', 'free', 'free', '<SOS>', 'what', 'doe', 'mean', 'baby', 'bliss', 'baby', 'water', 'oil', 'oil', '<EOS>', 'oil', '*', '*', '*', '*', '*', '*', '*', '*', '*', '*', '*', '*', '*', '*', '*', '*', '*', '*', '*', '*', '*', '*', '*', '*', '*', '*', '*', '*', '*', '*', '*', '*', '*', '*', '*', '*', '*', '*', '*', '<SOS>', 'lyric', 'lyric', 'country', 'music', 'lyric', 'baby', 'music', 'baby', 'music', 'lyric', 'lyric', 'lyric', 'music', 'music', '<EOS>', 'music', '<EOS>', '*', '*', '*', '*', '*', '*', '*', '*', '*', '*', '*', '*', '*', '*', '*', '*', '*', '*', '*', '*', '*', '*', '*', '*', '*', '*', '*', '*', '*', '*', '*', '*', '*', '<SOS>', 'picture', 'of', 'old', 'in', 'in', 'of', 'of', 'of', 'of', 'of', 'of', 'of', 'of', 'of', 'baby', 'baby', 'baby', 'baby', 'phone', 'phone', '<EOS>', '*', '*', '*', '*', '*', '*', '*', '*', '*', '*', '*', '*', '*', '*', '*', '*', '*', '*', '*', '*', '*', '*', '*', '*', '*', '*', '*', '*', '*', '<SOS>', 'free', 'video', 'the', 'the', 'the', 'agency', 'in', 'in', 'lyric', 'lyric', 'lyric', 'lyric', 'lyric', 'lyric', 'lyric', 'lyric', 'lyric', 'lyric', 'lyric', 'lyric', 'lyric', '<EOS>', '*', '*', '*', '*', '*', '*', '*', '*', '*', '*', '*', '*', '*', '*', '*', '*', '*', '*', '*', '*', '*', '*', '*', '*', '*', '*', '*', '*', '<SOS>', 'lyric', 'to', 'to', 'get', 'baby', 'baby', 'doe', '<EOS>', '*', '*', '*', '*', '*', '*', '*', '*', '*', '*', '*', '*', '*', '*', '*', '*', '*', '*', '*', '*', '*', '*', '*', '*', '*', '*', '*', '*', '*', '*', '*', '*', '*', '*', '*', '*', '*', '*', '*', '*', '*', '*', '<SOS>', 'pass', 'loss', 'plan', 'weight', 'loss', 'plan', 'plan', 'plan', 'microbiology', '<EOS>', '<EOS>', '*', '*', '*', '*', '*', '*', '*', '*', '*', '*', '*', '*', '*', '*', '*', '*', '*', '*', '*', '*', '*', '*', '*', '*', '*', '*', '*', '*', '*', '*', '*', '*', '*', '*', '*', '*', '*', '*', '*', '<SOS>', 'assessor', 'county', 'assessor', 'county', 'colorado', 'baby', 'baby', 'baby', '<EOS>', '<EOS>', '*', '*', '*', '*', '*', '*', '*', '*', '*', '*', '*', '*', '*', '*', '*', '*', '*', '*', '*', '*', '*', '*', '*', '*', '*', '*', '*', '*', '*', '*', '*', '*', '*', '*', '*', '*', '*', '*', '*', '*', '<SOS>', 'a', 'cancer', 'by', 'with', 'baby', 'baby', 'baby', 'baby', 'baby', 'baby', 'baby', '<EOS>', '*', '*', '*', '*', '*', '*', '*', '*', '*', '*', '*', '*', '*', '*', '*', '*', '*', '*', '*', '*', '*', '*', '*', '*', '*', '*', '*', '*', '*', '*', '*', '*', '*', '*', '*', '*', '*', '*']\n"
     ]
    }
   ],
   "source": [
    "target_ = target.detach().cpu().numpy()\n",
    "_, pred_ = torch.max(pred, axis=-1)\n",
    "pred_ = pred_.cpu().numpy()\n",
    "target_query = []\n",
    "pred_query = []\n",
    "for i in range(MAX_SEQ_LEN * 10):\n",
    "    target_query.append(index_map[target_[i]])\n",
    "    pred_query.append(index_map[pred_[i]])\n",
    "print(\"[INFO] Target query: \", target_query)\n",
    "print(\"[INFO] Predicted query: \", pred_query)"
   ]
  },
  {
   "cell_type": "code",
   "execution_count": null,
   "metadata": {},
   "outputs": [],
   "source": []
  },
  {
   "cell_type": "code",
   "execution_count": null,
   "metadata": {},
   "outputs": [],
   "source": []
  }
 ],
 "metadata": {
  "kernelspec": {
   "display_name": "Python 3",
   "language": "python",
   "name": "python3"
  },
  "language_info": {
   "codemirror_mode": {
    "name": "ipython",
    "version": 3
   },
   "file_extension": ".py",
   "mimetype": "text/x-python",
   "name": "python",
   "nbconvert_exporter": "python",
   "pygments_lexer": "ipython3",
   "version": "3.6.5"
  }
 },
 "nbformat": 4,
 "nbformat_minor": 2
}

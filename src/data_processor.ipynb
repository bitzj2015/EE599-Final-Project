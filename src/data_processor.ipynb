{
 "cells": [
  {
   "cell_type": "code",
   "execution_count": 1,
   "metadata": {},
   "outputs": [],
   "source": [
    "import os\n",
    "import json\n",
    "import random\n",
    "random.seed(0)\n",
    "import math\n",
    "from copy import deepcopy\n",
    "import argparse\n",
    "from tqdm import tqdm\n",
    "\n",
    "import numpy as np\n",
    "\n",
    "import torch\n",
    "import torch.nn as nn\n",
    "import torch.optim as optim\n",
    "\n",
    "from generator import Generator, G_args\n",
    "from discriminator import Discriminator, D_args\n",
    "from rollout import Rollout\n",
    "from utils import MyDataset\n",
    "from torch.utils.data import DataLoader\n",
    "\n",
    "# parser = argparse.ArgumentParser(description='Training Parameter')\n",
    "# parser.add_argument('--cuda', action='store', type=int, default=0)\n",
    "# parser.add_argument('--batch_size', help=\"batch size during training\", type=int, default=64)\n",
    "\n",
    "# args = parser.parse_args()\n",
    "# print(args)\n",
    "\n",
    "with open(\"../local/word_map.json\", \"r\") as json_file:\n",
    "    word_map = json.load(json_file)\n",
    "with open(\"../local/dataset_batch.json\", \"r\") as json_file:\n",
    "    dataset = json.load(json_file)\n",
    "index_map = {}\n",
    "for key in word_map.keys():\n",
    "    index_map[word_map[key]] = key\n",
    "\n",
    "input_data = []\n",
    "label_data = []\n",
    "for category in dataset.keys():\n",
    "    if category == \"max_seq_len\":\n",
    "        continue\n",
    "    input_data += deepcopy(dataset[category])\n",
    "    label_data += [int(category)] * len(dataset[category])\n",
    "rd_index = np.arange(len(input_data))\n",
    "random.shuffle(rd_index)\n",
    "input_data = [input_data[i] for i in rd_index]\n",
    "label_data = [label_data[i] for i in rd_index]\n",
    "total_size = len(input_data)\n",
    "train_size = int(total_size * 0.8)"
   ]
  },
  {
   "cell_type": "code",
   "execution_count": 2,
   "metadata": {},
   "outputs": [],
   "source": [
    "# Basic Training Paramters\n",
    "SEED = 0\n",
    "BATCH_SIZE = 64\n",
    "VOCAB_SIZE = word_map[\"*\"] + 1\n",
    "MAX_SEQ_LEN = dataset[\"max_seq_len\"]\n",
    "USE_CUDA = False\n",
    "\n",
    "# Genrator Parameters\n",
    "g_args = G_args(vocab_size=VOCAB_SIZE, \n",
    "                emb_dim=64, \n",
    "                hidden_dim=64)\n",
    "# Discriminator Parameters\n",
    "d_args = D_args(num_classes=2, \n",
    "                vocab_size=VOCAB_SIZE, \n",
    "                emb_dim=64, \n",
    "                filter_sizes=[3, 4, 5], \n",
    "                num_filters=[100, 100, 100], \n",
    "                dropout=0.5)\n",
    "# Adversarial Parameters\n",
    "a_args = D_args(num_classes=3, \n",
    "                vocab_size=VOCAB_SIZE, \n",
    "                emb_dim=64, \n",
    "                filter_sizes=[3,4,5], \n",
    "                num_filters=[100, 100, 100], \n",
    "                dropout=0.5)\n",
    "# Dataset Parameters\n",
    "train_dataset = MyDataset(input_data=input_data[:train_size],\n",
    "                          label_data=label_data[:train_size],\n",
    "                          word_map=word_map,\n",
    "                          max_len=MAX_SEQ_LEN)\n",
    "\n",
    "train_loader = DataLoader(dataset=train_dataset, \n",
    "                          batch_size=BATCH_SIZE, \n",
    "                          shuffle=True)\n",
    "test_dataset = MyDataset(input_data=input_data[train_size:],\n",
    "                         label_data=label_data[train_size:],\n",
    "                         word_map=word_map,\n",
    "                         max_len=MAX_SEQ_LEN)\n",
    "\n",
    "test_loader = DataLoader(dataset=test_dataset, \n",
    "                         batch_size=BATCH_SIZE, \n",
    "                         shuffle=True)"
   ]
  },
  {
   "cell_type": "code",
   "execution_count": 3,
   "metadata": {},
   "outputs": [],
   "source": [
    "random.seed(SEED)\n",
    "np.random.seed(SEED)\n",
    "\n",
    "# Define Networks\n",
    "generator = Generator(g_args, USE_CUDA)\n",
    "discriminator = Discriminator(d_args)\n",
    "if USE_CUDA:\n",
    "    generator = generator.cuda()\n",
    "    discriminator = discriminator.cuda()"
   ]
  },
  {
   "cell_type": "code",
   "execution_count": 5,
   "metadata": {},
   "outputs": [],
   "source": [
    "def pretrain_epoch(model, dataloader, criterion, optimizer, model_path, use_cuda=False):\n",
    "    total_loss = 0.\n",
    "    total_words = 0.\n",
    "    for batch in tqdm(dataloader):\n",
    "        data = batch[\"x\"]\n",
    "        target = batch[\"x\"][:,:,0]\n",
    "        if use_cuda:\n",
    "            data, target = data.cuda(), target.cuda()\n",
    "        target = target.contiguous().view(-1)\n",
    "        pred = model.forward(data)\n",
    "        loss = criterion(pred, target)\n",
    "        total_loss += loss.item()\n",
    "        total_words += data.size(0) * data.size(1)\n",
    "        optimizer.zero_grad()\n",
    "        loss.backward()\n",
    "        optimizer.step()\n",
    "    target_ = target.detach().cpu().numpy()\n",
    "    _, pred_ = torch.max(pred, axis=-1)\n",
    "    pred_ = pred_.cpu().numpy()\n",
    "    target_query = []\n",
    "    pred_query = []\n",
    "    for i in range(72):\n",
    "        target_query.append(index_map[target_[i]])\n",
    "        pred_query.append(index_map[pred_[i]])\n",
    "    print(\"[INFO] Target query: \", target_query)\n",
    "    print(\"[INFO] Predicted query: \", pred_query)\n",
    "    torch.save(model.state_dict(), model_path)\n",
    "    return math.exp(total_loss / total_words)\n",
    "\n",
    "def pretest_epoch(model, dataloader, criterion, optimizer, model_path, use_cuda=False):\n",
    "    total_loss = 0.\n",
    "    total_words = 0.\n",
    "    for batch in tqdm(dataloader):\n",
    "        data = batch[\"x\"]\n",
    "        target = batch[\"x\"][:,:,0]\n",
    "        if use_cuda:\n",
    "            data, target = data.cuda(), target.cuda()\n",
    "        target = target.contiguous().view(-1)\n",
    "        with torch.no_grad():\n",
    "            pred = model.forward(data)\n",
    "            loss = criterion(pred, target)\n",
    "            total_loss += loss.item()\n",
    "            total_words += data.size(0) * data.size(1)\n",
    "    target_ = target.detach().cpu().numpy()\n",
    "    _, pred_ = torch.max(pred, axis=-1)\n",
    "    pred_ = pred_.cpu().numpy()\n",
    "    target_query = []\n",
    "    pred_query = []\n",
    "    for i in range(72):\n",
    "        target_query.append(index_map[target_[i]])\n",
    "        pred_query.append(index_map[pred_[i]])\n",
    "    print(\"[INFO] Target query: \", target_query)\n",
    "    print(\"[INFO] Predicted query: \", pred_query)\n",
    "    torch.save(model.state_dict(), model_path)\n",
    "    return math.exp(total_loss / total_words)"
   ]
  },
  {
   "cell_type": "code",
   "execution_count": 6,
   "metadata": {},
   "outputs": [
    {
     "name": "stderr",
     "output_type": "stream",
     "text": [
      "\r",
      "  0%|          | 0/38 [00:00<?, ?it/s]"
     ]
    },
    {
     "name": "stdout",
     "output_type": "stream",
     "text": [
      "[INFO] Pretrain with MLE ...\n",
      "[INFO] Start epoch [0] ...\n"
     ]
    },
    {
     "name": "stderr",
     "output_type": "stream",
     "text": [
      "100%|██████████| 38/38 [00:11<00:00,  3.36it/s]\n",
      " 10%|█         | 1/10 [00:00<00:01,  7.25it/s]"
     ]
    },
    {
     "name": "stdout",
     "output_type": "stream",
     "text": [
      "[INFO] Target query:  ['<SOS>', 'spear', 'pregnant', 'again', '<POS>', 'spear', 'pregnant', '<POS>', 'pregnant', '<POS>', 'spear', 'pregnant', '<POS>', 'spear', 'pregnant', 'photo', '<EOS>', '*', '*', '*', '*', '*', '*', '*', '*', '*', '*', '*', '*', '*', '*', '*', '*', '*', '*', '*', '*', '*', '*', '*', '*', '*', '*', '*', '*', '*', '*', '*', '*', '*', '*', '*', '*', '*', '*', '*', '*', '*', '*', '*', '*', '*', '*', '*', '*', '*', '*', '*', '*', '*', '*', '*']\n",
      "[INFO] Predicted query:  ['<POS>', '<POS>', '<POS>', '<POS>', '<POS>', '<POS>', '<POS>', '<POS>', '<POS>', '<POS>', '<POS>', '<POS>', '<POS>', '<POS>', '<POS>', '<POS>', '*', '*', '*', '*', '*', '*', '*', '*', '*', '*', '*', '*', '*', '*', '*', '*', '*', '*', '*', '*', '*', '*', '*', '*', '*', '*', '*', '*', '*', '*', '*', '*', '*', '*', '*', '*', '*', '*', '*', '*', '*', '*', '*', '*', '*', '*', '*', '*', '*', '*', '*', '*', '*', '*', '*', '*']\n"
     ]
    },
    {
     "name": "stderr",
     "output_type": "stream",
     "text": [
      "100%|██████████| 10/10 [00:01<00:00,  8.69it/s]\n",
      "  0%|          | 0/38 [00:00<?, ?it/s]"
     ]
    },
    {
     "name": "stdout",
     "output_type": "stream",
     "text": [
      "[INFO] Target query:  ['<SOS>', 'wallpaper', '<POS>', 'dell', '<POS>', 'what', 'be', 'the', 'best', 'computer', 'processor', '<POS>', 'drive', 'wo', 'auto', 'load', '<EOS>', '*', '*', '*', '*', '*', '*', '*', '*', '*', '*', '*', '*', '*', '*', '*', '*', '*', '*', '*', '*', '*', '*', '*', '*', '*', '*', '*', '*', '*', '*', '*', '*', '*', '*', '*', '*', '*', '*', '*', '*', '*', '*', '*', '*', '*', '*', '*', '*', '*', '*', '*', '*', '*', '*', '*']\n",
      "[INFO] Predicted query:  ['<POS>', '<POS>', '<POS>', '<POS>', '<POS>', '<POS>', '<POS>', '<POS>', '<POS>', '<POS>', '<POS>', '<POS>', '<POS>', '<POS>', '<POS>', '<POS>', '*', '*', '*', '*', '*', '*', '*', '*', '*', '*', '*', '*', '*', '*', '*', '*', '*', '*', '*', '*', '*', '*', '*', '*', '*', '*', '*', '*', '*', '*', '*', '*', '*', '*', '*', '*', '*', '*', '*', '*', '*', '*', '*', '*', '*', '*', '*', '*', '*', '*', '*', '*', '*', '*', '*', '*']\n",
      "[INFO] End epoch [0], train Loss: 0.6039, test loss: 0.4755\n",
      "[INFO] Start epoch [1] ...\n"
     ]
    },
    {
     "name": "stderr",
     "output_type": "stream",
     "text": [
      "100%|██████████| 38/38 [00:11<00:00,  3.44it/s]\n",
      " 10%|█         | 1/10 [00:00<00:01,  7.25it/s]"
     ]
    },
    {
     "name": "stdout",
     "output_type": "stream",
     "text": [
      "[INFO] Target query:  ['<SOS>', 'information', 'on', 'how', 'to', 'get', 'rid', 'of', 'a', '<POS>', 'pattern', 'for', 'plastic', 'canvas', '<POS>', 'making', 'a', 'cover', 'for', 'a', 'resume', '<POS>', 'making', 'a', 'cover', 'letter', 'for', 'a', 'resume', '<EOS>', '*', '*', '*', '*', '*', '*', '*', '*', '*', '*', '*', '*', '*', '*', '*', '*', '*', '*', '*', '*', '*', '*', '*', '*', '*', '*', '*', '*', '*', '*', '*', '*', '*', '*', '*', '*', '*', '*', '*', '*', '*', '*']\n",
      "[INFO] Predicted query:  ['<POS>', '<POS>', '<POS>', '<POS>', '<POS>', '<POS>', '<POS>', '<POS>', '<POS>', '<POS>', '<POS>', '<POS>', '<POS>', '<POS>', '<POS>', '<POS>', '<POS>', '<POS>', '<POS>', '<POS>', '<POS>', '<POS>', '<POS>', '<POS>', '<POS>', '<POS>', '<POS>', '<POS>', '<POS>', '*', '*', '*', '*', '*', '*', '*', '*', '*', '*', '*', '*', '*', '*', '*', '*', '*', '*', '*', '*', '*', '*', '*', '*', '*', '*', '*', '*', '*', '*', '*', '*', '*', '*', '*', '*', '*', '*', '*', '*', '*', '*', '*']\n"
     ]
    },
    {
     "name": "stderr",
     "output_type": "stream",
     "text": [
      "100%|██████████| 10/10 [00:01<00:00,  8.54it/s]\n",
      "  0%|          | 0/38 [00:00<?, ?it/s]"
     ]
    },
    {
     "name": "stdout",
     "output_type": "stream",
     "text": [
      "[INFO] Target query:  ['<SOS>', 'baby', 'shower', 'idea', '<POS>', 'baby', 'shower', 'favor', '<POS>', 'creative', 'baby', 'shower', '<POS>', 'creative', 'baby', 'shower', 'favor', '<POS>', 'creative', 'baby', 'shower', 'favor', '<POS>', 'homemade', 'baby', 'shower', 'favor', '<POS>', 'picture', 'of', 'baby', 'shower', 'favor', '<POS>', 'homemade', 'baby', 'shower', 'favor', '<POS>', 'picture', 'of', 'baby', 'shower', 'favor', '<EOS>', '*', '*', '*', '*', '*', '*', '*', '*', '*', '*', '*', '*', '*', '*', '*', '*', '*', '*', '*', '*', '*', '*', '*', '*', '*', '*', '*']\n",
      "[INFO] Predicted query:  ['<POS>', '<POS>', '<POS>', '<POS>', '<POS>', '<POS>', '<POS>', '<POS>', '<POS>', '<POS>', '<POS>', '<POS>', '<POS>', '<POS>', '<POS>', '<POS>', '<POS>', '<POS>', '<POS>', '<POS>', '<POS>', '<POS>', '<POS>', '<POS>', '<POS>', '<POS>', '<POS>', '<POS>', '<POS>', '<POS>', '<POS>', '<POS>', '<POS>', '<POS>', '<POS>', '<POS>', '<POS>', '<POS>', '<POS>', '<POS>', '<POS>', '<POS>', '<POS>', '<POS>', '*', '*', '*', '*', '*', '*', '*', '*', '*', '*', '*', '*', '*', '*', '*', '*', '*', '*', '*', '*', '*', '*', '*', '*', '*', '*', '*', '*']\n",
      "[INFO] End epoch [1], train Loss: 0.4794, test loss: 0.4753\n",
      "[INFO] Start epoch [2] ...\n"
     ]
    },
    {
     "name": "stderr",
     "output_type": "stream",
     "text": [
      "100%|██████████| 38/38 [00:11<00:00,  3.37it/s]\n",
      " 10%|█         | 1/10 [00:00<00:01,  7.25it/s]"
     ]
    },
    {
     "name": "stdout",
     "output_type": "stream",
     "text": [
      "[INFO] Target query:  ['<SOS>', 'black', 'and', 'baby', 'blue', 'air', 'force', 'one', '<POS>', 'baby', 'blue', 'air', 'force', 'one', '<EOS>', '*', '*', '*', '*', '*', '*', '*', '*', '*', '*', '*', '*', '*', '*', '*', '*', '*', '*', '*', '*', '*', '*', '*', '*', '*', '*', '*', '*', '*', '*', '*', '*', '*', '*', '*', '*', '*', '*', '*', '*', '*', '*', '*', '*', '*', '*', '*', '*', '*', '*', '*', '*', '*', '*', '*', '*', '*']\n",
      "[INFO] Predicted query:  ['<POS>', '<POS>', '<POS>', '<POS>', '<POS>', '<POS>', '<POS>', '<POS>', '<POS>', '<POS>', '<POS>', '<POS>', '<POS>', '<POS>', '*', '*', '*', '*', '*', '*', '*', '*', '*', '*', '*', '*', '*', '*', '*', '*', '*', '*', '*', '*', '*', '*', '*', '*', '*', '*', '*', '*', '*', '*', '*', '*', '*', '*', '*', '*', '*', '*', '*', '*', '*', '*', '*', '*', '*', '*', '*', '*', '*', '*', '*', '*', '*', '*', '*', '*', '*', '*']\n"
     ]
    },
    {
     "name": "stderr",
     "output_type": "stream",
     "text": [
      "100%|██████████| 10/10 [00:01<00:00,  8.50it/s]\n",
      "  0%|          | 0/38 [00:00<?, ?it/s]"
     ]
    },
    {
     "name": "stdout",
     "output_type": "stream",
     "text": [
      "[INFO] Target query:  ['<SOS>', 'garbage', 'bass', 'tab', 'run', 'baby', 'run', '<POS>', 'garbage', 'bass', 'tab', 'run', 'baby', 'run', '<EOS>', '*', '*', '*', '*', '*', '*', '*', '*', '*', '*', '*', '*', '*', '*', '*', '*', '*', '*', '*', '*', '*', '*', '*', '*', '*', '*', '*', '*', '*', '*', '*', '*', '*', '*', '*', '*', '*', '*', '*', '*', '*', '*', '*', '*', '*', '*', '*', '*', '*', '*', '*', '*', '*', '*', '*', '*', '*']\n",
      "[INFO] Predicted query:  ['<POS>', '<POS>', '<POS>', '<POS>', '*', '<POS>', '*', '<POS>', '<POS>', '<POS>', '<POS>', '*', '<POS>', '*', '*', '*', '*', '*', '*', '*', '*', '*', '*', '*', '*', '*', '*', '*', '*', '*', '*', '*', '*', '*', '*', '*', '*', '*', '*', '*', '*', '*', '*', '*', '*', '*', '*', '*', '*', '*', '*', '*', '*', '*', '*', '*', '*', '*', '*', '*', '*', '*', '*', '*', '*', '*', '*', '*', '*', '*', '*', '*']\n",
      "[INFO] End epoch [2], train Loss: 0.4793, test loss: 0.4752\n",
      "[INFO] Start epoch [3] ...\n"
     ]
    },
    {
     "name": "stderr",
     "output_type": "stream",
     "text": [
      "100%|██████████| 38/38 [00:11<00:00,  3.30it/s]\n",
      " 10%|█         | 1/10 [00:00<00:01,  6.86it/s]"
     ]
    },
    {
     "name": "stdout",
     "output_type": "stream",
     "text": [
      "[INFO] Target query:  ['<SOS>', 'calorie', 'in', 'scoop', 'of', 'vanilla', 'ice', 'cream', '<POS>', 'calorie', 'scoop', 'vanilla', 'ice', 'cream', '<POS>', 'bunch', '<EOS>', '*', '*', '*', '*', '*', '*', '*', '*', '*', '*', '*', '*', '*', '*', '*', '*', '*', '*', '*', '*', '*', '*', '*', '*', '*', '*', '*', '*', '*', '*', '*', '*', '*', '*', '*', '*', '*', '*', '*', '*', '*', '*', '*', '*', '*', '*', '*', '*', '*', '*', '*', '*', '*', '*', '*']\n",
      "[INFO] Predicted query:  ['<SOS>', '<POS>', '<POS>', '<POS>', 'cancer', '<POS>', '<POS>', '<POS>', '<POS>', '<POS>', '<POS>', '<POS>', '<POS>', '<POS>', '<POS>', '<POS>', '*', '*', '*', '*', '*', '*', '*', '*', '*', '*', '*', '*', '*', '*', '*', '*', '*', '*', '*', '*', '*', '*', '*', '*', '*', '*', '*', '*', '*', '*', '*', '*', '*', '*', '*', '*', '*', '*', '*', '*', '*', '*', '*', '*', '*', '*', '*', '*', '*', '*', '*', '*', '*', '*', '*', '*']\n"
     ]
    },
    {
     "name": "stderr",
     "output_type": "stream",
     "text": [
      "100%|██████████| 10/10 [00:01<00:00,  8.00it/s]\n",
      "  0%|          | 0/38 [00:00<?, ?it/s]"
     ]
    },
    {
     "name": "stdout",
     "output_type": "stream",
     "text": [
      "[INFO] Target query:  ['<SOS>', 'totally', 'free', 'singles', '<POS>', 'man', 'die', 'in', 'jail', 'county', 'heroin', '<POS>', 'county', 'woman', 'die', 'heroin', '<POS>', 'woman', 'die', 'in', 'jail', 'wa', 'heroin', '<EOS>', '*', '*', '*', '*', '*', '*', '*', '*', '*', '*', '*', '*', '*', '*', '*', '*', '*', '*', '*', '*', '*', '*', '*', '*', '*', '*', '*', '*', '*', '*', '*', '*', '*', '*', '*', '*', '*', '*', '*', '*', '*', '*', '*', '*', '*', '*', '*', '*']\n",
      "[INFO] Predicted query:  ['<SOS>', '*', '*', '*', '<POS>', '<POS>', '*', '*', '*', '*', '*', '<POS>', '<POS>', '<POS>', '*', '*', '<POS>', '<POS>', '<POS>', '<POS>', '*', '*', '*', '*', '*', '*', '*', '*', '*', '*', '*', '*', '*', '*', '*', '*', '*', '*', '*', '*', '*', '*', '*', '*', '*', '*', '*', '*', '*', '*', '*', '*', '*', '*', '*', '*', '*', '*', '*', '*', '*', '*', '*', '*', '*', '*', '*', '*', '*', '*', '*', '*']\n",
      "[INFO] End epoch [3], train Loss: 0.4735, test loss: 0.4606\n",
      "[INFO] Start epoch [4] ...\n"
     ]
    },
    {
     "name": "stderr",
     "output_type": "stream",
     "text": [
      "100%|██████████| 38/38 [00:11<00:00,  3.35it/s]\n",
      " 10%|█         | 1/10 [00:00<00:01,  7.15it/s]"
     ]
    },
    {
     "name": "stdout",
     "output_type": "stream",
     "text": [
      "[INFO] Target query:  ['<SOS>', 'book', 'baseball', 'player', '<POS>', 'pat', 'jordan', 'new', 'york', '<POS>', 'pat', 'jordan', 'new', 'york', '<POS>', 'new', 'york', 'pat', 'jordan', '<EOS>', '*', '*', '*', '*', '*', '*', '*', '*', '*', '*', '*', '*', '*', '*', '*', '*', '*', '*', '*', '*', '*', '*', '*', '*', '*', '*', '*', '*', '*', '*', '*', '*', '*', '*', '*', '*', '*', '*', '*', '*', '*', '*', '*', '*', '*', '*', '*', '*', '*', '*', '*', '*']\n",
      "[INFO] Predicted query:  ['<SOS>', 'baby', '<POS>', '<POS>', '<POS>', '<POS>', '<POS>', '<POS>', '<POS>', '<POS>', '<POS>', '<POS>', '<POS>', '<POS>', '<POS>', '<POS>', '<POS>', '<POS>', '<POS>', '*', '*', '*', '*', '*', '*', '*', '*', '*', '*', '*', '*', '*', '*', '*', '*', '*', '*', '*', '*', '*', '*', '*', '*', '*', '*', '*', '*', '*', '*', '*', '*', '*', '*', '*', '*', '*', '*', '*', '*', '*', '*', '*', '*', '*', '*', '*', '*', '*', '*', '*', '*', '*']\n"
     ]
    },
    {
     "name": "stderr",
     "output_type": "stream",
     "text": [
      "100%|██████████| 10/10 [00:01<00:00,  8.49it/s]\n",
      "  0%|          | 0/38 [00:00<?, ?it/s]"
     ]
    },
    {
     "name": "stdout",
     "output_type": "stream",
     "text": [
      "[INFO] Target query:  ['<SOS>', 'college', 'of', 'surgeon', 'commission', 'on', 'cancer', '<POS>', 'lymphoma', '<POS>', 'breast', 'cancer', 'everywhere', '<POS>', 'inflammatory', 'breast', 'cancer', '<POS>', 'cancer', 'antibody', '<POS>', 'stop', 'cancer', 'treatment', '<EOS>', '*', '*', '*', '*', '*', '*', '*', '*', '*', '*', '*', '*', '*', '*', '*', '*', '*', '*', '*', '*', '*', '*', '*', '*', '*', '*', '*', '*', '*', '*', '*', '*', '*', '*', '*', '*', '*', '*', '*', '*', '*', '*', '*', '*', '*', '*', '*']\n",
      "[INFO] Predicted query:  ['<SOS>', '<POS>', 'cancer', 'baby', '<POS>', 'baby', 'cancer', '<POS>', '<POS>', '<POS>', '<POS>', 'cancer', 'cancer', '<POS>', '<POS>', '<POS>', 'cancer', '<POS>', 'cancer', '<POS>', '<POS>', '<POS>', 'cancer', '<POS>', '*', '*', '*', '*', '*', '*', '*', '*', '*', '*', '*', '*', '*', '*', '*', '*', '*', '*', '*', '*', '*', '*', '*', '*', '*', '*', '*', '*', '*', '*', '*', '*', '*', '*', '*', '*', '*', '*', '*', '*', '*', '*', '*', '*', '*', '*', '*', '*']\n",
      "[INFO] End epoch [4], train Loss: 0.4595, test loss: 0.4549\n",
      "[INFO] Start epoch [5] ...\n"
     ]
    },
    {
     "name": "stderr",
     "output_type": "stream",
     "text": [
      "100%|██████████| 38/38 [00:11<00:00,  3.36it/s]\n",
      " 10%|█         | 1/10 [00:00<00:01,  6.88it/s]"
     ]
    },
    {
     "name": "stdout",
     "output_type": "stream",
     "text": [
      "[INFO] Target query:  ['<SOS>', 'colon', 'cancer', 'radiation', 'treatment', '<POS>', 'high', 'blood', 'pressure', 'treatment', 'for', 'cancer', 'patient', '<POS>', 'for', 'cancer', 'patient', '<POS>', 'mass', 'body', 'index', 'for', 'cancer', 'patient', '<POS>', 'weight', 'loss', 'and', 'colon', 'cancer', '<POS>', 'weight', 'gain', 'medication', 'for', 'cancer', 'patient', '<EOS>', '*', '*', '*', '*', '*', '*', '*', '*', '*', '*', '*', '*', '*', '*', '*', '*', '*', '*', '*', '*', '*', '*', '*', '*', '*', '*', '*', '*', '*', '*', '*', '*', '*', '*']\n",
      "[INFO] Predicted query:  ['<SOS>', '<POS>', 'cancer', '<POS>', '<POS>', '<POS>', '<POS>', '<POS>', '<POS>', '<POS>', '<POS>', 'cancer', '<POS>', '<POS>', '<POS>', 'cancer', '<POS>', '<POS>', '<POS>', '<POS>', '<POS>', '<POS>', 'cancer', '<POS>', '<POS>', '<POS>', '<POS>', '<POS>', '<POS>', 'cancer', '<POS>', '<POS>', 'baby', '<POS>', '<POS>', 'cancer', '<POS>', '*', '*', '*', '*', '*', '*', '*', '*', '*', '*', '*', '*', '*', '*', '*', '*', '*', '*', '*', '*', '*', '*', '*', '*', '*', '*', '*', '*', '*', '*', '*', '*', '*', '*', '*']\n"
     ]
    },
    {
     "name": "stderr",
     "output_type": "stream",
     "text": [
      "100%|██████████| 10/10 [00:01<00:00,  8.37it/s]\n",
      "  0%|          | 0/38 [00:00<?, ?it/s]"
     ]
    },
    {
     "name": "stdout",
     "output_type": "stream",
     "text": [
      "[INFO] Target query:  ['<SOS>', 'lung', 'cancer', '<POS>', 'experimental', 'drug', 'for', 'lung', 'cancer', '<POS>', 'lung', 'cancer', '<POS>', 'lung', 'cancer', '<POS>', 'cancer', '<POS>', 'lung', 'cancer', '<POS>', 'lung', 'cancer', '<EOS>', '*', '*', '*', '*', '*', '*', '*', '*', '*', '*', '*', '*', '*', '*', '*', '*', '*', '*', '*', '*', '*', '*', '*', '*', '*', '*', '*', '*', '*', '*', '*', '*', '*', '*', '*', '*', '*', '*', '*', '*', '*', '*', '*', '*', '*', '*', '*', '*']\n",
      "[INFO] Predicted query:  ['<SOS>', '<POS>', 'cancer', '<POS>', '<POS>', '<POS>', '<POS>', '<POS>', 'cancer', '<POS>', '<POS>', 'cancer', '<POS>', '<POS>', 'cancer', '<POS>', 'cancer', '<POS>', '<POS>', 'cancer', '<POS>', '<POS>', 'cancer', '*', '*', '*', '*', '*', '*', '*', '*', '*', '*', '*', '*', '*', '*', '*', '*', '*', '*', '*', '*', '*', '*', '*', '*', '*', '*', '*', '*', '*', '*', '*', '*', '*', '*', '*', '*', '*', '*', '*', '*', '*', '*', '*', '*', '*', '*', '*', '*', '*']\n",
      "[INFO] End epoch [5], train Loss: 0.4571, test loss: 0.4549\n",
      "[INFO] Start epoch [6] ...\n"
     ]
    },
    {
     "name": "stderr",
     "output_type": "stream",
     "text": [
      "100%|██████████| 38/38 [00:11<00:00,  3.26it/s]\n",
      " 10%|█         | 1/10 [00:00<00:01,  6.48it/s]"
     ]
    },
    {
     "name": "stdout",
     "output_type": "stream",
     "text": [
      "[INFO] Target query:  ['<SOS>', 'cancer', 'kidney', 'failure', '<POS>', 'lung', 'cancer', '<POS>', 'squamous', 'cell', 'lung', 'cancer', '<POS>', 'lung', 'cancer', 'kidney', 'failure', '<POS>', 'lung', 'cancer', '<EOS>', '*', '*', '*', '*', '*', '*', '*', '*', '*', '*', '*', '*', '*', '*', '*', '*', '*', '*', '*', '*', '*', '*', '*', '*', '*', '*', '*', '*', '*', '*', '*', '*', '*', '*', '*', '*', '*', '*', '*', '*', '*', '*', '*', '*', '*', '*', '*', '*', '*', '*', '*']\n",
      "[INFO] Predicted query:  ['<SOS>', 'cancer', '<POS>', '<POS>', '<POS>', '<POS>', 'cancer', '<POS>', '<POS>', '<POS>', '<POS>', 'cancer', '<POS>', '<POS>', 'cancer', '<POS>', '<POS>', '<POS>', '<POS>', 'cancer', '*', '*', '*', '*', '*', '*', '*', '*', '*', '*', '*', '*', '*', '*', '*', '*', '*', '*', '*', '*', '*', '*', '*', '*', '*', '*', '*', '*', '*', '*', '*', '*', '*', '*', '*', '*', '*', '*', '*', '*', '*', '*', '*', '*', '*', '*', '*', '*', '*', '*', '*', '*']\n"
     ]
    },
    {
     "name": "stderr",
     "output_type": "stream",
     "text": [
      "100%|██████████| 10/10 [00:01<00:00,  8.11it/s]\n",
      "  0%|          | 0/38 [00:00<?, ?it/s]"
     ]
    },
    {
     "name": "stdout",
     "output_type": "stream",
     "text": [
      "[INFO] Target query:  ['<SOS>', 'uterine', 'cancer', '<POS>', 'uterine', 'cancer', '<POS>', 'uterine', 'cancer', '<POS>', 'uterine', 'cancer', '<POS>', 'uterine', 'cancer', '<EOS>', '*', '*', '*', '*', '*', '*', '*', '*', '*', '*', '*', '*', '*', '*', '*', '*', '*', '*', '*', '*', '*', '*', '*', '*', '*', '*', '*', '*', '*', '*', '*', '*', '*', '*', '*', '*', '*', '*', '*', '*', '*', '*', '*', '*', '*', '*', '*', '*', '*', '*', '*', '*', '*', '*', '*', '*']\n",
      "[INFO] Predicted query:  ['<SOS>', '<POS>', 'cancer', '<POS>', '<POS>', 'cancer', '<POS>', '<POS>', 'cancer', '<POS>', '<POS>', 'cancer', '<POS>', '<POS>', 'cancer', '*', '*', '*', '*', '*', '*', '*', '*', '*', '*', '*', '*', '*', '*', '*', '*', '*', '*', '*', '*', '*', '*', '*', '*', '*', '*', '*', '*', '*', '*', '*', '*', '*', '*', '*', '*', '*', '*', '*', '*', '*', '*', '*', '*', '*', '*', '*', '*', '*', '*', '*', '*', '*', '*', '*', '*', '*']\n",
      "[INFO] End epoch [6], train Loss: 0.4571, test loss: 0.4549\n",
      "[INFO] Start epoch [7] ...\n"
     ]
    },
    {
     "name": "stderr",
     "output_type": "stream",
     "text": [
      "100%|██████████| 38/38 [00:11<00:00,  3.35it/s]\n",
      " 10%|█         | 1/10 [00:00<00:01,  6.91it/s]"
     ]
    },
    {
     "name": "stdout",
     "output_type": "stream",
     "text": [
      "[INFO] Target query:  ['<SOS>', 'map', 'and', 'direction', '<POS>', 'school', 'book', 'and', 'material', '<POS>', 'school', 'music', 'curriculum', '<EOS>', '*', '*', '*', '*', '*', '*', '*', '*', '*', '*', '*', '*', '*', '*', '*', '*', '*', '*', '*', '*', '*', '*', '*', '*', '*', '*', '*', '*', '*', '*', '*', '*', '*', '*', '*', '*', '*', '*', '*', '*', '*', '*', '*', '*', '*', '*', '*', '*', '*', '*', '*', '*', '*', '*', '*', '*', '*', '*']\n",
      "[INFO] Predicted query:  ['<SOS>', '<POS>', '<POS>', '<POS>', '<POS>', '<POS>', '<POS>', '<POS>', '<POS>', '<POS>', '<POS>', '<POS>', 'cancer', '*', '*', '*', '*', '*', '*', '*', '*', '*', '*', '*', '*', '*', '*', '*', '*', '*', '*', '*', '*', '*', '*', '*', '*', '*', '*', '*', '*', '*', '*', '*', '*', '*', '*', '*', '*', '*', '*', '*', '*', '*', '*', '*', '*', '*', '*', '*', '*', '*', '*', '*', '*', '*', '*', '*', '*', '*', '*', '*']\n"
     ]
    },
    {
     "name": "stderr",
     "output_type": "stream",
     "text": [
      "100%|██████████| 10/10 [00:01<00:00,  8.51it/s]\n",
      "  0%|          | 0/38 [00:00<?, ?it/s]"
     ]
    },
    {
     "name": "stdout",
     "output_type": "stream",
     "text": [
      "[INFO] Target query:  ['<SOS>', 'lung', 'with', 'cancer', '<POS>', 'lung', 'with', 'cancer', '<POS>', 'lung', 'cancer', '<POS>', 'lung', 'cancer', 'photo', '<POS>', 'cancerous', 'lung', '<POS>', 'lung', 'cancer', 'photo', '<POS>', 'mouth', 'cancer', 'photo', '<EOS>', '*', '*', '*', '*', '*', '*', '*', '*', '*', '*', '*', '*', '*', '*', '*', '*', '*', '*', '*', '*', '*', '*', '*', '*', '*', '*', '*', '*', '*', '*', '*', '*', '*', '*', '*', '*', '*', '*', '*', '*', '*', '*', '*', '*', '*']\n",
      "[INFO] Predicted query:  ['<SOS>', '<POS>', '<POS>', 'cancer', '<POS>', '<POS>', '<POS>', 'cancer', '<POS>', '<POS>', 'cancer', '<POS>', '<POS>', 'cancer', '<POS>', '<POS>', '<POS>', '<POS>', '<POS>', '<POS>', 'cancer', '<POS>', '<POS>', '<POS>', 'cancer', '<POS>', '*', '*', '*', '*', '*', '*', '*', '*', '*', '*', '*', '*', '*', '*', '*', '*', '*', '*', '*', '*', '*', '*', '*', '*', '*', '*', '*', '*', '*', '*', '*', '*', '*', '*', '*', '*', '*', '*', '*', '*', '*', '*', '*', '*', '*', '*']\n",
      "[INFO] End epoch [7], train Loss: 0.4571, test loss: 0.4549\n",
      "[INFO] Start epoch [8] ...\n"
     ]
    },
    {
     "name": "stderr",
     "output_type": "stream",
     "text": [
      "100%|██████████| 38/38 [00:11<00:00,  3.35it/s]\n",
      " 10%|█         | 1/10 [00:00<00:01,  6.90it/s]"
     ]
    },
    {
     "name": "stdout",
     "output_type": "stream",
     "text": [
      "[INFO] Target query:  ['<SOS>', 'what', 'baby', 'item', 'are', 'allow', 'on', 'a', 'airplane', '<POS>', 'what', 'baby', 'product', 'are', 'allow', 'on', 'a', 'airplane', '<POS>', 'baby', '<POS>', 'can', 'a', 'woman', 'get', 'pregnant', 'on', 'shot', '<POS>', 'can', 'a', 'woman', 'get', 'pregnant', 'on', 'shot', '<POS>', 'hospital', 'baby', 'pic', '<POS>', 'la', 'ideal', 'baby', '<POS>', 'baby', 'first', 'birthday', 'idea', '<POS>', 'baby', 'boom', '<POS>', 'celebrity', 'baby', 'boom', '<POS>', 'baby', '<EOS>', '*', '*', '*', '*', '*', '*', '*', '*', '*', '*', '*', '*', '*']\n",
      "[INFO] Predicted query:  ['<SOS>', 'cancer', 'baby', '<POS>', '<POS>', '<POS>', 'baby', 'baby', '<POS>', '<POS>', '<POS>', 'baby', '<POS>', '<POS>', '<POS>', 'baby', 'baby', '<POS>', '<POS>', 'baby', '<POS>', '<POS>', '<POS>', '<POS>', '<POS>', '<POS>', 'baby', '<POS>', '<POS>', '<POS>', '<POS>', '<POS>', '<POS>', '<POS>', 'baby', '<POS>', '<POS>', '<POS>', 'baby', '<POS>', '<POS>', '<POS>', '<POS>', 'baby', '<POS>', 'baby', '<POS>', '<POS>', 'cancer', '<POS>', 'baby', '<POS>', '<POS>', '<POS>', 'baby', '<POS>', '<POS>', 'baby', '*', '*', '*', '*', '*', '*', '*', '*', '*', '*', '*', '*', '*', '*']\n"
     ]
    },
    {
     "name": "stderr",
     "output_type": "stream",
     "text": [
      "100%|██████████| 10/10 [00:01<00:00,  8.13it/s]\n",
      "  0%|          | 0/38 [00:00<?, ?it/s]"
     ]
    },
    {
     "name": "stdout",
     "output_type": "stream",
     "text": [
      "[INFO] Target query:  ['<SOS>', 'with', '<POS>', 'begging', 'to', 'god', 'or', 'to', 'i', 'see', 'mountain', 'of', 'them', '<EOS>', '*', '*', '*', '*', '*', '*', '*', '*', '*', '*', '*', '*', '*', '*', '*', '*', '*', '*', '*', '*', '*', '*', '*', '*', '*', '*', '*', '*', '*', '*', '*', '*', '*', '*', '*', '*', '*', '*', '*', '*', '*', '*', '*', '*', '*', '*', '*', '*', '*', '*', '*', '*', '*', '*', '*', '*', '*', '*']\n",
      "[INFO] Predicted query:  ['<SOS>', '<POS>', '<POS>', '<POS>', '<POS>', '<POS>', '<POS>', '<POS>', '<POS>', '<POS>', '<POS>', 'cancer', 'cancer', '*', '*', '*', '*', '*', '*', '*', '*', '*', '*', '*', '*', '*', '*', '*', '*', '*', '*', '*', '*', '*', '*', '*', '*', '*', '*', '*', '*', '*', '*', '*', '*', '*', '*', '*', '*', '*', '*', '*', '*', '*', '*', '*', '*', '*', '*', '*', '*', '*', '*', '*', '*', '*', '*', '*', '*', '*', '*', '*']\n",
      "[INFO] End epoch [8], train Loss: 0.4571, test loss: 0.4549\n",
      "[INFO] Start epoch [9] ...\n"
     ]
    },
    {
     "name": "stderr",
     "output_type": "stream",
     "text": [
      "100%|██████████| 38/38 [00:11<00:00,  3.29it/s]\n",
      " 10%|█         | 1/10 [00:00<00:01,  7.21it/s]"
     ]
    },
    {
     "name": "stdout",
     "output_type": "stream",
     "text": [
      "[INFO] Target query:  ['<SOS>', 'cancer', '<POS>', 'cancer', '<POS>', 'cure', 'for', 'bone', 'and', 'cancer', '<POS>', 'information', 'on', 'forth', 'stage', 'lung', 'bone', 'and', 'cancer', '<POS>', 'cancer', '<POS>', 'leukemia', '<POS>', 'leukemia', '<POS>', 'radio', 'active', 'shot', 'for', 'cancer', '<EOS>', '*', '*', '*', '*', '*', '*', '*', '*', '*', '*', '*', '*', '*', '*', '*', '*', '*', '*', '*', '*', '*', '*', '*', '*', '*', '*', '*', '*', '*', '*', '*', '*', '*', '*', '*', '*', '*', '*', '*', '*']\n",
      "[INFO] Predicted query:  ['<SOS>', 'cancer', '<POS>', 'cancer', '<POS>', '<POS>', '<POS>', '<POS>', '<POS>', 'cancer', '<POS>', '<POS>', '<POS>', 'cancer', '<POS>', '<POS>', '<POS>', '<POS>', 'cancer', '<POS>', 'cancer', '<POS>', '<POS>', '<POS>', '<POS>', '<POS>', '<POS>', '<POS>', '<POS>', '<POS>', 'cancer', '*', '*', '*', '*', '*', '*', '*', '*', '*', '*', '*', '*', '*', '*', '*', '*', '*', '*', '*', '*', '*', '*', '*', '*', '*', '*', '*', '*', '*', '*', '*', '*', '*', '*', '*', '*', '*', '*', '*', '*', '*']\n"
     ]
    },
    {
     "name": "stderr",
     "output_type": "stream",
     "text": [
      "100%|██████████| 10/10 [00:01<00:00,  8.57it/s]\n",
      "  0%|          | 0/38 [00:00<?, ?it/s]"
     ]
    },
    {
     "name": "stdout",
     "output_type": "stream",
     "text": [
      "[INFO] Target query:  ['<SOS>', 'woman', 'spike', '<POS>', 'short', 'picture', '<POS>', 'video', 'post', 'sex', 'tracker', '<POS>', 'free', 'huge', 'cock', 'picture', '<EOS>', '*', '*', '*', '*', '*', '*', '*', '*', '*', '*', '*', '*', '*', '*', '*', '*', '*', '*', '*', '*', '*', '*', '*', '*', '*', '*', '*', '*', '*', '*', '*', '*', '*', '*', '*', '*', '*', '*', '*', '*', '*', '*', '*', '*', '*', '*', '*', '*', '*', '*', '*', '*', '*', '*', '*']\n",
      "[INFO] Predicted query:  ['<SOS>', 'baby', '<POS>', '<POS>', '<POS>', '<POS>', '<POS>', '<POS>', '<POS>', '<POS>', '<POS>', '<POS>', '<POS>', '<POS>', '<POS>', '<POS>', '*', '*', '*', '*', '*', '*', '*', '*', '*', '*', '*', '*', '*', '*', '*', '*', '*', '*', '*', '*', '*', '*', '*', '*', '*', '*', '*', '*', '*', '*', '*', '*', '*', '*', '*', '*', '*', '*', '*', '*', '*', '*', '*', '*', '*', '*', '*', '*', '*', '*', '*', '*', '*', '*', '*', '*']\n",
      "[INFO] End epoch [9], train Loss: 0.4571, test loss: 0.4549\n",
      "[INFO] Start epoch [10] ...\n"
     ]
    },
    {
     "name": "stderr",
     "output_type": "stream",
     "text": [
      "100%|██████████| 38/38 [00:11<00:00,  3.43it/s]\n",
      " 10%|█         | 1/10 [00:00<00:01,  7.22it/s]"
     ]
    },
    {
     "name": "stdout",
     "output_type": "stream",
     "text": [
      "[INFO] Target query:  ['<SOS>', 'county', 'michigan', '<POS>', 'state', 'of', 'michigan', 'civil', 'service', '<POS>', 'federal', 'investigator', '<POS>', 'city', 'of', 'dearborn', 'height', '<EOS>', '*', '*', '*', '*', '*', '*', '*', '*', '*', '*', '*', '*', '*', '*', '*', '*', '*', '*', '*', '*', '*', '*', '*', '*', '*', '*', '*', '*', '*', '*', '*', '*', '*', '*', '*', '*', '*', '*', '*', '*', '*', '*', '*', '*', '*', '*', '*', '*', '*', '*', '*', '*', '*', '*']\n",
      "[INFO] Predicted query:  ['<SOS>', '<SOS>', 'cancer', '<POS>', '<POS>', 'cancer', '<POS>', '<POS>', '<POS>', '<POS>', '<POS>', 'cancer', '<POS>', '<POS>', 'cancer', '<POS>', '<POS>', '*', '*', '*', '*', '*', '*', '*', '*', '*', '*', '*', '*', '*', '*', '*', '*', '*', '*', '*', '*', '*', '*', '*', '*', '*', '*', '*', '*', '*', '*', '*', '*', '*', '*', '*', '*', '*', '*', '*', '*', '*', '*', '*', '*', '*', '*', '*', '*', '*', '*', '*', '*', '*', '*', '*']\n"
     ]
    },
    {
     "name": "stderr",
     "output_type": "stream",
     "text": [
      "100%|██████████| 10/10 [00:01<00:00,  8.63it/s]\n",
      "  0%|          | 0/38 [00:00<?, ?it/s]"
     ]
    },
    {
     "name": "stdout",
     "output_type": "stream",
     "text": [
      "[INFO] Target query:  ['<SOS>', 'breast', 'cancer', '<POS>', 'breast', 'cancer', 'long', 'term', 'effects', 'and', 'radiation', '<POS>', 'breast', 'cancer', 'treatment', 'and', 'arthritis', '<EOS>', '*', '*', '*', '*', '*', '*', '*', '*', '*', '*', '*', '*', '*', '*', '*', '*', '*', '*', '*', '*', '*', '*', '*', '*', '*', '*', '*', '*', '*', '*', '*', '*', '*', '*', '*', '*', '*', '*', '*', '*', '*', '*', '*', '*', '*', '*', '*', '*', '*', '*', '*', '*', '*', '*']\n",
      "[INFO] Predicted query:  ['<SOS>', '<POS>', 'cancer', '<POS>', '<POS>', 'cancer', '<POS>', '<POS>', '<POS>', '<POS>', '<POS>', '<POS>', '<POS>', 'cancer', '<POS>', '<POS>', '<POS>', '*', '*', '*', '*', '*', '*', '*', '*', '*', '*', '*', '*', '*', '*', '*', '*', '*', '*', '*', '*', '*', '*', '*', '*', '*', '*', '*', '*', '*', '*', '*', '*', '*', '*', '*', '*', '*', '*', '*', '*', '*', '*', '*', '*', '*', '*', '*', '*', '*', '*', '*', '*', '*', '*', '*']\n",
      "[INFO] End epoch [10], train Loss: 0.4571, test loss: 0.4549\n",
      "[INFO] Start epoch [11] ...\n"
     ]
    },
    {
     "name": "stderr",
     "output_type": "stream",
     "text": [
      "100%|██████████| 38/38 [00:11<00:00,  3.42it/s]\n",
      " 10%|█         | 1/10 [00:00<00:01,  7.22it/s]"
     ]
    },
    {
     "name": "stdout",
     "output_type": "stream",
     "text": [
      "[INFO] Target query:  ['<SOS>', 'cost', 'of', 'a', 'memory', 'card', 'for', 'a', '<POS>', 'i', 'my', 'own', 'grandpa', '<POS>', 'university', '<POS>', 'yahoo', '<EOS>', '*', '*', '*', '*', '*', '*', '*', '*', '*', '*', '*', '*', '*', '*', '*', '*', '*', '*', '*', '*', '*', '*', '*', '*', '*', '*', '*', '*', '*', '*', '*', '*', '*', '*', '*', '*', '*', '*', '*', '*', '*', '*', '*', '*', '*', '*', '*', '*', '*', '*', '*', '*', '*', '*']\n",
      "[INFO] Predicted query:  ['<SOS>', '<SOS>', 'cancer', 'baby', 'baby', 'cancer', '<POS>', 'cancer', '<POS>', '<POS>', 'cancer', '<POS>', '<POS>', '<POS>', '<POS>', '<POS>', '<POS>', '*', '*', '*', '*', '*', '*', '*', '*', '*', '*', '*', '*', '*', '*', '*', '*', '*', '*', '*', '*', '*', '*', '*', '*', '*', '*', '*', '*', '*', '*', '*', '*', '*', '*', '*', '*', '*', '*', '*', '*', '*', '*', '*', '*', '*', '*', '*', '*', '*', '*', '*', '*', '*', '*', '*']\n"
     ]
    },
    {
     "name": "stderr",
     "output_type": "stream",
     "text": [
      "100%|██████████| 10/10 [00:01<00:00,  8.64it/s]\n",
      "  0%|          | 0/38 [00:00<?, ?it/s]"
     ]
    },
    {
     "name": "stdout",
     "output_type": "stream",
     "text": [
      "[INFO] Target query:  ['<SOS>', 'quote', 'a', 'can', 'get', 'you', 'money', 'a', 'big', 'house', 'a', 'shoe', 'deal', 'but', 'none', 'of', 'these', 'can', 'get', 'you', 'a', '<POS>', 'quote', 'a', 'can', 'get', 'you', 'money', '<POS>', 'quote', 'a', 'jump', 'shot', 'can', 'get', 'you', '<POS>', 'knee', '<EOS>', '*', '*', '*', '*', '*', '*', '*', '*', '*', '*', '*', '*', '*', '*', '*', '*', '*', '*', '*', '*', '*', '*', '*', '*', '*', '*', '*', '*', '*', '*', '*', '*', '*']\n",
      "[INFO] Predicted query:  ['<SOS>', '<POS>', 'baby', '<POS>', '<POS>', '<POS>', '<POS>', 'cancer', '<POS>', '<POS>', 'cancer', '<POS>', '<POS>', '<POS>', '<POS>', 'cancer', '<POS>', '<POS>', '<POS>', '<POS>', '<POS>', '<POS>', '<POS>', 'cancer', '<POS>', '<POS>', '<POS>', '<POS>', '<POS>', '<POS>', 'cancer', '<POS>', '<POS>', '<POS>', '<POS>', '<POS>', '<POS>', '<POS>', '*', '*', '*', '*', '*', '*', '*', '*', '*', '*', '*', '*', '*', '*', '*', '*', '*', '*', '*', '*', '*', '*', '*', '*', '*', '*', '*', '*', '*', '*', '*', '*', '*', '*']\n",
      "[INFO] End epoch [11], train Loss: 0.4571, test loss: 0.4549\n",
      "[INFO] Start epoch [12] ...\n"
     ]
    },
    {
     "name": "stderr",
     "output_type": "stream",
     "text": [
      "100%|██████████| 38/38 [00:10<00:00,  3.46it/s]\n",
      " 10%|█         | 1/10 [00:00<00:01,  7.16it/s]"
     ]
    },
    {
     "name": "stdout",
     "output_type": "stream",
     "text": [
      "[INFO] Target query:  ['<SOS>', 'white', 'water', 'in', '<POS>', 'six', 'flag', 'in', 'st', '<POS>', 'us', 'post', 'office', '<POS>', 'idol', '<EOS>', '*', '*', '*', '*', '*', '*', '*', '*', '*', '*', '*', '*', '*', '*', '*', '*', '*', '*', '*', '*', '*', '*', '*', '*', '*', '*', '*', '*', '*', '*', '*', '*', '*', '*', '*', '*', '*', '*', '*', '*', '*', '*', '*', '*', '*', '*', '*', '*', '*', '*', '*', '*', '*', '*', '*', '*']\n",
      "[INFO] Predicted query:  ['<SOS>', '<POS>', '<POS>', '<POS>', '<POS>', '<POS>', '<POS>', '<POS>', '<POS>', '<POS>', '<POS>', '<POS>', '<POS>', '<POS>', '<POS>', '*', '*', '*', '*', '*', '*', '*', '*', '*', '*', '*', '*', '*', '*', '*', '*', '*', '*', '*', '*', '*', '*', '*', '*', '*', '*', '*', '*', '*', '*', '*', '*', '*', '*', '*', '*', '*', '*', '*', '*', '*', '*', '*', '*', '*', '*', '*', '*', '*', '*', '*', '*', '*', '*', '*', '*', '*']\n"
     ]
    },
    {
     "name": "stderr",
     "output_type": "stream",
     "text": [
      "100%|██████████| 10/10 [00:01<00:00,  8.67it/s]\n",
      "  0%|          | 0/38 [00:00<?, ?it/s]"
     ]
    },
    {
     "name": "stdout",
     "output_type": "stream",
     "text": [
      "[INFO] Target query:  ['<SOS>', 'cancer', 'between', 'shoulder', 'blade', '<POS>', 'cancer', 'between', 'shoulder', 'blade', '<POS>', 'cancer', 'swelling', 'between', 'shoulder', 'blade', '<POS>', 'larynx', 'cancer', 'with', 'large', 'swelling', 'on', 'back', 'of', 'neck', '<POS>', 'cancer', 'traveling', 'to', 'the', 'brain', '<EOS>', '*', '*', '*', '*', '*', '*', '*', '*', '*', '*', '*', '*', '*', '*', '*', '*', '*', '*', '*', '*', '*', '*', '*', '*', '*', '*', '*', '*', '*', '*', '*', '*', '*', '*', '*', '*', '*', '*', '*']\n",
      "[INFO] Predicted query:  ['<SOS>', 'cancer', '<POS>', '<POS>', 'baby', '<POS>', 'cancer', '<POS>', '<POS>', 'baby', '<POS>', 'cancer', 'cancer', '<POS>', '<POS>', 'baby', '<POS>', '<POS>', 'cancer', '*', 'cancer', '*', 'baby', '<POS>', 'cancer', '<POS>', '<POS>', 'cancer', 'cancer', '<POS>', '<POS>', '<POS>', '*', '*', '*', '*', '*', '*', '*', '*', '*', '*', '*', '*', '*', '*', '*', '*', '*', '*', '*', '*', '*', '*', '*', '*', '*', '*', '*', '*', '*', '*', '*', '*', '*', '*', '*', '*', '*', '*', '*', '*']\n",
      "[INFO] End epoch [12], train Loss: 0.4571, test loss: 0.4549\n",
      "[INFO] Start epoch [13] ...\n"
     ]
    },
    {
     "name": "stderr",
     "output_type": "stream",
     "text": [
      "100%|██████████| 38/38 [00:10<00:00,  3.46it/s]\n",
      " 10%|█         | 1/10 [00:00<00:01,  7.19it/s]"
     ]
    },
    {
     "name": "stdout",
     "output_type": "stream",
     "text": [
      "[INFO] Target query:  ['<SOS>', 'how', 'do', 'you', 'get', 'a', 'curl', 'to', 'stay', 'in', 'baby', 'fine', 'hair', '<EOS>', '*', '*', '*', '*', '*', '*', '*', '*', '*', '*', '*', '*', '*', '*', '*', '*', '*', '*', '*', '*', '*', '*', '*', '*', '*', '*', '*', '*', '*', '*', '*', '*', '*', '*', '*', '*', '*', '*', '*', '*', '*', '*', '*', '*', '*', '*', '*', '*', '*', '*', '*', '*', '*', '*', '*', '*', '*', '*']\n",
      "[INFO] Predicted query:  ['<SOS>', '<POS>', '<POS>', '<POS>', '<POS>', 'cancer', 'baby', '<POS>', 'baby', '<POS>', 'baby', '<POS>', '<POS>', '*', '*', '*', '*', '*', '*', '*', '*', '*', '*', '*', '*', '*', '*', '*', '*', '*', '*', '*', '*', '*', '*', '*', '*', '*', '*', '*', '*', '*', '*', '*', '*', '*', '*', '*', '*', '*', '*', '*', '*', '*', '*', '*', '*', '*', '*', '*', '*', '*', '*', '*', '*', '*', '*', '*', '*', '*', '*', '*']\n"
     ]
    },
    {
     "name": "stderr",
     "output_type": "stream",
     "text": [
      "100%|██████████| 10/10 [00:01<00:00,  8.70it/s]\n",
      "  0%|          | 0/38 [00:00<?, ?it/s]"
     ]
    },
    {
     "name": "stdout",
     "output_type": "stream",
     "text": [
      "[INFO] Target query:  ['<SOS>', 'tropic', 'of', 'cancer', '<POS>', 'tropic', 'of', 'cancer', 'and', 'tropic', 'of', '<POS>', 'tropic', 'of', 'cancer', 'and', 'tropic', 'of', '<POS>', 'tropic', 'of', 'cancer', 'and', 'tropic', 'of', '<EOS>', '*', '*', '*', '*', '*', '*', '*', '*', '*', '*', '*', '*', '*', '*', '*', '*', '*', '*', '*', '*', '*', '*', '*', '*', '*', '*', '*', '*', '*', '*', '*', '*', '*', '*', '*', '*', '*', '*', '*', '*', '*', '*', '*', '*', '*', '*']\n",
      "[INFO] Predicted query:  ['<SOS>', '<SOS>', 'cancer', 'cancer', '<POS>', '<POS>', 'cancer', 'cancer', '<POS>', '<POS>', 'cancer', '<POS>', '<POS>', 'cancer', 'cancer', '<POS>', '<POS>', 'cancer', '<POS>', '<POS>', 'cancer', 'cancer', '<POS>', '<POS>', 'cancer', '*', '*', '*', '*', '*', '*', '*', '*', '*', '*', '*', '*', '*', '*', '*', '*', '*', '*', '*', '*', '*', '*', '*', '*', '*', '*', '*', '*', '*', '*', '*', '*', '*', '*', '*', '*', '*', '*', '*', '*', '*', '*', '*', '*', '*', '*', '*']\n",
      "[INFO] End epoch [13], train Loss: 0.4571, test loss: 0.4549\n",
      "[INFO] Start epoch [14] ...\n"
     ]
    },
    {
     "name": "stderr",
     "output_type": "stream",
     "text": [
      "100%|██████████| 38/38 [00:11<00:00,  3.45it/s]\n",
      " 10%|█         | 1/10 [00:00<00:01,  7.16it/s]"
     ]
    },
    {
     "name": "stdout",
     "output_type": "stream",
     "text": [
      "[INFO] Target query:  ['<SOS>', 'desperate', 'housewife', 'last', 'week', 'episode', '<POS>', 'desperate', 'housewife', 'last', 'week', 'episode', '<POS>', 'desperate', 'housewife', 'last', 'week', 'episode', '<EOS>', '*', '*', '*', '*', '*', '*', '*', '*', '*', '*', '*', '*', '*', '*', '*', '*', '*', '*', '*', '*', '*', '*', '*', '*', '*', '*', '*', '*', '*', '*', '*', '*', '*', '*', '*', '*', '*', '*', '*', '*', '*', '*', '*', '*', '*', '*', '*', '*', '*', '*', '*', '*', '*']\n",
      "[INFO] Predicted query:  ['<SOS>', '<POS>', 'cancer', 'cancer', '<POS>', 'cancer', '<POS>', '<POS>', 'cancer', 'cancer', '<POS>', 'cancer', '<POS>', '<POS>', 'cancer', 'cancer', '<POS>', 'cancer', '*', '*', '*', '*', '*', '*', '*', '*', '*', '*', '*', '*', '*', '*', '*', '*', '*', '*', '*', '*', '*', '*', '*', '*', '*', '*', '*', '*', '*', '*', '*', '*', '*', '*', '*', '*', '*', '*', '*', '*', '*', '*', '*', '*', '*', '*', '*', '*', '*', '*', '*', '*', '*', '*']\n"
     ]
    },
    {
     "name": "stderr",
     "output_type": "stream",
     "text": [
      "100%|██████████| 10/10 [00:01<00:00,  8.71it/s]\n",
      "  0%|          | 0/38 [00:00<?, ?it/s]"
     ]
    },
    {
     "name": "stdout",
     "output_type": "stream",
     "text": [
      "[INFO] Target query:  ['<SOS>', 'old', 'car', '<POS>', 'picture', 'of', 'ant', 'car', '<POS>', 'ford', 'a', 'model', 'car', '<POS>', 'car', '<EOS>', '*', '*', '*', '*', '*', '*', '*', '*', '*', '*', '*', '*', '*', '*', '*', '*', '*', '*', '*', '*', '*', '*', '*', '*', '*', '*', '*', '*', '*', '*', '*', '*', '*', '*', '*', '*', '*', '*', '*', '*', '*', '*', '*', '*', '*', '*', '*', '*', '*', '*', '*', '*', '*', '*', '*', '*']\n",
      "[INFO] Predicted query:  ['<SOS>', '<SOS>', '<POS>', '<POS>', '<POS>', 'cancer', '<POS>', '<POS>', '<POS>', '<POS>', 'cancer', '<POS>', '<POS>', '<POS>', '<POS>', '*', '*', '*', '*', '*', '*', '*', '*', '*', '*', '*', '*', '*', '*', '*', '*', '*', '*', '*', '*', '*', '*', '*', '*', '*', '*', '*', '*', '*', '*', '*', '*', '*', '*', '*', '*', '*', '*', '*', '*', '*', '*', '*', '*', '*', '*', '*', '*', '*', '*', '*', '*', '*', '*', '*', '*', '*']\n",
      "[INFO] End epoch [14], train Loss: 0.4571, test loss: 0.4549\n",
      "[INFO] Start epoch [15] ...\n"
     ]
    },
    {
     "name": "stderr",
     "output_type": "stream",
     "text": [
      "100%|██████████| 38/38 [00:11<00:00,  3.37it/s]\n",
      " 10%|█         | 1/10 [00:00<00:01,  7.37it/s]"
     ]
    },
    {
     "name": "stdout",
     "output_type": "stream",
     "text": [
      "[INFO] Target query:  ['<SOS>', 'hip', 'thigh', '<POS>', 'fur', '<POS>', 'sound', 'track', 'to', 'the', 'wedding', 'singer', '<POS>', 'theme', 'from', 'charm', '<EOS>', '*', '*', '*', '*', '*', '*', '*', '*', '*', '*', '*', '*', '*', '*', '*', '*', '*', '*', '*', '*', '*', '*', '*', '*', '*', '*', '*', '*', '*', '*', '*', '*', '*', '*', '*', '*', '*', '*', '*', '*', '*', '*', '*', '*', '*', '*', '*', '*', '*', '*', '*', '*', '*', '*', '*']\n",
      "[INFO] Predicted query:  ['<SOS>', '<POS>', '<POS>', '<POS>', '<POS>', '<POS>', '<POS>', '<POS>', '<POS>', '<POS>', 'cancer', '<POS>', '<POS>', '<POS>', '<POS>', 'cancer', '*', '*', '*', '*', '*', '*', '*', '*', '*', '*', '*', '*', '*', '*', '*', '*', '*', '*', '*', '*', '*', '*', '*', '*', '*', '*', '*', '*', '*', '*', '*', '*', '*', '*', '*', '*', '*', '*', '*', '*', '*', '*', '*', '*', '*', '*', '*', '*', '*', '*', '*', '*', '*', '*', '*', '*']\n"
     ]
    },
    {
     "name": "stderr",
     "output_type": "stream",
     "text": [
      "100%|██████████| 10/10 [00:01<00:00,  8.73it/s]\n",
      "  0%|          | 0/38 [00:00<?, ?it/s]"
     ]
    },
    {
     "name": "stdout",
     "output_type": "stream",
     "text": [
      "[INFO] Target query:  ['<SOS>', 'tell', 'it', 'to', 'my', 'heart', 'tell', 'me', 'i', 'm', 'the', 'only', 'one', 'lyric', '<POS>', 'the', 'lucky', 'one', 'lyric', '<POS>', 'coupon', '<POS>', 'coupon', 'for', '<EOS>', '*', '*', '*', '*', '*', '*', '*', '*', '*', '*', '*', '*', '*', '*', '*', '*', '*', '*', '*', '*', '*', '*', '*', '*', '*', '*', '*', '*', '*', '*', '*', '*', '*', '*', '*', '*', '*', '*', '*', '*', '*', '*', '*', '*', '*', '*', '*']\n",
      "[INFO] Predicted query:  ['<SOS>', 'cancer', 'baby', '<POS>', 'cancer', '<POS>', 'cancer', 'cancer', '<POS>', '<POS>', '<POS>', '<POS>', '<POS>', '<POS>', '<POS>', '<POS>', '<POS>', '<POS>', '<POS>', '<POS>', '<POS>', '<POS>', '<POS>', '<POS>', '*', '*', '*', '*', '*', '*', '*', '*', '*', '*', '*', '*', '*', '*', '*', '*', '*', '*', '*', '*', '*', '*', '*', '*', '*', '*', '*', '*', '*', '*', '*', '*', '*', '*', '*', '*', '*', '*', '*', '*', '*', '*', '*', '*', '*', '*', '*', '*']\n",
      "[INFO] End epoch [15], train Loss: 0.4570, test loss: 0.4549\n",
      "[INFO] Start epoch [16] ...\n"
     ]
    },
    {
     "name": "stderr",
     "output_type": "stream",
     "text": [
      "100%|██████████| 38/38 [00:11<00:00,  3.33it/s]\n",
      " 10%|█         | 1/10 [00:00<00:01,  7.05it/s]"
     ]
    },
    {
     "name": "stdout",
     "output_type": "stream",
     "text": [
      "[INFO] Target query:  ['<SOS>', 'when', 'should', 'a', 'woman', 'get', 'a', 'if', 'breast', 'cancer', 'be', 'hereditary', '<EOS>', '*', '*', '*', '*', '*', '*', '*', '*', '*', '*', '*', '*', '*', '*', '*', '*', '*', '*', '*', '*', '*', '*', '*', '*', '*', '*', '*', '*', '*', '*', '*', '*', '*', '*', '*', '*', '*', '*', '*', '*', '*', '*', '*', '*', '*', '*', '*', '*', '*', '*', '*', '*', '*', '*', '*', '*', '*', '*', '*']\n",
      "[INFO] Predicted query:  ['<SOS>', 'cancer', 'baby', 'baby', 'baby', 'baby', 'cancer', '<POS>', '<POS>', 'cancer', '<POS>', '<POS>', '*', '*', '*', '*', '*', '*', '*', '*', '*', '*', '*', '*', '*', '*', '*', '*', '*', '*', '*', '*', '*', '*', '*', '*', '*', '*', '*', '*', '*', '*', '*', '*', '*', '*', '*', '*', '*', '*', '*', '*', '*', '*', '*', '*', '*', '*', '*', '*', '*', '*', '*', '*', '*', '*', '*', '*', '*', '*', '*', '*']\n"
     ]
    },
    {
     "name": "stderr",
     "output_type": "stream",
     "text": [
      "100%|██████████| 10/10 [00:01<00:00,  8.58it/s]\n",
      "  0%|          | 0/38 [00:00<?, ?it/s]"
     ]
    },
    {
     "name": "stdout",
     "output_type": "stream",
     "text": [
      "[INFO] Target query:  ['<SOS>', 'holla', 'at', 'me', 'baby', 'lyric', '<POS>', 'holla', 'at', 'me', 'baby', 'lyric', '<EOS>', '*', '*', '*', '*', '*', '*', '*', '*', '*', '*', '*', '*', '*', '*', '*', '*', '*', '*', '*', '*', '*', '*', '*', '*', '*', '*', '*', '*', '*', '*', '*', '*', '*', '*', '*', '*', '*', '*', '*', '*', '*', '*', '*', '*', '*', '*', '*', '*', '*', '*', '*', '*', '*', '*', '*', '*', '*', '*', '*']\n",
      "[INFO] Predicted query:  ['<SOS>', 'baby', '<POS>', 'cancer', 'baby', 'baby', '<POS>', 'baby', '<POS>', '<POS>', 'baby', 'baby', '*', '*', '*', '*', '*', '*', '*', '*', '*', '*', '*', '*', '*', '*', '*', '*', '*', '*', '*', '*', '*', '*', '*', '*', '*', '*', '*', '*', '*', '*', '*', '*', '*', '*', '*', '*', '*', '*', '*', '*', '*', '*', '*', '*', '*', '*', '*', '*', '*', '*', '*', '*', '*', '*', '*', '*', '*', '*', '*', '*']\n",
      "[INFO] End epoch [16], train Loss: 0.4570, test loss: 0.4549\n",
      "[INFO] Start epoch [17] ...\n"
     ]
    },
    {
     "name": "stderr",
     "output_type": "stream",
     "text": [
      "100%|██████████| 38/38 [00:11<00:00,  3.35it/s]\n",
      " 10%|█         | 1/10 [00:00<00:01,  7.39it/s]"
     ]
    },
    {
     "name": "stdout",
     "output_type": "stream",
     "text": [
      "[INFO] Target query:  ['<SOS>', 'frame', 'w', 'poem', 'and', 'photo', 'on', 'corner', 'of', 'grandma', 'baby', '<EOS>', '*', '*', '*', '*', '*', '*', '*', '*', '*', '*', '*', '*', '*', '*', '*', '*', '*', '*', '*', '*', '*', '*', '*', '*', '*', '*', '*', '*', '*', '*', '*', '*', '*', '*', '*', '*', '*', '*', '*', '*', '*', '*', '*', '*', '*', '*', '*', '*', '*', '*', '*', '*', '*', '*', '*', '*', '*', '*', '*', '*']\n",
      "[INFO] Predicted query:  ['<SOS>', 'of', 'with', 'with', '<POS>', '<POS>', '<POS>', 'with', 'of', 'with', 'baby', '*', '*', '*', '*', '*', '*', '*', '*', '*', '*', '*', '*', '*', '*', '*', '*', '*', '*', '*', '*', '*', '*', '*', '*', '*', '*', '*', '*', '*', '*', '*', '*', '*', '*', '*', '*', '*', '*', '*', '*', '*', '*', '*', '*', '*', '*', '*', '*', '*', '*', '*', '*', '*', '*', '*', '*', '*', '*', '*', '*', '*']\n"
     ]
    },
    {
     "name": "stderr",
     "output_type": "stream",
     "text": [
      "100%|██████████| 10/10 [00:01<00:00,  8.27it/s]\n",
      "  0%|          | 0/38 [00:00<?, ?it/s]"
     ]
    },
    {
     "name": "stdout",
     "output_type": "stream",
     "text": [
      "[INFO] Target query:  ['<SOS>', 'safety', 'razor', 'antique', '<POS>', 'safety', 'razor', 'antique', '<POS>', 'valet', 'auto', 'strop', 'razor', '<EOS>', '*', '*', '*', '*', '*', '*', '*', '*', '*', '*', '*', '*', '*', '*', '*', '*', '*', '*', '*', '*', '*', '*', '*', '*', '*', '*', '*', '*', '*', '*', '*', '*', '*', '*', '*', '*', '*', '*', '*', '*', '*', '*', '*', '*', '*', '*', '*', '*', '*', '*', '*', '*', '*', '*', '*', '*', '*', '*']\n",
      "[INFO] Predicted query:  ['<SOS>', 'of', 'with', 'of', '<POS>', '<POS>', 'with', 'of', '<POS>', 'with', '<POS>', 'with', 'with', '*', '*', '*', '*', '*', '*', '*', '*', '*', '*', '*', '*', '*', '*', '*', '*', '*', '*', '*', '*', '*', '*', '*', '*', '*', '*', '*', '*', '*', '*', '*', '*', '*', '*', '*', '*', '*', '*', '*', '*', '*', '*', '*', '*', '*', '*', '*', '*', '*', '*', '*', '*', '*', '*', '*', '*', '*', '*', '*']\n",
      "[INFO] End epoch [17], train Loss: 0.4563, test loss: 0.4514\n",
      "[INFO] Start epoch [18] ...\n"
     ]
    },
    {
     "name": "stderr",
     "output_type": "stream",
     "text": [
      "100%|██████████| 38/38 [00:11<00:00,  3.41it/s]\n",
      " 10%|█         | 1/10 [00:00<00:01,  7.24it/s]"
     ]
    },
    {
     "name": "stdout",
     "output_type": "stream",
     "text": [
      "[INFO] Target query:  ['<SOS>', 'cheat', 'for', 'dragon', 'ball', 'z', 'fury', 'for', '<POS>', 'cheat', 'for', 'z', 'fury', 'for', '<POS>', 'z', 'fury', 'cheat', 'for', '<EOS>', '*', '*', '*', '*', '*', '*', '*', '*', '*', '*', '*', '*', '*', '*', '*', '*', '*', '*', '*', '*', '*', '*', '*', '*', '*', '*', '*', '*', '*', '*', '*', '*', '*', '*', '*', '*', '*', '*', '*', '*', '*', '*', '*', '*', '*', '*', '*', '*', '*', '*', '*', '*']\n",
      "[INFO] Predicted query:  ['<SOS>', 'with', '<POS>', 'with', '<POS>', '<POS>', 'with', '<POS>', '<POS>', '<POS>', '<POS>', '<POS>', 'with', '<POS>', '<POS>', '<POS>', 'with', 'with', '<POS>', '*', '*', '*', '*', '*', '*', '*', '*', '*', '*', '*', '*', '*', '*', '*', '*', '*', '*', '*', '*', '*', '*', '*', '*', '*', '*', '*', '*', '*', '*', '*', '*', '*', '*', '*', '*', '*', '*', '*', '*', '*', '*', '*', '*', '*', '*', '*', '*', '*', '*', '*', '*', '*']\n"
     ]
    },
    {
     "name": "stderr",
     "output_type": "stream",
     "text": [
      "100%|██████████| 10/10 [00:01<00:00,  8.70it/s]\n",
      "  0%|          | 0/38 [00:00<?, ?it/s]"
     ]
    },
    {
     "name": "stdout",
     "output_type": "stream",
     "text": [
      "[INFO] Target query:  ['<SOS>', 'north', 'real', 'estate', '<POS>', 'north', '<POS>', 'county', 'real', 'estate', '<POS>', 'county', 'north', 'real', 'estate', '<EOS>', '*', '*', '*', '*', '*', '*', '*', '*', '*', '*', '*', '*', '*', '*', '*', '*', '*', '*', '*', '*', '*', '*', '*', '*', '*', '*', '*', '*', '*', '*', '*', '*', '*', '*', '*', '*', '*', '*', '*', '*', '*', '*', '*', '*', '*', '*', '*', '*', '*', '*', '*', '*', '*', '*', '*', '*']\n",
      "[INFO] Predicted query:  ['<SOS>', 'baby', 'of', '<POS>', '<POS>', '<POS>', '<POS>', '<POS>', 'of', '<POS>', '<POS>', '<POS>', '<POS>', 'of', '<POS>', '*', '*', '*', '*', '*', '*', '*', '*', '*', '*', '*', '*', '*', '*', '*', '*', '*', '*', '*', '*', '*', '*', '*', '*', '*', '*', '*', '*', '*', '*', '*', '*', '*', '*', '*', '*', '*', '*', '*', '*', '*', '*', '*', '*', '*', '*', '*', '*', '*', '*', '*', '*', '*', '*', '*', '*', '*']\n",
      "[INFO] End epoch [18], train Loss: 0.4537, test loss: 0.4513\n",
      "[INFO] Start epoch [19] ...\n"
     ]
    },
    {
     "name": "stderr",
     "output_type": "stream",
     "text": [
      "100%|██████████| 38/38 [00:10<00:00,  3.46it/s]\n",
      " 10%|█         | 1/10 [00:00<00:01,  7.54it/s]"
     ]
    },
    {
     "name": "stdout",
     "output_type": "stream",
     "text": [
      "[INFO] Target query:  ['<SOS>', 'm', '<POS>', 'can', 'commodity', 'be', 'buy', 'and', 'sell', 'by', 'an', 'individual', '<EOS>', '*', '*', '*', '*', '*', '*', '*', '*', '*', '*', '*', '*', '*', '*', '*', '*', '*', '*', '*', '*', '*', '*', '*', '*', '*', '*', '*', '*', '*', '*', '*', '*', '*', '*', '*', '*', '*', '*', '*', '*', '*', '*', '*', '*', '*', '*', '*', '*', '*', '*', '*', '*', '*', '*', '*', '*', '*', '*', '*']\n",
      "[INFO] Predicted query:  ['<SOS>', '<POS>', '<POS>', '<POS>', '<POS>', '<POS>', '<POS>', '<POS>', '<POS>', 'cancer', '<POS>', 'cancer', '*', '*', '*', '*', '*', '*', '*', '*', '*', '*', '*', '*', '*', '*', '*', '*', '*', '*', '*', '*', '*', '*', '*', '*', '*', '*', '*', '*', '*', '*', '*', '*', '*', '*', '*', '*', '*', '*', '*', '*', '*', '*', '*', '*', '*', '*', '*', '*', '*', '*', '*', '*', '*', '*', '*', '*', '*', '*', '*', '*']\n"
     ]
    },
    {
     "name": "stderr",
     "output_type": "stream",
     "text": [
      "100%|██████████| 10/10 [00:01<00:00,  8.67it/s]\n",
      "  0%|          | 0/38 [00:00<?, ?it/s]"
     ]
    },
    {
     "name": "stdout",
     "output_type": "stream",
     "text": [
      "[INFO] Target query:  ['<SOS>', 'ways', 'to', 'prevent', 'pregnancy', '<POS>', 'baby', 'get', 'back', '<POS>', 'pregnancy', 'test', '<POS>', 'pregnancy', 'test', '<EOS>', '*', '*', '*', '*', '*', '*', '*', '*', '*', '*', '*', '*', '*', '*', '*', '*', '*', '*', '*', '*', '*', '*', '*', '*', '*', '*', '*', '*', '*', '*', '*', '*', '*', '*', '*', '*', '*', '*', '*', '*', '*', '*', '*', '*', '*', '*', '*', '*', '*', '*', '*', '*', '*', '*', '*', '*']\n",
      "[INFO] Predicted query:  ['<SOS>', 'baby', '<POS>', '<POS>', '<POS>', '<POS>', 'baby', 'baby', '<POS>', '<POS>', '<POS>', '<POS>', '<POS>', '<POS>', '<POS>', '*', '*', '*', '*', '*', '*', '*', '*', '*', '*', '*', '*', '*', '*', '*', '*', '*', '*', '*', '*', '*', '*', '*', '*', '*', '*', '*', '*', '*', '*', '*', '*', '*', '*', '*', '*', '*', '*', '*', '*', '*', '*', '*', '*', '*', '*', '*', '*', '*', '*', '*', '*', '*', '*', '*', '*', '*']\n",
      "[INFO] End epoch [19], train Loss: 0.4537, test loss: 0.4513\n",
      "[INFO] Start epoch [20] ...\n"
     ]
    },
    {
     "name": "stderr",
     "output_type": "stream",
     "text": [
      "100%|██████████| 38/38 [00:11<00:00,  3.17it/s]\n",
      " 10%|█         | 1/10 [00:00<00:01,  7.29it/s]"
     ]
    },
    {
     "name": "stdout",
     "output_type": "stream",
     "text": [
      "[INFO] Target query:  ['<SOS>', 'lyric', '<POS>', 'baby', 'girl', 'lyric', '<POS>', 'baby', 'girl', 'lyric', '<POS>', 'baby', 'girl', 'lyric', '<EOS>', '*', '*', '*', '*', '*', '*', '*', '*', '*', '*', '*', '*', '*', '*', '*', '*', '*', '*', '*', '*', '*', '*', '*', '*', '*', '*', '*', '*', '*', '*', '*', '*', '*', '*', '*', '*', '*', '*', '*', '*', '*', '*', '*', '*', '*', '*', '*', '*', '*', '*', '*', '*', '*', '*', '*', '*', '*']\n",
      "[INFO] Predicted query:  ['<SOS>', 'baby', '<POS>', 'baby', '<POS>', 'cancer', '<POS>', 'baby', '<POS>', 'cancer', '<POS>', 'baby', '<POS>', 'cancer', '*', '*', '*', '*', '*', '*', '*', '*', '*', '*', '*', '*', '*', '*', '*', '*', '*', '*', '*', '*', '*', '*', '*', '*', '*', '*', '*', '*', '*', '*', '*', '*', '*', '*', '*', '*', '*', '*', '*', '*', '*', '*', '*', '*', '*', '*', '*', '*', '*', '*', '*', '*', '*', '*', '*', '*', '*', '*']\n"
     ]
    },
    {
     "name": "stderr",
     "output_type": "stream",
     "text": [
      "100%|██████████| 10/10 [00:01<00:00,  8.78it/s]\n",
      "  0%|          | 0/38 [00:00<?, ?it/s]"
     ]
    },
    {
     "name": "stdout",
     "output_type": "stream",
     "text": [
      "[INFO] Target query:  ['<SOS>', 'tattoo', '<POS>', 'tattoo', 'sad', 'clown', '<POS>', 'tattoo', 'sad', 'clown', '<POS>', 'low', 'rider', 'art', '<EOS>', '*', '*', '*', '*', '*', '*', '*', '*', '*', '*', '*', '*', '*', '*', '*', '*', '*', '*', '*', '*', '*', '*', '*', '*', '*', '*', '*', '*', '*', '*', '*', '*', '*', '*', '*', '*', '*', '*', '*', '*', '*', '*', '*', '*', '*', '*', '*', '*', '*', '*', '*', '*', '*', '*', '*', '*', '*']\n",
      "[INFO] Predicted query:  ['<SOS>', '<POS>', '<POS>', '<POS>', 'cancer', '<POS>', '<POS>', '<POS>', 'cancer', '<POS>', '<POS>', 'with', 'with', 'with', '*', '*', '*', '*', '*', '*', '*', '*', '*', '*', '*', '*', '*', '*', '*', '*', '*', '*', '*', '*', '*', '*', '*', '*', '*', '*', '*', '*', '*', '*', '*', '*', '*', '*', '*', '*', '*', '*', '*', '*', '*', '*', '*', '*', '*', '*', '*', '*', '*', '*', '*', '*', '*', '*', '*', '*', '*', '*']\n",
      "[INFO] End epoch [20], train Loss: 0.4537, test loss: 0.4513\n",
      "[INFO] Start epoch [21] ...\n"
     ]
    },
    {
     "name": "stderr",
     "output_type": "stream",
     "text": [
      "100%|██████████| 38/38 [00:12<00:00,  3.11it/s]\n",
      " 10%|█         | 1/10 [00:00<00:01,  5.91it/s]"
     ]
    },
    {
     "name": "stdout",
     "output_type": "stream",
     "text": [
      "[INFO] Target query:  ['<SOS>', 'important', 'event', 'in', 'new', '<POS>', 'important', 'event', 'in', 'new', 'history', '<POS>', 'wildlife', '<EOS>', '*', '*', '*', '*', '*', '*', '*', '*', '*', '*', '*', '*', '*', '*', '*', '*', '*', '*', '*', '*', '*', '*', '*', '*', '*', '*', '*', '*', '*', '*', '*', '*', '*', '*', '*', '*', '*', '*', '*', '*', '*', '*', '*', '*', '*', '*', '*', '*', '*', '*', '*', '*', '*', '*', '*', '*', '*', '*']\n",
      "[INFO] Predicted query:  ['<SOS>', '<POS>', 'of', '<POS>', 'cancer', '<POS>', '<POS>', 'with', '<POS>', 'cancer', 'cancer', '<POS>', '<POS>', '*', '*', '*', '*', '*', '*', '*', '*', '*', '*', '*', '*', '*', '*', '*', '*', '*', '*', '*', '*', '*', '*', '*', '*', '*', '*', '*', '*', '*', '*', '*', '*', '*', '*', '*', '*', '*', '*', '*', '*', '*', '*', '*', '*', '*', '*', '*', '*', '*', '*', '*', '*', '*', '*', '*', '*', '*', '*', '*']\n"
     ]
    },
    {
     "name": "stderr",
     "output_type": "stream",
     "text": [
      "100%|██████████| 10/10 [00:01<00:00,  7.03it/s]\n",
      "  0%|          | 0/38 [00:00<?, ?it/s]"
     ]
    },
    {
     "name": "stdout",
     "output_type": "stream",
     "text": [
      "[INFO] Target query:  ['<SOS>', 'cancer', 'cell', 'of', 'the', 'cervix', '<POS>', 'cell', 'of', 'the', 'cervix', '<POS>', 'cell', 'cervix', '<POS>', 'cancer', 'cell', 'cervix', '<POS>', 'cervical', 'cancer', '<EOS>', '*', '*', '*', '*', '*', '*', '*', '*', '*', '*', '*', '*', '*', '*', '*', '*', '*', '*', '*', '*', '*', '*', '*', '*', '*', '*', '*', '*', '*', '*', '*', '*', '*', '*', '*', '*', '*', '*', '*', '*', '*', '*', '*', '*', '*', '*', '*', '*', '*', '*']\n",
      "[INFO] Predicted query:  ['<SOS>', 'cancer', 'cancer', 'of', '<POS>', 'cancer', '<POS>', '<POS>', 'of', '<POS>', 'cancer', '<POS>', '<POS>', 'cancer', '<POS>', 'cancer', 'cancer', 'cancer', '<POS>', 'cancer', 'cancer', '*', '*', '*', '*', '*', '*', '*', '*', '*', '*', '*', '*', '*', '*', '*', '*', '*', '*', '*', '*', '*', '*', '*', '*', '*', '*', '*', '*', '*', '*', '*', '*', '*', '*', '*', '*', '*', '*', '*', '*', '*', '*', '*', '*', '*', '*', '*', '*', '*', '*', '*']\n",
      "[INFO] End epoch [21], train Loss: 0.4537, test loss: 0.4513\n",
      "[INFO] Start epoch [22] ...\n"
     ]
    },
    {
     "name": "stderr",
     "output_type": "stream",
     "text": [
      "100%|██████████| 38/38 [00:12<00:00,  3.10it/s]\n",
      " 10%|█         | 1/10 [00:00<00:01,  6.19it/s]"
     ]
    },
    {
     "name": "stdout",
     "output_type": "stream",
     "text": [
      "[INFO] Target query:  ['<SOS>', 'baby', '<POS>', 'list', 'of', 'baby', '<POS>', 'baby', '<POS>', 'pregnancy', '<POS>', 'baby', 'name', 'meaning', '<POS>', 'spear', 'pregnant', 'again', '<EOS>', '*', '*', '*', '*', '*', '*', '*', '*', '*', '*', '*', '*', '*', '*', '*', '*', '*', '*', '*', '*', '*', '*', '*', '*', '*', '*', '*', '*', '*', '*', '*', '*', '*', '*', '*', '*', '*', '*', '*', '*', '*', '*', '*', '*', '*', '*', '*', '*', '*', '*', '*', '*', '*']\n",
      "[INFO] Predicted query:  ['<SOS>', 'baby', '<POS>', '<POS>', 'of', 'baby', '<POS>', 'baby', '<POS>', '<POS>', '<POS>', 'baby', '<POS>', 'what', '<POS>', '<POS>', '<POS>', '<POS>', '*', '*', '*', '*', '*', '*', '*', '*', '*', '*', '*', '*', '*', '*', '*', '*', '*', '*', '*', '*', '*', '*', '*', '*', '*', '*', '*', '*', '*', '*', '*', '*', '*', '*', '*', '*', '*', '*', '*', '*', '*', '*', '*', '*', '*', '*', '*', '*', '*', '*', '*', '*', '*', '*']\n"
     ]
    },
    {
     "name": "stderr",
     "output_type": "stream",
     "text": [
      "100%|██████████| 10/10 [00:01<00:00,  6.96it/s]\n",
      "  0%|          | 0/38 [00:00<?, ?it/s]"
     ]
    },
    {
     "name": "stdout",
     "output_type": "stream",
     "text": [
      "[INFO] Target query:  ['<SOS>', 'carnival', 'outdoor', 'game', '<POS>', 'rent', 'wall', '<POS>', 'carnival', 'outdoor', 'game', '<POS>', 'party', 'supply', 'and', 'theme', 'for', 'adult', '<EOS>', '*', '*', '*', '*', '*', '*', '*', '*', '*', '*', '*', '*', '*', '*', '*', '*', '*', '*', '*', '*', '*', '*', '*', '*', '*', '*', '*', '*', '*', '*', '*', '*', '*', '*', '*', '*', '*', '*', '*', '*', '*', '*', '*', '*', '*', '*', '*', '*', '*', '*', '*', '*', '*']\n",
      "[INFO] Predicted query:  ['<SOS>', 'what', 'of', '<POS>', '<POS>', '<POS>', 'what', '<POS>', '<POS>', '<POS>', '<POS>', '<POS>', '<POS>', 'what', '<POS>', '<POS>', '<POS>', 'what', '*', '*', '*', '*', '*', '*', '*', '*', '*', '*', '*', '*', '*', '*', '*', '*', '*', '*', '*', '*', '*', '*', '*', '*', '*', '*', '*', '*', '*', '*', '*', '*', '*', '*', '*', '*', '*', '*', '*', '*', '*', '*', '*', '*', '*', '*', '*', '*', '*', '*', '*', '*', '*', '*']\n",
      "[INFO] End epoch [22], train Loss: 0.4532, test loss: 0.4508\n",
      "[INFO] Start epoch [23] ...\n"
     ]
    },
    {
     "name": "stderr",
     "output_type": "stream",
     "text": [
      "100%|██████████| 38/38 [00:12<00:00,  3.04it/s]\n",
      " 10%|█         | 1/10 [00:00<00:01,  6.98it/s]"
     ]
    },
    {
     "name": "stdout",
     "output_type": "stream",
     "text": [
      "[INFO] Target query:  ['<SOS>', 'what', 'be', 'cancer', '<POS>', 'show', 'me', 'a', 'picture', 'of', 'what', 'lung', 'cancer', 'look', 'like', '<EOS>', '*', '*', '*', '*', '*', '*', '*', '*', '*', '*', '*', '*', '*', '*', '*', '*', '*', '*', '*', '*', '*', '*', '*', '*', '*', '*', '*', '*', '*', '*', '*', '*', '*', '*', '*', '*', '*', '*', '*', '*', '*', '*', '*', '*', '*', '*', '*', '*', '*', '*', '*', '*', '*', '*', '*', '*']\n",
      "[INFO] Predicted query:  ['<SOS>', 'what', 'what', 'cancer', '<POS>', '<POS>', 'cancer', 'cancer', 'cancer', 'of', 'what', 'what', 'cancer', '<POS>', '<POS>', '*', '*', '*', '*', '*', '*', '*', '*', '*', '*', '*', '*', '*', '*', '*', '*', '*', '*', '*', '*', '*', '*', '*', '*', '*', '*', '*', '*', '*', '*', '*', '*', '*', '*', '*', '*', '*', '*', '*', '*', '*', '*', '*', '*', '*', '*', '*', '*', '*', '*', '*', '*', '*', '*', '*', '*', '*']\n"
     ]
    },
    {
     "name": "stderr",
     "output_type": "stream",
     "text": [
      "100%|██████████| 10/10 [00:01<00:00,  8.33it/s]\n",
      "  0%|          | 0/38 [00:00<?, ?it/s]"
     ]
    },
    {
     "name": "stdout",
     "output_type": "stream",
     "text": [
      "[INFO] Target query:  ['<SOS>', 'switching', 'baby', 'formula', '<POS>', 'how', 'much', 'should', 'a', 'old', 'baby', 'be', 'drinking', '<POS>', 'and', 'pregnancy', '<EOS>', '*', '*', '*', '*', '*', '*', '*', '*', '*', '*', '*', '*', '*', '*', '*', '*', '*', '*', '*', '*', '*', '*', '*', '*', '*', '*', '*', '*', '*', '*', '*', '*', '*', '*', '*', '*', '*', '*', '*', '*', '*', '*', '*', '*', '*', '*', '*', '*', '*', '*', '*', '*', '*', '*', '*']\n",
      "[INFO] Predicted query:  ['<SOS>', 'what', 'baby', '<POS>', '<POS>', '<POS>', '<POS>', 'love', 'baby', 'cancer', 'baby', '<POS>', '<POS>', '<POS>', '<POS>', '<POS>', '*', '*', '*', '*', '*', '*', '*', '*', '*', '*', '*', '*', '*', '*', '*', '*', '*', '*', '*', '*', '*', '*', '*', '*', '*', '*', '*', '*', '*', '*', '*', '*', '*', '*', '*', '*', '*', '*', '*', '*', '*', '*', '*', '*', '*', '*', '*', '*', '*', '*', '*', '*', '*', '*', '*', '*']\n",
      "[INFO] End epoch [23], train Loss: 0.4530, test loss: 0.4508\n",
      "[INFO] Start epoch [24] ...\n"
     ]
    },
    {
     "name": "stderr",
     "output_type": "stream",
     "text": [
      "100%|██████████| 38/38 [00:12<00:00,  3.13it/s]\n",
      " 10%|█         | 1/10 [00:00<00:01,  7.13it/s]"
     ]
    },
    {
     "name": "stdout",
     "output_type": "stream",
     "text": [
      "[INFO] Target query:  ['<SOS>', 'breast', 'cancer', 'detection', '<POS>', 'breast', 'cancer', 'armpit', '<POS>', 'breast', 'cancer', 'armpit', 'itch', '<EOS>', '*', '*', '*', '*', '*', '*', '*', '*', '*', '*', '*', '*', '*', '*', '*', '*', '*', '*', '*', '*', '*', '*', '*', '*', '*', '*', '*', '*', '*', '*', '*', '*', '*', '*', '*', '*', '*', '*', '*', '*', '*', '*', '*', '*', '*', '*', '*', '*', '*', '*', '*', '*', '*', '*', '*', '*', '*', '*']\n",
      "[INFO] Predicted query:  ['<SOS>', 'cancer', 'cancer', '<POS>', '<POS>', '<POS>', 'cancer', '<POS>', '<POS>', '<POS>', 'cancer', '<POS>', '<POS>', '*', '*', '*', '*', '*', '*', '*', '*', '*', '*', '*', '*', '*', '*', '*', '*', '*', '*', '*', '*', '*', '*', '*', '*', '*', '*', '*', '*', '*', '*', '*', '*', '*', '*', '*', '*', '*', '*', '*', '*', '*', '*', '*', '*', '*', '*', '*', '*', '*', '*', '*', '*', '*', '*', '*', '*', '*', '*', '*']\n"
     ]
    },
    {
     "name": "stderr",
     "output_type": "stream",
     "text": [
      "100%|██████████| 10/10 [00:01<00:00,  8.14it/s]\n",
      "  0%|          | 0/38 [00:00<?, ?it/s]"
     ]
    },
    {
     "name": "stdout",
     "output_type": "stream",
     "text": [
      "[INFO] Target query:  ['<SOS>', 'help', 'pregnancy', 'condition', '<POS>', 'pregnancy', 'condition', '<POS>', 'syndrome', 'pregnancy', 'condition', '<POS>', 'syndrome', 'triplet', 'pregnancy', '<POS>', 'syndrome', 'triplet', 'pregnancy', '<POS>', 'fertile', 'blue', 'group', '<EOS>', '*', '*', '*', '*', '*', '*', '*', '*', '*', '*', '*', '*', '*', '*', '*', '*', '*', '*', '*', '*', '*', '*', '*', '*', '*', '*', '*', '*', '*', '*', '*', '*', '*', '*', '*', '*', '*', '*', '*', '*', '*', '*', '*', '*', '*', '*', '*', '*']\n",
      "[INFO] Predicted query:  ['<SOS>', 'cancer', '<POS>', '<POS>', '<POS>', '<POS>', '<POS>', '<POS>', '<POS>', '<POS>', '<POS>', '<POS>', '<POS>', '<POS>', '<POS>', '<POS>', '<POS>', '<POS>', '<POS>', '<POS>', '<POS>', 'cancer', '<POS>', '*', '*', '*', '*', '*', '*', '*', '*', '*', '*', '*', '*', '*', '*', '*', '*', '*', '*', '*', '*', '*', '*', '*', '*', '*', '*', '*', '*', '*', '*', '*', '*', '*', '*', '*', '*', '*', '*', '*', '*', '*', '*', '*', '*', '*', '*', '*', '*', '*']\n",
      "[INFO] End epoch [24], train Loss: 0.4530, test loss: 0.4508\n",
      "[INFO] Start epoch [25] ...\n"
     ]
    },
    {
     "name": "stderr",
     "output_type": "stream",
     "text": [
      "100%|██████████| 38/38 [00:12<00:00,  2.99it/s]\n",
      " 10%|█         | 1/10 [00:00<00:01,  6.77it/s]"
     ]
    },
    {
     "name": "stdout",
     "output_type": "stream",
     "text": [
      "[INFO] Target query:  ['<SOS>', 'baby', '<POS>', 'baby', 'girl', 'clothes', '<POS>', 'baby', 'girl', 'winter', 'clothes', '<POS>', 'baby', 'girl', 'sweater', 'clothes', '<POS>', 'baby', 'girl', 'winter', 'clothes', '<POS>', 'baby', 'girl', 'clothes', '<EOS>', '*', '*', '*', '*', '*', '*', '*', '*', '*', '*', '*', '*', '*', '*', '*', '*', '*', '*', '*', '*', '*', '*', '*', '*', '*', '*', '*', '*', '*', '*', '*', '*', '*', '*', '*', '*', '*', '*', '*', '*', '*', '*', '*', '*', '*', '*']\n",
      "[INFO] Predicted query:  ['<SOS>', 'baby', '<POS>', 'baby', '<POS>', 'cancer', '<POS>', 'baby', '<POS>', '<POS>', '<POS>', '<POS>', 'baby', '<POS>', '<POS>', '<POS>', '<POS>', 'baby', '<POS>', '<POS>', '<POS>', '<POS>', 'baby', '<POS>', 'cancer', '*', '*', '*', '*', '*', '*', '*', '*', '*', '*', '*', '*', '*', '*', '*', '*', '*', '*', '*', '*', '*', '*', '*', '*', '*', '*', '*', '*', '*', '*', '*', '*', '*', '*', '*', '*', '*', '*', '*', '*', '*', '*', '*', '*', '*', '*', '*']\n"
     ]
    },
    {
     "name": "stderr",
     "output_type": "stream",
     "text": [
      "100%|██████████| 10/10 [00:01<00:00,  8.07it/s]\n",
      "  0%|          | 0/38 [00:00<?, ?it/s]"
     ]
    },
    {
     "name": "stdout",
     "output_type": "stream",
     "text": [
      "[INFO] Target query:  ['<SOS>', 'symptom', 'in', 'first', 'stage', 'of', 'cervical', 'cancer', '<POS>', 'endocervical', 'cancer', '<POS>', 'how', 'do', 'you', 'feel', 'in', 'early', 'stage', 'of', 'cancer', '<EOS>', '*', '*', '*', '*', '*', '*', '*', '*', '*', '*', '*', '*', '*', '*', '*', '*', '*', '*', '*', '*', '*', '*', '*', '*', '*', '*', '*', '*', '*', '*', '*', '*', '*', '*', '*', '*', '*', '*', '*', '*', '*', '*', '*', '*', '*', '*', '*', '*', '*', '*']\n",
      "[INFO] Predicted query:  ['<SOS>', '<POS>', '<POS>', '<POS>', '<POS>', 'of', 'cancer', 'cancer', '<POS>', '<POS>', 'cancer', '<POS>', '<POS>', '<POS>', '<POS>', '<POS>', '<POS>', '<POS>', '<POS>', 'of', 'cancer', '*', '*', '*', '*', '*', '*', '*', '*', '*', '*', '*', '*', '*', '*', '*', '*', '*', '*', '*', '*', '*', '*', '*', '*', '*', '*', '*', '*', '*', '*', '*', '*', '*', '*', '*', '*', '*', '*', '*', '*', '*', '*', '*', '*', '*', '*', '*', '*', '*', '*', '*']\n",
      "[INFO] End epoch [25], train Loss: 0.4530, test loss: 0.4508\n",
      "[INFO] Start epoch [26] ...\n"
     ]
    },
    {
     "name": "stderr",
     "output_type": "stream",
     "text": [
      "100%|██████████| 38/38 [00:11<00:00,  3.35it/s]\n",
      " 10%|█         | 1/10 [00:00<00:01,  7.34it/s]"
     ]
    },
    {
     "name": "stdout",
     "output_type": "stream",
     "text": [
      "[INFO] Target query:  ['<SOS>', 'how', 'to', 'tell', 'when', 'guppy', 'are', 'about', 'to', 'have', 'baby', '<POS>', 'when', 'to', 'release', 'baby', 'guppy', '<POS>', 'home', 'make', 'food', 'to', 'feed', 'baby', 'guppy', '<EOS>', '*', '*', '*', '*', '*', '*', '*', '*', '*', '*', '*', '*', '*', '*', '*', '*', '*', '*', '*', '*', '*', '*', '*', '*', '*', '*', '*', '*', '*', '*', '*', '*', '*', '*', '*', '*', '*', '*', '*', '*', '*', '*', '*', '*', '*', '*']\n",
      "[INFO] Predicted query:  ['<SOS>', 'baby', '<POS>', 'cancer', 'cancer', '<POS>', '<POS>', '<POS>', '<POS>', '<POS>', 'baby', '<POS>', '<POS>', '<POS>', '<POS>', 'baby', '<POS>', '<POS>', '<POS>', '<POS>', 'cancer', '<POS>', 'what', 'baby', '<POS>', '*', '*', '*', '*', '*', '*', '*', '*', '*', '*', '*', '*', '*', '*', '*', '*', '*', '*', '*', '*', '*', '*', '*', '*', '*', '*', '*', '*', '*', '*', '*', '*', '*', '*', '*', '*', '*', '*', '*', '*', '*', '*', '*', '*', '*', '*', '*']\n"
     ]
    },
    {
     "name": "stderr",
     "output_type": "stream",
     "text": [
      "100%|██████████| 10/10 [00:01<00:00,  8.70it/s]\n",
      "  0%|          | 0/38 [00:00<?, ?it/s]"
     ]
    },
    {
     "name": "stdout",
     "output_type": "stream",
     "text": [
      "[INFO] Target query:  ['<SOS>', 'sign', 'of', 'ovarium', 'cancer', '<POS>', 'sign', 'of', 'ovarian', 'cancer', '<POS>', 'sign', 'of', 'intestinal', 'cancer', '<POS>', 'stomach', 'cancer', 'sign', '<POS>', 'sign', 'of', 'stomach', 'cancer', '<POS>', 'test', 'for', 'stomach', 'cancer', '<EOS>', '*', '*', '*', '*', '*', '*', '*', '*', '*', '*', '*', '*', '*', '*', '*', '*', '*', '*', '*', '*', '*', '*', '*', '*', '*', '*', '*', '*', '*', '*', '*', '*', '*', '*', '*', '*', '*', '*', '*', '*', '*', '*']\n",
      "[INFO] Predicted query:  ['<SOS>', 'what', 'of', 'cancer', 'cancer', '<POS>', '<POS>', 'of', 'cancer', 'cancer', '<POS>', 'with', 'of', 'cancer', 'cancer', '<POS>', '<POS>', 'cancer', 'with', '<POS>', 'with', 'of', '<POS>', 'cancer', '<POS>', '<POS>', '<POS>', '<POS>', 'cancer', '*', '*', '*', '*', '*', '*', '*', '*', '*', '*', '*', '*', '*', '*', '*', '*', '*', '*', '*', '*', '*', '*', '*', '*', '*', '*', '*', '*', '*', '*', '*', '*', '*', '*', '*', '*', '*', '*', '*', '*', '*', '*', '*']\n",
      "[INFO] End epoch [26], train Loss: 0.4529, test loss: 0.4508\n",
      "[INFO] Start epoch [27] ...\n"
     ]
    },
    {
     "name": "stderr",
     "output_type": "stream",
     "text": [
      "100%|██████████| 38/38 [00:11<00:00,  3.41it/s]\n",
      " 10%|█         | 1/10 [00:00<00:01,  7.17it/s]"
     ]
    },
    {
     "name": "stdout",
     "output_type": "stream",
     "text": [
      "[INFO] Target query:  ['<SOS>', 'in', 'front', 'royal', '<POS>', 'effects', 'of', 'atomic', 'bomb', '<POS>', 'result', 'if', 'be', 'attack', 'by', 'terrorist', '<POS>', 'result', 'of', 'attack', 'on', 'by', 'weapon', 'of', 'mass', 'destruction', '<EOS>', '*', '*', '*', '*', '*', '*', '*', '*', '*', '*', '*', '*', '*', '*', '*', '*', '*', '*', '*', '*', '*', '*', '*', '*', '*', '*', '*', '*', '*', '*', '*', '*', '*', '*', '*', '*', '*', '*', '*', '*', '*', '*', '*', '*', '*']\n",
      "[INFO] Predicted query:  ['<SOS>', '<SOS>', '<POS>', 'baby', '<POS>', '<POS>', 'of', '<POS>', '<POS>', '<POS>', '<POS>', '<POS>', '<POS>', '<POS>', 'cancer', '<POS>', '<POS>', '<POS>', 'of', '<POS>', 'baby', 'cancer', 'cancer', 'of', '<POS>', '<POS>', '*', '*', '*', '*', '*', '*', '*', '*', '*', '*', '*', '*', '*', '*', '*', '*', '*', '*', '*', '*', '*', '*', '*', '*', '*', '*', '*', '*', '*', '*', '*', '*', '*', '*', '*', '*', '*', '*', '*', '*', '*', '*', '*', '*', '*', '*']\n"
     ]
    },
    {
     "name": "stderr",
     "output_type": "stream",
     "text": [
      "100%|██████████| 10/10 [00:01<00:00,  8.45it/s]\n",
      "  0%|          | 0/38 [00:00<?, ?it/s]"
     ]
    },
    {
     "name": "stdout",
     "output_type": "stream",
     "text": [
      "[INFO] Target query:  ['<SOS>', 'diabetes', 'and', 'kidney', 'cancer', '<POS>', 'mass', 'general', 'and', 'kidney', 'cancer', '<POS>', 'and', 'kidney', 'cancer', '<POS>', 'nephropathy', 'and', 'cancer', '<POS>', 'sacrum', 'cancer', '<EOS>', '*', '*', '*', '*', '*', '*', '*', '*', '*', '*', '*', '*', '*', '*', '*', '*', '*', '*', '*', '*', '*', '*', '*', '*', '*', '*', '*', '*', '*', '*', '*', '*', '*', '*', '*', '*', '*', '*', '*', '*', '*', '*', '*', '*', '*', '*', '*', '*', '*']\n",
      "[INFO] Predicted query:  ['<SOS>', 'baby', 'of', '<POS>', 'cancer', '<POS>', '<POS>', 'cancer', '<POS>', '<POS>', 'cancer', '<POS>', '<POS>', '<POS>', 'cancer', '<POS>', '<POS>', '<POS>', 'cancer', '<POS>', '<POS>', 'cancer', '*', '*', '*', '*', '*', '*', '*', '*', '*', '*', '*', '*', '*', '*', '*', '*', '*', '*', '*', '*', '*', '*', '*', '*', '*', '*', '*', '*', '*', '*', '*', '*', '*', '*', '*', '*', '*', '*', '*', '*', '*', '*', '*', '*', '*', '*', '*', '*', '*', '*']\n",
      "[INFO] End epoch [27], train Loss: 0.4529, test loss: 0.4508\n",
      "[INFO] Start epoch [28] ...\n"
     ]
    },
    {
     "name": "stderr",
     "output_type": "stream",
     "text": [
      "100%|██████████| 38/38 [00:11<00:00,  3.42it/s]\n",
      " 10%|█         | 1/10 [00:00<00:01,  7.49it/s]"
     ]
    },
    {
     "name": "stdout",
     "output_type": "stream",
     "text": [
      "[INFO] Target query:  ['<SOS>', 'tumor', 'dysplasia', '<POS>', 'cervical', 'cancer', '<POS>', 'cervical', 'cancer', '<POS>', 'adrenal', 'carcinoma', '<POS>', 'cervical', 'cancer', '<POS>', 'adenocarcinoma', '<POS>', 'cancer', '<POS>', 'adenocarcinoma', '<POS>', 'estrogen', 'cancer', '<POS>', 'estrogen', 'induce', 'cervical', 'cancer', '<POS>', 'cervical', 'cancer', '<POS>', 'cervical', 'cancer', '<POS>', 'cervical', 'cancer', '<POS>', 'uterus', 'cancer', '<EOS>', '*', '*', '*', '*', '*', '*', '*', '*', '*', '*', '*', '*', '*', '*', '*', '*', '*', '*', '*', '*', '*', '*', '*', '*', '*', '*', '*', '*', '*', '*']\n",
      "[INFO] Predicted query:  ['<SOS>', 'baby', '<POS>', '<POS>', 'cancer', 'cancer', '<POS>', 'cancer', 'cancer', '<POS>', '<POS>', '<POS>', '<POS>', 'cancer', 'cancer', '<POS>', '<POS>', '<POS>', 'cancer', '<POS>', '<POS>', '<POS>', 'cancer', 'cancer', '<POS>', 'cancer', '<POS>', 'cancer', 'cancer', '<POS>', 'cancer', 'cancer', '<POS>', 'cancer', 'cancer', '<POS>', 'cancer', 'cancer', '<POS>', 'sign', 'cancer', '*', '*', '*', '*', '*', '*', '*', '*', '*', '*', '*', '*', '*', '*', '*', '*', '*', '*', '*', '*', '*', '*', '*', '*', '*', '*', '*', '*', '*', '*', '*']\n"
     ]
    },
    {
     "name": "stderr",
     "output_type": "stream",
     "text": [
      "100%|██████████| 10/10 [00:01<00:00,  8.85it/s]\n",
      "  0%|          | 0/38 [00:00<?, ?it/s]"
     ]
    },
    {
     "name": "stdout",
     "output_type": "stream",
     "text": [
      "[INFO] Target query:  ['<SOS>', 'york', 'city', 'school', 'district', 'york', 'pa', '<POS>', 'lower', 'dauphin', 'school', 'district', 'pa', '<EOS>', '*', '*', '*', '*', '*', '*', '*', '*', '*', '*', '*', '*', '*', '*', '*', '*', '*', '*', '*', '*', '*', '*', '*', '*', '*', '*', '*', '*', '*', '*', '*', '*', '*', '*', '*', '*', '*', '*', '*', '*', '*', '*', '*', '*', '*', '*', '*', '*', '*', '*', '*', '*', '*', '*', '*', '*', '*', '*']\n",
      "[INFO] Predicted query:  ['<SOS>', 'baby', 'sign', '<POS>', '<POS>', '<POS>', '<POS>', '<POS>', '<POS>', '<POS>', '<POS>', '<POS>', '<POS>', '*', '*', '*', '*', '*', '*', '*', '*', '*', '*', '*', '*', '*', '*', '*', '*', '*', '*', '*', '*', '*', '*', '*', '*', '*', '*', '*', '*', '*', '*', '*', '*', '*', '*', '*', '*', '*', '*', '*', '*', '*', '*', '*', '*', '*', '*', '*', '*', '*', '*', '*', '*', '*', '*', '*', '*', '*', '*', '*']\n",
      "[INFO] End epoch [28], train Loss: 0.4528, test loss: 0.4503\n",
      "[INFO] Start epoch [29] ...\n"
     ]
    },
    {
     "name": "stderr",
     "output_type": "stream",
     "text": [
      "100%|██████████| 38/38 [00:11<00:00,  3.43it/s]\n",
      " 10%|█         | 1/10 [00:00<00:01,  7.34it/s]"
     ]
    },
    {
     "name": "stdout",
     "output_type": "stream",
     "text": [
      "[INFO] Target query:  ['<SOS>', 'academic', 'higher', 'education', 'loan', '<POS>', 'academic', 'higher', 'education', 'loan', '<POS>', 'academic', 'loan', '<POS>', 'academic', 'consolidation', 'loan', '<EOS>', '*', '*', '*', '*', '*', '*', '*', '*', '*', '*', '*', '*', '*', '*', '*', '*', '*', '*', '*', '*', '*', '*', '*', '*', '*', '*', '*', '*', '*', '*', '*', '*', '*', '*', '*', '*', '*', '*', '*', '*', '*', '*', '*', '*', '*', '*', '*', '*', '*', '*', '*', '*', '*', '*']\n",
      "[INFO] Predicted query:  ['<SOS>', 'should', 'baby', 'of', '<POS>', '<POS>', '<POS>', '<POS>', 'of', '<POS>', '<POS>', '<POS>', '<POS>', '<POS>', '<POS>', '<POS>', '<POS>', '*', '*', '*', '*', '*', '*', '*', '*', '*', '*', '*', '*', '*', '*', '*', '*', '*', '*', '*', '*', '*', '*', '*', '*', '*', '*', '*', '*', '*', '*', '*', '*', '*', '*', '*', '*', '*', '*', '*', '*', '*', '*', '*', '*', '*', '*', '*', '*', '*', '*', '*', '*', '*', '*', '*']\n"
     ]
    },
    {
     "name": "stderr",
     "output_type": "stream",
     "text": [
      "100%|██████████| 10/10 [00:01<00:00,  8.82it/s]\n",
      "  0%|          | 0/38 [00:00<?, ?it/s]"
     ]
    },
    {
     "name": "stdout",
     "output_type": "stream",
     "text": [
      "[INFO] Target query:  ['<SOS>', 'hill', 'funeral', 'home', 'st', '<POS>', 'ged', 'class', '<POS>', 'how', 'to', 'get', 'ged', 'in', '<EOS>', '*', '*', '*', '*', '*', '*', '*', '*', '*', '*', '*', '*', '*', '*', '*', '*', '*', '*', '*', '*', '*', '*', '*', '*', '*', '*', '*', '*', '*', '*', '*', '*', '*', '*', '*', '*', '*', '*', '*', '*', '*', '*', '*', '*', '*', '*', '*', '*', '*', '*', '*', '*', '*', '*', '*', '*', '*']\n",
      "[INFO] Predicted query:  ['<SOS>', '<POS>', '<POS>', '<POS>', '<POS>', '<POS>', '<POS>', '<POS>', '<POS>', '<POS>', '<POS>', 'cancer', '<POS>', '<POS>', '*', '*', '*', '*', '*', '*', '*', '*', '*', '*', '*', '*', '*', '*', '*', '*', '*', '*', '*', '*', '*', '*', '*', '*', '*', '*', '*', '*', '*', '*', '*', '*', '*', '*', '*', '*', '*', '*', '*', '*', '*', '*', '*', '*', '*', '*', '*', '*', '*', '*', '*', '*', '*', '*', '*', '*', '*', '*']\n",
      "[INFO] End epoch [29], train Loss: 0.4526, test loss: 0.4503\n",
      "[INFO] Start epoch [30] ...\n"
     ]
    },
    {
     "name": "stderr",
     "output_type": "stream",
     "text": [
      "100%|██████████| 38/38 [00:11<00:00,  3.39it/s]\n",
      " 10%|█         | 1/10 [00:00<00:01,  7.34it/s]"
     ]
    },
    {
     "name": "stdout",
     "output_type": "stream",
     "text": [
      "[INFO] Target query:  ['<SOS>', 'can', 'lead', 'to', 'cancer', '<POS>', 'can', 'lead', 'to', 'cancer', '<POS>', 'can', 'lead', 'to', 'testicular', 'cancer', '<EOS>', '*', '*', '*', '*', '*', '*', '*', '*', '*', '*', '*', '*', '*', '*', '*', '*', '*', '*', '*', '*', '*', '*', '*', '*', '*', '*', '*', '*', '*', '*', '*', '*', '*', '*', '*', '*', '*', '*', '*', '*', '*', '*', '*', '*', '*', '*', '*', '*', '*', '*', '*', '*', '*', '*', '*']\n",
      "[INFO] Predicted query:  ['<SOS>', '<POS>', 'baby', '<POS>', 'cancer', '<POS>', '<POS>', 'baby', 'with', 'cancer', '<POS>', '<POS>', 'baby', 'with', 'baby', 'cancer', '*', '*', '*', '*', '*', '*', '*', '*', '*', '*', '*', '*', '*', '*', '*', '*', '*', '*', '*', '*', '*', '*', '*', '*', '*', '*', '*', '*', '*', '*', '*', '*', '*', '*', '*', '*', '*', '*', '*', '*', '*', '*', '*', '*', '*', '*', '*', '*', '*', '*', '*', '*', '*', '*', '*', '*']\n"
     ]
    },
    {
     "name": "stderr",
     "output_type": "stream",
     "text": [
      "100%|██████████| 10/10 [00:01<00:00,  8.87it/s]\n",
      "  0%|          | 0/38 [00:00<?, ?it/s]"
     ]
    },
    {
     "name": "stdout",
     "output_type": "stream",
     "text": [
      "[INFO] Target query:  ['<SOS>', 'baby', 'it', 'you', 'lyric', '<POS>', 'baby', 'it', 'you', 'remix', 'lyric', '<POS>', 'baby', 'lyric', '<POS>', 'pregnancy', '<POS>', 'can', 'i', 'be', 'pregnant', '<POS>', 'baby', 'blue', 'gown', '<POS>', 'baby', 'pink', 'gown', '<EOS>', '*', '*', '*', '*', '*', '*', '*', '*', '*', '*', '*', '*', '*', '*', '*', '*', '*', '*', '*', '*', '*', '*', '*', '*', '*', '*', '*', '*', '*', '*', '*', '*', '*', '*', '*', '*', '*', '*', '*', '*', '*', '*']\n",
      "[INFO] Predicted query:  ['<SOS>', 'baby', '<POS>', '<POS>', 'lyric', '<POS>', 'baby', '<POS>', '<POS>', '<POS>', 'lyric', '<POS>', 'baby', 'lyric', '<POS>', '<POS>', '<POS>', '<POS>', '<POS>', '<POS>', '<POS>', '<POS>', 'baby', 'cancer', '<POS>', '<POS>', 'baby', 'sign', '<POS>', '*', '*', '*', '*', '*', '*', '*', '*', '*', '*', '*', '*', '*', '*', '*', '*', '*', '*', '*', '*', '*', '*', '*', '*', '*', '*', '*', '*', '*', '*', '*', '*', '*', '*', '*', '*', '*', '*', '*', '*', '*', '*', '*']\n",
      "[INFO] End epoch [30], train Loss: 0.4523, test loss: 0.4498\n",
      "[INFO] Start epoch [31] ...\n"
     ]
    },
    {
     "name": "stderr",
     "output_type": "stream",
     "text": [
      "100%|██████████| 38/38 [00:12<00:00,  3.08it/s]\n",
      " 10%|█         | 1/10 [00:00<00:01,  6.86it/s]"
     ]
    },
    {
     "name": "stdout",
     "output_type": "stream",
     "text": [
      "[INFO] Target query:  ['<SOS>', 'center', 'in', '<POS>', 'walt', 'world', '<POS>', 'walt', 'world', 'in', '<POS>', 'walt', 'world', 'in', '<EOS>', '*', '*', '*', '*', '*', '*', '*', '*', '*', '*', '*', '*', '*', '*', '*', '*', '*', '*', '*', '*', '*', '*', '*', '*', '*', '*', '*', '*', '*', '*', '*', '*', '*', '*', '*', '*', '*', '*', '*', '*', '*', '*', '*', '*', '*', '*', '*', '*', '*', '*', '*', '*', '*', '*', '*', '*', '*']\n",
      "[INFO] Predicted query:  ['<SOS>', 'lyric', 'to', '<POS>', '<POS>', '<POS>', '<POS>', '<POS>', '<POS>', 'to', '<POS>', '<POS>', '<POS>', 'to', '*', '*', '*', '*', '*', '*', '*', '*', '*', '*', '*', '*', '*', '*', '*', '*', '*', '*', '*', '*', '*', '*', '*', '*', '*', '*', '*', '*', '*', '*', '*', '*', '*', '*', '*', '*', '*', '*', '*', '*', '*', '*', '*', '*', '*', '*', '*', '*', '*', '*', '*', '*', '*', '*', '*', '*', '*', '*']\n"
     ]
    },
    {
     "name": "stderr",
     "output_type": "stream",
     "text": [
      "100%|██████████| 10/10 [00:01<00:00,  8.14it/s]\n",
      "  0%|          | 0/38 [00:00<?, ?it/s]"
     ]
    },
    {
     "name": "stdout",
     "output_type": "stream",
     "text": [
      "[INFO] Target query:  ['<SOS>', 'do', 'it', 'yoursel', 'utility', 'trailer', 'kit', '<POS>', 'genuine', 'ford', 'body', '<POS>', 'the', '<POS>', 'air', 'filter', '<EOS>', '*', '*', '*', '*', '*', '*', '*', '*', '*', '*', '*', '*', '*', '*', '*', '*', '*', '*', '*', '*', '*', '*', '*', '*', '*', '*', '*', '*', '*', '*', '*', '*', '*', '*', '*', '*', '*', '*', '*', '*', '*', '*', '*', '*', '*', '*', '*', '*', '*', '*', '*', '*', '*', '*', '*']\n",
      "[INFO] Predicted query:  ['<SOS>', '<POS>', 'how', 'how', '<POS>', 'how', 'furniture', '<POS>', 'furniture', 'to', '<POS>', '<POS>', 'to', '<POS>', '<POS>', 'furniture', '*', '*', '*', '*', '*', '*', '*', '*', '*', '*', '*', '*', '*', '*', '*', '*', '*', '*', '*', '*', '*', '*', '*', '*', '*', '*', '*', '*', '*', '*', '*', '*', '*', '*', '*', '*', '*', '*', '*', '*', '*', '*', '*', '*', '*', '*', '*', '*', '*', '*', '*', '*', '*', '*', '*', '*']\n",
      "[INFO] End epoch [31], train Loss: 0.4510, test loss: 0.4479\n",
      "[INFO] Start epoch [32] ...\n"
     ]
    },
    {
     "name": "stderr",
     "output_type": "stream",
     "text": [
      "100%|██████████| 38/38 [00:12<00:00,  3.14it/s]\n",
      " 10%|█         | 1/10 [00:00<00:01,  6.74it/s]"
     ]
    },
    {
     "name": "stdout",
     "output_type": "stream",
     "text": [
      "[INFO] Target query:  ['<SOS>', 'best', 'western', 'sea', 'island', 'inn', '<POS>', 'motor', 'home', '<POS>', 'river', 'motor', 'home', '<EOS>', '*', '*', '*', '*', '*', '*', '*', '*', '*', '*', '*', '*', '*', '*', '*', '*', '*', '*', '*', '*', '*', '*', '*', '*', '*', '*', '*', '*', '*', '*', '*', '*', '*', '*', '*', '*', '*', '*', '*', '*', '*', '*', '*', '*', '*', '*', '*', '*', '*', '*', '*', '*', '*', '*', '*', '*', '*', '*']\n",
      "[INFO] Predicted query:  ['<SOS>', '<POS>', 'cancer', '<POS>', '<POS>', '<POS>', '<POS>', '<POS>', '<POS>', '<POS>', '<POS>', '<POS>', '<POS>', '*', '*', '*', '*', '*', '*', '*', '*', '*', '*', '*', '*', '*', '*', '*', '*', '*', '*', '*', '*', '*', '*', '*', '*', '*', '*', '*', '*', '*', '*', '*', '*', '*', '*', '*', '*', '*', '*', '*', '*', '*', '*', '*', '*', '*', '*', '*', '*', '*', '*', '*', '*', '*', '*', '*', '*', '*', '*', '*']\n"
     ]
    },
    {
     "name": "stderr",
     "output_type": "stream",
     "text": [
      "100%|██████████| 10/10 [00:01<00:00,  8.27it/s]\n",
      "  0%|          | 0/38 [00:00<?, ?it/s]"
     ]
    },
    {
     "name": "stdout",
     "output_type": "stream",
     "text": [
      "[INFO] Target query:  ['<SOS>', 'early', 'stage', 'of', 'pregnancy', '<POS>', 'picture', 'of', 'pregnancy', 'week', 'by', 'week', '<EOS>', '*', '*', '*', '*', '*', '*', '*', '*', '*', '*', '*', '*', '*', '*', '*', '*', '*', '*', '*', '*', '*', '*', '*', '*', '*', '*', '*', '*', '*', '*', '*', '*', '*', '*', '*', '*', '*', '*', '*', '*', '*', '*', '*', '*', '*', '*', '*', '*', '*', '*', '*', '*', '*', '*', '*', '*', '*', '*', '*']\n",
      "[INFO] Predicted query:  ['<SOS>', '<POS>', '<POS>', 'of', '<POS>', '<POS>', '<POS>', 'of', '<POS>', 'to', 'cancer', 'how', '*', '*', '*', '*', '*', '*', '*', '*', '*', '*', '*', '*', '*', '*', '*', '*', '*', '*', '*', '*', '*', '*', '*', '*', '*', '*', '*', '*', '*', '*', '*', '*', '*', '*', '*', '*', '*', '*', '*', '*', '*', '*', '*', '*', '*', '*', '*', '*', '*', '*', '*', '*', '*', '*', '*', '*', '*', '*', '*', '*']\n",
      "[INFO] End epoch [32], train Loss: 0.4501, test loss: 0.4476\n",
      "[INFO] Start epoch [33] ...\n"
     ]
    },
    {
     "name": "stderr",
     "output_type": "stream",
     "text": [
      "100%|██████████| 38/38 [00:11<00:00,  3.23it/s]\n",
      " 10%|█         | 1/10 [00:00<00:01,  7.09it/s]"
     ]
    },
    {
     "name": "stdout",
     "output_type": "stream",
     "text": [
      "[INFO] Target query:  ['<SOS>', 'republican', 'are', '<POS>', 'bush', 'be', 'a', 'penis', '<POS>', 'bush', 'be', 'a', 'dick', '<EOS>', '*', '*', '*', '*', '*', '*', '*', '*', '*', '*', '*', '*', '*', '*', '*', '*', '*', '*', '*', '*', '*', '*', '*', '*', '*', '*', '*', '*', '*', '*', '*', '*', '*', '*', '*', '*', '*', '*', '*', '*', '*', '*', '*', '*', '*', '*', '*', '*', '*', '*', '*', '*', '*', '*', '*', '*', '*', '*']\n",
      "[INFO] Predicted query:  ['<SOS>', 'to', '<POS>', '<POS>', '<POS>', '<POS>', 'during', 'cancer', '<POS>', '<POS>', '<POS>', 'during', 'cancer', '*', '*', '*', '*', '*', '*', '*', '*', '*', '*', '*', '*', '*', '*', '*', '*', '*', '*', '*', '*', '*', '*', '*', '*', '*', '*', '*', '*', '*', '*', '*', '*', '*', '*', '*', '*', '*', '*', '*', '*', '*', '*', '*', '*', '*', '*', '*', '*', '*', '*', '*', '*', '*', '*', '*', '*', '*', '*', '*']\n"
     ]
    },
    {
     "name": "stderr",
     "output_type": "stream",
     "text": [
      "100%|██████████| 10/10 [00:01<00:00,  8.38it/s]\n",
      "  0%|          | 0/38 [00:00<?, ?it/s]"
     ]
    },
    {
     "name": "stdout",
     "output_type": "stream",
     "text": [
      "[INFO] Target query:  ['<SOS>', 'commit', 'and', 'cancer', '<POS>', 'cause', 'of', 'cancer', 'in', 'woman', '<POS>', 'commit', 'lozenge', 'cancer', '<EOS>', '*', '*', '*', '*', '*', '*', '*', '*', '*', '*', '*', '*', '*', '*', '*', '*', '*', '*', '*', '*', '*', '*', '*', '*', '*', '*', '*', '*', '*', '*', '*', '*', '*', '*', '*', '*', '*', '*', '*', '*', '*', '*', '*', '*', '*', '*', '*', '*', '*', '*', '*', '*', '*', '*', '*', '*', '*']\n",
      "[INFO] Predicted query:  ['<SOS>', 'cancer', 'of', 'cancer', '<POS>', '<POS>', 'of', 'cancer', '<POS>', '<POS>', '<POS>', '<POS>', '<POS>', 'cancer', '*', '*', '*', '*', '*', '*', '*', '*', '*', '*', '*', '*', '*', '*', '*', '*', '*', '*', '*', '*', '*', '*', '*', '*', '*', '*', '*', '*', '*', '*', '*', '*', '*', '*', '*', '*', '*', '*', '*', '*', '*', '*', '*', '*', '*', '*', '*', '*', '*', '*', '*', '*', '*', '*', '*', '*', '*', '*']\n",
      "[INFO] End epoch [33], train Loss: 0.4497, test loss: 0.4473\n",
      "[INFO] Start epoch [34] ...\n"
     ]
    },
    {
     "name": "stderr",
     "output_type": "stream",
     "text": [
      "100%|██████████| 38/38 [00:11<00:00,  3.19it/s]\n",
      " 10%|█         | 1/10 [00:00<00:01,  6.90it/s]"
     ]
    },
    {
     "name": "stdout",
     "output_type": "stream",
     "text": [
      "[INFO] Target query:  ['<SOS>', 'lymphocytic', 'leukemia', '<POS>', 'of', 'ovarian', 'cancer', '<POS>', 'symptom', 'of', 'ovarian', 'cancer', '<POS>', 'colon', 'cancer', '<POS>', 'of', 'cancer', '<POS>', 'symptom', 'of', 'ovarian', 'cancer', '<EOS>', '*', '*', '*', '*', '*', '*', '*', '*', '*', '*', '*', '*', '*', '*', '*', '*', '*', '*', '*', '*', '*', '*', '*', '*', '*', '*', '*', '*', '*', '*', '*', '*', '*', '*', '*', '*', '*', '*', '*', '*', '*', '*', '*', '*', '*', '*', '*', '*']\n",
      "[INFO] Predicted query:  ['<SOS>', 'liver', 'how', '<POS>', 'of', 'free', 'cancer', '<POS>', 'free', 'of', 'free', 'cancer', '<POS>', 'free', 'cancer', '<POS>', 'of', 'cancer', '<POS>', 'free', 'of', 'free', 'cancer', '*', '*', '*', '*', '*', '*', '*', '*', '*', '*', '*', '*', '*', '*', '*', '*', '*', '*', '*', '*', '*', '*', '*', '*', '*', '*', '*', '*', '*', '*', '*', '*', '*', '*', '*', '*', '*', '*', '*', '*', '*', '*', '*', '*', '*', '*', '*', '*', '*']\n"
     ]
    },
    {
     "name": "stderr",
     "output_type": "stream",
     "text": [
      "100%|██████████| 10/10 [00:01<00:00,  8.13it/s]\n",
      "  0%|          | 0/38 [00:00<?, ?it/s]"
     ]
    },
    {
     "name": "stdout",
     "output_type": "stream",
     "text": [
      "[INFO] Target query:  ['<SOS>', 'baby', 'quilt', 'pattern', '<POS>', 'baby', 'quilt', 'pattern', '<POS>', 'ocean', 'wave', 'baby', 'quilt', '<POS>', 'ocean', 'wave', 'baby', 'quilt', 'pattern', '<EOS>', '*', '*', '*', '*', '*', '*', '*', '*', '*', '*', '*', '*', '*', '*', '*', '*', '*', '*', '*', '*', '*', '*', '*', '*', '*', '*', '*', '*', '*', '*', '*', '*', '*', '*', '*', '*', '*', '*', '*', '*', '*', '*', '*', '*', '*', '*', '*', '*', '*', '*', '*', '*']\n",
      "[INFO] Predicted query:  ['<SOS>', 'baby', 'cancer', 'free', '<POS>', 'baby', 'cancer', 'free', '<POS>', '<POS>', 'free', 'baby', 'cancer', '<POS>', '<POS>', 'free', 'baby', 'cancer', 'free', '*', '*', '*', '*', '*', '*', '*', '*', '*', '*', '*', '*', '*', '*', '*', '*', '*', '*', '*', '*', '*', '*', '*', '*', '*', '*', '*', '*', '*', '*', '*', '*', '*', '*', '*', '*', '*', '*', '*', '*', '*', '*', '*', '*', '*', '*', '*', '*', '*', '*', '*', '*', '*']\n",
      "[INFO] End epoch [34], train Loss: 0.4493, test loss: 0.4466\n",
      "[INFO] Start epoch [35] ...\n"
     ]
    },
    {
     "name": "stderr",
     "output_type": "stream",
     "text": [
      "100%|██████████| 38/38 [00:11<00:00,  3.25it/s]\n",
      " 10%|█         | 1/10 [00:00<00:01,  7.11it/s]"
     ]
    },
    {
     "name": "stdout",
     "output_type": "stream",
     "text": [
      "[INFO] Target query:  ['<SOS>', 'om', '<POS>', 'seal', 'tight', 'cast', 'protector', '<POS>', 'seal', 'tight', 'cast', 'protector', 'and', 'leg', '<EOS>', '*', '*', '*', '*', '*', '*', '*', '*', '*', '*', '*', '*', '*', '*', '*', '*', '*', '*', '*', '*', '*', '*', '*', '*', '*', '*', '*', '*', '*', '*', '*', '*', '*', '*', '*', '*', '*', '*', '*', '*', '*', '*', '*', '*', '*', '*', '*', '*', '*', '*', '*', '*', '*', '*', '*', '*', '*']\n",
      "[INFO] Predicted query:  ['<SOS>', 'how', '<POS>', '<POS>', '<POS>', 'free', '<POS>', '<POS>', '<POS>', '<POS>', 'free', '<POS>', '<POS>', '<POS>', '*', '*', '*', '*', '*', '*', '*', '*', '*', '*', '*', '*', '*', '*', '*', '*', '*', '*', '*', '*', '*', '*', '*', '*', '*', '*', '*', '*', '*', '*', '*', '*', '*', '*', '*', '*', '*', '*', '*', '*', '*', '*', '*', '*', '*', '*', '*', '*', '*', '*', '*', '*', '*', '*', '*', '*', '*', '*']\n"
     ]
    },
    {
     "name": "stderr",
     "output_type": "stream",
     "text": [
      "100%|██████████| 10/10 [00:01<00:00,  8.39it/s]\n",
      "  0%|          | 0/38 [00:00<?, ?it/s]"
     ]
    },
    {
     "name": "stdout",
     "output_type": "stream",
     "text": [
      "[INFO] Target query:  ['<SOS>', 'smock', '<POS>', 'smock', 'baby', 'doll', '<POS>', 'plus', 'size', 'smock', 'baby', 'doll', '<POS>', 'smock', 'baby', 'doll', 'dress', '<POS>', 'plus', 'size', 'smock', 'baby', 'doll', '<EOS>', '*', '*', '*', '*', '*', '*', '*', '*', '*', '*', '*', '*', '*', '*', '*', '*', '*', '*', '*', '*', '*', '*', '*', '*', '*', '*', '*', '*', '*', '*', '*', '*', '*', '*', '*', '*', '*', '*', '*', '*', '*', '*', '*', '*', '*', '*', '*', '*']\n",
      "[INFO] Predicted query:  ['<SOS>', 'with', '<POS>', 'cancer', 'baby', 'doll', '<POS>', '<POS>', 'free', 'cancer', 'baby', 'doll', '<POS>', '<POS>', 'baby', 'doll', '<POS>', '<POS>', '<POS>', 'free', 'cancer', 'baby', 'doll', '*', '*', '*', '*', '*', '*', '*', '*', '*', '*', '*', '*', '*', '*', '*', '*', '*', '*', '*', '*', '*', '*', '*', '*', '*', '*', '*', '*', '*', '*', '*', '*', '*', '*', '*', '*', '*', '*', '*', '*', '*', '*', '*', '*', '*', '*', '*', '*', '*']\n",
      "[INFO] End epoch [35], train Loss: 0.4490, test loss: 0.4465\n",
      "[INFO] Start epoch [36] ...\n"
     ]
    },
    {
     "name": "stderr",
     "output_type": "stream",
     "text": [
      "100%|██████████| 38/38 [00:11<00:00,  3.26it/s]\n",
      " 10%|█         | 1/10 [00:00<00:01,  7.07it/s]"
     ]
    },
    {
     "name": "stdout",
     "output_type": "stream",
     "text": [
      "[INFO] Target query:  ['<SOS>', 'new', 'baby', 'i', 'm', 'a', 'g', '<POS>', 'new', 'baby', 'lyric', 'i', 'm', 'a', 'g', '<EOS>', '*', '*', '*', '*', '*', '*', '*', '*', '*', '*', '*', '*', '*', '*', '*', '*', '*', '*', '*', '*', '*', '*', '*', '*', '*', '*', '*', '*', '*', '*', '*', '*', '*', '*', '*', '*', '*', '*', '*', '*', '*', '*', '*', '*', '*', '*', '*', '*', '*', '*', '*', '*', '*', '*', '*', '*']\n",
      "[INFO] Predicted query:  ['<SOS>', 'to', 'baby', '<POS>', '<POS>', '<POS>', '<POS>', '<POS>', 'cancer', 'baby', 'lyric', '<POS>', '<POS>', '<POS>', '<POS>', '*', '*', '*', '*', '*', '*', '*', '*', '*', '*', '*', '*', '*', '*', '*', '*', '*', '*', '*', '*', '*', '*', '*', '*', '*', '*', '*', '*', '*', '*', '*', '*', '*', '*', '*', '*', '*', '*', '*', '*', '*', '*', '*', '*', '*', '*', '*', '*', '*', '*', '*', '*', '*', '*', '*', '*', '*']\n"
     ]
    },
    {
     "name": "stderr",
     "output_type": "stream",
     "text": [
      "100%|██████████| 10/10 [00:01<00:00,  8.22it/s]\n",
      "  0%|          | 0/38 [00:00<?, ?it/s]"
     ]
    },
    {
     "name": "stdout",
     "output_type": "stream",
     "text": [
      "[INFO] Target query:  ['<SOS>', 'oil', 'burner', 'island', '<POS>', 'oil', 'burner', 'license', 'island', '<POS>', 'oil', 'burner', 'license', 'island', 'check', '<POS>', 'oil', 'burner', 'license', 'island', 'check', '<EOS>', '*', '*', '*', '*', '*', '*', '*', '*', '*', '*', '*', '*', '*', '*', '*', '*', '*', '*', '*', '*', '*', '*', '*', '*', '*', '*', '*', '*', '*', '*', '*', '*', '*', '*', '*', '*', '*', '*', '*', '*', '*', '*', '*', '*', '*', '*', '*', '*', '*', '*']\n",
      "[INFO] Predicted query:  ['<SOS>', 'free', 'cancer', '<POS>', '<POS>', 'free', 'cancer', '<POS>', '<POS>', '<POS>', 'free', 'cancer', '<POS>', '<POS>', 'cancer', '<POS>', 'free', 'cancer', '<POS>', '<POS>', 'cancer', '*', '*', '*', '*', '*', '*', '*', '*', '*', '*', '*', '*', '*', '*', '*', '*', '*', '*', '*', '*', '*', '*', '*', '*', '*', '*', '*', '*', '*', '*', '*', '*', '*', '*', '*', '*', '*', '*', '*', '*', '*', '*', '*', '*', '*', '*', '*', '*', '*', '*', '*']\n",
      "[INFO] End epoch [36], train Loss: 0.4489, test loss: 0.4465\n",
      "[INFO] Start epoch [37] ...\n"
     ]
    },
    {
     "name": "stderr",
     "output_type": "stream",
     "text": [
      "100%|██████████| 38/38 [00:11<00:00,  3.26it/s]\n",
      " 10%|█         | 1/10 [00:00<00:01,  7.17it/s]"
     ]
    },
    {
     "name": "stdout",
     "output_type": "stream",
     "text": [
      "[INFO] Target query:  ['<SOS>', 'how', 'do', 'you', 'if', 'your', 'be', 'pregnant', '<POS>', 'how', 'do', 'you', 'know', 'if', 'your', 'be', 'pregnant', '<EOS>', '*', '*', '*', '*', '*', '*', '*', '*', '*', '*', '*', '*', '*', '*', '*', '*', '*', '*', '*', '*', '*', '*', '*', '*', '*', '*', '*', '*', '*', '*', '*', '*', '*', '*', '*', '*', '*', '*', '*', '*', '*', '*', '*', '*', '*', '*', '*', '*', '*', '*', '*', '*', '*', '*']\n",
      "[INFO] Predicted query:  ['<SOS>', 'how', '<POS>', '<POS>', '<POS>', '<POS>', '<POS>', '<POS>', '<POS>', 'how', '<POS>', '<POS>', 'society', '<POS>', '<POS>', '<POS>', '<POS>', '*', '*', '*', '*', '*', '*', '*', '*', '*', '*', '*', '*', '*', '*', '*', '*', '*', '*', '*', '*', '*', '*', '*', '*', '*', '*', '*', '*', '*', '*', '*', '*', '*', '*', '*', '*', '*', '*', '*', '*', '*', '*', '*', '*', '*', '*', '*', '*', '*', '*', '*', '*', '*', '*', '*']\n"
     ]
    },
    {
     "name": "stderr",
     "output_type": "stream",
     "text": [
      "100%|██████████| 10/10 [00:01<00:00,  8.29it/s]\n",
      "  0%|          | 0/38 [00:00<?, ?it/s]"
     ]
    },
    {
     "name": "stdout",
     "output_type": "stream",
     "text": [
      "[INFO] Target query:  ['<SOS>', 'pregnant', 'goddess', 'painting', '<POS>', 'east', 'baby', 'picture', '<POS>', 'peridot', 'for', 'childbirth', '<POS>', 'peridot', 'for', 'childbirth', '<POS>', 'pregnant', 'goddess', 'painting', '<POS>', 'pregnant', 'goddess', 'painting', '<POS>', 'pregnant', 'goddess', 'painting', '<EOS>', '*', '*', '*', '*', '*', '*', '*', '*', '*', '*', '*', '*', '*', '*', '*', '*', '*', '*', '*', '*', '*', '*', '*', '*', '*', '*', '*', '*', '*', '*', '*', '*', '*', '*', '*', '*', '*', '*', '*', '*', '*', '*', '*']\n",
      "[INFO] Predicted query:  ['<SOS>', '<POS>', '<POS>', 'cancer', '<POS>', 'with', 'baby', 'cancer', '<POS>', '<POS>', '<POS>', 'to', '<POS>', '<POS>', '<POS>', 'to', '<POS>', '<POS>', '<POS>', 'cancer', '<POS>', '<POS>', '<POS>', 'cancer', '<POS>', '<POS>', '<POS>', 'cancer', '*', '*', '*', '*', '*', '*', '*', '*', '*', '*', '*', '*', '*', '*', '*', '*', '*', '*', '*', '*', '*', '*', '*', '*', '*', '*', '*', '*', '*', '*', '*', '*', '*', '*', '*', '*', '*', '*', '*', '*', '*', '*', '*', '*']\n",
      "[INFO] End epoch [37], train Loss: 0.4489, test loss: 0.4465\n",
      "[INFO] Start epoch [38] ...\n"
     ]
    },
    {
     "name": "stderr",
     "output_type": "stream",
     "text": [
      "100%|██████████| 38/38 [00:11<00:00,  3.24it/s]\n",
      " 10%|█         | 1/10 [00:00<00:01,  6.89it/s]"
     ]
    },
    {
     "name": "stdout",
     "output_type": "stream",
     "text": [
      "[INFO] Target query:  ['<SOS>', 'baby', 'mouse', 'stage', '<POS>', 'food', 'for', 'baby', 'mouse', '<POS>', 'baby', 'mouse', '<POS>', 'feeding', 'baby', 'mouse', 'hard', 'boil', '<EOS>', '*', '*', '*', '*', '*', '*', '*', '*', '*', '*', '*', '*', '*', '*', '*', '*', '*', '*', '*', '*', '*', '*', '*', '*', '*', '*', '*', '*', '*', '*', '*', '*', '*', '*', '*', '*', '*', '*', '*', '*', '*', '*', '*', '*', '*', '*', '*', '*', '*', '*', '*', '*', '*']\n",
      "[INFO] Predicted query:  ['<SOS>', 'baby', 'it', 'free', '<POS>', 'it', 'it', 'baby', 'it', '<POS>', 'baby', 'it', '<POS>', '<POS>', 'baby', 'it', 'it', '<POS>', '*', '*', '*', '*', '*', '*', '*', '*', '*', '*', '*', '*', '*', '*', '*', '*', '*', '*', '*', '*', '*', '*', '*', '*', '*', '*', '*', '*', '*', '*', '*', '*', '*', '*', '*', '*', '*', '*', '*', '*', '*', '*', '*', '*', '*', '*', '*', '*', '*', '*', '*', '*', '*', '*']\n"
     ]
    },
    {
     "name": "stderr",
     "output_type": "stream",
     "text": [
      "100%|██████████| 10/10 [00:01<00:00,  8.37it/s]\n",
      "  0%|          | 0/38 [00:00<?, ?it/s]"
     ]
    },
    {
     "name": "stdout",
     "output_type": "stream",
     "text": [
      "[INFO] Target query:  ['<SOS>', 'born', 'baby', 'photo', '<POS>', 'new', 'born', 'baby', 'photo', '<POS>', 'month', 'baby', 'photo', '<POS>', 'pregnancy', 'test', '<POS>', 'baby', 'sound', '<EOS>', '*', '*', '*', '*', '*', '*', '*', '*', '*', '*', '*', '*', '*', '*', '*', '*', '*', '*', '*', '*', '*', '*', '*', '*', '*', '*', '*', '*', '*', '*', '*', '*', '*', '*', '*', '*', '*', '*', '*', '*', '*', '*', '*', '*', '*', '*', '*', '*', '*', '*', '*', '*']\n",
      "[INFO] Predicted query:  ['<SOS>', 'to', 'baby', 'it', '<POS>', 'it', 'it', 'baby', 'it', '<POS>', '<POS>', 'baby', 'it', '<POS>', '<POS>', '<POS>', '<POS>', 'baby', '<POS>', '*', '*', '*', '*', '*', '*', '*', '*', '*', '*', '*', '*', '*', '*', '*', '*', '*', '*', '*', '*', '*', '*', '*', '*', '*', '*', '*', '*', '*', '*', '*', '*', '*', '*', '*', '*', '*', '*', '*', '*', '*', '*', '*', '*', '*', '*', '*', '*', '*', '*', '*', '*', '*']\n",
      "[INFO] End epoch [38], train Loss: 0.4489, test loss: 0.4461\n",
      "[INFO] Start epoch [39] ...\n"
     ]
    },
    {
     "name": "stderr",
     "output_type": "stream",
     "text": [
      "100%|██████████| 38/38 [00:11<00:00,  3.26it/s]\n",
      " 10%|█         | 1/10 [00:00<00:01,  7.01it/s]"
     ]
    },
    {
     "name": "stdout",
     "output_type": "stream",
     "text": [
      "[INFO] Target query:  ['<SOS>', 'cancer', 'remission', '<POS>', 'national', 'lymphoma', '<POS>', 'cancer', '<POS>', 'cancer', '<POS>', 'cancer', 'society', '<POS>', 'for', 'cancer', '<EOS>', '*', '*', '*', '*', '*', '*', '*', '*', '*', '*', '*', '*', '*', '*', '*', '*', '*', '*', '*', '*', '*', '*', '*', '*', '*', '*', '*', '*', '*', '*', '*', '*', '*', '*', '*', '*', '*', '*', '*', '*', '*', '*', '*', '*', '*', '*', '*', '*', '*', '*', '*', '*', '*', '*', '*']\n",
      "[INFO] Predicted query:  ['<SOS>', 'cancer', 'a', '<POS>', 'a', '<POS>', '<POS>', 'cancer', '<POS>', 'cancer', '<POS>', 'cancer', 'society', '<POS>', 'a', 'cancer', '*', '*', '*', '*', '*', '*', '*', '*', '*', '*', '*', '*', '*', '*', '*', '*', '*', '*', '*', '*', '*', '*', '*', '*', '*', '*', '*', '*', '*', '*', '*', '*', '*', '*', '*', '*', '*', '*', '*', '*', '*', '*', '*', '*', '*', '*', '*', '*', '*', '*', '*', '*', '*', '*', '*', '*']\n"
     ]
    },
    {
     "name": "stderr",
     "output_type": "stream",
     "text": [
      "100%|██████████| 10/10 [00:01<00:00,  8.44it/s]\n",
      "  0%|          | 0/38 [00:00<?, ?it/s]"
     ]
    },
    {
     "name": "stdout",
     "output_type": "stream",
     "text": [
      "[INFO] Target query:  ['<SOS>', 'guild', 'hall', 'speech', '<POS>', 'nor', 'the', 'man', 'who', 'point', 'out', 'how', 'the', 'strong', 'man', 'stumble', '<EOS>', '*', '*', '*', '*', '*', '*', '*', '*', '*', '*', '*', '*', '*', '*', '*', '*', '*', '*', '*', '*', '*', '*', '*', '*', '*', '*', '*', '*', '*', '*', '*', '*', '*', '*', '*', '*', '*', '*', '*', '*', '*', '*', '*', '*', '*', '*', '*', '*', '*', '*', '*', '*', '*', '*', '*']\n",
      "[INFO] Predicted query:  ['<SOS>', 'week', 'a', 'a', '<POS>', 'a', 'a', 'a', 'a', 'a', 'a', 'how', 'a', '<POS>', 'a', 'a', '*', '*', '*', '*', '*', '*', '*', '*', '*', '*', '*', '*', '*', '*', '*', '*', '*', '*', '*', '*', '*', '*', '*', '*', '*', '*', '*', '*', '*', '*', '*', '*', '*', '*', '*', '*', '*', '*', '*', '*', '*', '*', '*', '*', '*', '*', '*', '*', '*', '*', '*', '*', '*', '*', '*', '*']\n",
      "[INFO] End epoch [39], train Loss: 0.4470, test loss: 0.4440\n",
      "[INFO] Start epoch [40] ...\n"
     ]
    },
    {
     "name": "stderr",
     "output_type": "stream",
     "text": [
      "100%|██████████| 38/38 [00:11<00:00,  3.26it/s]\n",
      " 10%|█         | 1/10 [00:00<00:01,  7.10it/s]"
     ]
    },
    {
     "name": "stdout",
     "output_type": "stream",
     "text": [
      "[INFO] Target query:  ['<SOS>', 'airy', 'high', 'school', '<POS>', 'airy', 'high', 'school', '<POS>', 'airy', 'high', 'school', '<POS>', 'airy', 'high', 'school', '<EOS>', '*', '*', '*', '*', '*', '*', '*', '*', '*', '*', '*', '*', '*', '*', '*', '*', '*', '*', '*', '*', '*', '*', '*', '*', '*', '*', '*', '*', '*', '*', '*', '*', '*', '*', '*', '*', '*', '*', '*', '*', '*', '*', '*', '*', '*', '*', '*', '*', '*', '*', '*', '*', '*', '*', '*']\n",
      "[INFO] Predicted query:  ['<SOS>', 'a', 'cancer', 'for', '<POS>', 'a', 'cancer', 'for', '<POS>', 'a', 'cancer', 'for', '<POS>', 'a', 'cancer', 'for', '*', '*', '*', '*', '*', '*', '*', '*', '*', '*', '*', '*', '*', '*', '*', '*', '*', '*', '*', '*', '*', '*', '*', '*', '*', '*', '*', '*', '*', '*', '*', '*', '*', '*', '*', '*', '*', '*', '*', '*', '*', '*', '*', '*', '*', '*', '*', '*', '*', '*', '*', '*', '*', '*', '*', '*']\n"
     ]
    },
    {
     "name": "stderr",
     "output_type": "stream",
     "text": [
      "100%|██████████| 10/10 [00:01<00:00,  8.40it/s]\n",
      "  0%|          | 0/38 [00:00<?, ?it/s]"
     ]
    },
    {
     "name": "stdout",
     "output_type": "stream",
     "text": [
      "[INFO] Target query:  ['<SOS>', 'fund', 'raiser', 'for', 'cancer', 'patient', '<POS>', 'how', 'to', 'start', 'a', 'for', 'a', 'cancer', 'patient', '<EOS>', '*', '*', '*', '*', '*', '*', '*', '*', '*', '*', '*', '*', '*', '*', '*', '*', '*', '*', '*', '*', '*', '*', '*', '*', '*', '*', '*', '*', '*', '*', '*', '*', '*', '*', '*', '*', '*', '*', '*', '*', '*', '*', '*', '*', '*', '*', '*', '*', '*', '*', '*', '*', '*', '*', '*', '*']\n",
      "[INFO] Predicted query:  ['<SOS>', '<POS>', 'during', 'for', 'cancer', '<POS>', '<POS>', 'how', 'to', 'for', 'a', 'for', 'a', 'cancer', '<POS>', '*', '*', '*', '*', '*', '*', '*', '*', '*', '*', '*', '*', '*', '*', '*', '*', '*', '*', '*', '*', '*', '*', '*', '*', '*', '*', '*', '*', '*', '*', '*', '*', '*', '*', '*', '*', '*', '*', '*', '*', '*', '*', '*', '*', '*', '*', '*', '*', '*', '*', '*', '*', '*', '*', '*', '*', '*']\n",
      "[INFO] End epoch [40], train Loss: 0.4446, test loss: 0.4422\n",
      "[INFO] Start epoch [41] ...\n"
     ]
    },
    {
     "name": "stderr",
     "output_type": "stream",
     "text": [
      "100%|██████████| 38/38 [00:11<00:00,  3.24it/s]\n",
      " 10%|█         | 1/10 [00:00<00:01,  7.01it/s]"
     ]
    },
    {
     "name": "stdout",
     "output_type": "stream",
     "text": [
      "[INFO] Target query:  ['<SOS>', 'stage', 'cancer', '<POS>', 'stage', 'lung', 'cancer', '<POS>', 'stage', 'non', 'small', 'cell', 'lung', 'cancer', '<POS>', 'prognosis', 'of', 'stage', 'lung', 'cancer', '<EOS>', '*', '*', '*', '*', '*', '*', '*', '*', '*', '*', '*', '*', '*', '*', '*', '*', '*', '*', '*', '*', '*', '*', '*', '*', '*', '*', '*', '*', '*', '*', '*', '*', '*', '*', '*', '*', '*', '*', '*', '*', '*', '*', '*', '*', '*', '*', '*', '*', '*', '*', '*']\n",
      "[INFO] Predicted query:  ['<SOS>', 'a', 'cancer', '<POS>', '<POS>', '<POS>', 'cancer', '<POS>', '<POS>', 'for', '<POS>', 'for', 'for', 'cancer', '<POS>', '<POS>', 'of', 'a', '<POS>', 'cancer', '*', '*', '*', '*', '*', '*', '*', '*', '*', '*', '*', '*', '*', '*', '*', '*', '*', '*', '*', '*', '*', '*', '*', '*', '*', '*', '*', '*', '*', '*', '*', '*', '*', '*', '*', '*', '*', '*', '*', '*', '*', '*', '*', '*', '*', '*', '*', '*', '*', '*', '*', '*']\n"
     ]
    },
    {
     "name": "stderr",
     "output_type": "stream",
     "text": [
      "100%|██████████| 10/10 [00:01<00:00,  8.42it/s]\n",
      "  0%|          | 0/38 [00:00<?, ?it/s]"
     ]
    },
    {
     "name": "stdout",
     "output_type": "stream",
     "text": [
      "[INFO] Target query:  ['<SOS>', 'college', 'of', 'surgeon', 'commission', 'on', 'cancer', '<POS>', 'lymphoma', '<POS>', 'breast', 'cancer', 'everywhere', '<POS>', 'inflammatory', 'breast', 'cancer', '<POS>', 'cancer', 'antibody', '<POS>', 'stop', 'cancer', 'treatment', '<EOS>', '*', '*', '*', '*', '*', '*', '*', '*', '*', '*', '*', '*', '*', '*', '*', '*', '*', '*', '*', '*', '*', '*', '*', '*', '*', '*', '*', '*', '*', '*', '*', '*', '*', '*', '*', '*', '*', '*', '*', '*', '*', '*', '*', '*', '*', '*', '*']\n",
      "[INFO] Predicted query:  ['<SOS>', 'for', 'of', 'liver', 'for', 'baby', 'cancer', '<POS>', 'for', '<POS>', 'for', 'cancer', 'tumor', '<POS>', '<POS>', 'for', 'cancer', '<POS>', 'cancer', '<POS>', '<POS>', '<POS>', 'cancer', '<POS>', '*', '*', '*', '*', '*', '*', '*', '*', '*', '*', '*', '*', '*', '*', '*', '*', '*', '*', '*', '*', '*', '*', '*', '*', '*', '*', '*', '*', '*', '*', '*', '*', '*', '*', '*', '*', '*', '*', '*', '*', '*', '*', '*', '*', '*', '*', '*', '*']\n",
      "[INFO] End epoch [41], train Loss: 0.4444, test loss: 0.4422\n",
      "[INFO] Start epoch [42] ...\n"
     ]
    },
    {
     "name": "stderr",
     "output_type": "stream",
     "text": [
      "100%|██████████| 38/38 [00:11<00:00,  3.23it/s]\n",
      " 10%|█         | 1/10 [00:00<00:01,  6.99it/s]"
     ]
    },
    {
     "name": "stdout",
     "output_type": "stream",
     "text": [
      "[INFO] Target query:  ['<SOS>', 'hip', 'thigh', '<POS>', 'fur', '<POS>', 'sound', 'track', 'to', 'the', 'wedding', 'singer', '<POS>', 'theme', 'from', 'charm', '<EOS>', '*', '*', '*', '*', '*', '*', '*', '*', '*', '*', '*', '*', '*', '*', '*', '*', '*', '*', '*', '*', '*', '*', '*', '*', '*', '*', '*', '*', '*', '*', '*', '*', '*', '*', '*', '*', '*', '*', '*', '*', '*', '*', '*', '*', '*', '*', '*', '*', '*', '*', '*', '*', '*', '*', '*']\n",
      "[INFO] Predicted query:  ['<SOS>', 'during', 'the', '<POS>', 'the', '<POS>', 'for', '<POS>', 'to', 'the', 'the', 'the', '<POS>', 'the', '<POS>', 'the', '<EOS>', '*', '*', '*', '*', '*', '*', '*', '*', '*', '*', '*', '*', '*', '*', '*', '*', '*', '*', '*', '*', '*', '*', '*', '*', '*', '*', '*', '*', '*', '*', '*', '*', '*', '*', '*', '*', '*', '*', '*', '*', '*', '*', '*', '*', '*', '*', '*', '*', '*', '*', '*', '*', '*', '*', '*']\n"
     ]
    },
    {
     "name": "stderr",
     "output_type": "stream",
     "text": [
      "100%|██████████| 10/10 [00:01<00:00,  8.36it/s]\n",
      "  0%|          | 0/38 [00:00<?, ?it/s]"
     ]
    },
    {
     "name": "stdout",
     "output_type": "stream",
     "text": [
      "[INFO] Target query:  ['<SOS>', 'opportunity', 'seeker', 'or', 'list', '<POS>', 'opportunity', 'seeker', 'or', 'list', 'and', 'computer', 'owner', '<POS>', 'list', 'and', 'computer', 'owner', 'and', 'opportunity', '<EOS>', '*', '*', '*', '*', '*', '*', '*', '*', '*', '*', '*', '*', '*', '*', '*', '*', '*', '*', '*', '*', '*', '*', '*', '*', '*', '*', '*', '*', '*', '*', '*', '*', '*', '*', '*', '*', '*', '*', '*', '*', '*', '*', '*', '*', '*', '*', '*', '*', '*', '*', '*']\n",
      "[INFO] Predicted query:  ['<SOS>', 'the', 'cancer', '<POS>', '<POS>', '<POS>', '<POS>', 'cancer', '<POS>', '<POS>', '<POS>', 'for', '<POS>', '<POS>', '<POS>', '<POS>', 'for', '<POS>', '<POS>', 'the', '<EOS>', '*', '*', '*', '*', '*', '*', '*', '*', '*', '*', '*', '*', '*', '*', '*', '*', '*', '*', '*', '*', '*', '*', '*', '*', '*', '*', '*', '*', '*', '*', '*', '*', '*', '*', '*', '*', '*', '*', '*', '*', '*', '*', '*', '*', '*', '*', '*', '*', '*', '*', '*']\n",
      "[INFO] End epoch [42], train Loss: 0.4430, test loss: 0.4353\n",
      "[INFO] Start epoch [43] ...\n"
     ]
    },
    {
     "name": "stderr",
     "output_type": "stream",
     "text": [
      "100%|██████████| 38/38 [00:11<00:00,  3.25it/s]\n",
      " 10%|█         | 1/10 [00:00<00:01,  7.13it/s]"
     ]
    },
    {
     "name": "stdout",
     "output_type": "stream",
     "text": [
      "[INFO] Target query:  ['<SOS>', 'stomach', 'lining', 'cancer', '<POS>', 'stomach', 'lining', 'cancer', '<POS>', 'stomach', 'lining', 'cancer', 'celiac', '<EOS>', '*', '*', '*', '*', '*', '*', '*', '*', '*', '*', '*', '*', '*', '*', '*', '*', '*', '*', '*', '*', '*', '*', '*', '*', '*', '*', '*', '*', '*', '*', '*', '*', '*', '*', '*', '*', '*', '*', '*', '*', '*', '*', '*', '*', '*', '*', '*', '*', '*', '*', '*', '*', '*', '*', '*', '*', '*', '*']\n",
      "[INFO] Predicted query:  ['<SOS>', 'for', 'and', 'cancer', '<POS>', 'for', 'and', 'cancer', '<POS>', 'for', 'and', 'cancer', 'and', '<EOS>', '*', '*', '*', '*', '*', '*', '*', '*', '*', '*', '*', '*', '*', '*', '*', '*', '*', '*', '*', '*', '*', '*', '*', '*', '*', '*', '*', '*', '*', '*', '*', '*', '*', '*', '*', '*', '*', '*', '*', '*', '*', '*', '*', '*', '*', '*', '*', '*', '*', '*', '*', '*', '*', '*', '*', '*', '*', '*']\n"
     ]
    },
    {
     "name": "stderr",
     "output_type": "stream",
     "text": [
      "100%|██████████| 10/10 [00:01<00:00,  8.34it/s]\n",
      "  0%|          | 0/38 [00:00<?, ?it/s]"
     ]
    },
    {
     "name": "stdout",
     "output_type": "stream",
     "text": [
      "[INFO] Target query:  ['<SOS>', 'real', 'estate', 'class', '<POS>', 'real', 'estate', 'class', 'in', '<POS>', 'find', 'real', 'estate', 'class', 'in', '<EOS>', '*', '*', '*', '*', '*', '*', '*', '*', '*', '*', '*', '*', '*', '*', '*', '*', '*', '*', '*', '*', '*', '*', '*', '*', '*', '*', '*', '*', '*', '*', '*', '*', '*', '*', '*', '*', '*', '*', '*', '*', '*', '*', '*', '*', '*', '*', '*', '*', '*', '*', '*', '*', '*', '*', '*', '*']\n",
      "[INFO] Predicted query:  ['<SOS>', 'and', 'and', 'and', '<POS>', 'and', 'and', 'and', 'and', '<POS>', 'and', 'and', 'and', 'and', 'and', '<EOS>', '*', '*', '*', '*', '*', '*', '*', '*', '*', '*', '*', '*', '*', '*', '*', '*', '*', '*', '*', '*', '*', '*', '*', '*', '*', '*', '*', '*', '*', '*', '*', '*', '*', '*', '*', '*', '*', '*', '*', '*', '*', '*', '*', '*', '*', '*', '*', '*', '*', '*', '*', '*', '*', '*', '*', '*']\n",
      "[INFO] End epoch [43], train Loss: 0.4358, test loss: 0.4322\n",
      "[INFO] Start epoch [44] ...\n"
     ]
    },
    {
     "name": "stderr",
     "output_type": "stream",
     "text": [
      "100%|██████████| 38/38 [00:11<00:00,  3.24it/s]\n",
      " 10%|█         | 1/10 [00:00<00:01,  6.96it/s]"
     ]
    },
    {
     "name": "stdout",
     "output_type": "stream",
     "text": [
      "[INFO] Target query:  ['<SOS>', 'be', 'there', 'anything', 'you', 'can', 'give', 'a', 'baby', 'that', 'all', 'natural', 'that', 'will', 'help', 'them', 'sleep', '<POS>', 'what', 'can', 'you', 'give', 'a', 'baby', 'to', 'help', 'them', 'sleep', '<POS>', 'how', 'can', 'you', 'get', 'a', 'baby', 'to', 'sleep', 'through', 'the', 'night', '<EOS>', '*', '*', '*', '*', '*', '*', '*', '*', '*', '*', '*', '*', '*', '*', '*', '*', '*', '*', '*', '*', '*', '*', '*', '*', '*', '*', '*', '*', '*', '*', '*']\n",
      "[INFO] Predicted query:  ['<SOS>', 'and', 'baby', 'in', 'in', 'in', 'in', 'a', 'baby', 'in', 'in', 'in', 'in', 'in', 'in', 'in', 'in', '<POS>', 'what', 'in', 'in', 'in', 'a', 'baby', 'to', 'cancer', 'in', 'in', '<POS>', 'how', 'in', 'in', 'in', 'a', 'baby', 'to', 'in', 'in', 'the', 'in', '<EOS>', '*', '*', '*', '*', '*', '*', '*', '*', '*', '*', '*', '*', '*', '*', '*', '*', '*', '*', '*', '*', '*', '*', '*', '*', '*', '*', '*', '*', '*', '*', '*']\n"
     ]
    },
    {
     "name": "stderr",
     "output_type": "stream",
     "text": [
      "100%|██████████| 10/10 [00:01<00:00,  8.29it/s]\n",
      "  0%|          | 0/38 [00:00<?, ?it/s]"
     ]
    },
    {
     "name": "stdout",
     "output_type": "stream",
     "text": [
      "[INFO] Target query:  ['<SOS>', 'fund', 'raiser', 'for', 'cancer', 'patient', '<POS>', 'how', 'to', 'start', 'a', 'for', 'a', 'cancer', 'patient', '<EOS>', '*', '*', '*', '*', '*', '*', '*', '*', '*', '*', '*', '*', '*', '*', '*', '*', '*', '*', '*', '*', '*', '*', '*', '*', '*', '*', '*', '*', '*', '*', '*', '*', '*', '*', '*', '*', '*', '*', '*', '*', '*', '*', '*', '*', '*', '*', '*', '*', '*', '*', '*', '*', '*', '*', '*', '*']\n",
      "[INFO] Predicted query:  ['<SOS>', 'the', 'in', 'for', 'cancer', 'in', '<POS>', 'how', 'to', 'in', 'a', 'for', 'a', 'cancer', 'in', '<EOS>', '*', '*', '*', '*', '*', '*', '*', '*', '*', '*', '*', '*', '*', '*', '*', '*', '*', '*', '*', '*', '*', '*', '*', '*', '*', '*', '*', '*', '*', '*', '*', '*', '*', '*', '*', '*', '*', '*', '*', '*', '*', '*', '*', '*', '*', '*', '*', '*', '*', '*', '*', '*', '*', '*', '*', '*']\n",
      "[INFO] End epoch [44], train Loss: 0.4335, test loss: 0.4304\n",
      "[INFO] Start epoch [45] ...\n"
     ]
    },
    {
     "name": "stderr",
     "output_type": "stream",
     "text": [
      "100%|██████████| 38/38 [00:11<00:00,  3.24it/s]\n",
      " 10%|█         | 1/10 [00:00<00:01,  6.91it/s]"
     ]
    },
    {
     "name": "stdout",
     "output_type": "stream",
     "text": [
      "[INFO] Target query:  ['<SOS>', 'skin', 'cancer', '<POS>', 'what', 'doe', 'skin', 'cancer', 'look', 'like', '<POS>', 'skin', 'cancer', '<POS>', 'what', 'doe', 'skin', 'cancer', 'look', 'like', '<POS>', 'skin', 'cancer', '<POS>', 'skin', 'cancer', '<EOS>', '*', '*', '*', '*', '*', '*', '*', '*', '*', '*', '*', '*', '*', '*', '*', '*', '*', '*', '*', '*', '*', '*', '*', '*', '*', '*', '*', '*', '*', '*', '*', '*', '*', '*', '*', '*', '*', '*', '*', '*', '*', '*', '*', '*', '*']\n",
      "[INFO] Predicted query:  ['<SOS>', 'cancer', 'cancer', '<POS>', 'what', 'in', 'cancer', 'cancer', '<POS>', 'in', '<POS>', 'cancer', 'cancer', '<POS>', 'what', 'in', 'cancer', 'cancer', '<POS>', 'in', '<POS>', 'cancer', 'cancer', '<POS>', 'cancer', 'cancer', '<EOS>', '*', '*', '*', '*', '*', '*', '*', '*', '*', '*', '*', '*', '*', '*', '*', '*', '*', '*', '*', '*', '*', '*', '*', '*', '*', '*', '*', '*', '*', '*', '*', '*', '*', '*', '*', '*', '*', '*', '*', '*', '*', '*', '*', '*', '*']\n"
     ]
    },
    {
     "name": "stderr",
     "output_type": "stream",
     "text": [
      "100%|██████████| 10/10 [00:01<00:00,  8.33it/s]\n",
      "  0%|          | 0/38 [00:00<?, ?it/s]"
     ]
    },
    {
     "name": "stdout",
     "output_type": "stream",
     "text": [
      "[INFO] Target query:  ['<SOS>', 'sign', 'of', 'breast', 'cancer', '<POS>', 'photo', 'of', 'woman', 'with', 'breast', 'cancer', '<POS>', 'what', 'doe', 'breast', 'cancer', 'look', 'like', '<EOS>', '*', '*', '*', '*', '*', '*', '*', '*', '*', '*', '*', '*', '*', '*', '*', '*', '*', '*', '*', '*', '*', '*', '*', '*', '*', '*', '*', '*', '*', '*', '*', '*', '*', '*', '*', '*', '*', '*', '*', '*', '*', '*', '*', '*', '*', '*', '*', '*', '*', '*', '*', '*']\n",
      "[INFO] Predicted query:  ['<SOS>', 'sign', 'of', 'in', 'cancer', '<POS>', 'cat', 'of', 'the', 'with', 'in', 'cancer', '<POS>', 'what', 'in', 'in', 'cancer', '<POS>', 'in', '<EOS>', '*', '*', '*', '*', '*', '*', '*', '*', '*', '*', '*', '*', '*', '*', '*', '*', '*', '*', '*', '*', '*', '*', '*', '*', '*', '*', '*', '*', '*', '*', '*', '*', '*', '*', '*', '*', '*', '*', '*', '*', '*', '*', '*', '*', '*', '*', '*', '*', '*', '*', '*', '*']\n",
      "[INFO] End epoch [45], train Loss: 0.4323, test loss: 0.4299\n",
      "[INFO] Start epoch [46] ...\n"
     ]
    },
    {
     "name": "stderr",
     "output_type": "stream",
     "text": [
      "100%|██████████| 38/38 [00:11<00:00,  3.23it/s]\n",
      " 10%|█         | 1/10 [00:00<00:01,  6.67it/s]"
     ]
    },
    {
     "name": "stdout",
     "output_type": "stream",
     "text": [
      "[INFO] Target query:  ['<SOS>', 'lung', 'cancer', '<POS>', 'smoking', 'causing', 'lung', 'cancer', '<POS>', 'how', 'be', 'lung', 'cancer', 'preventable', '<POS>', 'lung', 'cancer', 'research', '<POS>', 'lung', 'cancer', '<POS>', 'lung', 'cancer', 'research', '<POS>', 'lung', 'cancer', '<EOS>', '*', '*', '*', '*', '*', '*', '*', '*', '*', '*', '*', '*', '*', '*', '*', '*', '*', '*', '*', '*', '*', '*', '*', '*', '*', '*', '*', '*', '*', '*', '*', '*', '*', '*', '*', '*', '*', '*', '*', '*', '*', '*', '*']\n",
      "[INFO] Predicted query:  ['<SOS>', 'be', 'cancer', '<POS>', '<POS>', 'in', 'be', 'cancer', '<POS>', 'how', 'be', 'be', 'cancer', 'be', '<POS>', 'be', 'cancer', '<POS>', '<POS>', 'be', 'cancer', '<POS>', 'be', 'cancer', '<POS>', '<POS>', 'be', 'cancer', '<EOS>', '*', '*', '*', '*', '*', '*', '*', '*', '*', '*', '*', '*', '*', '*', '*', '*', '*', '*', '*', '*', '*', '*', '*', '*', '*', '*', '*', '*', '*', '*', '*', '*', '*', '*', '*', '*', '*', '*', '*', '*', '*', '*', '*']\n"
     ]
    },
    {
     "name": "stderr",
     "output_type": "stream",
     "text": [
      "100%|██████████| 10/10 [00:01<00:00,  8.29it/s]\n",
      "  0%|          | 0/38 [00:00<?, ?it/s]"
     ]
    },
    {
     "name": "stdout",
     "output_type": "stream",
     "text": [
      "[INFO] Target query:  ['<SOS>', 'chevy', 'truck', 'grille', '<POS>', 'replacement', 'chevy', 'truck', 'grille', '<POS>', 'chevy', 'truck', 'grille', 'kit', 'with', 'insert', '<EOS>', '*', '*', '*', '*', '*', '*', '*', '*', '*', '*', '*', '*', '*', '*', '*', '*', '*', '*', '*', '*', '*', '*', '*', '*', '*', '*', '*', '*', '*', '*', '*', '*', '*', '*', '*', '*', '*', '*', '*', '*', '*', '*', '*', '*', '*', '*', '*', '*', '*', '*', '*', '*', '*', '*', '*']\n",
      "[INFO] Predicted query:  ['<SOS>', 'be', 'in', '<POS>', '<POS>', 'in', 'be', 'in', '<POS>', '<POS>', '<POS>', 'in', '<POS>', 'in', 'with', 'in', '<EOS>', '*', '*', '*', '*', '*', '*', '*', '*', '*', '*', '*', '*', '*', '*', '*', '*', '*', '*', '*', '*', '*', '*', '*', '*', '*', '*', '*', '*', '*', '*', '*', '*', '*', '*', '*', '*', '*', '*', '*', '*', '*', '*', '*', '*', '*', '*', '*', '*', '*', '*', '*', '*', '*', '*', '*']\n",
      "[INFO] End epoch [46], train Loss: 0.4315, test loss: 0.4294\n",
      "[INFO] Start epoch [47] ...\n"
     ]
    },
    {
     "name": "stderr",
     "output_type": "stream",
     "text": [
      "100%|██████████| 38/38 [00:11<00:00,  3.23it/s]\n",
      " 10%|█         | 1/10 [00:00<00:01,  6.75it/s]"
     ]
    },
    {
     "name": "stdout",
     "output_type": "stream",
     "text": [
      "[INFO] Target query:  ['<SOS>', 'cancer', 'of', 'the', 'node', '<POS>', 'lymphatic', 'cancer', '<POS>', 'stage', 'cancer', '<POS>', 'intestinal', 'cancer', '<POS>', 'what', 'are', 'the', 'stage', 'of', 'cancer', '<EOS>', '*', '*', '*', '*', '*', '*', '*', '*', '*', '*', '*', '*', '*', '*', '*', '*', '*', '*', '*', '*', '*', '*', '*', '*', '*', '*', '*', '*', '*', '*', '*', '*', '*', '*', '*', '*', '*', '*', '*', '*', '*', '*', '*', '*', '*', '*', '*', '*', '*', '*']\n",
      "[INFO] Predicted query:  ['<SOS>', 'cancer', 'of', 'the', 'sex', '<POS>', 'week', 'cancer', '<POS>', '<POS>', 'cancer', '<POS>', 'be', 'cancer', '<POS>', 'what', 'sex', 'the', 'the', 'of', 'cancer', '<EOS>', '*', '*', '*', '*', '*', '*', '*', '*', '*', '*', '*', '*', '*', '*', '*', '*', '*', '*', '*', '*', '*', '*', '*', '*', '*', '*', '*', '*', '*', '*', '*', '*', '*', '*', '*', '*', '*', '*', '*', '*', '*', '*', '*', '*', '*', '*', '*', '*', '*', '*']\n"
     ]
    },
    {
     "name": "stderr",
     "output_type": "stream",
     "text": [
      "100%|██████████| 10/10 [00:01<00:00,  8.16it/s]\n",
      "  0%|          | 0/38 [00:00<?, ?it/s]"
     ]
    },
    {
     "name": "stdout",
     "output_type": "stream",
     "text": [
      "[INFO] Target query:  ['<SOS>', 'baby', 'furniture', 'in', '<POS>', 'baby', 'shower', 'favor', '<POS>', 'laura', 'baby', '<POS>', 'baby', 'shower', 'favor', '<EOS>', '*', '*', '*', '*', '*', '*', '*', '*', '*', '*', '*', '*', '*', '*', '*', '*', '*', '*', '*', '*', '*', '*', '*', '*', '*', '*', '*', '*', '*', '*', '*', '*', '*', '*', '*', '*', '*', '*', '*', '*', '*', '*', '*', '*', '*', '*', '*', '*', '*', '*', '*', '*', '*', '*', '*', '*']\n",
      "[INFO] Predicted query:  ['<SOS>', 'baby', 'furniture', 'in', '<POS>', 'baby', 'sex', 'sex', '<POS>', 'and', 'baby', '<POS>', 'baby', 'sex', 'sex', '<EOS>', '*', '*', '*', '*', '*', '*', '*', '*', '*', '*', '*', '*', '*', '*', '*', '*', '*', '*', '*', '*', '*', '*', '*', '*', '*', '*', '*', '*', '*', '*', '*', '*', '*', '*', '*', '*', '*', '*', '*', '*', '*', '*', '*', '*', '*', '*', '*', '*', '*', '*', '*', '*', '*', '*', '*', '*']\n",
      "[INFO] End epoch [47], train Loss: 0.4314, test loss: 0.4292\n",
      "[INFO] Start epoch [48] ...\n"
     ]
    },
    {
     "name": "stderr",
     "output_type": "stream",
     "text": [
      "100%|██████████| 38/38 [00:11<00:00,  3.22it/s]\n",
      " 10%|█         | 1/10 [00:00<00:01,  6.88it/s]"
     ]
    },
    {
     "name": "stdout",
     "output_type": "stream",
     "text": [
      "[INFO] Target query:  ['<SOS>', 'modern', 'outdoor', 'planting', 'pot', '<POS>', 'outdoor', 'planting', 'pot', '<POS>', 'outdoor', 'planting', 'pot', '<EOS>', '*', '*', '*', '*', '*', '*', '*', '*', '*', '*', '*', '*', '*', '*', '*', '*', '*', '*', '*', '*', '*', '*', '*', '*', '*', '*', '*', '*', '*', '*', '*', '*', '*', '*', '*', '*', '*', '*', '*', '*', '*', '*', '*', '*', '*', '*', '*', '*', '*', '*', '*', '*', '*', '*', '*', '*', '*', '*']\n",
      "[INFO] Predicted query:  ['<SOS>', 'be', 'in', 'in', '<POS>', '<POS>', 'in', 'in', '<POS>', '<POS>', 'in', 'in', '<POS>', '<EOS>', '*', '*', '*', '*', '*', '*', '*', '*', '*', '*', '*', '*', '*', '*', '*', '*', '*', '*', '*', '*', '*', '*', '*', '*', '*', '*', '*', '*', '*', '*', '*', '*', '*', '*', '*', '*', '*', '*', '*', '*', '*', '*', '*', '*', '*', '*', '*', '*', '*', '*', '*', '*', '*', '*', '*', '*', '*', '*']\n"
     ]
    },
    {
     "name": "stderr",
     "output_type": "stream",
     "text": [
      "100%|██████████| 10/10 [00:01<00:00,  8.25it/s]\n",
      "  0%|          | 0/38 [00:00<?, ?it/s]"
     ]
    },
    {
     "name": "stdout",
     "output_type": "stream",
     "text": [
      "[INFO] Target query:  ['<SOS>', 'breast', 'cancer', '<POS>', 'breast', 'cancer', 'long', 'term', 'effects', 'and', 'radiation', '<POS>', 'breast', 'cancer', 'treatment', 'and', 'arthritis', '<EOS>', '*', '*', '*', '*', '*', '*', '*', '*', '*', '*', '*', '*', '*', '*', '*', '*', '*', '*', '*', '*', '*', '*', '*', '*', '*', '*', '*', '*', '*', '*', '*', '*', '*', '*', '*', '*', '*', '*', '*', '*', '*', '*', '*', '*', '*', '*', '*', '*', '*', '*', '*', '*', '*', '*']\n",
      "[INFO] Predicted query:  ['<SOS>', '<POS>', 'cancer', '<POS>', '<POS>', 'cancer', '<POS>', 'how', 'in', 'and', 'for', '<POS>', '<POS>', 'cancer', 'in', 'and', 'and', '<EOS>', '*', '*', '*', '*', '*', '*', '*', '*', '*', '*', '*', '*', '*', '*', '*', '*', '*', '*', '*', '*', '*', '*', '*', '*', '*', '*', '*', '*', '*', '*', '*', '*', '*', '*', '*', '*', '*', '*', '*', '*', '*', '*', '*', '*', '*', '*', '*', '*', '*', '*', '*', '*', '*', '*']\n",
      "[INFO] End epoch [48], train Loss: 0.4311, test loss: 0.4291\n",
      "[INFO] Start epoch [49] ...\n"
     ]
    },
    {
     "name": "stderr",
     "output_type": "stream",
     "text": [
      "100%|██████████| 38/38 [00:11<00:00,  3.19it/s]\n",
      " 10%|█         | 1/10 [00:00<00:01,  6.51it/s]"
     ]
    },
    {
     "name": "stdout",
     "output_type": "stream",
     "text": [
      "[INFO] Target query:  ['<SOS>', 'sale', 'on', 'car', 'system', '<POS>', 'speaker', 'outlet', '<POS>', 'speaker', 'for', 'sale', '<POS>', 'just', 'speaker', 'sale', '<EOS>', '*', '*', '*', '*', '*', '*', '*', '*', '*', '*', '*', '*', '*', '*', '*', '*', '*', '*', '*', '*', '*', '*', '*', '*', '*', '*', '*', '*', '*', '*', '*', '*', '*', '*', '*', '*', '*', '*', '*', '*', '*', '*', '*', '*', '*', '*', '*', '*', '*', '*', '*', '*', '*', '*', '*']\n",
      "[INFO] Predicted query:  ['<SOS>', 'breast', 'shower', 'breast', 'pregnant', '<POS>', 'doctor', 'doctor', '<POS>', 'doctor', 'for', 'breast', '<POS>', 'be', 'doctor', 'breast', '<EOS>', '*', '*', '*', '*', '*', '*', '*', '*', '*', '*', '*', '*', '*', '*', '*', '*', '*', '*', '*', '*', '*', '*', '*', '*', '*', '*', '*', '*', '*', '*', '*', '*', '*', '*', '*', '*', '*', '*', '*', '*', '*', '*', '*', '*', '*', '*', '*', '*', '*', '*', '*', '*', '*', '*', '*']\n"
     ]
    },
    {
     "name": "stderr",
     "output_type": "stream",
     "text": [
      "100%|██████████| 10/10 [00:01<00:00,  7.80it/s]\n",
      "  0%|          | 0/38 [00:00<?, ?it/s]"
     ]
    },
    {
     "name": "stdout",
     "output_type": "stream",
     "text": [
      "[INFO] Target query:  ['<SOS>', 'quote', 'a', 'can', 'get', 'you', 'money', 'a', 'big', 'house', 'a', 'shoe', 'deal', 'but', 'none', 'of', 'these', 'can', 'get', 'you', 'a', '<POS>', 'quote', 'a', 'can', 'get', 'you', 'money', '<POS>', 'quote', 'a', 'jump', 'shot', 'can', 'get', 'you', '<POS>', 'knee', '<EOS>', '*', '*', '*', '*', '*', '*', '*', '*', '*', '*', '*', '*', '*', '*', '*', '*', '*', '*', '*', '*', '*', '*', '*', '*', '*', '*', '*', '*', '*', '*', '*', '*', '*']\n",
      "[INFO] Predicted query:  ['<SOS>', 'breast', 'a', 'pregnant', 'be', 'breast', 'shower', 'a', 'pregnant', 'doctor', 'a', 'doctor', 'breast', 'breast', 'pregnant', 'of', 'pregnant', 'doctor', 'be', 'breast', 'a', '<POS>', 'breast', 'a', 'pregnant', 'be', 'breast', 'shower', '<POS>', 'breast', 'a', 'breast', 'doctor', 'doctor', 'be', 'breast', '<POS>', 'pregnant', '<EOS>', '*', '*', '*', '*', '*', '*', '*', '*', '*', '*', '*', '*', '*', '*', '*', '*', '*', '*', '*', '*', '*', '*', '*', '*', '*', '*', '*', '*', '*', '*', '*', '*', '*']\n",
      "[INFO] End epoch [49], train Loss: 0.4283, test loss: 0.4266\n",
      "[INFO] Start epoch [50] ...\n"
     ]
    },
    {
     "name": "stderr",
     "output_type": "stream",
     "text": [
      "100%|██████████| 38/38 [00:11<00:00,  3.34it/s]\n",
      " 10%|█         | 1/10 [00:00<00:01,  7.35it/s]"
     ]
    },
    {
     "name": "stdout",
     "output_type": "stream",
     "text": [
      "[INFO] Target query:  ['<SOS>', 'the', 'best', 'workout', 'to', 'get', 'the', 'muscle', 'of', '<POS>', 'the', 'best', 'workout', 'to', 'get', 'the', 'muscle', 'like', '<POS>', 'the', 'perfect', 'workout', 'for', 'an', 'year', 'old', 'to', 'get', 'prepare', 'for', 'football', '<POS>', 'cheat', 'for', 'halo', '<EOS>', '*', '*', '*', '*', '*', '*', '*', '*', '*', '*', '*', '*', '*', '*', '*', '*', '*', '*', '*', '*', '*', '*', '*', '*', '*', '*', '*', '*', '*', '*', '*', '*', '*', '*', '*', '*']\n",
      "[INFO] Predicted query:  ['<SOS>', 'the', 'picture', 'be', 'to', 'picture', 'the', 'picture', 'of', '<POS>', 'the', 'picture', 'picture', 'to', 'picture', 'the', 'picture', 'breast', '<POS>', 'the', 'picture', 'be', 'for', 'breast', 'and', 'breast', 'to', 'picture', 'picture', 'for', 'pregnant', '<POS>', 'picture', 'for', '<POS>', '<EOS>', '*', '*', '*', '*', '*', '*', '*', '*', '*', '*', '*', '*', '*', '*', '*', '*', '*', '*', '*', '*', '*', '*', '*', '*', '*', '*', '*', '*', '*', '*', '*', '*', '*', '*', '*', '*']\n"
     ]
    },
    {
     "name": "stderr",
     "output_type": "stream",
     "text": [
      "100%|██████████| 10/10 [00:01<00:00,  8.64it/s]\n",
      "  0%|          | 0/38 [00:00<?, ?it/s]"
     ]
    },
    {
     "name": "stdout",
     "output_type": "stream",
     "text": [
      "[INFO] Target query:  ['<SOS>', 'social', 'security', '<POS>', 'when', 'will', 'i', 'get', 'my', '<POS>', 'when', 'i', 'pass', 'my', 'road', 'test', 'when', 'will', 'i', 'get', 'my', '<EOS>', '*', '*', '*', '*', '*', '*', '*', '*', '*', '*', '*', '*', '*', '*', '*', '*', '*', '*', '*', '*', '*', '*', '*', '*', '*', '*', '*', '*', '*', '*', '*', '*', '*', '*', '*', '*', '*', '*', '*', '*', '*', '*', '*', '*', '*', '*', '*', '*', '*', '*']\n",
      "[INFO] Predicted query:  ['<SOS>', 'r', 'with', '<POS>', 'picture', 'breast', 'picture', 'picture', 'cancer', '<POS>', 'picture', 'picture', 'breast', 'cancer', 'picture', 'picture', 'picture', 'picture', 'picture', 'picture', 'cancer', '<EOS>', '*', '*', '*', '*', '*', '*', '*', '*', '*', '*', '*', '*', '*', '*', '*', '*', '*', '*', '*', '*', '*', '*', '*', '*', '*', '*', '*', '*', '*', '*', '*', '*', '*', '*', '*', '*', '*', '*', '*', '*', '*', '*', '*', '*', '*', '*', '*', '*', '*', '*']\n",
      "[INFO] End epoch [50], train Loss: 0.4277, test loss: 0.4259\n",
      "[INFO] Start epoch [51] ...\n"
     ]
    },
    {
     "name": "stderr",
     "output_type": "stream",
     "text": [
      "100%|██████████| 38/38 [00:11<00:00,  3.39it/s]\n",
      " 10%|█         | 1/10 [00:00<00:01,  7.27it/s]"
     ]
    },
    {
     "name": "stdout",
     "output_type": "stream",
     "text": [
      "[INFO] Target query:  ['<SOS>', 'roller', 'rink', 'in', '<POS>', 'park', 'roller', 'rink', '<POS>', 'roller', 'rink', '<POS>', 'cannon', 'camera', '<EOS>', '*', '*', '*', '*', '*', '*', '*', '*', '*', '*', '*', '*', '*', '*', '*', '*', '*', '*', '*', '*', '*', '*', '*', '*', '*', '*', '*', '*', '*', '*', '*', '*', '*', '*', '*', '*', '*', '*', '*', '*', '*', '*', '*', '*', '*', '*', '*', '*', '*', '*', '*', '*', '*', '*', '*', '*', '*']\n",
      "[INFO] Predicted query:  ['<SOS>', 'breast', '<POS>', 'in', '<POS>', 'breast', 'breast', '<POS>', '<POS>', 'breast', '<POS>', '<POS>', 'breast', 'pregnant', '<EOS>', '*', '*', '*', '*', '*', '*', '*', '*', '*', '*', '*', '*', '*', '*', '*', '*', '*', '*', '*', '*', '*', '*', '*', '*', '*', '*', '*', '*', '*', '*', '*', '*', '*', '*', '*', '*', '*', '*', '*', '*', '*', '*', '*', '*', '*', '*', '*', '*', '*', '*', '*', '*', '*', '*', '*', '*', '*']\n"
     ]
    },
    {
     "name": "stderr",
     "output_type": "stream",
     "text": [
      "100%|██████████| 10/10 [00:01<00:00,  8.41it/s]\n",
      "  0%|          | 0/38 [00:00<?, ?it/s]"
     ]
    },
    {
     "name": "stdout",
     "output_type": "stream",
     "text": [
      "[INFO] Target query:  ['<SOS>', 'cut', 'chord', 'chart', '<POS>', 'yahoo', '<POS>', 'c', 'van', '<POS>', 'crown', 'point', 'in', 'real', 'estate', '<EOS>', '*', '*', '*', '*', '*', '*', '*', '*', '*', '*', '*', '*', '*', '*', '*', '*', '*', '*', '*', '*', '*', '*', '*', '*', '*', '*', '*', '*', '*', '*', '*', '*', '*', '*', '*', '*', '*', '*', '*', '*', '*', '*', '*', '*', '*', '*', '*', '*', '*', '*', '*', '*', '*', '*', '*', '*']\n",
      "[INFO] Predicted query:  ['<SOS>', 'canine', 'r', 'picture', '<POS>', 'pregnant', '<POS>', 'breast', 'r', '<POS>', 'be', 'picture', 'in', 'be', 'pregnant', '<EOS>', '*', '*', '*', '*', '*', '*', '*', '*', '*', '*', '*', '*', '*', '*', '*', '*', '*', '*', '*', '*', '*', '*', '*', '*', '*', '*', '*', '*', '*', '*', '*', '*', '*', '*', '*', '*', '*', '*', '*', '*', '*', '*', '*', '*', '*', '*', '*', '*', '*', '*', '*', '*', '*', '*', '*', '*']\n",
      "[INFO] End epoch [51], train Loss: 0.4272, test loss: 0.4259\n",
      "[INFO] Start epoch [52] ...\n"
     ]
    },
    {
     "name": "stderr",
     "output_type": "stream",
     "text": [
      "100%|██████████| 38/38 [00:11<00:00,  3.42it/s]\n",
      " 10%|█         | 1/10 [00:00<00:01,  7.06it/s]"
     ]
    },
    {
     "name": "stdout",
     "output_type": "stream",
     "text": [
      "[INFO] Target query:  ['<SOS>', 'department', 'of', 'public', 'safety', '<POS>', 'escort', '<POS>', 'battleship', 'model', '<POS>', 'battleship', 'model', 'kit', '<EOS>', '*', '*', '*', '*', '*', '*', '*', '*', '*', '*', '*', '*', '*', '*', '*', '*', '*', '*', '*', '*', '*', '*', '*', '*', '*', '*', '*', '*', '*', '*', '*', '*', '*', '*', '*', '*', '*', '*', '*', '*', '*', '*', '*', '*', '*', '*', '*', '*', '*', '*', '*', '*', '*', '*', '*', '*', '*']\n",
      "[INFO] Predicted query:  ['<SOS>', 'week', 'of', 'cat', 'in', '<POS>', 'pregnancy', '<POS>', 'pregnancy', 'in', '<POS>', 'pregnancy', 'in', 'be', '<EOS>', '*', '*', '*', '*', '*', '*', '*', '*', '*', '*', '*', '*', '*', '*', '*', '*', '*', '*', '*', '*', '*', '*', '*', '*', '*', '*', '*', '*', '*', '*', '*', '*', '*', '*', '*', '*', '*', '*', '*', '*', '*', '*', '*', '*', '*', '*', '*', '*', '*', '*', '*', '*', '*', '*', '*', '*', '*']\n"
     ]
    },
    {
     "name": "stderr",
     "output_type": "stream",
     "text": [
      "100%|██████████| 10/10 [00:01<00:00,  8.55it/s]\n",
      "  0%|          | 0/38 [00:00<?, ?it/s]"
     ]
    },
    {
     "name": "stdout",
     "output_type": "stream",
     "text": [
      "[INFO] Target query:  ['<SOS>', 'safety', 'razor', 'antique', '<POS>', 'safety', 'razor', 'antique', '<POS>', 'valet', 'auto', 'strop', 'razor', '<EOS>', '*', '*', '*', '*', '*', '*', '*', '*', '*', '*', '*', '*', '*', '*', '*', '*', '*', '*', '*', '*', '*', '*', '*', '*', '*', '*', '*', '*', '*', '*', '*', '*', '*', '*', '*', '*', '*', '*', '*', '*', '*', '*', '*', '*', '*', '*', '*', '*', '*', '*', '*', '*', '*', '*', '*', '*', '*', '*']\n",
      "[INFO] Predicted query:  ['<SOS>', 'in', '<POS>', 'cat', '<POS>', '<POS>', '<POS>', 'cat', '<POS>', 'with', 'pregnancy', 'pregnancy', '<POS>', '<EOS>', '*', '*', '*', '*', '*', '*', '*', '*', '*', '*', '*', '*', '*', '*', '*', '*', '*', '*', '*', '*', '*', '*', '*', '*', '*', '*', '*', '*', '*', '*', '*', '*', '*', '*', '*', '*', '*', '*', '*', '*', '*', '*', '*', '*', '*', '*', '*', '*', '*', '*', '*', '*', '*', '*', '*', '*', '*', '*']\n",
      "[INFO] End epoch [52], train Loss: 0.4257, test loss: 0.4234\n",
      "[INFO] Start epoch [53] ...\n"
     ]
    },
    {
     "name": "stderr",
     "output_type": "stream",
     "text": [
      "100%|██████████| 38/38 [00:11<00:00,  3.44it/s]\n",
      " 10%|█         | 1/10 [00:00<00:01,  7.35it/s]"
     ]
    },
    {
     "name": "stdout",
     "output_type": "stream",
     "text": [
      "[INFO] Target query:  ['<SOS>', 'baby', 'trend', '<POS>', 'baby', 'trend', 'car', 'seat', '<POS>', 'baby', 'trend', 'flex', '<POS>', 'baby', '<POS>', 'baby', 'predictor', '<POS>', 'week', 'pregnant', '<EOS>', '*', '*', '*', '*', '*', '*', '*', '*', '*', '*', '*', '*', '*', '*', '*', '*', '*', '*', '*', '*', '*', '*', '*', '*', '*', '*', '*', '*', '*', '*', '*', '*', '*', '*', '*', '*', '*', '*', '*', '*', '*', '*', '*', '*', '*', '*', '*', '*', '*', '*', '*']\n",
      "[INFO] Predicted query:  ['<SOS>', 'baby', 'shower', '<POS>', 'baby', 'shower', 'county', 'pregnancy', '<POS>', 'baby', 'shower', 'in', '<POS>', 'baby', '<POS>', 'baby', 'county', '<POS>', 'week', 'pregnant', '<EOS>', '*', '*', '*', '*', '*', '*', '*', '*', '*', '*', '*', '*', '*', '*', '*', '*', '*', '*', '*', '*', '*', '*', '*', '*', '*', '*', '*', '*', '*', '*', '*', '*', '*', '*', '*', '*', '*', '*', '*', '*', '*', '*', '*', '*', '*', '*', '*', '*', '*', '*', '*']\n"
     ]
    },
    {
     "name": "stderr",
     "output_type": "stream",
     "text": [
      "100%|██████████| 10/10 [00:01<00:00,  8.67it/s]\n",
      "  0%|          | 0/38 [00:00<?, ?it/s]"
     ]
    },
    {
     "name": "stdout",
     "output_type": "stream",
     "text": [
      "[INFO] Target query:  ['<SOS>', 'baby', 'due', 'date', '<POS>', 'pregnancy', 'hormone', 'level', '<POS>', 'hormone', 'level', 'in', 'pregnancy', '<POS>', 'low', 'hormone', 'level', 'in', 'early', 'pregnancy', '<EOS>', '*', '*', '*', '*', '*', '*', '*', '*', '*', '*', '*', '*', '*', '*', '*', '*', '*', '*', '*', '*', '*', '*', '*', '*', '*', '*', '*', '*', '*', '*', '*', '*', '*', '*', '*', '*', '*', '*', '*', '*', '*', '*', '*', '*', '*', '*', '*', '*', '*', '*', '*']\n",
      "[INFO] Predicted query:  ['<SOS>', 'baby', 'county', 'pregnancy', '<POS>', 'pregnancy', 'pregnancy', 'pregnancy', '<POS>', 'county', 'pregnancy', 'in', 'pregnancy', '<POS>', '<POS>', 'county', 'pregnancy', 'in', 'be', 'pregnancy', '<EOS>', '*', '*', '*', '*', '*', '*', '*', '*', '*', '*', '*', '*', '*', '*', '*', '*', '*', '*', '*', '*', '*', '*', '*', '*', '*', '*', '*', '*', '*', '*', '*', '*', '*', '*', '*', '*', '*', '*', '*', '*', '*', '*', '*', '*', '*', '*', '*', '*', '*', '*', '*']\n",
      "[INFO] End epoch [53], train Loss: 0.4254, test loss: 0.4232\n",
      "[INFO] Start epoch [54] ...\n"
     ]
    },
    {
     "name": "stderr",
     "output_type": "stream",
     "text": [
      "100%|██████████| 38/38 [00:11<00:00,  3.45it/s]\n",
      " 10%|█         | 1/10 [00:00<00:01,  7.44it/s]"
     ]
    },
    {
     "name": "stdout",
     "output_type": "stream",
     "text": [
      "[INFO] Target query:  ['<SOS>', 'significant', 'event', 'during', 'each', 'month', 'of', 'pregnancy', '<POS>', 'picture', 'of', 'significant', 'event', 'during', 'each', 'month', 'of', 'pregnancy', '<EOS>', '*', '*', '*', '*', '*', '*', '*', '*', '*', '*', '*', '*', '*', '*', '*', '*', '*', '*', '*', '*', '*', '*', '*', '*', '*', '*', '*', '*', '*', '*', '*', '*', '*', '*', '*', '*', '*', '*', '*', '*', '*', '*', '*', '*', '*', '*', '*', '*', '*', '*', '*', '*', '*']\n",
      "[INFO] Predicted query:  ['<SOS>', 'dog', 'dog', 'during', 'pregnancy', 'pregnancy', 'of', 'pregnancy', '<POS>', 'picture', 'of', 'dog', 'dog', 'during', 'pregnancy', 'pregnancy', 'of', 'pregnancy', '<EOS>', '*', '*', '*', '*', '*', '*', '*', '*', '*', '*', '*', '*', '*', '*', '*', '*', '*', '*', '*', '*', '*', '*', '*', '*', '*', '*', '*', '*', '*', '*', '*', '*', '*', '*', '*', '*', '*', '*', '*', '*', '*', '*', '*', '*', '*', '*', '*', '*', '*', '*', '*', '*', '*']\n"
     ]
    },
    {
     "name": "stderr",
     "output_type": "stream",
     "text": [
      "100%|██████████| 10/10 [00:01<00:00,  8.66it/s]\n",
      "  0%|          | 0/38 [00:00<?, ?it/s]"
     ]
    },
    {
     "name": "stdout",
     "output_type": "stream",
     "text": [
      "[INFO] Target query:  ['<SOS>', 'how', 'to', 'throw', 'a', 'baby', 'shower', '<POS>', 'low', 'cost', 'baby', 'shower', '<POS>', 'baby', 'shower', 'theme', '<POS>', 'baby', 'furniture', '<POS>', 'pregnancy', 'tip', '<POS>', 'pro', 'and', 'con', 'of', 'breast', 'feeding', '<EOS>', '*', '*', '*', '*', '*', '*', '*', '*', '*', '*', '*', '*', '*', '*', '*', '*', '*', '*', '*', '*', '*', '*', '*', '*', '*', '*', '*', '*', '*', '*', '*', '*', '*', '*', '*', '*', '*', '*', '*', '*', '*', '*']\n",
      "[INFO] Predicted query:  ['<SOS>', 'how', 'to', 'dog', 'a', 'baby', 'shower', '<POS>', 'dog', 'pregnancy', 'baby', 'shower', '<POS>', 'baby', 'shower', 'breast', '<POS>', 'baby', 'furniture', '<POS>', 'pregnancy', 'dog', '<POS>', 'dog', 'and', 'dog', 'of', 'breast', 'dog', '<EOS>', '*', '*', '*', '*', '*', '*', '*', '*', '*', '*', '*', '*', '*', '*', '*', '*', '*', '*', '*', '*', '*', '*', '*', '*', '*', '*', '*', '*', '*', '*', '*', '*', '*', '*', '*', '*', '*', '*', '*', '*', '*', '*']\n",
      "[INFO] End epoch [54], train Loss: 0.4251, test loss: 0.4229\n",
      "[INFO] Start epoch [55] ...\n"
     ]
    },
    {
     "name": "stderr",
     "output_type": "stream",
     "text": [
      "100%|██████████| 38/38 [00:11<00:00,  3.45it/s]\n",
      " 10%|█         | 1/10 [00:00<00:01,  7.35it/s]"
     ]
    },
    {
     "name": "stdout",
     "output_type": "stream",
     "text": [
      "[INFO] Target query:  ['<SOS>', 'prayer', 'of', 'for', 'people', 'with', 'cancer', '<POS>', 'prayer', 'of', 'healing', 'cancer', '<EOS>', '*', '*', '*', '*', '*', '*', '*', '*', '*', '*', '*', '*', '*', '*', '*', '*', '*', '*', '*', '*', '*', '*', '*', '*', '*', '*', '*', '*', '*', '*', '*', '*', '*', '*', '*', '*', '*', '*', '*', '*', '*', '*', '*', '*', '*', '*', '*', '*', '*', '*', '*', '*', '*', '*', '*', '*', '*', '*', '*']\n",
      "[INFO] Predicted query:  ['<SOS>', 'at', 'of', 'for', 'at', 'with', 'cancer', '<POS>', 'at', 'of', 'at', 'cancer', '<EOS>', '*', '*', '*', '*', '*', '*', '*', '*', '*', '*', '*', '*', '*', '*', '*', '*', '*', '*', '*', '*', '*', '*', '*', '*', '*', '*', '*', '*', '*', '*', '*', '*', '*', '*', '*', '*', '*', '*', '*', '*', '*', '*', '*', '*', '*', '*', '*', '*', '*', '*', '*', '*', '*', '*', '*', '*', '*', '*', '*']\n"
     ]
    },
    {
     "name": "stderr",
     "output_type": "stream",
     "text": [
      "100%|██████████| 10/10 [00:01<00:00,  8.67it/s]\n",
      "  0%|          | 0/38 [00:00<?, ?it/s]"
     ]
    },
    {
     "name": "stdout",
     "output_type": "stream",
     "text": [
      "[INFO] Target query:  ['<SOS>', 'be', 'spear', 'pregnant', 'again', '<POS>', 'pregnancy', '<POS>', 'pregnancy', 'calendar', '<POS>', 'ha', 'her', 'baby', '<POS>', 'baby', 'be', 'born', '<POS>', 'pregnancy', 'calendar', '<POS>', 'how', 'to', 'get', 'pregnant', '<POS>', 'when', 'to', 'get', 'pregnant', '<EOS>', '*', '*', '*', '*', '*', '*', '*', '*', '*', '*', '*', '*', '*', '*', '*', '*', '*', '*', '*', '*', '*', '*', '*', '*', '*', '*', '*', '*', '*', '*', '*', '*', '*', '*', '*', '*', '*', '*', '*', '*']\n",
      "[INFO] Predicted query:  ['<SOS>', 'be', 'shower', 'pregnant', 'at', '<POS>', 'pregnancy', '<POS>', 'pregnancy', 'lymphoma', '<POS>', 'lymphoma', 'at', 'baby', '<POS>', 'baby', 'be', 'lymphoma', '<POS>', 'pregnancy', 'lymphoma', '<POS>', 'how', 'to', 'lymphoma', 'pregnant', '<POS>', 'at', 'to', 'lymphoma', 'pregnant', '<EOS>', '*', '*', '*', '*', '*', '*', '*', '*', '*', '*', '*', '*', '*', '*', '*', '*', '*', '*', '*', '*', '*', '*', '*', '*', '*', '*', '*', '*', '*', '*', '*', '*', '*', '*', '*', '*', '*', '*', '*', '*']\n",
      "[INFO] End epoch [55], train Loss: 0.4247, test loss: 0.4218\n",
      "[INFO] Start epoch [56] ...\n"
     ]
    },
    {
     "name": "stderr",
     "output_type": "stream",
     "text": [
      "100%|██████████| 38/38 [00:11<00:00,  3.45it/s]\n",
      " 10%|█         | 1/10 [00:00<00:01,  7.37it/s]"
     ]
    },
    {
     "name": "stdout",
     "output_type": "stream",
     "text": [
      "[INFO] Target query:  ['<SOS>', 'treatment', 'for', 'metastatic', 'bone', 'cancer', '<POS>', 'annual', 'continue', 'education', '<POS>', 'annual', 'meeting', '<POS>', 'breast', 'cancer', 'annual', 'meeting', '<EOS>', '*', '*', '*', '*', '*', '*', '*', '*', '*', '*', '*', '*', '*', '*', '*', '*', '*', '*', '*', '*', '*', '*', '*', '*', '*', '*', '*', '*', '*', '*', '*', '*', '*', '*', '*', '*', '*', '*', '*', '*', '*', '*', '*', '*', '*', '*', '*', '*', '*', '*', '*', '*', '*']\n",
      "[INFO] Predicted query:  ['<SOS>', 'pregnancy', 'for', 'breast', 'pregnant', 'cancer', '<POS>', 'canine', '<POS>', 'cancer', '<POS>', 'canine', '<POS>', '<POS>', 'breast', 'cancer', 'canine', '<POS>', '<EOS>', '*', '*', '*', '*', '*', '*', '*', '*', '*', '*', '*', '*', '*', '*', '*', '*', '*', '*', '*', '*', '*', '*', '*', '*', '*', '*', '*', '*', '*', '*', '*', '*', '*', '*', '*', '*', '*', '*', '*', '*', '*', '*', '*', '*', '*', '*', '*', '*', '*', '*', '*', '*', '*']\n"
     ]
    },
    {
     "name": "stderr",
     "output_type": "stream",
     "text": [
      "100%|██████████| 10/10 [00:01<00:00,  8.52it/s]\n",
      "  0%|          | 0/38 [00:00<?, ?it/s]"
     ]
    },
    {
     "name": "stdout",
     "output_type": "stream",
     "text": [
      "[INFO] Target query:  ['<SOS>', 'breast', '<POS>', 'breast', 'cancer', '<POS>', 'breast', '<POS>', 'breast', 'run', '<POS>', 'breast', 'cancer', 'run', '<POS>', 'breast', 'cancer', 'run', '<EOS>', '*', '*', '*', '*', '*', '*', '*', '*', '*', '*', '*', '*', '*', '*', '*', '*', '*', '*', '*', '*', '*', '*', '*', '*', '*', '*', '*', '*', '*', '*', '*', '*', '*', '*', '*', '*', '*', '*', '*', '*', '*', '*', '*', '*', '*', '*', '*', '*', '*', '*', '*', '*', '*']\n",
      "[INFO] Predicted query:  ['<SOS>', 'breast', '<POS>', 'breast', 'cancer', '<POS>', 'breast', '<POS>', 'breast', 'lymphoma', '<POS>', 'breast', 'cancer', 'lymphoma', '<POS>', 'breast', 'cancer', 'lymphoma', '<EOS>', '*', '*', '*', '*', '*', '*', '*', '*', '*', '*', '*', '*', '*', '*', '*', '*', '*', '*', '*', '*', '*', '*', '*', '*', '*', '*', '*', '*', '*', '*', '*', '*', '*', '*', '*', '*', '*', '*', '*', '*', '*', '*', '*', '*', '*', '*', '*', '*', '*', '*', '*', '*', '*']\n",
      "[INFO] End epoch [56], train Loss: 0.4241, test loss: 0.4218\n",
      "[INFO] Start epoch [57] ...\n"
     ]
    },
    {
     "name": "stderr",
     "output_type": "stream",
     "text": [
      "100%|██████████| 38/38 [00:11<00:00,  3.35it/s]\n",
      " 10%|█         | 1/10 [00:00<00:01,  7.53it/s]"
     ]
    },
    {
     "name": "stdout",
     "output_type": "stream",
     "text": [
      "[INFO] Target query:  ['<SOS>', 'gene', 'for', 'beast', 'cancer', '<POS>', 'cancer', 'society', '<POS>', 'cancer', 'center', '<POS>', 'memorial', 'sloan', 'cancer', 'center', '<EOS>', '*', '*', '*', '*', '*', '*', '*', '*', '*', '*', '*', '*', '*', '*', '*', '*', '*', '*', '*', '*', '*', '*', '*', '*', '*', '*', '*', '*', '*', '*', '*', '*', '*', '*', '*', '*', '*', '*', '*', '*', '*', '*', '*', '*', '*', '*', '*', '*', '*', '*', '*', '*', '*', '*', '*']\n",
      "[INFO] Predicted query:  ['<SOS>', 'cancer', 'for', 'feeding', 'cancer', '<POS>', 'cancer', 'society', '<POS>', 'cancer', 'doe', '<POS>', '<POS>', 'pregnancy', 'cancer', 'doe', '<EOS>', '*', '*', '*', '*', '*', '*', '*', '*', '*', '*', '*', '*', '*', '*', '*', '*', '*', '*', '*', '*', '*', '*', '*', '*', '*', '*', '*', '*', '*', '*', '*', '*', '*', '*', '*', '*', '*', '*', '*', '*', '*', '*', '*', '*', '*', '*', '*', '*', '*', '*', '*', '*', '*', '*', '*']\n"
     ]
    },
    {
     "name": "stderr",
     "output_type": "stream",
     "text": [
      "100%|██████████| 10/10 [00:01<00:00,  8.73it/s]\n",
      "  0%|          | 0/38 [00:00<?, ?it/s]"
     ]
    },
    {
     "name": "stdout",
     "output_type": "stream",
     "text": [
      "[INFO] Target query:  ['<SOS>', 'baby', 'quilt', 'pattern', '<POS>', 'baby', 'quilt', 'pattern', '<POS>', 'ocean', 'wave', 'baby', 'quilt', '<POS>', 'ocean', 'wave', 'baby', 'quilt', 'pattern', '<EOS>', '*', '*', '*', '*', '*', '*', '*', '*', '*', '*', '*', '*', '*', '*', '*', '*', '*', '*', '*', '*', '*', '*', '*', '*', '*', '*', '*', '*', '*', '*', '*', '*', '*', '*', '*', '*', '*', '*', '*', '*', '*', '*', '*', '*', '*', '*', '*', '*', '*', '*', '*', '*']\n",
      "[INFO] Predicted query:  ['<SOS>', 'baby', 'ovarian', 'feeding', '<POS>', 'baby', 'ovarian', 'feeding', '<POS>', 'lymphoma', 'feeding', 'baby', 'ovarian', '<POS>', 'lymphoma', 'feeding', 'baby', 'ovarian', 'feeding', '<EOS>', '*', '*', '*', '*', '*', '*', '*', '*', '*', '*', '*', '*', '*', '*', '*', '*', '*', '*', '*', '*', '*', '*', '*', '*', '*', '*', '*', '*', '*', '*', '*', '*', '*', '*', '*', '*', '*', '*', '*', '*', '*', '*', '*', '*', '*', '*', '*', '*', '*', '*', '*', '*']\n",
      "[INFO] End epoch [57], train Loss: 0.4239, test loss: 0.4216\n",
      "[INFO] Start epoch [58] ...\n"
     ]
    },
    {
     "name": "stderr",
     "output_type": "stream",
     "text": [
      "100%|██████████| 38/38 [00:11<00:00,  3.44it/s]\n",
      " 10%|█         | 1/10 [00:00<00:01,  7.35it/s]"
     ]
    },
    {
     "name": "stdout",
     "output_type": "stream",
     "text": [
      "[INFO] Target query:  ['<SOS>', 'hip', 'thigh', '<POS>', 'fur', '<POS>', 'sound', 'track', 'to', 'the', 'wedding', 'singer', '<POS>', 'theme', 'from', 'charm', '<EOS>', '*', '*', '*', '*', '*', '*', '*', '*', '*', '*', '*', '*', '*', '*', '*', '*', '*', '*', '*', '*', '*', '*', '*', '*', '*', '*', '*', '*', '*', '*', '*', '*', '*', '*', '*', '*', '*', '*', '*', '*', '*', '*', '*', '*', '*', '*', '*', '*', '*', '*', '*', '*', '*', '*', '*']\n",
      "[INFO] Predicted query:  ['<SOS>', 'symptom', 'pregnancy', '<POS>', 'pregnancy', '<POS>', 'symptom', 'pregnancy', 'to', 'the', 'wedding', 'symptom', '<POS>', 'symptom', 'symptom', 'news', '<EOS>', '*', '*', '*', '*', '*', '*', '*', '*', '*', '*', '*', '*', '*', '*', '*', '*', '*', '*', '*', '*', '*', '*', '*', '*', '*', '*', '*', '*', '*', '*', '*', '*', '*', '*', '*', '*', '*', '*', '*', '*', '*', '*', '*', '*', '*', '*', '*', '*', '*', '*', '*', '*', '*', '*', '*']\n"
     ]
    },
    {
     "name": "stderr",
     "output_type": "stream",
     "text": [
      "100%|██████████| 10/10 [00:01<00:00,  8.74it/s]\n",
      "  0%|          | 0/38 [00:00<?, ?it/s]"
     ]
    },
    {
     "name": "stdout",
     "output_type": "stream",
     "text": [
      "[INFO] Target query:  ['<SOS>', 'cancer', 'treatment', '<POS>', 'cancer', '<POS>', 'cancer', 'china', '<POS>', 'pancreatic', 'cancer', 'study', '<POS>', 'pancreatic', 'carcinoma', 'clinical', 'trial', '<POS>', 'pancreatic', 'cancer', 'university', 'of', '<POS>', 'pancreatic', 'cancer', 'vitamin', 'c', 'intravenous', '<POS>', 'cancer', 'hospital', '<EOS>', '*', '*', '*', '*', '*', '*', '*', '*', '*', '*', '*', '*', '*', '*', '*', '*', '*', '*', '*', '*', '*', '*', '*', '*', '*', '*', '*', '*', '*', '*', '*', '*', '*', '*', '*', '*', '*', '*', '*', '*']\n",
      "[INFO] Predicted query:  ['<SOS>', 'cancer', 'pregnancy', '<POS>', 'cancer', '<POS>', 'cancer', 'symptom', '<POS>', 'symptom', 'cancer', 'gap', '<POS>', 'symptom', 'pregnancy', 'symptom', 'gap', '<POS>', 'symptom', 'cancer', 'news', 'of', '<POS>', 'symptom', 'cancer', 'symptom', 'symptom', 'symptom', '<POS>', 'cancer', 'symptom', '<EOS>', '*', '*', '*', '*', '*', '*', '*', '*', '*', '*', '*', '*', '*', '*', '*', '*', '*', '*', '*', '*', '*', '*', '*', '*', '*', '*', '*', '*', '*', '*', '*', '*', '*', '*', '*', '*', '*', '*', '*', '*']\n",
      "[INFO] End epoch [58], train Loss: 0.4234, test loss: 0.4208\n",
      "[INFO] Start epoch [59] ...\n"
     ]
    },
    {
     "name": "stderr",
     "output_type": "stream",
     "text": [
      "100%|██████████| 38/38 [00:11<00:00,  3.44it/s]\n",
      " 10%|█         | 1/10 [00:00<00:01,  7.47it/s]"
     ]
    },
    {
     "name": "stdout",
     "output_type": "stream",
     "text": [
      "[INFO] Target query:  ['<SOS>', 'baby', 'x', 'men', '<POS>', 'which', 'baby', 'x', 'men', 'are', 'you', '<POS>', 'which', 'baby', 'x', 'men', 'are', 'you', 'quiz', '<EOS>', '*', '*', '*', '*', '*', '*', '*', '*', '*', '*', '*', '*', '*', '*', '*', '*', '*', '*', '*', '*', '*', '*', '*', '*', '*', '*', '*', '*', '*', '*', '*', '*', '*', '*', '*', '*', '*', '*', '*', '*', '*', '*', '*', '*', '*', '*', '*', '*', '*', '*', '*', '*']\n",
      "[INFO] Predicted query:  ['<SOS>', 'baby', 'feeding', '<POS>', '<POS>', '<POS>', 'baby', 'feeding', '<POS>', '*', '<POS>', '<POS>', '<POS>', 'baby', 'feeding', '<POS>', '*', '<POS>', 'national', '<EOS>', '*', '*', '*', '*', '*', '*', '*', '*', '*', '*', '*', '*', '*', '*', '*', '*', '*', '*', '*', '*', '*', '*', '*', '*', '*', '*', '*', '*', '*', '*', '*', '*', '*', '*', '*', '*', '*', '*', '*', '*', '*', '*', '*', '*', '*', '*', '*', '*', '*', '*', '*', '*']\n"
     ]
    },
    {
     "name": "stderr",
     "output_type": "stream",
     "text": [
      "100%|██████████| 10/10 [00:01<00:00,  8.73it/s]\n",
      "  0%|          | 0/38 [00:00<?, ?it/s]"
     ]
    },
    {
     "name": "stdout",
     "output_type": "stream",
     "text": [
      "[INFO] Target query:  ['<SOS>', 'unite', 'state', 'post', 'office', '<POS>', 'military', 'entrance', 'station', '<POS>', 'military', 'entrance', 'station', '<POS>', 'collier', 'county', 'job', '<EOS>', '*', '*', '*', '*', '*', '*', '*', '*', '*', '*', '*', '*', '*', '*', '*', '*', '*', '*', '*', '*', '*', '*', '*', '*', '*', '*', '*', '*', '*', '*', '*', '*', '*', '*', '*', '*', '*', '*', '*', '*', '*', '*', '*', '*', '*', '*', '*', '*', '*', '*', '*', '*', '*', '*']\n",
      "[INFO] Predicted query:  ['<SOS>', 'cancer', 'new', 'shower', 'symptom', '<POS>', '<POS>', 'symptom', 'new', '<POS>', '<POS>', 'symptom', 'new', '<POS>', 'new', 'county', '<POS>', '<EOS>', '*', '*', '*', '*', '*', '*', '*', '*', '*', '*', '*', '*', '*', '*', '*', '*', '*', '*', '*', '*', '*', '*', '*', '*', '*', '*', '*', '*', '*', '*', '*', '*', '*', '*', '*', '*', '*', '*', '*', '*', '*', '*', '*', '*', '*', '*', '*', '*', '*', '*', '*', '*', '*', '*']\n",
      "[INFO] End epoch [59], train Loss: 0.4229, test loss: 0.4205\n",
      "[INFO] Start epoch [60] ...\n"
     ]
    },
    {
     "name": "stderr",
     "output_type": "stream",
     "text": [
      "100%|██████████| 38/38 [00:11<00:00,  3.45it/s]\n",
      " 10%|█         | 1/10 [00:00<00:01,  7.54it/s]"
     ]
    },
    {
     "name": "stdout",
     "output_type": "stream",
     "text": [
      "[INFO] Target query:  ['<SOS>', 'i', 'rock', 'my', 'baby', 'and', 'baby', 'do', 'keep', '<POS>', 'baby', 'development', 'stage', '<EOS>', '*', '*', '*', '*', '*', '*', '*', '*', '*', '*', '*', '*', '*', '*', '*', '*', '*', '*', '*', '*', '*', '*', '*', '*', '*', '*', '*', '*', '*', '*', '*', '*', '*', '*', '*', '*', '*', '*', '*', '*', '*', '*', '*', '*', '*', '*', '*', '*', '*', '*', '*', '*', '*', '*', '*', '*', '*', '*']\n",
      "[INFO] Predicted query:  ['<SOS>', 'i', 'pregnancy', 'i', 'baby', 'and', 'baby', 'i', 'i', '<POS>', 'baby', '<POS>', 'i', '<EOS>', '*', '*', '*', '*', '*', '*', '*', '*', '*', '*', '*', '*', '*', '*', '*', '*', '*', '*', '*', '*', '*', '*', '*', '*', '*', '*', '*', '*', '*', '*', '*', '*', '*', '*', '*', '*', '*', '*', '*', '*', '*', '*', '*', '*', '*', '*', '*', '*', '*', '*', '*', '*', '*', '*', '*', '*', '*', '*']\n"
     ]
    },
    {
     "name": "stderr",
     "output_type": "stream",
     "text": [
      "100%|██████████| 10/10 [00:01<00:00,  8.76it/s]\n",
      "  0%|          | 0/38 [00:00<?, ?it/s]"
     ]
    },
    {
     "name": "stdout",
     "output_type": "stream",
     "text": [
      "[INFO] Target query:  ['<SOS>', 'how', 'are', 'tumor', 'treat', 'in', 'the', 'knee', '<POS>', 'how', 'are', 'tumor', 'treat', 'on', 'the', 'back', 'of', 'the', 'knee', '<EOS>', '*', '*', '*', '*', '*', '*', '*', '*', '*', '*', '*', '*', '*', '*', '*', '*', '*', '*', '*', '*', '*', '*', '*', '*', '*', '*', '*', '*', '*', '*', '*', '*', '*', '*', '*', '*', '*', '*', '*', '*', '*', '*', '*', '*', '*', '*', '*', '*', '*', '*', '*', '*']\n",
      "[INFO] Predicted query:  ['<SOS>', 'how', 'are', 'tumor', 'you', 'in', 'the', 'i', '<POS>', 'how', 'are', 'tumor', 'you', 'i', 'the', 'i', 'of', 'the', 'i', '<EOS>', '*', '*', '*', '*', '*', '*', '*', '*', '*', '*', '*', '*', '*', '*', '*', '*', '*', '*', '*', '*', '*', '*', '*', '*', '*', '*', '*', '*', '*', '*', '*', '*', '*', '*', '*', '*', '*', '*', '*', '*', '*', '*', '*', '*', '*', '*', '*', '*', '*', '*', '*', '*']\n",
      "[INFO] End epoch [60], train Loss: 0.4220, test loss: 0.4191\n",
      "[INFO] Start epoch [61] ...\n"
     ]
    },
    {
     "name": "stderr",
     "output_type": "stream",
     "text": [
      "100%|██████████| 38/38 [00:11<00:00,  3.45it/s]\n",
      " 10%|█         | 1/10 [00:00<00:01,  7.53it/s]"
     ]
    },
    {
     "name": "stdout",
     "output_type": "stream",
     "text": [
      "[INFO] Target query:  ['<SOS>', 'c', '<POS>', 'diet', 'and', 'exercise', '<POS>', 'weight', 'loss', '<POS>', 'dance', 'lesson', 'in', 'mi', '<EOS>', '*', '*', '*', '*', '*', '*', '*', '*', '*', '*', '*', '*', '*', '*', '*', '*', '*', '*', '*', '*', '*', '*', '*', '*', '*', '*', '*', '*', '*', '*', '*', '*', '*', '*', '*', '*', '*', '*', '*', '*', '*', '*', '*', '*', '*', '*', '*', '*', '*', '*', '*', '*', '*', '*', '*', '*', '*']\n",
      "[INFO] Predicted query:  ['<SOS>', 'breast', '<POS>', 'in', 'and', 'period', '<POS>', '<POS>', 'cancer', '<POS>', 'with', 'national', 'in', 'for', '<EOS>', '*', '*', '*', '*', '*', '*', '*', '*', '*', '*', '*', '*', '*', '*', '*', '*', '*', '*', '*', '*', '*', '*', '*', '*', '*', '*', '*', '*', '*', '*', '*', '*', '*', '*', '*', '*', '*', '*', '*', '*', '*', '*', '*', '*', '*', '*', '*', '*', '*', '*', '*', '*', '*', '*', '*', '*', '*']\n"
     ]
    },
    {
     "name": "stderr",
     "output_type": "stream",
     "text": [
      "100%|██████████| 10/10 [00:01<00:00,  8.71it/s]\n",
      "  0%|          | 0/38 [00:00<?, ?it/s]"
     ]
    },
    {
     "name": "stdout",
     "output_type": "stream",
     "text": [
      "[INFO] Target query:  ['<SOS>', 'switching', 'baby', 'formula', '<POS>', 'how', 'much', 'should', 'a', 'old', 'baby', 'be', 'drinking', '<POS>', 'and', 'pregnancy', '<EOS>', '*', '*', '*', '*', '*', '*', '*', '*', '*', '*', '*', '*', '*', '*', '*', '*', '*', '*', '*', '*', '*', '*', '*', '*', '*', '*', '*', '*', '*', '*', '*', '*', '*', '*', '*', '*', '*', '*', '*', '*', '*', '*', '*', '*', '*', '*', '*', '*', '*', '*', '*', '*', '*', '*', '*']\n",
      "[INFO] Predicted query:  ['<SOS>', 'for', 'baby', '<POS>', '<POS>', 'how', '<POS>', 'should', 'a', 'pregnancy', 'baby', 'be', 'i', '<POS>', 'and', 'pregnancy', '<EOS>', '*', '*', '*', '*', '*', '*', '*', '*', '*', '*', '*', '*', '*', '*', '*', '*', '*', '*', '*', '*', '*', '*', '*', '*', '*', '*', '*', '*', '*', '*', '*', '*', '*', '*', '*', '*', '*', '*', '*', '*', '*', '*', '*', '*', '*', '*', '*', '*', '*', '*', '*', '*', '*', '*', '*']\n",
      "[INFO] End epoch [61], train Loss: 0.4212, test loss: 0.4190\n",
      "[INFO] Start epoch [62] ...\n"
     ]
    },
    {
     "name": "stderr",
     "output_type": "stream",
     "text": [
      "100%|██████████| 38/38 [00:10<00:00,  3.46it/s]\n",
      " 10%|█         | 1/10 [00:00<00:01,  7.48it/s]"
     ]
    },
    {
     "name": "stdout",
     "output_type": "stream",
     "text": [
      "[INFO] Target query:  ['<SOS>', 'how', 'do', 'you', 'get', 'a', 'girl', 'to', 'like', 'you', '<POS>', 'goo', '<EOS>', '*', '*', '*', '*', '*', '*', '*', '*', '*', '*', '*', '*', '*', '*', '*', '*', '*', '*', '*', '*', '*', '*', '*', '*', '*', '*', '*', '*', '*', '*', '*', '*', '*', '*', '*', '*', '*', '*', '*', '*', '*', '*', '*', '*', '*', '*', '*', '*', '*', '*', '*', '*', '*', '*', '*', '*', '*', '*', '*']\n",
      "[INFO] Predicted query:  ['<SOS>', 'how', 'stage', 'you', 'get', 'a', 'stage', 'to', 'shower', 'you', '<POS>', '<POS>', '<EOS>', '*', '*', '*', '*', '*', '*', '*', '*', '*', '*', '*', '*', '*', '*', '*', '*', '*', '*', '*', '*', '*', '*', '*', '*', '*', '*', '*', '*', '*', '*', '*', '*', '*', '*', '*', '*', '*', '*', '*', '*', '*', '*', '*', '*', '*', '*', '*', '*', '*', '*', '*', '*', '*', '*', '*', '*', '*', '*', '*']\n"
     ]
    },
    {
     "name": "stderr",
     "output_type": "stream",
     "text": [
      "100%|██████████| 10/10 [00:01<00:00,  8.73it/s]\n",
      "  0%|          | 0/38 [00:00<?, ?it/s]"
     ]
    },
    {
     "name": "stdout",
     "output_type": "stream",
     "text": [
      "[INFO] Target query:  ['<SOS>', 'intraocular', 'lens', 'edge', 'glare', '<POS>', 'optic', 'edge', '<POS>', 'side', 'effects', 'of', 'intraocular', 'lens', 'implant', '<EOS>', '*', '*', '*', '*', '*', '*', '*', '*', '*', '*', '*', '*', '*', '*', '*', '*', '*', '*', '*', '*', '*', '*', '*', '*', '*', '*', '*', '*', '*', '*', '*', '*', '*', '*', '*', '*', '*', '*', '*', '*', '*', '*', '*', '*', '*', '*', '*', '*', '*', '*', '*', '*', '*', '*', '*', '*']\n",
      "[INFO] Predicted query:  ['<SOS>', 'shower', 'stage', 'stage', 'get', '<POS>', 'public', 'stage', '<POS>', 'stage', 'stage', 'of', 'breast', 'stage', 'stage', '<EOS>', '*', '*', '*', '*', '*', '*', '*', '*', '*', '*', '*', '*', '*', '*', '*', '*', '*', '*', '*', '*', '*', '*', '*', '*', '*', '*', '*', '*', '*', '*', '*', '*', '*', '*', '*', '*', '*', '*', '*', '*', '*', '*', '*', '*', '*', '*', '*', '*', '*', '*', '*', '*', '*', '*', '*', '*']\n",
      "[INFO] End epoch [62], train Loss: 0.4207, test loss: 0.4183\n",
      "[INFO] Start epoch [63] ...\n"
     ]
    },
    {
     "name": "stderr",
     "output_type": "stream",
     "text": [
      "100%|██████████| 38/38 [00:11<00:00,  3.45it/s]\n",
      " 10%|█         | 1/10 [00:00<00:01,  7.30it/s]"
     ]
    },
    {
     "name": "stdout",
     "output_type": "stream",
     "text": [
      "[INFO] Target query:  ['<SOS>', 'feeding', 'baby', '<POS>', 'feeding', 'baby', 'alligator', '<POS>', 'feeding', 'and', 'care', 'of', 'baby', 'alligator', '<POS>', 'sex', 'baby', 'alligator', '<POS>', 'telling', 'the', 'sex', 'of', 'baby', 'gator', '<EOS>', '*', '*', '*', '*', '*', '*', '*', '*', '*', '*', '*', '*', '*', '*', '*', '*', '*', '*', '*', '*', '*', '*', '*', '*', '*', '*', '*', '*', '*', '*', '*', '*', '*', '*', '*', '*', '*', '*', '*', '*', '*', '*', '*', '*', '*', '*']\n",
      "[INFO] Predicted query:  ['<SOS>', 'feeding', 'baby', '<POS>', 'feeding', 'baby', 'lung', '<POS>', 'feeding', 'and', 'lung', 'of', 'baby', 'lung', '<POS>', 'sex', 'baby', 'lung', '<POS>', 'on', 'the', 'sex', 'of', 'baby', 'lung', '<EOS>', '*', '*', '*', '*', '*', '*', '*', '*', '*', '*', '*', '*', '*', '*', '*', '*', '*', '*', '*', '*', '*', '*', '*', '*', '*', '*', '*', '*', '*', '*', '*', '*', '*', '*', '*', '*', '*', '*', '*', '*', '*', '*', '*', '*', '*', '*']\n"
     ]
    },
    {
     "name": "stderr",
     "output_type": "stream",
     "text": [
      "100%|██████████| 10/10 [00:01<00:00,  8.64it/s]\n",
      "  0%|          | 0/38 [00:00<?, ?it/s]"
     ]
    },
    {
     "name": "stdout",
     "output_type": "stream",
     "text": [
      "[INFO] Target query:  ['<SOS>', 'cancer', 'of', 'the', 'larynx', '<POS>', 'stage', 'of', 'the', 'larynx', '<POS>', 'stage', 'cancer', 'of', 'the', 'larynx', '<EOS>', '*', '*', '*', '*', '*', '*', '*', '*', '*', '*', '*', '*', '*', '*', '*', '*', '*', '*', '*', '*', '*', '*', '*', '*', '*', '*', '*', '*', '*', '*', '*', '*', '*', '*', '*', '*', '*', '*', '*', '*', '*', '*', '*', '*', '*', '*', '*', '*', '*', '*', '*', '*', '*', '*', '*']\n",
      "[INFO] Predicted query:  ['<SOS>', 'cancer', 'of', 'the', 'on', '<POS>', 'stage', 'of', 'the', 'on', '<POS>', 'stage', 'cancer', 'of', 'the', 'on', '<EOS>', '*', '*', '*', '*', '*', '*', '*', '*', '*', '*', '*', '*', '*', '*', '*', '*', '*', '*', '*', '*', '*', '*', '*', '*', '*', '*', '*', '*', '*', '*', '*', '*', '*', '*', '*', '*', '*', '*', '*', '*', '*', '*', '*', '*', '*', '*', '*', '*', '*', '*', '*', '*', '*', '*', '*']\n",
      "[INFO] End epoch [63], train Loss: 0.4194, test loss: 0.4164\n",
      "[INFO] Start epoch [64] ...\n"
     ]
    },
    {
     "name": "stderr",
     "output_type": "stream",
     "text": [
      "100%|██████████| 38/38 [00:11<00:00,  3.45it/s]\n",
      " 10%|█         | 1/10 [00:00<00:01,  7.32it/s]"
     ]
    },
    {
     "name": "stdout",
     "output_type": "stream",
     "text": [
      "[INFO] Target query:  ['<SOS>', 'million', 'dollar', 'baby', '<POS>', 'dollar', 'baby', '<POS>', 'million', 'dollar', 'baby', '<POS>', 'million', 'dollar', 'baby', 'crib', '<POS>', 'million', 'dollar', 'baby', '<POS>', 'baby', '<POS>', 'cocaine', 'and', 'pregnancy', '<EOS>', '*', '*', '*', '*', '*', '*', '*', '*', '*', '*', '*', '*', '*', '*', '*', '*', '*', '*', '*', '*', '*', '*', '*', '*', '*', '*', '*', '*', '*', '*', '*', '*', '*', '*', '*', '*', '*', '*', '*', '*', '*', '*', '*', '*', '*']\n",
      "[INFO] Predicted query:  ['<SOS>', '<POS>', 'where', 'baby', '<POS>', 'where', 'baby', '<POS>', 'where', 'where', 'baby', '<POS>', 'where', 'where', 'baby', 'where', '<POS>', 'where', 'where', 'baby', '<POS>', 'baby', '<POS>', 'where', 'and', 'pregnancy', '<EOS>', '*', '*', '*', '*', '*', '*', '*', '*', '*', '*', '*', '*', '*', '*', '*', '*', '*', '*', '*', '*', '*', '*', '*', '*', '*', '*', '*', '*', '*', '*', '*', '*', '*', '*', '*', '*', '*', '*', '*', '*', '*', '*', '*', '*', '*']\n"
     ]
    },
    {
     "name": "stderr",
     "output_type": "stream",
     "text": [
      "100%|██████████| 10/10 [00:01<00:00,  8.49it/s]\n",
      "  0%|          | 0/38 [00:00<?, ?it/s]"
     ]
    },
    {
     "name": "stdout",
     "output_type": "stream",
     "text": [
      "[INFO] Target query:  ['<SOS>', 'outdoor', 'window', 'flower', 'box', 'supplier', '<POS>', 'county', 'public', '<POS>', 'county', 'public', 'school', '<EOS>', '*', '*', '*', '*', '*', '*', '*', '*', '*', '*', '*', '*', '*', '*', '*', '*', '*', '*', '*', '*', '*', '*', '*', '*', '*', '*', '*', '*', '*', '*', '*', '*', '*', '*', '*', '*', '*', '*', '*', '*', '*', '*', '*', '*', '*', '*', '*', '*', '*', '*', '*', '*', '*', '*', '*', '*', '*', '*']\n",
      "[INFO] Predicted query:  ['<SOS>', 'where', 'where', 'where', 'grand', 'where', '<POS>', 'county', 'public', '<POS>', 'county', 'public', 'where', '<EOS>', '*', '*', '*', '*', '*', '*', '*', '*', '*', '*', '*', '*', '*', '*', '*', '*', '*', '*', '*', '*', '*', '*', '*', '*', '*', '*', '*', '*', '*', '*', '*', '*', '*', '*', '*', '*', '*', '*', '*', '*', '*', '*', '*', '*', '*', '*', '*', '*', '*', '*', '*', '*', '*', '*', '*', '*', '*', '*']\n",
      "[INFO] End epoch [64], train Loss: 0.4179, test loss: 0.4158\n",
      "[INFO] Start epoch [65] ...\n"
     ]
    },
    {
     "name": "stderr",
     "output_type": "stream",
     "text": [
      "100%|██████████| 38/38 [00:11<00:00,  3.45it/s]\n",
      " 10%|█         | 1/10 [00:00<00:01,  7.40it/s]"
     ]
    },
    {
     "name": "stdout",
     "output_type": "stream",
     "text": [
      "[INFO] Target query:  ['<SOS>', 'picture', 'of', 'betty', 'when', 'she', 'wa', 'a', 'baby', 'or', 'image', 'of', 'betty', '<EOS>', '*', '*', '*', '*', '*', '*', '*', '*', '*', '*', '*', '*', '*', '*', '*', '*', '*', '*', '*', '*', '*', '*', '*', '*', '*', '*', '*', '*', '*', '*', '*', '*', '*', '*', '*', '*', '*', '*', '*', '*', '*', '*', '*', '*', '*', '*', '*', '*', '*', '*', '*', '*', '*', '*', '*', '*', '*', '*']\n",
      "[INFO] Predicted query:  ['<SOS>', 'picture', 'of', 'at', 'me', 'photo', 'photo', 'a', 'baby', '<POS>', 'photo', 'of', 'at', '<EOS>', '*', '*', '*', '*', '*', '*', '*', '*', '*', '*', '*', '*', '*', '*', '*', '*', '*', '*', '*', '*', '*', '*', '*', '*', '*', '*', '*', '*', '*', '*', '*', '*', '*', '*', '*', '*', '*', '*', '*', '*', '*', '*', '*', '*', '*', '*', '*', '*', '*', '*', '*', '*', '*', '*', '*', '*', '*', '*']\n"
     ]
    },
    {
     "name": "stderr",
     "output_type": "stream",
     "text": [
      "100%|██████████| 10/10 [00:01<00:00,  8.69it/s]\n",
      "  0%|          | 0/38 [00:00<?, ?it/s]"
     ]
    },
    {
     "name": "stdout",
     "output_type": "stream",
     "text": [
      "[INFO] Target query:  ['<SOS>', 'doctor', 'visit', 'de', 'pregnancy', 'baby', 'child', 'parent', 'doctor', 'visit', 'de', 'pregnancy', 'baby', 'child', 'parent', '<POS>', 'click', 'here', 'doctor', 'visit', 'de', 'pregnancy', 'baby', 'child', 'parent', '<EOS>', '*', '*', '*', '*', '*', '*', '*', '*', '*', '*', '*', '*', '*', '*', '*', '*', '*', '*', '*', '*', '*', '*', '*', '*', '*', '*', '*', '*', '*', '*', '*', '*', '*', '*', '*', '*', '*', '*', '*', '*', '*', '*', '*', '*', '*', '*']\n",
      "[INFO] Predicted query:  ['<SOS>', 'doctor', 'a', 'photo', 'pregnancy', 'baby', 'photo', 'photo', 'doctor', 'a', 'photo', 'pregnancy', 'baby', 'photo', 'photo', '<POS>', 'photo', 'photo', 'doctor', 'a', 'photo', 'pregnancy', 'baby', 'photo', 'photo', '<EOS>', '*', '*', '*', '*', '*', '*', '*', '*', '*', '*', '*', '*', '*', '*', '*', '*', '*', '*', '*', '*', '*', '*', '*', '*', '*', '*', '*', '*', '*', '*', '*', '*', '*', '*', '*', '*', '*', '*', '*', '*', '*', '*', '*', '*', '*', '*']\n",
      "[INFO] End epoch [65], train Loss: 0.4175, test loss: 0.4155\n",
      "[INFO] Start epoch [66] ...\n"
     ]
    },
    {
     "name": "stderr",
     "output_type": "stream",
     "text": [
      "100%|██████████| 38/38 [00:11<00:00,  3.45it/s]\n",
      " 10%|█         | 1/10 [00:00<00:01,  7.25it/s]"
     ]
    },
    {
     "name": "stdout",
     "output_type": "stream",
     "text": [
      "[INFO] Target query:  ['<SOS>', 'hot', '<POS>', 'intercooler', 'honda', 'civic', '<POS>', 'honda', 'civic', 'turbo', '<POS>', 'how', 'to', 'put', 'game', 'from', '<EOS>', '*', '*', '*', '*', '*', '*', '*', '*', '*', '*', '*', '*', '*', '*', '*', '*', '*', '*', '*', '*', '*', '*', '*', '*', '*', '*', '*', '*', '*', '*', '*', '*', '*', '*', '*', '*', '*', '*', '*', '*', '*', '*', '*', '*', '*', '*', '*', '*', '*', '*', '*', '*', '*', '*', '*']\n",
      "[INFO] Predicted query:  ['<SOS>', 'brain', '<POS>', 'brain', 'brain', 'brain', '<POS>', 'brain', 'brain', 'brain', '<POS>', 'how', 'to', 'brain', 'brain', 'from', '<EOS>', '*', '*', '*', '*', '*', '*', '*', '*', '*', '*', '*', '*', '*', '*', '*', '*', '*', '*', '*', '*', '*', '*', '*', '*', '*', '*', '*', '*', '*', '*', '*', '*', '*', '*', '*', '*', '*', '*', '*', '*', '*', '*', '*', '*', '*', '*', '*', '*', '*', '*', '*', '*', '*', '*', '*']\n"
     ]
    },
    {
     "name": "stderr",
     "output_type": "stream",
     "text": [
      "100%|██████████| 10/10 [00:01<00:00,  8.72it/s]\n",
      "  0%|          | 0/38 [00:00<?, ?it/s]"
     ]
    },
    {
     "name": "stdout",
     "output_type": "stream",
     "text": [
      "[INFO] Target query:  ['<SOS>', 'brain', 'tumor', '<POS>', 'brain', 'tumor', '<POS>', 'what', 'brain', 'tumor', 'look', 'like', '<POS>', 'do', 'brain', 'tumor', 'occur', 'in', 'the', 'cell', 'around', 'the', 'face', '<POS>', 'colon', 'cancer', '<EOS>', '*', '*', '*', '*', '*', '*', '*', '*', '*', '*', '*', '*', '*', '*', '*', '*', '*', '*', '*', '*', '*', '*', '*', '*', '*', '*', '*', '*', '*', '*', '*', '*', '*', '*', '*', '*', '*', '*', '*', '*', '*', '*', '*', '*', '*']\n",
      "[INFO] Predicted query:  ['<SOS>', 'brain', 'tumor', '<POS>', 'brain', 'tumor', '<POS>', 'what', 'brain', 'tumor', '<POS>', 'brain', '<POS>', 'do', 'brain', 'tumor', 'brain', 'in', 'the', 'cell', 'brain', 'the', 'brain', '<POS>', 'on', 'cancer', '<EOS>', '*', '*', '*', '*', '*', '*', '*', '*', '*', '*', '*', '*', '*', '*', '*', '*', '*', '*', '*', '*', '*', '*', '*', '*', '*', '*', '*', '*', '*', '*', '*', '*', '*', '*', '*', '*', '*', '*', '*', '*', '*', '*', '*', '*', '*']\n",
      "[INFO] End epoch [66], train Loss: 0.4171, test loss: 0.4150\n",
      "[INFO] Start epoch [67] ...\n"
     ]
    },
    {
     "name": "stderr",
     "output_type": "stream",
     "text": [
      "100%|██████████| 38/38 [00:11<00:00,  3.44it/s]\n",
      " 10%|█         | 1/10 [00:00<00:01,  7.55it/s]"
     ]
    },
    {
     "name": "stdout",
     "output_type": "stream",
     "text": [
      "[INFO] Target query:  ['<SOS>', 'week', 'pregnant', '<POS>', 'pregnant', '<POS>', 'baby', 'center', '<POS>', 'baby', '<POS>', 'baby', '<POS>', 'thirty', 'week', 'pregnant', '<POS>', 'thirty', 'eight', 'week', 'pregnant', '<EOS>', '*', '*', '*', '*', '*', '*', '*', '*', '*', '*', '*', '*', '*', '*', '*', '*', '*', '*', '*', '*', '*', '*', '*', '*', '*', '*', '*', '*', '*', '*', '*', '*', '*', '*', '*', '*', '*', '*', '*', '*', '*', '*', '*', '*', '*', '*', '*', '*', '*', '*']\n",
      "[INFO] Predicted query:  ['<SOS>', 'week', 'pregnant', '<POS>', 'pregnant', '<POS>', 'baby', 'leukemia', '<POS>', 'baby', '<POS>', 'baby', '<POS>', 'leukemia', 'week', 'pregnant', '<POS>', 'leukemia', 'leukemia', 'week', 'pregnant', '<EOS>', '*', '*', '*', '*', '*', '*', '*', '*', '*', '*', '*', '*', '*', '*', '*', '*', '*', '*', '*', '*', '*', '*', '*', '*', '*', '*', '*', '*', '*', '*', '*', '*', '*', '*', '*', '*', '*', '*', '*', '*', '*', '*', '*', '*', '*', '*', '*', '*', '*', '*']\n"
     ]
    },
    {
     "name": "stderr",
     "output_type": "stream",
     "text": [
      "100%|██████████| 10/10 [00:01<00:00,  8.92it/s]\n",
      "  0%|          | 0/38 [00:00<?, ?it/s]"
     ]
    },
    {
     "name": "stdout",
     "output_type": "stream",
     "text": [
      "[INFO] Target query:  ['<SOS>', 'baby', 'too', 'much', '<POS>', 'baby', 'outfit', '<POS>', 'baby', '<POS>', 'baby', 'cloth', '<POS>', 'clothes', 'for', 'baby', '<EOS>', '*', '*', '*', '*', '*', '*', '*', '*', '*', '*', '*', '*', '*', '*', '*', '*', '*', '*', '*', '*', '*', '*', '*', '*', '*', '*', '*', '*', '*', '*', '*', '*', '*', '*', '*', '*', '*', '*', '*', '*', '*', '*', '*', '*', '*', '*', '*', '*', '*', '*', '*', '*', '*', '*', '*']\n",
      "[INFO] Predicted query:  ['<SOS>', 'baby', 'leukemia', '<POS>', '<POS>', 'baby', 'leukemia', '<POS>', 'baby', '<POS>', 'baby', 'leukemia', '<POS>', 'clothes', 'for', 'baby', '<EOS>', '*', '*', '*', '*', '*', '*', '*', '*', '*', '*', '*', '*', '*', '*', '*', '*', '*', '*', '*', '*', '*', '*', '*', '*', '*', '*', '*', '*', '*', '*', '*', '*', '*', '*', '*', '*', '*', '*', '*', '*', '*', '*', '*', '*', '*', '*', '*', '*', '*', '*', '*', '*', '*', '*', '*']\n",
      "[INFO] End epoch [67], train Loss: 0.4163, test loss: 0.4139\n",
      "[INFO] Start epoch [68] ...\n"
     ]
    },
    {
     "name": "stderr",
     "output_type": "stream",
     "text": [
      "100%|██████████| 38/38 [00:11<00:00,  3.43it/s]\n",
      " 10%|█         | 1/10 [00:00<00:01,  7.28it/s]"
     ]
    },
    {
     "name": "stdout",
     "output_type": "stream",
     "text": [
      "[INFO] Target query:  ['<SOS>', 'large', 'cell', 'lung', 'cancer', '<POS>', 'what', 'doe', 'small', 'cell', 'cancer', 'look', 'like', '<POS>', 'large', 'cell', 'carcinoma', '<POS>', 'cancer', 'grieve', 'poem', '<EOS>', '*', '*', '*', '*', '*', '*', '*', '*', '*', '*', '*', '*', '*', '*', '*', '*', '*', '*', '*', '*', '*', '*', '*', '*', '*', '*', '*', '*', '*', '*', '*', '*', '*', '*', '*', '*', '*', '*', '*', '*', '*', '*', '*', '*', '*', '*', '*', '*', '*', '*']\n",
      "[INFO] Predicted query:  ['<SOS>', 'large', 'cell', 'lung', 'cancer', '<POS>', 'what', 'doe', 'small', 'cell', 'cancer', '<POS>', 'leukemia', '<POS>', 'large', 'cell', 'brain', '<POS>', 'cancer', 'by', 'leukemia', '<EOS>', '*', '*', '*', '*', '*', '*', '*', '*', '*', '*', '*', '*', '*', '*', '*', '*', '*', '*', '*', '*', '*', '*', '*', '*', '*', '*', '*', '*', '*', '*', '*', '*', '*', '*', '*', '*', '*', '*', '*', '*', '*', '*', '*', '*', '*', '*', '*', '*', '*', '*']\n"
     ]
    },
    {
     "name": "stderr",
     "output_type": "stream",
     "text": [
      "100%|██████████| 10/10 [00:01<00:00,  8.60it/s]\n",
      "  0%|          | 0/38 [00:00<?, ?it/s]"
     ]
    },
    {
     "name": "stdout",
     "output_type": "stream",
     "text": [
      "[INFO] Target query:  ['<SOS>', 'how', 'are', 'tumor', 'treat', 'in', 'the', 'knee', '<POS>', 'how', 'are', 'tumor', 'treat', 'on', 'the', 'back', 'of', 'the', 'knee', '<EOS>', '*', '*', '*', '*', '*', '*', '*', '*', '*', '*', '*', '*', '*', '*', '*', '*', '*', '*', '*', '*', '*', '*', '*', '*', '*', '*', '*', '*', '*', '*', '*', '*', '*', '*', '*', '*', '*', '*', '*', '*', '*', '*', '*', '*', '*', '*', '*', '*', '*', '*', '*', '*']\n",
      "[INFO] Predicted query:  ['<SOS>', 'how', 'are', 'tumor', 'the', 'in', 'the', 'and', '<POS>', 'how', 'are', 'tumor', 'the', 'on', 'the', 'get', 'of', 'the', 'and', '<EOS>', '*', '*', '*', '*', '*', '*', '*', '*', '*', '*', '*', '*', '*', '*', '*', '*', '*', '*', '*', '*', '*', '*', '*', '*', '*', '*', '*', '*', '*', '*', '*', '*', '*', '*', '*', '*', '*', '*', '*', '*', '*', '*', '*', '*', '*', '*', '*', '*', '*', '*', '*', '*']\n",
      "[INFO] End epoch [68], train Loss: 0.4157, test loss: 0.4139\n",
      "[INFO] Start epoch [69] ...\n"
     ]
    },
    {
     "name": "stderr",
     "output_type": "stream",
     "text": [
      "100%|██████████| 38/38 [00:10<00:00,  3.46it/s]\n",
      " 10%|█         | 1/10 [00:00<00:01,  7.21it/s]"
     ]
    },
    {
     "name": "stdout",
     "output_type": "stream",
     "text": [
      "[INFO] Target query:  ['<SOS>', 'region', 'ovarian', 'cancer', '<POS>', 'lesion', 'bone', 'cancer', '<POS>', 'lesion', 'ovarian', 'cancer', 'chemotherapy', '<POS>', 'peritoneal', 'carcinomatosis', '<POS>', 'lesion', 'ovarian', 'cancer', 'chemotherapy', '<POS>', 'lesion', 'ovarian', 'cancer', 'chemotherapy', '<POS>', 'ovarian', 'cancer', '<POS>', 'cancer', '<POS>', 'ovarian', 'cancer', 'prognosis', '<POS>', 'ovarian', 'cancer', 'prognosis', 'condition', '<EOS>', '*', '*', '*', '*', '*', '*', '*', '*', '*', '*', '*', '*', '*', '*', '*', '*', '*', '*', '*', '*', '*', '*', '*', '*', '*', '*', '*', '*', '*', '*', '*']\n",
      "[INFO] Predicted query:  ['<SOS>', 'brain', 'ovarian', 'cancer', '<POS>', 'pregnant', 'bone', 'cancer', '<POS>', 'pregnant', 'ovarian', 'cancer', 'center', '<POS>', 'cancer', 'the', '<POS>', 'pregnant', 'ovarian', 'cancer', 'center', '<POS>', 'pregnant', 'ovarian', 'cancer', 'center', '<POS>', 'ovarian', 'cancer', '<POS>', 'cancer', '<POS>', 'ovarian', 'cancer', 'bone', '<POS>', 'ovarian', 'cancer', 'bone', '<POS>', '<EOS>', '*', '*', '*', '*', '*', '*', '*', '*', '*', '*', '*', '*', '*', '*', '*', '*', '*', '*', '*', '*', '*', '*', '*', '*', '*', '*', '*', '*', '*', '*', '*']\n"
     ]
    },
    {
     "name": "stderr",
     "output_type": "stream",
     "text": [
      "100%|██████████| 10/10 [00:01<00:00,  8.72it/s]\n",
      "  0%|          | 0/38 [00:00<?, ?it/s]"
     ]
    },
    {
     "name": "stdout",
     "output_type": "stream",
     "text": [
      "[INFO] Target query:  ['<SOS>', 'adenocarcinoma', '<POS>', 'adenocarcinoma', '<POS>', 'cancer', 'of', 'the', 'gland', '<POS>', 'cancer', 'of', 'the', 'gland', '<POS>', 'bone', 'tumor', '<EOS>', '*', '*', '*', '*', '*', '*', '*', '*', '*', '*', '*', '*', '*', '*', '*', '*', '*', '*', '*', '*', '*', '*', '*', '*', '*', '*', '*', '*', '*', '*', '*', '*', '*', '*', '*', '*', '*', '*', '*', '*', '*', '*', '*', '*', '*', '*', '*', '*', '*', '*', '*', '*', '*', '*']\n",
      "[INFO] Predicted query:  ['<SOS>', 'bone', '<POS>', '<POS>', '<POS>', 'cancer', 'of', 'the', 'lymphoma', '<POS>', 'cancer', 'of', 'the', 'lymphoma', '<POS>', 'bone', 'tumor', '<EOS>', '*', '*', '*', '*', '*', '*', '*', '*', '*', '*', '*', '*', '*', '*', '*', '*', '*', '*', '*', '*', '*', '*', '*', '*', '*', '*', '*', '*', '*', '*', '*', '*', '*', '*', '*', '*', '*', '*', '*', '*', '*', '*', '*', '*', '*', '*', '*', '*', '*', '*', '*', '*', '*', '*']\n",
      "[INFO] End epoch [69], train Loss: 0.4150, test loss: 0.4132\n",
      "[INFO] Start epoch [70] ...\n"
     ]
    },
    {
     "name": "stderr",
     "output_type": "stream",
     "text": [
      "100%|██████████| 38/38 [00:10<00:00,  3.46it/s]\n",
      " 10%|█         | 1/10 [00:00<00:01,  7.40it/s]"
     ]
    },
    {
     "name": "stdout",
     "output_type": "stream",
     "text": [
      "[INFO] Target query:  ['<SOS>', 'how', 'to', 'pick', 'jury', 'criminal', 'case', 'shake', 'baby', 'syndrome', '<POS>', 'first', 'symptom', 'shake', 'baby', 'syndrome', '<EOS>', '*', '*', '*', '*', '*', '*', '*', '*', '*', '*', '*', '*', '*', '*', '*', '*', '*', '*', '*', '*', '*', '*', '*', '*', '*', '*', '*', '*', '*', '*', '*', '*', '*', '*', '*', '*', '*', '*', '*', '*', '*', '*', '*', '*', '*', '*', '*', '*', '*', '*', '*', '*', '*', '*', '*']\n",
      "[INFO] Predicted query:  ['<SOS>', 'how', 'to', 'your', 'food', 'can', 'food', 'food', 'baby', 'can', '<POS>', 'center', 'symptom', 'food', 'baby', 'can', '<EOS>', '*', '*', '*', '*', '*', '*', '*', '*', '*', '*', '*', '*', '*', '*', '*', '*', '*', '*', '*', '*', '*', '*', '*', '*', '*', '*', '*', '*', '*', '*', '*', '*', '*', '*', '*', '*', '*', '*', '*', '*', '*', '*', '*', '*', '*', '*', '*', '*', '*', '*', '*', '*', '*', '*', '*']\n"
     ]
    },
    {
     "name": "stderr",
     "output_type": "stream",
     "text": [
      "100%|██████████| 10/10 [00:01<00:00,  8.73it/s]\n",
      "  0%|          | 0/38 [00:00<?, ?it/s]"
     ]
    },
    {
     "name": "stdout",
     "output_type": "stream",
     "text": [
      "[INFO] Target query:  ['<SOS>', 'three', 'men', 'and', 'a', 'baby', 'ghost', '<POS>', 'three', 'men', 'and', 'a', 'baby', 'ghost', '<EOS>', '*', '*', '*', '*', '*', '*', '*', '*', '*', '*', '*', '*', '*', '*', '*', '*', '*', '*', '*', '*', '*', '*', '*', '*', '*', '*', '*', '*', '*', '*', '*', '*', '*', '*', '*', '*', '*', '*', '*', '*', '*', '*', '*', '*', '*', '*', '*', '*', '*', '*', '*', '*', '*', '*', '*', '*', '*']\n",
      "[INFO] Predicted query:  ['<SOS>', 'liver', 'food', 'and', 'a', 'baby', 'be', '<POS>', '<POS>', 'food', 'and', 'a', 'baby', 'be', '<EOS>', '*', '*', '*', '*', '*', '*', '*', '*', '*', '*', '*', '*', '*', '*', '*', '*', '*', '*', '*', '*', '*', '*', '*', '*', '*', '*', '*', '*', '*', '*', '*', '*', '*', '*', '*', '*', '*', '*', '*', '*', '*', '*', '*', '*', '*', '*', '*', '*', '*', '*', '*', '*', '*', '*', '*', '*', '*']\n",
      "[INFO] End epoch [70], train Loss: 0.4143, test loss: 0.4125\n",
      "[INFO] Start epoch [71] ...\n"
     ]
    },
    {
     "name": "stderr",
     "output_type": "stream",
     "text": [
      "100%|██████████| 38/38 [00:10<00:00,  3.47it/s]\n",
      " 10%|█         | 1/10 [00:00<00:01,  7.44it/s]"
     ]
    },
    {
     "name": "stdout",
     "output_type": "stream",
     "text": [
      "[INFO] Target query:  ['<SOS>', 'large', 'cell', 'lung', 'cancer', '<POS>', 'what', 'doe', 'small', 'cell', 'cancer', 'look', 'like', '<POS>', 'large', 'cell', 'carcinoma', '<POS>', 'cancer', 'grieve', 'poem', '<EOS>', '*', '*', '*', '*', '*', '*', '*', '*', '*', '*', '*', '*', '*', '*', '*', '*', '*', '*', '*', '*', '*', '*', '*', '*', '*', '*', '*', '*', '*', '*', '*', '*', '*', '*', '*', '*', '*', '*', '*', '*', '*', '*', '*', '*', '*', '*', '*', '*', '*', '*']\n",
      "[INFO] Predicted query:  ['<SOS>', 'large', 'cell', 'lung', 'cancer', '<POS>', 'what', 'doe', 'small', 'cell', 'cancer', 'baby', 'awareness', '<POS>', 'large', 'cell', 'your', '<POS>', 'cancer', 'by', 'awareness', '<EOS>', '*', '*', '*', '*', '*', '*', '*', '*', '*', '*', '*', '*', '*', '*', '*', '*', '*', '*', '*', '*', '*', '*', '*', '*', '*', '*', '*', '*', '*', '*', '*', '*', '*', '*', '*', '*', '*', '*', '*', '*', '*', '*', '*', '*', '*', '*', '*', '*', '*', '*']\n"
     ]
    },
    {
     "name": "stderr",
     "output_type": "stream",
     "text": [
      "100%|██████████| 10/10 [00:01<00:00,  8.73it/s]\n",
      "  0%|          | 0/38 [00:00<?, ?it/s]"
     ]
    },
    {
     "name": "stdout",
     "output_type": "stream",
     "text": [
      "[INFO] Target query:  ['<SOS>', 'what', 'are', 'symptom', 'of', 'thyroid', 'cancer', '<POS>', 'symptom', 'of', 'thyroid', 'cancer', '<POS>', 'symptom', 'of', 'breast', 'cancer', '<EOS>', '*', '*', '*', '*', '*', '*', '*', '*', '*', '*', '*', '*', '*', '*', '*', '*', '*', '*', '*', '*', '*', '*', '*', '*', '*', '*', '*', '*', '*', '*', '*', '*', '*', '*', '*', '*', '*', '*', '*', '*', '*', '*', '*', '*', '*', '*', '*', '*', '*', '*', '*', '*', '*', '*']\n",
      "[INFO] Predicted query:  ['<SOS>', 'what', 'are', 'symptom', 'of', 'thyroid', 'cancer', '<POS>', 'symptom', 'of', 'thyroid', 'cancer', '<POS>', 'symptom', 'of', 'breast', 'cancer', '<EOS>', '*', '*', '*', '*', '*', '*', '*', '*', '*', '*', '*', '*', '*', '*', '*', '*', '*', '*', '*', '*', '*', '*', '*', '*', '*', '*', '*', '*', '*', '*', '*', '*', '*', '*', '*', '*', '*', '*', '*', '*', '*', '*', '*', '*', '*', '*', '*', '*', '*', '*', '*', '*', '*', '*']\n",
      "[INFO] End epoch [71], train Loss: 0.4139, test loss: 0.4122\n",
      "[INFO] Start epoch [72] ...\n"
     ]
    },
    {
     "name": "stderr",
     "output_type": "stream",
     "text": [
      "100%|██████████| 38/38 [00:10<00:00,  3.46it/s]\n",
      " 10%|█         | 1/10 [00:00<00:01,  7.49it/s]"
     ]
    },
    {
     "name": "stdout",
     "output_type": "stream",
     "text": [
      "[INFO] Target query:  ['<SOS>', 'pregnancy', 'and', 'sore', 'throat', '<POS>', 'muscle', 'ache', 'during', 'pregnancy', '<POS>', 'gas', 'during', 'pregnancy', '<EOS>', '*', '*', '*', '*', '*', '*', '*', '*', '*', '*', '*', '*', '*', '*', '*', '*', '*', '*', '*', '*', '*', '*', '*', '*', '*', '*', '*', '*', '*', '*', '*', '*', '*', '*', '*', '*', '*', '*', '*', '*', '*', '*', '*', '*', '*', '*', '*', '*', '*', '*', '*', '*', '*', '*', '*', '*', '*']\n",
      "[INFO] Predicted query:  ['<SOS>', 'pregnancy', 'and', 'in', 'when', '<POS>', 'low', 'low', 'during', 'pregnancy', '<POS>', 'liver', 'during', 'pregnancy', '<EOS>', '*', '*', '*', '*', '*', '*', '*', '*', '*', '*', '*', '*', '*', '*', '*', '*', '*', '*', '*', '*', '*', '*', '*', '*', '*', '*', '*', '*', '*', '*', '*', '*', '*', '*', '*', '*', '*', '*', '*', '*', '*', '*', '*', '*', '*', '*', '*', '*', '*', '*', '*', '*', '*', '*', '*', '*', '*']\n"
     ]
    },
    {
     "name": "stderr",
     "output_type": "stream",
     "text": [
      "100%|██████████| 10/10 [00:01<00:00,  8.67it/s]\n",
      "  0%|          | 0/38 [00:00<?, ?it/s]"
     ]
    },
    {
     "name": "stdout",
     "output_type": "stream",
     "text": [
      "[INFO] Target query:  ['<SOS>', 'teen', 'cancer', '<POS>', 'throat', 'cancer', '<POS>', 'thyroid', 'cancer', '<POS>', 'update', 'guideline', 'for', 'thyroid', 'nodule', 'and', 'cancer', '<EOS>', '*', '*', '*', '*', '*', '*', '*', '*', '*', '*', '*', '*', '*', '*', '*', '*', '*', '*', '*', '*', '*', '*', '*', '*', '*', '*', '*', '*', '*', '*', '*', '*', '*', '*', '*', '*', '*', '*', '*', '*', '*', '*', '*', '*', '*', '*', '*', '*', '*', '*', '*', '*', '*', '*']\n",
      "[INFO] Predicted query:  ['<SOS>', 'my', 'cancer', '<POS>', 'when', 'cancer', '<POS>', 'thyroid', 'cancer', '<POS>', 'low', 'low', 'for', 'thyroid', 'low', 'and', 'cancer', '<EOS>', '*', '*', '*', '*', '*', '*', '*', '*', '*', '*', '*', '*', '*', '*', '*', '*', '*', '*', '*', '*', '*', '*', '*', '*', '*', '*', '*', '*', '*', '*', '*', '*', '*', '*', '*', '*', '*', '*', '*', '*', '*', '*', '*', '*', '*', '*', '*', '*', '*', '*', '*', '*', '*', '*']\n",
      "[INFO] End epoch [72], train Loss: 0.4134, test loss: 0.4120\n",
      "[INFO] Start epoch [73] ...\n"
     ]
    },
    {
     "name": "stderr",
     "output_type": "stream",
     "text": [
      "100%|██████████| 38/38 [00:11<00:00,  3.45it/s]\n",
      " 10%|█         | 1/10 [00:00<00:01,  7.42it/s]"
     ]
    },
    {
     "name": "stdout",
     "output_type": "stream",
     "text": [
      "[INFO] Target query:  ['<SOS>', 'if', 'you', 'have', 'intercourse', 'on', 'morning', 'and', 'you', 'ovulate', 'on', 'can', 'you', 'get', 'pregnant', '<POS>', 'if', 'you', 'have', 'vaginal', 'egg', 'white', 'discharge', 'can', 'you', 'get', 'pregnant', '<EOS>', '*', '*', '*', '*', '*', '*', '*', '*', '*', '*', '*', '*', '*', '*', '*', '*', '*', '*', '*', '*', '*', '*', '*', '*', '*', '*', '*', '*', '*', '*', '*', '*', '*', '*', '*', '*', '*', '*', '*', '*', '*', '*', '*', '*']\n",
      "[INFO] Predicted query:  ['<SOS>', 'york', 'you', 'york', 'be', 'on', 'york', 'and', 'you', 'squamous', 'on', 'can', 'you', 'get', 'pregnant', '<POS>', 'york', 'you', 'york', 'york', 'neck', 'york', 'york', 'can', 'you', 'get', 'pregnant', '<EOS>', '*', '*', '*', '*', '*', '*', '*', '*', '*', '*', '*', '*', '*', '*', '*', '*', '*', '*', '*', '*', '*', '*', '*', '*', '*', '*', '*', '*', '*', '*', '*', '*', '*', '*', '*', '*', '*', '*', '*', '*', '*', '*', '*', '*']\n"
     ]
    },
    {
     "name": "stderr",
     "output_type": "stream",
     "text": [
      "100%|██████████| 10/10 [00:01<00:00,  8.67it/s]\n",
      "  0%|          | 0/38 [00:00<?, ?it/s]"
     ]
    },
    {
     "name": "stdout",
     "output_type": "stream",
     "text": [
      "[INFO] Target query:  ['<SOS>', 'to', 'the', 'island', '<POS>', 'air', '<POS>', 'elbow', 'key', '<POS>', 'elbow', 'key', 'octagonal', 'house', '<EOS>', '*', '*', '*', '*', '*', '*', '*', '*', '*', '*', '*', '*', '*', '*', '*', '*', '*', '*', '*', '*', '*', '*', '*', '*', '*', '*', '*', '*', '*', '*', '*', '*', '*', '*', '*', '*', '*', '*', '*', '*', '*', '*', '*', '*', '*', '*', '*', '*', '*', '*', '*', '*', '*', '*', '*', '*', '*']\n",
      "[INFO] Predicted query:  ['<SOS>', 'to', 'the', 'brain', '<POS>', 'york', '<POS>', 'york', 'mental', '<POS>', 'york', 'mental', 'york', 'cake', '<EOS>', '*', '*', '*', '*', '*', '*', '*', '*', '*', '*', '*', '*', '*', '*', '*', '*', '*', '*', '*', '*', '*', '*', '*', '*', '*', '*', '*', '*', '*', '*', '*', '*', '*', '*', '*', '*', '*', '*', '*', '*', '*', '*', '*', '*', '*', '*', '*', '*', '*', '*', '*', '*', '*', '*', '*', '*', '*']\n",
      "[INFO] End epoch [73], train Loss: 0.4132, test loss: 0.4117\n",
      "[INFO] Start epoch [74] ...\n"
     ]
    },
    {
     "name": "stderr",
     "output_type": "stream",
     "text": [
      "100%|██████████| 38/38 [00:11<00:00,  3.45it/s]\n",
      " 10%|█         | 1/10 [00:00<00:01,  7.37it/s]"
     ]
    },
    {
     "name": "stdout",
     "output_type": "stream",
     "text": [
      "[INFO] Target query:  ['<SOS>', 'mail', 'on', 'freeway', '<POS>', 'post', 'office', 'mail', 'spill', '<POS>', 'scabies', '<POS>', 'killing', 'of', 'scabies', '<EOS>', '*', '*', '*', '*', '*', '*', '*', '*', '*', '*', '*', '*', '*', '*', '*', '*', '*', '*', '*', '*', '*', '*', '*', '*', '*', '*', '*', '*', '*', '*', '*', '*', '*', '*', '*', '*', '*', '*', '*', '*', '*', '*', '*', '*', '*', '*', '*', '*', '*', '*', '*', '*', '*', '*', '*', '*']\n",
      "[INFO] Predicted query:  ['<SOS>', '<POS>', 'on', 'your', '<POS>', 'lesson', 'know', '<POS>', 'crib', '<POS>', 'my', '<POS>', 'your', 'of', 'for', '<EOS>', '*', '*', '*', '*', '*', '*', '*', '*', '*', '*', '*', '*', '*', '*', '*', '*', '*', '*', '*', '*', '*', '*', '*', '*', '*', '*', '*', '*', '*', '*', '*', '*', '*', '*', '*', '*', '*', '*', '*', '*', '*', '*', '*', '*', '*', '*', '*', '*', '*', '*', '*', '*', '*', '*', '*', '*']\n"
     ]
    },
    {
     "name": "stderr",
     "output_type": "stream",
     "text": [
      "100%|██████████| 10/10 [00:01<00:00,  8.70it/s]\n",
      "  0%|          | 0/38 [00:00<?, ?it/s]"
     ]
    },
    {
     "name": "stdout",
     "output_type": "stream",
     "text": [
      "[INFO] Target query:  ['<SOS>', 'tumor', '<POS>', 'uterine', 'tumor', '<POS>', 'carcinosarcoma', '<POS>', 'test', 'for', 'uterine', 'cancer', '<POS>', 'lung', 'cancer', '<POS>', 'bone', 'cancer', '<EOS>', '*', '*', '*', '*', '*', '*', '*', '*', '*', '*', '*', '*', '*', '*', '*', '*', '*', '*', '*', '*', '*', '*', '*', '*', '*', '*', '*', '*', '*', '*', '*', '*', '*', '*', '*', '*', '*', '*', '*', '*', '*', '*', '*', '*', '*', '*', '*', '*', '*', '*', '*', '*', '*']\n",
      "[INFO] Predicted query:  ['<SOS>', 'tumor', '<POS>', 'crib', 'tumor', '<POS>', 'york', '<POS>', '<POS>', 'for', 'crib', 'cancer', '<POS>', 'lung', 'cancer', '<POS>', 'bone', 'cancer', '<EOS>', '*', '*', '*', '*', '*', '*', '*', '*', '*', '*', '*', '*', '*', '*', '*', '*', '*', '*', '*', '*', '*', '*', '*', '*', '*', '*', '*', '*', '*', '*', '*', '*', '*', '*', '*', '*', '*', '*', '*', '*', '*', '*', '*', '*', '*', '*', '*', '*', '*', '*', '*', '*', '*']\n",
      "[INFO] End epoch [74], train Loss: 0.4128, test loss: 0.4115\n",
      "[INFO] Start epoch [75] ...\n"
     ]
    },
    {
     "name": "stderr",
     "output_type": "stream",
     "text": [
      "100%|██████████| 38/38 [00:11<00:00,  3.43it/s]\n",
      " 10%|█         | 1/10 [00:00<00:01,  7.27it/s]"
     ]
    },
    {
     "name": "stdout",
     "output_type": "stream",
     "text": [
      "[INFO] Target query:  ['<SOS>', 'breast', 'cancer', 'awareness', 'tattoo', '<POS>', 'breast', 'cancer', 'merchandise', '<POS>', 'breast', 'cancer', 'set', 'cover', '<POS>', 'breast', 'cancer', 'seat', 'cover', '<POS>', 'breast', 'cancer', '<POS>', 'breast', 'cancer', 'seat', 'cover', '<POS>', 'breast', 'cancer', 'car', 'accessary', '<POS>', 'breast', 'cancer', 'car', 'accessory', '<POS>', 'breast', 'cancer', '<POS>', 'walk', 'for', 'cancer', '<POS>', 'walk', 'for', 'breast', 'cancer', '<POS>', 'gold', 'breast', 'cancer', '<POS>', 'breast', 'cancer', '<POS>', 'breast', 'cancer', 'apparel', '<POS>', 'breast', 'cancer', 'jewelry', '<EOS>', '*', '*', '*', '*', '*', '*', '*']\n",
      "[INFO] Predicted query:  ['<SOS>', 'breast', 'cancer', 'awareness', 'the', '<POS>', 'breast', 'cancer', 'that', '<POS>', 'breast', 'cancer', 'that', 'that', '<POS>', 'breast', 'cancer', 'pregnancy', 'that', '<POS>', 'breast', 'cancer', '<POS>', 'breast', 'cancer', 'pregnancy', 'that', '<POS>', 'breast', 'cancer', 'favor', 'your', '<POS>', 'breast', 'cancer', 'favor', 'that', '<POS>', 'breast', 'cancer', '<POS>', 'that', 'for', 'cancer', '<POS>', 'that', 'for', 'breast', 'cancer', '<POS>', 'week', 'breast', 'cancer', '<POS>', 'breast', 'cancer', '<POS>', 'breast', 'cancer', 'that', '<POS>', 'breast', 'cancer', 'work', '<EOS>', '*', '*', '*', '*', '*', '*', '*']\n"
     ]
    },
    {
     "name": "stderr",
     "output_type": "stream",
     "text": [
      "100%|██████████| 10/10 [00:01<00:00,  8.70it/s]\n",
      "  0%|          | 0/38 [00:00<?, ?it/s]"
     ]
    },
    {
     "name": "stdout",
     "output_type": "stream",
     "text": [
      "[INFO] Target query:  ['<SOS>', 'lung', 'cancer', '<POS>', 'small', 'cell', 'cancer', '<POS>', 'lung', 'cancer', '<POS>', 'small', 'cell', 'cancer', '<POS>', 'small', 'cell', 'lung', 'cancer', '<EOS>', '*', '*', '*', '*', '*', '*', '*', '*', '*', '*', '*', '*', '*', '*', '*', '*', '*', '*', '*', '*', '*', '*', '*', '*', '*', '*', '*', '*', '*', '*', '*', '*', '*', '*', '*', '*', '*', '*', '*', '*', '*', '*', '*', '*', '*', '*', '*', '*', '*', '*', '*', '*']\n",
      "[INFO] Predicted query:  ['<SOS>', 'lung', 'cancer', '<POS>', 'small', 'cell', 'cancer', '<POS>', 'lung', 'cancer', '<POS>', 'small', 'cell', 'cancer', '<POS>', 'small', 'cell', 'lung', 'cancer', '<EOS>', '*', '*', '*', '*', '*', '*', '*', '*', '*', '*', '*', '*', '*', '*', '*', '*', '*', '*', '*', '*', '*', '*', '*', '*', '*', '*', '*', '*', '*', '*', '*', '*', '*', '*', '*', '*', '*', '*', '*', '*', '*', '*', '*', '*', '*', '*', '*', '*', '*', '*', '*', '*']\n",
      "[INFO] End epoch [75], train Loss: 0.4124, test loss: 0.4107\n",
      "[INFO] Start epoch [76] ...\n"
     ]
    },
    {
     "name": "stderr",
     "output_type": "stream",
     "text": [
      "100%|██████████| 38/38 [00:11<00:00,  3.45it/s]\n",
      " 10%|█         | 1/10 [00:00<00:01,  7.27it/s]"
     ]
    },
    {
     "name": "stdout",
     "output_type": "stream",
     "text": [
      "[INFO] Target query:  ['<SOS>', 'cancer', '<POS>', 'metastasis', 'follicular', 'cell', 'carcinoma', '<POS>', 'thyroid', 'cancer', '<POS>', 'salivary', 'follicular', 'carcinoma', '<EOS>', '*', '*', '*', '*', '*', '*', '*', '*', '*', '*', '*', '*', '*', '*', '*', '*', '*', '*', '*', '*', '*', '*', '*', '*', '*', '*', '*', '*', '*', '*', '*', '*', '*', '*', '*', '*', '*', '*', '*', '*', '*', '*', '*', '*', '*', '*', '*', '*', '*', '*', '*', '*', '*', '*', '*', '*', '*']\n",
      "[INFO] Predicted query:  ['<SOS>', 'cancer', '<POS>', 'treatment', 'city', 'cell', 'city', '<POS>', 'thyroid', 'cancer', '<POS>', 'city', 'city', 'city', '<EOS>', '*', '*', '*', '*', '*', '*', '*', '*', '*', '*', '*', '*', '*', '*', '*', '*', '*', '*', '*', '*', '*', '*', '*', '*', '*', '*', '*', '*', '*', '*', '*', '*', '*', '*', '*', '*', '*', '*', '*', '*', '*', '*', '*', '*', '*', '*', '*', '*', '*', '*', '*', '*', '*', '*', '*', '*', '*']\n"
     ]
    },
    {
     "name": "stderr",
     "output_type": "stream",
     "text": [
      "100%|██████████| 10/10 [00:01<00:00,  8.66it/s]\n",
      "  0%|          | 0/38 [00:00<?, ?it/s]"
     ]
    },
    {
     "name": "stdout",
     "output_type": "stream",
     "text": [
      "[INFO] Target query:  ['<SOS>', 'men', 'and', 'a', 'baby', '<POS>', 'three', 'men', 'and', 'a', 'little', 'baby', '<EOS>', '*', '*', '*', '*', '*', '*', '*', '*', '*', '*', '*', '*', '*', '*', '*', '*', '*', '*', '*', '*', '*', '*', '*', '*', '*', '*', '*', '*', '*', '*', '*', '*', '*', '*', '*', '*', '*', '*', '*', '*', '*', '*', '*', '*', '*', '*', '*', '*', '*', '*', '*', '*', '*', '*', '*', '*', '*', '*', '*']\n",
      "[INFO] Predicted query:  ['<SOS>', 'city', 'and', 'a', 'baby', '<POS>', 'city', '<POS>', 'and', 'a', 'that', 'baby', '<EOS>', '*', '*', '*', '*', '*', '*', '*', '*', '*', '*', '*', '*', '*', '*', '*', '*', '*', '*', '*', '*', '*', '*', '*', '*', '*', '*', '*', '*', '*', '*', '*', '*', '*', '*', '*', '*', '*', '*', '*', '*', '*', '*', '*', '*', '*', '*', '*', '*', '*', '*', '*', '*', '*', '*', '*', '*', '*', '*', '*']\n",
      "[INFO] End epoch [76], train Loss: 0.4117, test loss: 0.4099\n",
      "[INFO] Start epoch [77] ...\n"
     ]
    },
    {
     "name": "stderr",
     "output_type": "stream",
     "text": [
      "100%|██████████| 38/38 [00:11<00:00,  3.44it/s]\n",
      " 10%|█         | 1/10 [00:00<00:01,  7.19it/s]"
     ]
    },
    {
     "name": "stdout",
     "output_type": "stream",
     "text": [
      "[INFO] Target query:  ['<SOS>', 'new', 'beach', '<POS>', 'cat', 'in', 'the', 'cradle', '<POS>', 'cat', 'in', 'the', 'cradle', 'feat', '<EOS>', '*', '*', '*', '*', '*', '*', '*', '*', '*', '*', '*', '*', '*', '*', '*', '*', '*', '*', '*', '*', '*', '*', '*', '*', '*', '*', '*', '*', '*', '*', '*', '*', '*', '*', '*', '*', '*', '*', '*', '*', '*', '*', '*', '*', '*', '*', '*', '*', '*', '*', '*', '*', '*', '*', '*', '*', '*']\n",
      "[INFO] Predicted query:  ['<SOS>', 'new', 'that', '<POS>', 'cat', 'in', 'the', '<POS>', '<POS>', 'cat', 'in', 'the', '<POS>', 'in', '<EOS>', '*', '*', '*', '*', '*', '*', '*', '*', '*', '*', '*', '*', '*', '*', '*', '*', '*', '*', '*', '*', '*', '*', '*', '*', '*', '*', '*', '*', '*', '*', '*', '*', '*', '*', '*', '*', '*', '*', '*', '*', '*', '*', '*', '*', '*', '*', '*', '*', '*', '*', '*', '*', '*', '*', '*', '*', '*']\n"
     ]
    },
    {
     "name": "stderr",
     "output_type": "stream",
     "text": [
      "100%|██████████| 10/10 [00:01<00:00,  8.60it/s]\n",
      "  0%|          | 0/38 [00:00<?, ?it/s]"
     ]
    },
    {
     "name": "stdout",
     "output_type": "stream",
     "text": [
      "[INFO] Target query:  ['<SOS>', 'cartoon', 'baby', 'rhino', 'picture', '<POS>', 'animate', 'baby', 'rhino', 'picture', '<POS>', 'cartoon', 'baby', 'rhino', '<POS>', 'baby', 'rhino', '<POS>', 'cartoon', 'baby', 'rhino', '<EOS>', '*', '*', '*', '*', '*', '*', '*', '*', '*', '*', '*', '*', '*', '*', '*', '*', '*', '*', '*', '*', '*', '*', '*', '*', '*', '*', '*', '*', '*', '*', '*', '*', '*', '*', '*', '*', '*', '*', '*', '*', '*', '*', '*', '*', '*', '*', '*', '*', '*', '*']\n",
      "[INFO] Predicted query:  ['<SOS>', 'your', 'baby', 'phone', 'picture', '<POS>', '<POS>', 'baby', 'phone', 'picture', '<POS>', 'your', 'baby', 'phone', '<POS>', 'baby', 'phone', '<POS>', 'your', 'baby', 'phone', '<EOS>', '*', '*', '*', '*', '*', '*', '*', '*', '*', '*', '*', '*', '*', '*', '*', '*', '*', '*', '*', '*', '*', '*', '*', '*', '*', '*', '*', '*', '*', '*', '*', '*', '*', '*', '*', '*', '*', '*', '*', '*', '*', '*', '*', '*', '*', '*', '*', '*', '*', '*']\n",
      "[INFO] End epoch [77], train Loss: 0.4112, test loss: 0.4095\n",
      "[INFO] Start epoch [78] ...\n"
     ]
    },
    {
     "name": "stderr",
     "output_type": "stream",
     "text": [
      "100%|██████████| 38/38 [00:11<00:00,  3.43it/s]\n",
      " 10%|█         | 1/10 [00:00<00:01,  7.44it/s]"
     ]
    },
    {
     "name": "stdout",
     "output_type": "stream",
     "text": [
      "[INFO] Target query:  ['<SOS>', 'pregnancy', 'boy', 'or', 'girl', '<POS>', 'how', 'long', 'it', 'take', 'to', 'find', 'out', 'the', 'baby', 'gender', '<EOS>', '*', '*', '*', '*', '*', '*', '*', '*', '*', '*', '*', '*', '*', '*', '*', '*', '*', '*', '*', '*', '*', '*', '*', '*', '*', '*', '*', '*', '*', '*', '*', '*', '*', '*', '*', '*', '*', '*', '*', '*', '*', '*', '*', '*', '*', '*', '*', '*', '*', '*', '*', '*', '*', '*', '*']\n",
      "[INFO] Predicted query:  ['<SOS>', 'pregnancy', 'boy', 'or', 'girl', '<POS>', 'how', 'long', 'it', 'boy', 'to', 'boy', 'pregnancy', 'the', 'baby', 'boy', '<EOS>', '*', '*', '*', '*', '*', '*', '*', '*', '*', '*', '*', '*', '*', '*', '*', '*', '*', '*', '*', '*', '*', '*', '*', '*', '*', '*', '*', '*', '*', '*', '*', '*', '*', '*', '*', '*', '*', '*', '*', '*', '*', '*', '*', '*', '*', '*', '*', '*', '*', '*', '*', '*', '*', '*', '*']\n"
     ]
    },
    {
     "name": "stderr",
     "output_type": "stream",
     "text": [
      "100%|██████████| 10/10 [00:01<00:00,  8.68it/s]\n",
      "  0%|          | 0/38 [00:00<?, ?it/s]"
     ]
    },
    {
     "name": "stdout",
     "output_type": "stream",
     "text": [
      "[INFO] Target query:  ['<SOS>', 'sugar', 'and', 'cancer', '<POS>', 'cancer', 'and', 'sugar', '<POS>', 'tongue', 'cancer', '<POS>', 'tongue', 'cancer', 'and', 'sugar', '<POS>', 'cancer', 'and', 'sugar', '<EOS>', '*', '*', '*', '*', '*', '*', '*', '*', '*', '*', '*', '*', '*', '*', '*', '*', '*', '*', '*', '*', '*', '*', '*', '*', '*', '*', '*', '*', '*', '*', '*', '*', '*', '*', '*', '*', '*', '*', '*', '*', '*', '*', '*', '*', '*', '*', '*', '*', '*', '*', '*']\n",
      "[INFO] Predicted query:  ['<SOS>', 'boy', 'and', 'cancer', '<POS>', 'cancer', 'and', 'period', '<POS>', 'boy', 'cancer', '<POS>', 'boy', 'cancer', 'and', 'period', '<POS>', 'cancer', 'and', 'period', '<EOS>', '*', '*', '*', '*', '*', '*', '*', '*', '*', '*', '*', '*', '*', '*', '*', '*', '*', '*', '*', '*', '*', '*', '*', '*', '*', '*', '*', '*', '*', '*', '*', '*', '*', '*', '*', '*', '*', '*', '*', '*', '*', '*', '*', '*', '*', '*', '*', '*', '*', '*', '*']\n",
      "[INFO] End epoch [78], train Loss: 0.4110, test loss: 0.4093\n",
      "[INFO] Start epoch [79] ...\n"
     ]
    },
    {
     "name": "stderr",
     "output_type": "stream",
     "text": [
      "100%|██████████| 38/38 [00:11<00:00,  3.39it/s]\n",
      " 10%|█         | 1/10 [00:00<00:01,  7.51it/s]"
     ]
    },
    {
     "name": "stdout",
     "output_type": "stream",
     "text": [
      "[INFO] Target query:  ['<SOS>', 'treasury', 'direct', 'telephone', '<POS>', 'fantastic', 'finish', 'royal', 'palm', 'beach', '<POS>', 'scanner', 'driver', '<POS>', 'world', '<EOS>', '*', '*', '*', '*', '*', '*', '*', '*', '*', '*', '*', '*', '*', '*', '*', '*', '*', '*', '*', '*', '*', '*', '*', '*', '*', '*', '*', '*', '*', '*', '*', '*', '*', '*', '*', '*', '*', '*', '*', '*', '*', '*', '*', '*', '*', '*', '*', '*', '*', '*', '*', '*', '*', '*', '*', '*']\n",
      "[INFO] Predicted query:  ['<SOS>', 'dark', 'work', 'school', '<POS>', 'you', 'school', 'type', '<POS>', 'that', '<POS>', 'type', 'do', '<POS>', 'world', '<EOS>', '*', '*', '*', '*', '*', '*', '*', '*', '*', '*', '*', '*', '*', '*', '*', '*', '*', '*', '*', '*', '*', '*', '*', '*', '*', '*', '*', '*', '*', '*', '*', '*', '*', '*', '*', '*', '*', '*', '*', '*', '*', '*', '*', '*', '*', '*', '*', '*', '*', '*', '*', '*', '*', '*', '*', '*']\n"
     ]
    },
    {
     "name": "stderr",
     "output_type": "stream",
     "text": [
      "100%|██████████| 10/10 [00:01<00:00,  8.69it/s]\n",
      "  0%|          | 0/38 [00:00<?, ?it/s]"
     ]
    },
    {
     "name": "stdout",
     "output_type": "stream",
     "text": [
      "[INFO] Target query:  ['<SOS>', 'the', 'meaning', 'of', 'a', 'girl', 'sweet', 'sixteen', 'birthday', '<POS>', 'the', 'culture', 'of', 'a', 'sweet', 'sixteen', 'girl', '<POS>', 'the', 'history', 'and', 'culture', 'of', 'a', 'girl', 'birthday', '<POS>', 'the', 'culture', 'of', 'a', 'girl', 'coming', 'of', 'age', '<EOS>', '*', '*', '*', '*', '*', '*', '*', '*', '*', '*', '*', '*', '*', '*', '*', '*', '*', '*', '*', '*', '*', '*', '*', '*', '*', '*', '*', '*', '*', '*', '*', '*', '*', '*', '*', '*']\n",
      "[INFO] Predicted query:  ['<SOS>', 'the', 'lyric', 'of', 'a', 'girl', 'treatment', '*', 'treatment', '<POS>', 'the', 'invitation', 'of', 'a', 'treatment', '*', 'girl', '<POS>', 'the', 'cancer', 'and', 'invitation', 'of', 'a', 'girl', 'treatment', '<POS>', 'the', 'invitation', 'of', 'a', 'girl', 'york', 'of', 'type', '<EOS>', '*', '*', '*', '*', '*', '*', '*', '*', '*', '*', '*', '*', '*', '*', '*', '*', '*', '*', '*', '*', '*', '*', '*', '*', '*', '*', '*', '*', '*', '*', '*', '*', '*', '*', '*', '*']\n",
      "[INFO] End epoch [79], train Loss: 0.4104, test loss: 0.4087\n",
      "[INFO] Start epoch [80] ...\n"
     ]
    },
    {
     "name": "stderr",
     "output_type": "stream",
     "text": [
      "100%|██████████| 38/38 [00:11<00:00,  3.44it/s]\n",
      " 10%|█         | 1/10 [00:00<00:01,  7.40it/s]"
     ]
    },
    {
     "name": "stdout",
     "output_type": "stream",
     "text": [
      "[INFO] Target query:  ['<SOS>', 'buss', 'pick', 'up', 'at', 'hotel', '<POS>', 'to', 'do', 'in', 'new', 'york', 'city', '<POS>', 'shopping', 'in', 'new', 'york', 'city', '<EOS>', '*', '*', '*', '*', '*', '*', '*', '*', '*', '*', '*', '*', '*', '*', '*', '*', '*', '*', '*', '*', '*', '*', '*', '*', '*', '*', '*', '*', '*', '*', '*', '*', '*', '*', '*', '*', '*', '*', '*', '*', '*', '*', '*', '*', '*', '*', '*', '*', '*', '*', '*', '*']\n",
      "[INFO] Predicted query:  ['<SOS>', 'i', 'your', 'school', 'at', 'your', '<POS>', 'to', 'do', 'in', 'new', 'york', 'city', '<POS>', 'king', 'in', 'new', 'york', 'city', '<EOS>', '*', '*', '*', '*', '*', '*', '*', '*', '*', '*', '*', '*', '*', '*', '*', '*', '*', '*', '*', '*', '*', '*', '*', '*', '*', '*', '*', '*', '*', '*', '*', '*', '*', '*', '*', '*', '*', '*', '*', '*', '*', '*', '*', '*', '*', '*', '*', '*', '*', '*', '*', '*']\n"
     ]
    },
    {
     "name": "stderr",
     "output_type": "stream",
     "text": [
      "100%|██████████| 10/10 [00:01<00:00,  8.69it/s]\n",
      "  0%|          | 0/38 [00:00<?, ?it/s]"
     ]
    },
    {
     "name": "stdout",
     "output_type": "stream",
     "text": [
      "[INFO] Target query:  ['<SOS>', 'cancer', 'patient', 'expose', 'to', 'shingles', '<POS>', 'bone', 'cancer', '<POS>', 'bone', 'pain', 'non', 'small', 'cell', 'adenocarcinoma', '<EOS>', '*', '*', '*', '*', '*', '*', '*', '*', '*', '*', '*', '*', '*', '*', '*', '*', '*', '*', '*', '*', '*', '*', '*', '*', '*', '*', '*', '*', '*', '*', '*', '*', '*', '*', '*', '*', '*', '*', '*', '*', '*', '*', '*', '*', '*', '*', '*', '*', '*', '*', '*', '*', '*', '*', '*']\n",
      "[INFO] Predicted query:  ['<SOS>', 'cancer', '<POS>', 'king', 'to', 'your', '<POS>', 'bone', 'cancer', '<POS>', 'bone', '<POS>', 'non', 'small', 'cell', 'let', '<EOS>', '*', '*', '*', '*', '*', '*', '*', '*', '*', '*', '*', '*', '*', '*', '*', '*', '*', '*', '*', '*', '*', '*', '*', '*', '*', '*', '*', '*', '*', '*', '*', '*', '*', '*', '*', '*', '*', '*', '*', '*', '*', '*', '*', '*', '*', '*', '*', '*', '*', '*', '*', '*', '*', '*', '*']\n",
      "[INFO] End epoch [80], train Loss: 0.4101, test loss: 0.4086\n",
      "[INFO] Start epoch [81] ...\n"
     ]
    },
    {
     "name": "stderr",
     "output_type": "stream",
     "text": [
      "100%|██████████| 38/38 [00:11<00:00,  3.44it/s]\n",
      " 10%|█         | 1/10 [00:00<00:01,  7.42it/s]"
     ]
    },
    {
     "name": "stdout",
     "output_type": "stream",
     "text": [
      "[INFO] Target query:  ['<SOS>', 'baby', 'bed', '<POS>', 'below', 'wholesale', 'baby', 'bed', '<POS>', 'wholesale', 'baby', 'bed', '<POS>', 'cheap', 'baby', 'bed', '<POS>', 'baby', 'bed', 'liquidator', '<POS>', 'baby', 'bed', 'liquidator', '<EOS>', '*', '*', '*', '*', '*', '*', '*', '*', '*', '*', '*', '*', '*', '*', '*', '*', '*', '*', '*', '*', '*', '*', '*', '*', '*', '*', '*', '*', '*', '*', '*', '*', '*', '*', '*', '*', '*', '*', '*', '*', '*', '*', '*', '*', '*', '*', '*']\n",
      "[INFO] Predicted query:  ['<SOS>', 'baby', 'first', '<POS>', 'buy', 'bladder', 'baby', 'first', '<POS>', 'bladder', 'baby', 'first', '<POS>', 'bladder', 'baby', 'first', '<POS>', 'baby', 'first', 'first', '<POS>', 'baby', 'first', 'first', '<EOS>', '*', '*', '*', '*', '*', '*', '*', '*', '*', '*', '*', '*', '*', '*', '*', '*', '*', '*', '*', '*', '*', '*', '*', '*', '*', '*', '*', '*', '*', '*', '*', '*', '*', '*', '*', '*', '*', '*', '*', '*', '*', '*', '*', '*', '*', '*', '*']\n"
     ]
    },
    {
     "name": "stderr",
     "output_type": "stream",
     "text": [
      "100%|██████████| 10/10 [00:01<00:00,  8.70it/s]\n",
      "  0%|          | 0/38 [00:00<?, ?it/s]"
     ]
    },
    {
     "name": "stdout",
     "output_type": "stream",
     "text": [
      "[INFO] Target query:  ['<SOS>', 'be', 'there', 'a', 'build', 'a', 'bear', 'in', 'the', 'rio', 'valley', '<POS>', 'be', 'there', 'a', 'build', 'a', 'bear', 'in', 'the', 'rio', 'valley', 'mall', '<POS>', 'west', 'at', 'camp', '<EOS>', '*', '*', '*', '*', '*', '*', '*', '*', '*', '*', '*', '*', '*', '*', '*', '*', '*', '*', '*', '*', '*', '*', '*', '*', '*', '*', '*', '*', '*', '*', '*', '*', '*', '*', '*', '*', '*', '*', '*', '*', '*', '*', '*', '*']\n",
      "[INFO] Predicted query:  ['<SOS>', 'be', 'baby', 'a', 'bladder', 'a', 'bear', 'in', 'the', 'pregnant', 'buy', '<POS>', 'be', 'baby', 'a', 'bladder', 'a', 'bear', 'in', 'the', 'pregnant', 'buy', 'bladder', '<POS>', 'bladder', 'at', 'bladder', '<EOS>', '*', '*', '*', '*', '*', '*', '*', '*', '*', '*', '*', '*', '*', '*', '*', '*', '*', '*', '*', '*', '*', '*', '*', '*', '*', '*', '*', '*', '*', '*', '*', '*', '*', '*', '*', '*', '*', '*', '*', '*', '*', '*', '*', '*']\n",
      "[INFO] End epoch [81], train Loss: 0.4094, test loss: 0.4081\n",
      "[INFO] Start epoch [82] ...\n"
     ]
    },
    {
     "name": "stderr",
     "output_type": "stream",
     "text": [
      "100%|██████████| 38/38 [00:11<00:00,  3.43it/s]\n",
      " 10%|█         | 1/10 [00:00<00:01,  7.29it/s]"
     ]
    },
    {
     "name": "stdout",
     "output_type": "stream",
     "text": [
      "[INFO] Target query:  ['<SOS>', 'the', 'west', 'wing', '<POS>', 'he', 'da', 'code', '<POS>', 'the', 'da', 'code', 'movie', 'review', '<EOS>', '*', '*', '*', '*', '*', '*', '*', '*', '*', '*', '*', '*', '*', '*', '*', '*', '*', '*', '*', '*', '*', '*', '*', '*', '*', '*', '*', '*', '*', '*', '*', '*', '*', '*', '*', '*', '*', '*', '*', '*', '*', '*', '*', '*', '*', '*', '*', '*', '*', '*', '*', '*', '*', '*', '*', '*', '*']\n",
      "[INFO] Predicted query:  ['<SOS>', 'the', 'walk', 'letter', '<POS>', 'walk', 'early', 'walk', '<POS>', 'the', 'early', 'walk', 'early', 'walk', '<EOS>', '*', '*', '*', '*', '*', '*', '*', '*', '*', '*', '*', '*', '*', '*', '*', '*', '*', '*', '*', '*', '*', '*', '*', '*', '*', '*', '*', '*', '*', '*', '*', '*', '*', '*', '*', '*', '*', '*', '*', '*', '*', '*', '*', '*', '*', '*', '*', '*', '*', '*', '*', '*', '*', '*', '*', '*', '*']\n"
     ]
    },
    {
     "name": "stderr",
     "output_type": "stream",
     "text": [
      "100%|██████████| 10/10 [00:01<00:00,  8.72it/s]\n",
      "  0%|          | 0/38 [00:00<?, ?it/s]"
     ]
    },
    {
     "name": "stdout",
     "output_type": "stream",
     "text": [
      "[INFO] Target query:  ['<SOS>', 'quote', 'a', 'can', 'get', 'you', 'money', 'a', 'big', 'house', 'a', 'shoe', 'deal', 'but', 'none', 'of', 'these', 'can', 'get', 'you', 'a', '<POS>', 'quote', 'a', 'can', 'get', 'you', 'money', '<POS>', 'quote', 'a', 'jump', 'shot', 'can', 'get', 'you', '<POS>', 'knee', '<EOS>', '*', '*', '*', '*', '*', '*', '*', '*', '*', '*', '*', '*', '*', '*', '*', '*', '*', '*', '*', '*', '*', '*', '*', '*', '*', '*', '*', '*', '*', '*', '*', '*', '*']\n",
      "[INFO] Predicted query:  ['<SOS>', 'walk', 'a', 'can', 'get', 'you', 'early', 'a', 'early', 'early', 'a', 'walk', 'walk', 'early', 'early', 'of', 'walk', 'can', 'get', 'you', 'a', '<POS>', 'walk', 'a', 'can', 'get', 'you', 'early', '<POS>', 'walk', 'a', 'early', '*', 'can', 'get', 'you', '<POS>', 'early', '<EOS>', '*', '*', '*', '*', '*', '*', '*', '*', '*', '*', '*', '*', '*', '*', '*', '*', '*', '*', '*', '*', '*', '*', '*', '*', '*', '*', '*', '*', '*', '*', '*', '*', '*']\n",
      "[INFO] End epoch [82], train Loss: 0.4090, test loss: 0.4078\n",
      "[INFO] Start epoch [83] ...\n"
     ]
    },
    {
     "name": "stderr",
     "output_type": "stream",
     "text": [
      "100%|██████████| 38/38 [00:10<00:00,  3.46it/s]\n",
      " 10%|█         | 1/10 [00:00<00:01,  7.42it/s]"
     ]
    },
    {
     "name": "stdout",
     "output_type": "stream",
     "text": [
      "[INFO] Target query:  ['<SOS>', 'i', 'want', 'to', 'thank', 'you', 'baby', '<POS>', 'i', 'miss', 'you', 'baby', '<EOS>', '*', '*', '*', '*', '*', '*', '*', '*', '*', '*', '*', '*', '*', '*', '*', '*', '*', '*', '*', '*', '*', '*', '*', '*', '*', '*', '*', '*', '*', '*', '*', '*', '*', '*', '*', '*', '*', '*', '*', '*', '*', '*', '*', '*', '*', '*', '*', '*', '*', '*', '*', '*', '*', '*', '*', '*', '*', '*', '*']\n",
      "[INFO] Predicted query:  ['<SOS>', 'i', 'patient', 'to', 'patient', 'you', 'baby', '<POS>', 'i', '*', 'you', 'baby', '<EOS>', '*', '*', '*', '*', '*', '*', '*', '*', '*', '*', '*', '*', '*', '*', '*', '*', '*', '*', '*', '*', '*', '*', '*', '*', '*', '*', '*', '*', '*', '*', '*', '*', '*', '*', '*', '*', '*', '*', '*', '*', '*', '*', '*', '*', '*', '*', '*', '*', '*', '*', '*', '*', '*', '*', '*', '*', '*', '*', '*']\n"
     ]
    },
    {
     "name": "stderr",
     "output_type": "stream",
     "text": [
      "100%|██████████| 10/10 [00:01<00:00,  8.73it/s]\n",
      "  0%|          | 0/38 [00:00<?, ?it/s]"
     ]
    },
    {
     "name": "stdout",
     "output_type": "stream",
     "text": [
      "[INFO] Target query:  ['<SOS>', 'free', 'picture', 'of', 'close', 'up', 'pussy', '<POS>', 'free', 'picture', 'of', 'shave', 'pussy', '<POS>', 'free', 'picture', 'of', 'pussy', '<POS>', 'free', 'picture', 'of', 'dad', 'and', 'young', 'girl', '<EOS>', '*', '*', '*', '*', '*', '*', '*', '*', '*', '*', '*', '*', '*', '*', '*', '*', '*', '*', '*', '*', '*', '*', '*', '*', '*', '*', '*', '*', '*', '*', '*', '*', '*', '*', '*', '*', '*', '*', '*', '*', '*', '*', '*', '*', '*']\n",
      "[INFO] Predicted query:  ['<SOS>', 'free', 'picture', 'of', 'patient', 'patient', 'patient', '<POS>', 'free', 'picture', 'of', 'patient', 'patient', '<POS>', 'free', 'picture', 'of', 'patient', '<POS>', 'free', 'picture', 'of', 'patient', 'and', 'patient', 'girl', '<EOS>', '*', '*', '*', '*', '*', '*', '*', '*', '*', '*', '*', '*', '*', '*', '*', '*', '*', '*', '*', '*', '*', '*', '*', '*', '*', '*', '*', '*', '*', '*', '*', '*', '*', '*', '*', '*', '*', '*', '*', '*', '*', '*', '*', '*', '*']\n",
      "[INFO] End epoch [83], train Loss: 0.4087, test loss: 0.4077\n",
      "[INFO] Start epoch [84] ...\n"
     ]
    },
    {
     "name": "stderr",
     "output_type": "stream",
     "text": [
      "100%|██████████| 38/38 [00:11<00:00,  3.45it/s]\n",
      " 10%|█         | 1/10 [00:00<00:01,  7.65it/s]"
     ]
    },
    {
     "name": "stdout",
     "output_type": "stream",
     "text": [
      "[INFO] Target query:  ['<SOS>', 'amy', 'i', 'am', 'old', 'and', 'a', 'large', 'tumor', 'on', 'my', 'brain', 'and', 'severe', 'lung', 'cancer', 'the', 'doctor', 'say', 'i', 'will', 'die', 'soon', 'if', 'this', 'be', 'fix', 'and', 'my', 'family', 'ca', 'pay', 'the', 'bill', 'the', 'make', 'a', 'wish', 'foundation', 'ha', 'agree', 'to', 'donate', 'cent', 'for', 'eve', '<EOS>', '*', '*', '*', '*', '*', '*', '*', '*', '*', '*', '*', '*', '*', '*', '*', '*', '*', '*', '*', '*', '*', '*', '*', '*', '*']\n",
      "[INFO] Predicted query:  ['<SOS>', 'university', 'i', 'am', 'teen', 'and', 'a', 'large', 'tumor', 'on', 'my', 'brain', 'and', 'teen', 'lung', 'cancer', 'the', 'doctor', 'gas', 'i', 'teen', 'die', 'soon', 'teen', 'patient', 'be', 'patient', 'and', 'my', 'family', 'teen', 'just', 'the', 'gas', 'the', 'make', 'a', 'university', 'university', 'university', 'just', 'to', 'teen', 'just', 'for', 'just', '<EOS>', '*', '*', '*', '*', '*', '*', '*', '*', '*', '*', '*', '*', '*', '*', '*', '*', '*', '*', '*', '*', '*', '*', '*', '*', '*']\n"
     ]
    },
    {
     "name": "stderr",
     "output_type": "stream",
     "text": [
      "100%|██████████| 10/10 [00:01<00:00,  8.71it/s]\n",
      "  0%|          | 0/38 [00:00<?, ?it/s]"
     ]
    },
    {
     "name": "stdout",
     "output_type": "stream",
     "text": [
      "[INFO] Target query:  ['<SOS>', 'be', 'spear', 'pregnant', 'again', '<POS>', 'pregnancy', '<POS>', 'pregnancy', 'calendar', '<POS>', 'ha', 'her', 'baby', '<POS>', 'baby', 'be', 'born', '<POS>', 'pregnancy', 'calendar', '<POS>', 'how', 'to', 'get', 'pregnant', '<POS>', 'when', 'to', 'get', 'pregnant', '<EOS>', '*', '*', '*', '*', '*', '*', '*', '*', '*', '*', '*', '*', '*', '*', '*', '*', '*', '*', '*', '*', '*', '*', '*', '*', '*', '*', '*', '*', '*', '*', '*', '*', '*', '*', '*', '*', '*', '*', '*', '*']\n",
      "[INFO] Predicted query:  ['<SOS>', 'be', 'teen', 'pregnant', 'teen', '<POS>', 'pregnancy', '<POS>', 'pregnancy', 'for', '<POS>', 'just', 'teen', 'baby', '<POS>', 'baby', 'be', 'teen', '<POS>', 'pregnancy', 'for', '<POS>', 'how', 'to', 'get', 'pregnant', '<POS>', 'when', 'to', 'get', 'pregnant', '<EOS>', '*', '*', '*', '*', '*', '*', '*', '*', '*', '*', '*', '*', '*', '*', '*', '*', '*', '*', '*', '*', '*', '*', '*', '*', '*', '*', '*', '*', '*', '*', '*', '*', '*', '*', '*', '*', '*', '*', '*', '*']\n",
      "[INFO] End epoch [84], train Loss: 0.4084, test loss: 0.4071\n",
      "[INFO] Start epoch [85] ...\n"
     ]
    },
    {
     "name": "stderr",
     "output_type": "stream",
     "text": [
      "100%|██████████| 38/38 [00:11<00:00,  3.44it/s]\n",
      " 10%|█         | 1/10 [00:00<00:01,  7.28it/s]"
     ]
    },
    {
     "name": "stdout",
     "output_type": "stream",
     "text": [
      "[INFO] Target query:  ['<SOS>', 'racist', 'riot', '<POS>', 'racist', 'riot', 'in', 'high', 'school', '<POS>', 'riot', 'in', 'high', 'school', '<EOS>', '*', '*', '*', '*', '*', '*', '*', '*', '*', '*', '*', '*', '*', '*', '*', '*', '*', '*', '*', '*', '*', '*', '*', '*', '*', '*', '*', '*', '*', '*', '*', '*', '*', '*', '*', '*', '*', '*', '*', '*', '*', '*', '*', '*', '*', '*', '*', '*', '*', '*', '*', '*', '*', '*', '*', '*', '*']\n",
      "[INFO] Predicted query:  ['<SOS>', 'colon', 'blood', '<POS>', 'take', 'blood', 'in', 'high', 'school', '<POS>', 'blood', 'in', 'high', 'school', '<EOS>', '*', '*', '*', '*', '*', '*', '*', '*', '*', '*', '*', '*', '*', '*', '*', '*', '*', '*', '*', '*', '*', '*', '*', '*', '*', '*', '*', '*', '*', '*', '*', '*', '*', '*', '*', '*', '*', '*', '*', '*', '*', '*', '*', '*', '*', '*', '*', '*', '*', '*', '*', '*', '*', '*', '*', '*', '*']\n"
     ]
    },
    {
     "name": "stderr",
     "output_type": "stream",
     "text": [
      "100%|██████████| 10/10 [00:01<00:00,  8.65it/s]\n",
      "  0%|          | 0/38 [00:00<?, ?it/s]"
     ]
    },
    {
     "name": "stdout",
     "output_type": "stream",
     "text": [
      "[INFO] Target query:  ['<SOS>', 'picture', 'of', 'the', 'cervix', 'with', 'cancer', '<POS>', 'degenerative', 'disease', 'turning', 'into', 'cancer', '<EOS>', '*', '*', '*', '*', '*', '*', '*', '*', '*', '*', '*', '*', '*', '*', '*', '*', '*', '*', '*', '*', '*', '*', '*', '*', '*', '*', '*', '*', '*', '*', '*', '*', '*', '*', '*', '*', '*', '*', '*', '*', '*', '*', '*', '*', '*', '*', '*', '*', '*', '*', '*', '*', '*', '*', '*', '*', '*', '*']\n",
      "[INFO] Predicted query:  ['<SOS>', 'picture', 'of', 'the', 'blood', 'with', 'cancer', '<POS>', 'blood', 'blood', 'pregnancy', '<POS>', 'cancer', '<EOS>', '*', '*', '*', '*', '*', '*', '*', '*', '*', '*', '*', '*', '*', '*', '*', '*', '*', '*', '*', '*', '*', '*', '*', '*', '*', '*', '*', '*', '*', '*', '*', '*', '*', '*', '*', '*', '*', '*', '*', '*', '*', '*', '*', '*', '*', '*', '*', '*', '*', '*', '*', '*', '*', '*', '*', '*', '*', '*']\n",
      "[INFO] End epoch [85], train Loss: 0.4076, test loss: 0.4061\n",
      "[INFO] Start epoch [86] ...\n"
     ]
    },
    {
     "name": "stderr",
     "output_type": "stream",
     "text": [
      "100%|██████████| 38/38 [00:10<00:00,  3.46it/s]\n",
      " 10%|█         | 1/10 [00:00<00:01,  7.30it/s]"
     ]
    },
    {
     "name": "stdout",
     "output_type": "stream",
     "text": [
      "[INFO] Target query:  ['<SOS>', 'us', 'postal', 'service', '<POS>', 'us', 'postal', 'service', 'bulk', 'mail', 'center', '<POS>', 'bulk', 'mail', 'center', '<EOS>', '*', '*', '*', '*', '*', '*', '*', '*', '*', '*', '*', '*', '*', '*', '*', '*', '*', '*', '*', '*', '*', '*', '*', '*', '*', '*', '*', '*', '*', '*', '*', '*', '*', '*', '*', '*', '*', '*', '*', '*', '*', '*', '*', '*', '*', '*', '*', '*', '*', '*', '*', '*', '*', '*', '*', '*']\n",
      "[INFO] Predicted query:  ['<SOS>', 'us', 'canyon', 'life', '<POS>', 'us', 'canyon', 'life', 'canyon', 'job', 'center', '<POS>', 'job', 'job', 'center', '<EOS>', '*', '*', '*', '*', '*', '*', '*', '*', '*', '*', '*', '*', '*', '*', '*', '*', '*', '*', '*', '*', '*', '*', '*', '*', '*', '*', '*', '*', '*', '*', '*', '*', '*', '*', '*', '*', '*', '*', '*', '*', '*', '*', '*', '*', '*', '*', '*', '*', '*', '*', '*', '*', '*', '*', '*', '*']\n"
     ]
    },
    {
     "name": "stderr",
     "output_type": "stream",
     "text": [
      "100%|██████████| 10/10 [00:01<00:00,  8.72it/s]\n",
      "  0%|          | 0/38 [00:00<?, ?it/s]"
     ]
    },
    {
     "name": "stdout",
     "output_type": "stream",
     "text": [
      "[INFO] Target query:  ['<SOS>', 'pregnancy', '<POS>', 'pregnancy', '<POS>', 'pregnancy', '<POS>', 'pregnancy', '<POS>', 'baby', 'girl', '<POS>', 'club', 'foot', 'in', 'pregnancy', '<EOS>', '*', '*', '*', '*', '*', '*', '*', '*', '*', '*', '*', '*', '*', '*', '*', '*', '*', '*', '*', '*', '*', '*', '*', '*', '*', '*', '*', '*', '*', '*', '*', '*', '*', '*', '*', '*', '*', '*', '*', '*', '*', '*', '*', '*', '*', '*', '*', '*', '*', '*', '*', '*', '*', '*', '*']\n",
      "[INFO] Predicted query:  ['<SOS>', 'pregnancy', '<POS>', 'pregnancy', '<POS>', 'pregnancy', '<POS>', 'pregnancy', '<POS>', 'baby', 'girl', '<POS>', 'job', 'job', 'in', 'pregnancy', '<EOS>', '*', '*', '*', '*', '*', '*', '*', '*', '*', '*', '*', '*', '*', '*', '*', '*', '*', '*', '*', '*', '*', '*', '*', '*', '*', '*', '*', '*', '*', '*', '*', '*', '*', '*', '*', '*', '*', '*', '*', '*', '*', '*', '*', '*', '*', '*', '*', '*', '*', '*', '*', '*', '*', '*', '*']\n",
      "[INFO] End epoch [86], train Loss: 0.4066, test loss: 0.4056\n",
      "[INFO] Start epoch [87] ...\n"
     ]
    },
    {
     "name": "stderr",
     "output_type": "stream",
     "text": [
      "100%|██████████| 38/38 [00:10<00:00,  3.46it/s]\n",
      " 10%|█         | 1/10 [00:00<00:01,  7.18it/s]"
     ]
    },
    {
     "name": "stdout",
     "output_type": "stream",
     "text": [
      "[INFO] Target query:  ['<SOS>', 'someone', 'come', 'and', 'rescue', 'me', '<POS>', 'dissonance', '<POS>', 'the', 'code', 'movie', 'rate', '<EOS>', '*', '*', '*', '*', '*', '*', '*', '*', '*', '*', '*', '*', '*', '*', '*', '*', '*', '*', '*', '*', '*', '*', '*', '*', '*', '*', '*', '*', '*', '*', '*', '*', '*', '*', '*', '*', '*', '*', '*', '*', '*', '*', '*', '*', '*', '*', '*', '*', '*', '*', '*', '*', '*', '*', '*', '*', '*', '*']\n",
      "[INFO] Predicted query:  ['<SOS>', 'acute', 'have', 'and', 'club', 'me', '<POS>', 'club', '<POS>', 'the', 'large', 'on', 'song', '<EOS>', '*', '*', '*', '*', '*', '*', '*', '*', '*', '*', '*', '*', '*', '*', '*', '*', '*', '*', '*', '*', '*', '*', '*', '*', '*', '*', '*', '*', '*', '*', '*', '*', '*', '*', '*', '*', '*', '*', '*', '*', '*', '*', '*', '*', '*', '*', '*', '*', '*', '*', '*', '*', '*', '*', '*', '*', '*', '*']\n"
     ]
    },
    {
     "name": "stderr",
     "output_type": "stream",
     "text": [
      "100%|██████████| 10/10 [00:01<00:00,  8.70it/s]\n",
      "  0%|          | 0/38 [00:00<?, ?it/s]"
     ]
    },
    {
     "name": "stdout",
     "output_type": "stream",
     "text": [
      "[INFO] Target query:  ['<SOS>', 'drink', 'recipe', '<POS>', 'department', 'of', 'education', '<POS>', 'unite', 'state', 'treasury', 'bill', '<POS>', 'script', '<EOS>', '*', '*', '*', '*', '*', '*', '*', '*', '*', '*', '*', '*', '*', '*', '*', '*', '*', '*', '*', '*', '*', '*', '*', '*', '*', '*', '*', '*', '*', '*', '*', '*', '*', '*', '*', '*', '*', '*', '*', '*', '*', '*', '*', '*', '*', '*', '*', '*', '*', '*', '*', '*', '*', '*', '*', '*', '*']\n",
      "[INFO] Predicted query:  ['<SOS>', 'grove', 'job', '<POS>', 'club', 'of', 'chat', '<POS>', 'cause', 'state', 'remove', 'affect', '<POS>', 'cause', '<EOS>', '*', '*', '*', '*', '*', '*', '*', '*', '*', '*', '*', '*', '*', '*', '*', '*', '*', '*', '*', '*', '*', '*', '*', '*', '*', '*', '*', '*', '*', '*', '*', '*', '*', '*', '*', '*', '*', '*', '*', '*', '*', '*', '*', '*', '*', '*', '*', '*', '*', '*', '*', '*', '*', '*', '*', '*', '*']\n",
      "[INFO] End epoch [87], train Loss: 0.4061, test loss: 0.4053\n",
      "[INFO] Start epoch [88] ...\n"
     ]
    },
    {
     "name": "stderr",
     "output_type": "stream",
     "text": [
      "100%|██████████| 38/38 [00:10<00:00,  3.46it/s]\n",
      " 10%|█         | 1/10 [00:00<00:01,  7.58it/s]"
     ]
    },
    {
     "name": "stdout",
     "output_type": "stream",
     "text": [
      "[INFO] Target query:  ['<SOS>', 'intramedullary', 'tumor', '<POS>', 'intramedullary', 'tumor', 'of', 'the', 'cervical', 'spinal', 'cord', '<POS>', 'multiple', 'sclerosis', 'and', 'intramedullary', 'spinal', 'tumor', '<EOS>', '*', '*', '*', '*', '*', '*', '*', '*', '*', '*', '*', '*', '*', '*', '*', '*', '*', '*', '*', '*', '*', '*', '*', '*', '*', '*', '*', '*', '*', '*', '*', '*', '*', '*', '*', '*', '*', '*', '*', '*', '*', '*', '*', '*', '*', '*', '*', '*', '*', '*', '*', '*', '*']\n",
      "[INFO] Predicted query:  ['<SOS>', 'pancreatic', 'tumor', '<POS>', 'pancreatic', 'tumor', 'of', 'the', 'pancreatic', 'pancreatic', 'idea', '<POS>', 'pancreatic', 'pancreatic', 'and', 'pancreatic', 'pancreatic', 'tumor', '<EOS>', '*', '*', '*', '*', '*', '*', '*', '*', '*', '*', '*', '*', '*', '*', '*', '*', '*', '*', '*', '*', '*', '*', '*', '*', '*', '*', '*', '*', '*', '*', '*', '*', '*', '*', '*', '*', '*', '*', '*', '*', '*', '*', '*', '*', '*', '*', '*', '*', '*', '*', '*', '*', '*']\n"
     ]
    },
    {
     "name": "stderr",
     "output_type": "stream",
     "text": [
      "100%|██████████| 10/10 [00:01<00:00,  8.75it/s]\n",
      "  0%|          | 0/38 [00:00<?, ?it/s]"
     ]
    },
    {
     "name": "stdout",
     "output_type": "stream",
     "text": [
      "[INFO] Target query:  ['<SOS>', 'when', 'can', 'you', 'tell', 'a', 'fish', 'be', 'going', 'to', 'have', 'baby', '<POS>', 'tell', 'a', 'fish', 'be', 'going', 'to', 'have', 'baby', '<EOS>', '*', '*', '*', '*', '*', '*', '*', '*', '*', '*', '*', '*', '*', '*', '*', '*', '*', '*', '*', '*', '*', '*', '*', '*', '*', '*', '*', '*', '*', '*', '*', '*', '*', '*', '*', '*', '*', '*', '*', '*', '*', '*', '*', '*', '*', '*', '*', '*', '*', '*']\n",
      "[INFO] Predicted query:  ['<SOS>', 'when', 'can', 'you', 'have', 'a', 'idea', 'be', 'idea', 'to', 'have', 'baby', '<POS>', 'idea', 'a', 'idea', 'be', 'idea', 'to', 'have', 'baby', '<EOS>', '*', '*', '*', '*', '*', '*', '*', '*', '*', '*', '*', '*', '*', '*', '*', '*', '*', '*', '*', '*', '*', '*', '*', '*', '*', '*', '*', '*', '*', '*', '*', '*', '*', '*', '*', '*', '*', '*', '*', '*', '*', '*', '*', '*', '*', '*', '*', '*', '*', '*']\n",
      "[INFO] End epoch [88], train Loss: 0.4057, test loss: 0.4051\n",
      "[INFO] Start epoch [89] ...\n"
     ]
    },
    {
     "name": "stderr",
     "output_type": "stream",
     "text": [
      "100%|██████████| 38/38 [00:11<00:00,  3.38it/s]\n",
      " 10%|█         | 1/10 [00:00<00:01,  7.53it/s]"
     ]
    },
    {
     "name": "stdout",
     "output_type": "stream",
     "text": [
      "[INFO] Target query:  ['<SOS>', 'vaginal', 'bleeding', 'during', 'pregnancy', '<POS>', 'normal', 'to', 'see', 'empty', 'sac', 'at', 'week', 'pregnant', '<POS>', 'baby', 'name', 'meaning', '<EOS>', '*', '*', '*', '*', '*', '*', '*', '*', '*', '*', '*', '*', '*', '*', '*', '*', '*', '*', '*', '*', '*', '*', '*', '*', '*', '*', '*', '*', '*', '*', '*', '*', '*', '*', '*', '*', '*', '*', '*', '*', '*', '*', '*', '*', '*', '*', '*', '*', '*', '*', '*', '*', '*']\n",
      "[INFO] Predicted query:  ['<SOS>', 'month', 'boy', 'during', 'pregnancy', '<POS>', 'breast', 'to', 'wa', 'wa', 'breast', 'at', 'week', 'pregnant', '<POS>', 'baby', 'name', 'meaning', '<EOS>', '*', '*', '*', '*', '*', '*', '*', '*', '*', '*', '*', '*', '*', '*', '*', '*', '*', '*', '*', '*', '*', '*', '*', '*', '*', '*', '*', '*', '*', '*', '*', '*', '*', '*', '*', '*', '*', '*', '*', '*', '*', '*', '*', '*', '*', '*', '*', '*', '*', '*', '*', '*', '*']\n"
     ]
    },
    {
     "name": "stderr",
     "output_type": "stream",
     "text": [
      "100%|██████████| 10/10 [00:01<00:00,  8.67it/s]\n",
      "  0%|          | 0/38 [00:00<?, ?it/s]"
     ]
    },
    {
     "name": "stdout",
     "output_type": "stream",
     "text": [
      "[INFO] Target query:  ['<SOS>', 'pregnancy', 'question', '<POS>', 'question', 'to', 'ask', 'your', 'doctor', 'about', 'pregnancy', '<POS>', 'new', 'baby', '<POS>', 'announce', 'pregnancy', '<POS>', 'baby', '<POS>', 'baby', 'picture', '<POS>', 'pregnancy', 'picture', '<POS>', 'pregnancy', 'poem', '<POS>', 'pregnancy', 'announcement', '<EOS>', '*', '*', '*', '*', '*', '*', '*', '*', '*', '*', '*', '*', '*', '*', '*', '*', '*', '*', '*', '*', '*', '*', '*', '*', '*', '*', '*', '*', '*', '*', '*', '*', '*', '*', '*', '*', '*', '*', '*', '*']\n",
      "[INFO] Predicted query:  ['<SOS>', 'pregnancy', 'papillary', '<POS>', 'papillary', 'to', 'pregnancy', 'your', 'doctor', 'wa', 'pregnancy', '<POS>', 'new', 'baby', '<POS>', 'wa', 'pregnancy', '<POS>', 'baby', '<POS>', 'baby', 'picture', '<POS>', 'pregnancy', 'picture', '<POS>', 'pregnancy', 'wa', '<POS>', 'pregnancy', 'law', '<EOS>', '*', '*', '*', '*', '*', '*', '*', '*', '*', '*', '*', '*', '*', '*', '*', '*', '*', '*', '*', '*', '*', '*', '*', '*', '*', '*', '*', '*', '*', '*', '*', '*', '*', '*', '*', '*', '*', '*', '*', '*']\n",
      "[INFO] End epoch [89], train Loss: 0.4053, test loss: 0.4047\n",
      "[INFO] Start epoch [90] ...\n"
     ]
    },
    {
     "name": "stderr",
     "output_type": "stream",
     "text": [
      "100%|██████████| 38/38 [00:11<00:00,  3.44it/s]\n",
      " 10%|█         | 1/10 [00:00<00:01,  7.33it/s]"
     ]
    },
    {
     "name": "stdout",
     "output_type": "stream",
     "text": [
      "[INFO] Target query:  ['<SOS>', 'soft', 'drink', 'and', 'link', 'to', 'leukemia', 'and', 'cancer', '<POS>', 'soft', 'drink', 'and', 'link', 'to', 'cancer', '<POS>', 'leukemia', '<POS>', 'cancer', 'society', '<EOS>', '*', '*', '*', '*', '*', '*', '*', '*', '*', '*', '*', '*', '*', '*', '*', '*', '*', '*', '*', '*', '*', '*', '*', '*', '*', '*', '*', '*', '*', '*', '*', '*', '*', '*', '*', '*', '*', '*', '*', '*', '*', '*', '*', '*', '*', '*', '*', '*', '*', '*']\n",
      "[INFO] Predicted query:  ['<SOS>', 'credit', 'credit', 'and', 'credit', 'to', 'leukemia', 'and', 'cancer', '<POS>', 'credit', 'in', 'and', 'credit', 'to', 'cancer', '<POS>', 'leukemia', '<POS>', 'cancer', 'society', '<EOS>', '*', '*', '*', '*', '*', '*', '*', '*', '*', '*', '*', '*', '*', '*', '*', '*', '*', '*', '*', '*', '*', '*', '*', '*', '*', '*', '*', '*', '*', '*', '*', '*', '*', '*', '*', '*', '*', '*', '*', '*', '*', '*', '*', '*', '*', '*', '*', '*', '*', '*']\n"
     ]
    },
    {
     "name": "stderr",
     "output_type": "stream",
     "text": [
      "100%|██████████| 10/10 [00:01<00:00,  8.71it/s]\n",
      "  0%|          | 0/38 [00:00<?, ?it/s]"
     ]
    },
    {
     "name": "stdout",
     "output_type": "stream",
     "text": [
      "[INFO] Target query:  ['<SOS>', 'threesome', 'free', 'thumbnail', '<POS>', 'red', 'cross', '<POS>', 'red', 'cross', 'life', 'guard', 'course', '<EOS>', '*', '*', '*', '*', '*', '*', '*', '*', '*', '*', '*', '*', '*', '*', '*', '*', '*', '*', '*', '*', '*', '*', '*', '*', '*', '*', '*', '*', '*', '*', '*', '*', '*', '*', '*', '*', '*', '*', '*', '*', '*', '*', '*', '*', '*', '*', '*', '*', '*', '*', '*', '*', '*', '*', '*', '*', '*', '*']\n",
      "[INFO] Predicted query:  ['<SOS>', 'credit', 'free', 'credit', '<POS>', 'be', 'music', '<POS>', 'be', 'music', 'life', 'black', 'credit', '<EOS>', '*', '*', '*', '*', '*', '*', '*', '*', '*', '*', '*', '*', '*', '*', '*', '*', '*', '*', '*', '*', '*', '*', '*', '*', '*', '*', '*', '*', '*', '*', '*', '*', '*', '*', '*', '*', '*', '*', '*', '*', '*', '*', '*', '*', '*', '*', '*', '*', '*', '*', '*', '*', '*', '*', '*', '*', '*', '*']\n",
      "[INFO] End epoch [90], train Loss: 0.4048, test loss: 0.4043\n",
      "[INFO] Start epoch [91] ...\n"
     ]
    },
    {
     "name": "stderr",
     "output_type": "stream",
     "text": [
      "100%|██████████| 38/38 [00:10<00:00,  3.47it/s]\n",
      " 10%|█         | 1/10 [00:00<00:01,  7.21it/s]"
     ]
    },
    {
     "name": "stdout",
     "output_type": "stream",
     "text": [
      "[INFO] Target query:  ['<SOS>', 'in', 'little', 'rock', '<POS>', 'condominium', 'in', 'little', 'rock', '<POS>', 'in', 'rock', 'ar', '<EOS>', '*', '*', '*', '*', '*', '*', '*', '*', '*', '*', '*', '*', '*', '*', '*', '*', '*', '*', '*', '*', '*', '*', '*', '*', '*', '*', '*', '*', '*', '*', '*', '*', '*', '*', '*', '*', '*', '*', '*', '*', '*', '*', '*', '*', '*', '*', '*', '*', '*', '*', '*', '*', '*', '*', '*', '*', '*', '*']\n",
      "[INFO] Predicted query:  ['<SOS>', 'in', 'year', 'year', '<POS>', 'surgery', 'in', 'surgery', 'year', '<POS>', 'in', 'pregnancy', 'surgery', '<EOS>', '*', '*', '*', '*', '*', '*', '*', '*', '*', '*', '*', '*', '*', '*', '*', '*', '*', '*', '*', '*', '*', '*', '*', '*', '*', '*', '*', '*', '*', '*', '*', '*', '*', '*', '*', '*', '*', '*', '*', '*', '*', '*', '*', '*', '*', '*', '*', '*', '*', '*', '*', '*', '*', '*', '*', '*', '*', '*']\n"
     ]
    },
    {
     "name": "stderr",
     "output_type": "stream",
     "text": [
      "100%|██████████| 10/10 [00:01<00:00,  8.56it/s]\n",
      "  0%|          | 0/38 [00:00<?, ?it/s]"
     ]
    },
    {
     "name": "stdout",
     "output_type": "stream",
     "text": [
      "[INFO] Target query:  ['<SOS>', 'lyric', 'to', 'hold', 'on', 'just', 'a', 'little', 'bit', 'longer', 'baby', '<POS>', 'hold', 'on', 'just', 'a', 'little', 'bit', 'longer', 'baby', '<POS>', 'baby', 'you', 'touch', 'my', 'soul', '<POS>', 'hold', 'on', 'just', 'a', 'little', 'bit', 'longer', 'baby', 'you', 'touch', 'my', 'soul', '<EOS>', '*', '*', '*', '*', '*', '*', '*', '*', '*', '*', '*', '*', '*', '*', '*', '*', '*', '*', '*', '*', '*', '*', '*', '*', '*', '*', '*', '*', '*', '*', '*', '*']\n",
      "[INFO] Predicted query:  ['<SOS>', 'lyric', 'to', 'surgery', 'on', 'just', 'a', 'year', 'surgery', 'surgery', 'baby', '<POS>', 'surgery', 'on', 'just', 'a', 'year', 'surgery', 'surgery', 'baby', '<POS>', 'baby', 'you', 'year', 'my', 'surgery', '<POS>', 'surgery', 'on', 'just', 'a', 'year', 'surgery', 'surgery', 'baby', 'you', 'year', 'my', 'surgery', '<EOS>', '*', '*', '*', '*', '*', '*', '*', '*', '*', '*', '*', '*', '*', '*', '*', '*', '*', '*', '*', '*', '*', '*', '*', '*', '*', '*', '*', '*', '*', '*', '*', '*']\n",
      "[INFO] End epoch [91], train Loss: 0.4043, test loss: 0.4039\n",
      "[INFO] Start epoch [92] ...\n"
     ]
    },
    {
     "name": "stderr",
     "output_type": "stream",
     "text": [
      "100%|██████████| 38/38 [00:11<00:00,  3.45it/s]\n",
      " 10%|█         | 1/10 [00:00<00:01,  7.37it/s]"
     ]
    },
    {
     "name": "stdout",
     "output_type": "stream",
     "text": [
      "[INFO] Target query:  ['<SOS>', 'in', 'front', 'royal', '<POS>', 'effects', 'of', 'atomic', 'bomb', '<POS>', 'result', 'if', 'be', 'attack', 'by', 'terrorist', '<POS>', 'result', 'of', 'attack', 'on', 'by', 'weapon', 'of', 'mass', 'destruction', '<EOS>', '*', '*', '*', '*', '*', '*', '*', '*', '*', '*', '*', '*', '*', '*', '*', '*', '*', '*', '*', '*', '*', '*', '*', '*', '*', '*', '*', '*', '*', '*', '*', '*', '*', '*', '*', '*', '*', '*', '*', '*', '*', '*', '*', '*', '*']\n",
      "[INFO] Predicted query:  ['<SOS>', 'in', 'you', 'baby', '<POS>', 'code', 'of', 'have', 'carcinoma', '<POS>', 'patient', 'if', 'be', 'of', 'by', 'car', '<POS>', 'patient', 'of', 'of', 'on', 'by', 'book', 'of', 'case', 'lymphoma', '<EOS>', '*', '*', '*', '*', '*', '*', '*', '*', '*', '*', '*', '*', '*', '*', '*', '*', '*', '*', '*', '*', '*', '*', '*', '*', '*', '*', '*', '*', '*', '*', '*', '*', '*', '*', '*', '*', '*', '*', '*', '*', '*', '*', '*', '*', '*']\n"
     ]
    },
    {
     "name": "stderr",
     "output_type": "stream",
     "text": [
      "100%|██████████| 10/10 [00:01<00:00,  8.68it/s]\n",
      "  0%|          | 0/38 [00:00<?, ?it/s]"
     ]
    },
    {
     "name": "stdout",
     "output_type": "stream",
     "text": [
      "[INFO] Target query:  ['<SOS>', 'wedding', 'cake', 'supplier', 'in', '<POS>', 'cheap', 'wedding', 'cake', 'make', 'in', '<POS>', 'use', 'mother', 'of', 'the', 'bride', 'dress', '<EOS>', '*', '*', '*', '*', '*', '*', '*', '*', '*', '*', '*', '*', '*', '*', '*', '*', '*', '*', '*', '*', '*', '*', '*', '*', '*', '*', '*', '*', '*', '*', '*', '*', '*', '*', '*', '*', '*', '*', '*', '*', '*', '*', '*', '*', '*', '*', '*', '*', '*', '*', '*', '*', '*']\n",
      "[INFO] Predicted query:  ['<SOS>', 'wedding', 'cake', '*', 'in', '<POS>', '<POS>', 'wedding', 'cake', 'make', 'in', '<POS>', 'use', 'early', 'of', 'the', '<POS>', 'dress', '<EOS>', '*', '*', '*', '*', '*', '*', '*', '*', '*', '*', '*', '*', '*', '*', '*', '*', '*', '*', '*', '*', '*', '*', '*', '*', '*', '*', '*', '*', '*', '*', '*', '*', '*', '*', '*', '*', '*', '*', '*', '*', '*', '*', '*', '*', '*', '*', '*', '*', '*', '*', '*', '*', '*']\n",
      "[INFO] End epoch [92], train Loss: 0.4039, test loss: 0.4040\n",
      "[INFO] Start epoch [93] ...\n"
     ]
    },
    {
     "name": "stderr",
     "output_type": "stream",
     "text": [
      "100%|██████████| 38/38 [00:10<00:00,  3.46it/s]\n",
      " 10%|█         | 1/10 [00:00<00:01,  7.54it/s]"
     ]
    },
    {
     "name": "stdout",
     "output_type": "stream",
     "text": [
      "[INFO] Target query:  ['<SOS>', 'artist', 'for', 'come', 'on', 'baby', 'be', 'going', 'to', 'live', 'let', 'me', 'show', 'you', 'all', 'the', 'we', 'could', 'do', '<EOS>', '*', '*', '*', '*', '*', '*', '*', '*', '*', '*', '*', '*', '*', '*', '*', '*', '*', '*', '*', '*', '*', '*', '*', '*', '*', '*', '*', '*', '*', '*', '*', '*', '*', '*', '*', '*', '*', '*', '*', '*', '*', '*', '*', '*', '*', '*', '*', '*', '*', '*', '*', '*']\n",
      "[INFO] Predicted query:  ['<SOS>', 'on', 'for', 'nursery', 'on', 'baby', 'be', 'treatment', 'to', 'your', 'let', 'me', 'like', 'you', 'all', 'the', 'like', 'like', 'do', '<EOS>', '*', '*', '*', '*', '*', '*', '*', '*', '*', '*', '*', '*', '*', '*', '*', '*', '*', '*', '*', '*', '*', '*', '*', '*', '*', '*', '*', '*', '*', '*', '*', '*', '*', '*', '*', '*', '*', '*', '*', '*', '*', '*', '*', '*', '*', '*', '*', '*', '*', '*', '*', '*']\n"
     ]
    },
    {
     "name": "stderr",
     "output_type": "stream",
     "text": [
      "100%|██████████| 10/10 [00:01<00:00,  8.74it/s]\n",
      "  0%|          | 0/38 [00:00<?, ?it/s]"
     ]
    },
    {
     "name": "stdout",
     "output_type": "stream",
     "text": [
      "[INFO] Target query:  ['<SOS>', 'social', 'security', '<POS>', 'when', 'will', 'i', 'get', 'my', '<POS>', 'when', 'i', 'pass', 'my', 'road', 'test', 'when', 'will', 'i', 'get', 'my', '<EOS>', '*', '*', '*', '*', '*', '*', '*', '*', '*', '*', '*', '*', '*', '*', '*', '*', '*', '*', '*', '*', '*', '*', '*', '*', '*', '*', '*', '*', '*', '*', '*', '*', '*', '*', '*', '*', '*', '*', '*', '*', '*', '*', '*', '*', '*', '*', '*', '*', '*', '*']\n",
      "[INFO] Predicted query:  ['<SOS>', 'place', 'with', '<POS>', 'when', 'like', 'i', 'get', 'my', '<POS>', 'when', 'i', 'prognosis', 'my', '<POS>', 'test', 'when', 'like', 'i', 'get', 'my', '<EOS>', '*', '*', '*', '*', '*', '*', '*', '*', '*', '*', '*', '*', '*', '*', '*', '*', '*', '*', '*', '*', '*', '*', '*', '*', '*', '*', '*', '*', '*', '*', '*', '*', '*', '*', '*', '*', '*', '*', '*', '*', '*', '*', '*', '*', '*', '*', '*', '*', '*', '*']\n",
      "[INFO] End epoch [93], train Loss: 0.4035, test loss: 0.4031\n",
      "[INFO] Start epoch [94] ...\n"
     ]
    },
    {
     "name": "stderr",
     "output_type": "stream",
     "text": [
      "100%|██████████| 38/38 [00:10<00:00,  3.46it/s]\n",
      " 10%|█         | 1/10 [00:00<00:01,  7.45it/s]"
     ]
    },
    {
     "name": "stdout",
     "output_type": "stream",
     "text": [
      "[INFO] Target query:  ['<SOS>', 'lung', 'cancer', '<POS>', 'survival', 'rate', 'for', 'lung', 'cancer', '<POS>', 'new', 'lung', 'cancer', 'drug', '<POS>', 'chest', 'of', 'lung', 'cancer', '<EOS>', '*', '*', '*', '*', '*', '*', '*', '*', '*', '*', '*', '*', '*', '*', '*', '*', '*', '*', '*', '*', '*', '*', '*', '*', '*', '*', '*', '*', '*', '*', '*', '*', '*', '*', '*', '*', '*', '*', '*', '*', '*', '*', '*', '*', '*', '*', '*', '*', '*', '*', '*', '*']\n",
      "[INFO] Predicted query:  ['<SOS>', 'lung', 'cancer', '<POS>', 'cancer', 'cause', 'for', 'lung', 'cancer', '<POS>', 'new', 'lung', 'cancer', 'drug', '<POS>', 'doll', 'of', 'lung', 'cancer', '<EOS>', '*', '*', '*', '*', '*', '*', '*', '*', '*', '*', '*', '*', '*', '*', '*', '*', '*', '*', '*', '*', '*', '*', '*', '*', '*', '*', '*', '*', '*', '*', '*', '*', '*', '*', '*', '*', '*', '*', '*', '*', '*', '*', '*', '*', '*', '*', '*', '*', '*', '*', '*', '*']\n"
     ]
    },
    {
     "name": "stderr",
     "output_type": "stream",
     "text": [
      "100%|██████████| 10/10 [00:01<00:00,  8.75it/s]\n",
      "  0%|          | 0/38 [00:00<?, ?it/s]"
     ]
    },
    {
     "name": "stdout",
     "output_type": "stream",
     "text": [
      "[INFO] Target query:  ['<SOS>', 'i', 'try', 'to', 'get', 'pregnant', '<POS>', 'my', 'are', 'irregular', 'try', 'to', 'get', 'pregnant', '<POS>', 'i', 'try', 'to', 'get', 'pregnant', 'the', 'right', 'doctor', '<EOS>', '*', '*', '*', '*', '*', '*', '*', '*', '*', '*', '*', '*', '*', '*', '*', '*', '*', '*', '*', '*', '*', '*', '*', '*', '*', '*', '*', '*', '*', '*', '*', '*', '*', '*', '*', '*', '*', '*', '*', '*', '*', '*', '*', '*', '*', '*', '*', '*']\n",
      "[INFO] Predicted query:  ['<SOS>', 'i', 'on', 'to', 'get', 'pregnant', '<POS>', 'my', 'are', 'brain', 'on', 'to', 'get', 'pregnant', '<POS>', 'i', 'on', 'to', 'get', 'pregnant', 'the', 'york', 'doctor', '<EOS>', '*', '*', '*', '*', '*', '*', '*', '*', '*', '*', '*', '*', '*', '*', '*', '*', '*', '*', '*', '*', '*', '*', '*', '*', '*', '*', '*', '*', '*', '*', '*', '*', '*', '*', '*', '*', '*', '*', '*', '*', '*', '*', '*', '*', '*', '*', '*', '*']\n",
      "[INFO] End epoch [94], train Loss: 0.4027, test loss: 0.4027\n",
      "[INFO] Start epoch [95] ...\n"
     ]
    },
    {
     "name": "stderr",
     "output_type": "stream",
     "text": [
      "100%|██████████| 38/38 [00:11<00:00,  3.25it/s]\n",
      " 10%|█         | 1/10 [00:00<00:01,  7.25it/s]"
     ]
    },
    {
     "name": "stdout",
     "output_type": "stream",
     "text": [
      "[INFO] Target query:  ['<SOS>', 'soccer', 'camp', 'pace', 'university', '<POS>', 'soccer', 'camp', 'pace', 'university', '<POS>', 'pace', 'soccer', 'camp', 'mike', '<POS>', 'pace', 'summer', 'soccer', 'camp', '<EOS>', '*', '*', '*', '*', '*', '*', '*', '*', '*', '*', '*', '*', '*', '*', '*', '*', '*', '*', '*', '*', '*', '*', '*', '*', '*', '*', '*', '*', '*', '*', '*', '*', '*', '*', '*', '*', '*', '*', '*', '*', '*', '*', '*', '*', '*', '*', '*', '*', '*', '*', '*']\n",
      "[INFO] Predicted query:  ['<SOS>', 'cancer', 'well', 'rate', 'university', '<POS>', 'stomach', 'well', 'rate', 'university', '<POS>', 'rate', 'stomach', 'well', 'breast', '<POS>', 'rate', 'summer', 'stomach', 'well', '<EOS>', '*', '*', '*', '*', '*', '*', '*', '*', '*', '*', '*', '*', '*', '*', '*', '*', '*', '*', '*', '*', '*', '*', '*', '*', '*', '*', '*', '*', '*', '*', '*', '*', '*', '*', '*', '*', '*', '*', '*', '*', '*', '*', '*', '*', '*', '*', '*', '*', '*', '*', '*']\n"
     ]
    },
    {
     "name": "stderr",
     "output_type": "stream",
     "text": [
      "100%|██████████| 10/10 [00:01<00:00,  8.54it/s]\n",
      "  0%|          | 0/38 [00:00<?, ?it/s]"
     ]
    },
    {
     "name": "stdout",
     "output_type": "stream",
     "text": [
      "[INFO] Target query:  ['<SOS>', 'the', 'president', 'and', 'their', 'time', 'era', '<POS>', 'the', 'president', '<POS>', 'pope', 'benedict', '<POS>', 'pope', 'benedict', 'encyclical', '<EOS>', '*', '*', '*', '*', '*', '*', '*', '*', '*', '*', '*', '*', '*', '*', '*', '*', '*', '*', '*', '*', '*', '*', '*', '*', '*', '*', '*', '*', '*', '*', '*', '*', '*', '*', '*', '*', '*', '*', '*', '*', '*', '*', '*', '*', '*', '*', '*', '*', '*', '*', '*', '*', '*', '*']\n",
      "[INFO] Predicted query:  ['<SOS>', 'the', 'stomach', 'and', 'de', 'cancer', 'stomach', '<POS>', 'the', 'stomach', '<POS>', '*', '*', '<POS>', '*', '*', '<POS>', '<EOS>', '*', '*', '*', '*', '*', '*', '*', '*', '*', '*', '*', '*', '*', '*', '*', '*', '*', '*', '*', '*', '*', '*', '*', '*', '*', '*', '*', '*', '*', '*', '*', '*', '*', '*', '*', '*', '*', '*', '*', '*', '*', '*', '*', '*', '*', '*', '*', '*', '*', '*', '*', '*', '*', '*']\n",
      "[INFO] End epoch [95], train Loss: 0.4023, test loss: 0.4020\n",
      "[INFO] Start epoch [96] ...\n"
     ]
    },
    {
     "name": "stderr",
     "output_type": "stream",
     "text": [
      "100%|██████████| 38/38 [00:11<00:00,  3.18it/s]\n",
      " 10%|█         | 1/10 [00:00<00:01,  7.10it/s]"
     ]
    },
    {
     "name": "stdout",
     "output_type": "stream",
     "text": [
      "[INFO] Target query:  ['<SOS>', 'ca', 'cancer', '<POS>', 'cancer', '<POS>', 'bone', 'scan', 'cancer', '<POS>', 'hoax', 'brain', 'cancer', '<POS>', 'house', 'cutty', 'cancer', '<EOS>', '*', '*', '*', '*', '*', '*', '*', '*', '*', '*', '*', '*', '*', '*', '*', '*', '*', '*', '*', '*', '*', '*', '*', '*', '*', '*', '*', '*', '*', '*', '*', '*', '*', '*', '*', '*', '*', '*', '*', '*', '*', '*', '*', '*', '*', '*', '*', '*', '*', '*', '*', '*', '*', '*']\n",
      "[INFO] Predicted query:  ['<SOS>', 'this', 'cancer', '<POS>', 'cancer', '<POS>', 'bone', 'm', 'cancer', '<POS>', 'm', 'brain', 'cancer', '<POS>', 'uterine', 'uterine', 'cancer', '<EOS>', '*', '*', '*', '*', '*', '*', '*', '*', '*', '*', '*', '*', '*', '*', '*', '*', '*', '*', '*', '*', '*', '*', '*', '*', '*', '*', '*', '*', '*', '*', '*', '*', '*', '*', '*', '*', '*', '*', '*', '*', '*', '*', '*', '*', '*', '*', '*', '*', '*', '*', '*', '*', '*', '*']\n"
     ]
    },
    {
     "name": "stderr",
     "output_type": "stream",
     "text": [
      "100%|██████████| 10/10 [00:01<00:00,  8.45it/s]\n",
      "  0%|          | 0/38 [00:00<?, ?it/s]"
     ]
    },
    {
     "name": "stdout",
     "output_type": "stream",
     "text": [
      "[INFO] Target query:  ['<SOS>', 'breast', 'feeding', '<POS>', 'normal', 'baby', 'temp', '<POS>', 'baby', 'birthday', '<POS>', 'baby', 'birthday', 'picture', 'frame', '<EOS>', '*', '*', '*', '*', '*', '*', '*', '*', '*', '*', '*', '*', '*', '*', '*', '*', '*', '*', '*', '*', '*', '*', '*', '*', '*', '*', '*', '*', '*', '*', '*', '*', '*', '*', '*', '*', '*', '*', '*', '*', '*', '*', '*', '*', '*', '*', '*', '*', '*', '*', '*', '*', '*', '*', '*', '*']\n",
      "[INFO] Predicted query:  ['<SOS>', 'breast', 'feeding', '<POS>', 'm', 'baby', 'm', '<POS>', 'baby', 'birthday', '<POS>', 'baby', 'birthday', 'picture', 'are', '<EOS>', '*', '*', '*', '*', '*', '*', '*', '*', '*', '*', '*', '*', '*', '*', '*', '*', '*', '*', '*', '*', '*', '*', '*', '*', '*', '*', '*', '*', '*', '*', '*', '*', '*', '*', '*', '*', '*', '*', '*', '*', '*', '*', '*', '*', '*', '*', '*', '*', '*', '*', '*', '*', '*', '*', '*', '*']\n",
      "[INFO] End epoch [96], train Loss: 0.4013, test loss: 0.4013\n",
      "[INFO] Start epoch [97] ...\n"
     ]
    },
    {
     "name": "stderr",
     "output_type": "stream",
     "text": [
      "100%|██████████| 38/38 [00:11<00:00,  3.29it/s]\n",
      " 10%|█         | 1/10 [00:00<00:01,  6.52it/s]"
     ]
    },
    {
     "name": "stdout",
     "output_type": "stream",
     "text": [
      "[INFO] Target query:  ['<SOS>', 'honey', 'i', 'the', 'movie', 'trailer', '<POS>', 'bang', 'movie', 'trailer', '<POS>', 'sex', 'trailer', '<POS>', 'sex', 'trailer', '<EOS>', '*', '*', '*', '*', '*', '*', '*', '*', '*', '*', '*', '*', '*', '*', '*', '*', '*', '*', '*', '*', '*', '*', '*', '*', '*', '*', '*', '*', '*', '*', '*', '*', '*', '*', '*', '*', '*', '*', '*', '*', '*', '*', '*', '*', '*', '*', '*', '*', '*', '*', '*', '*', '*', '*', '*']\n",
      "[INFO] Predicted query:  ['<SOS>', 'clothing', 'i', 'the', 'movie', 'poem', '<POS>', 'sarcoma', 'movie', 'poem', '<POS>', 'sex', 'blue', '<POS>', 'sex', 'blue', '<EOS>', '*', '*', '*', '*', '*', '*', '*', '*', '*', '*', '*', '*', '*', '*', '*', '*', '*', '*', '*', '*', '*', '*', '*', '*', '*', '*', '*', '*', '*', '*', '*', '*', '*', '*', '*', '*', '*', '*', '*', '*', '*', '*', '*', '*', '*', '*', '*', '*', '*', '*', '*', '*', '*', '*', '*']\n"
     ]
    },
    {
     "name": "stderr",
     "output_type": "stream",
     "text": [
      "100%|██████████| 10/10 [00:01<00:00,  8.27it/s]\n",
      "  0%|          | 0/38 [00:00<?, ?it/s]"
     ]
    },
    {
     "name": "stdout",
     "output_type": "stream",
     "text": [
      "[INFO] Target query:  ['<SOS>', 'cancer', 'center', '<POS>', 'cancer', 'center', 'in', 'us', '<POS>', 'comprehensive', 'cancer', 'center', '<POS>', 'comprehensive', 'cancer', 'center', 'network', '<EOS>', '*', '*', '*', '*', '*', '*', '*', '*', '*', '*', '*', '*', '*', '*', '*', '*', '*', '*', '*', '*', '*', '*', '*', '*', '*', '*', '*', '*', '*', '*', '*', '*', '*', '*', '*', '*', '*', '*', '*', '*', '*', '*', '*', '*', '*', '*', '*', '*', '*', '*', '*', '*', '*', '*']\n",
      "[INFO] Predicted query:  ['<SOS>', 'cancer', 'center', '<POS>', 'cancer', 'center', 'in', 'us', '<POS>', 'adenocarcinoma', 'cancer', 'center', '<POS>', 'adenocarcinoma', 'cancer', 'center', 'not', '<EOS>', '*', '*', '*', '*', '*', '*', '*', '*', '*', '*', '*', '*', '*', '*', '*', '*', '*', '*', '*', '*', '*', '*', '*', '*', '*', '*', '*', '*', '*', '*', '*', '*', '*', '*', '*', '*', '*', '*', '*', '*', '*', '*', '*', '*', '*', '*', '*', '*', '*', '*', '*', '*', '*', '*']\n",
      "[INFO] End epoch [97], train Loss: 0.4002, test loss: 0.3997\n",
      "[INFO] Start epoch [98] ...\n"
     ]
    },
    {
     "name": "stderr",
     "output_type": "stream",
     "text": [
      "100%|██████████| 38/38 [00:11<00:00,  3.26it/s]\n",
      " 10%|█         | 1/10 [00:00<00:01,  6.93it/s]"
     ]
    },
    {
     "name": "stdout",
     "output_type": "stream",
     "text": [
      "[INFO] Target query:  ['<SOS>', 'baby', 'you', 'all', 'that', 'i', 'need', 'lyric', '<POS>', 'baby', 'you', 'all', 'that', 'i', 'want', 'when', 'you', 'lying', 'here', 'in', 'my', 'arms', 'i', 'finding', 'it', 'hard', 'to', 'believe', 'we', 'in', 'heaven', 'lyric', '<EOS>', '*', '*', '*', '*', '*', '*', '*', '*', '*', '*', '*', '*', '*', '*', '*', '*', '*', '*', '*', '*', '*', '*', '*', '*', '*', '*', '*', '*', '*', '*', '*', '*', '*', '*', '*', '*', '*', '*', '*']\n",
      "[INFO] Predicted query:  ['<SOS>', 'baby', 'you', 'all', 'that', 'i', 'sarcoma', 'lyric', '<POS>', 'baby', 'you', 'all', 'that', 'i', 'car', 'when', 'you', 'world', 'find', 'in', 'my', 'site', 'i', 'you', 'it', 'hard', 'to', 'site', 'baby', 'in', 'type', 'lyric', '<EOS>', '*', '*', '*', '*', '*', '*', '*', '*', '*', '*', '*', '*', '*', '*', '*', '*', '*', '*', '*', '*', '*', '*', '*', '*', '*', '*', '*', '*', '*', '*', '*', '*', '*', '*', '*', '*', '*', '*', '*']\n"
     ]
    },
    {
     "name": "stderr",
     "output_type": "stream",
     "text": [
      "100%|██████████| 10/10 [00:01<00:00,  8.28it/s]\n",
      "  0%|          | 0/38 [00:00<?, ?it/s]"
     ]
    },
    {
     "name": "stdout",
     "output_type": "stream",
     "text": [
      "[INFO] Target query:  ['<SOS>', 'the', 'scarf', 'dancer', 'figurine', 'bisque', 'porcelain', '<POS>', 'the', 'scarf', 'dancer', 'figurine', 'bisque', 'porcelain', 'by', 'franklin', 'mint', '<POS>', 'franklin', 'mint', 'bisque', 'collection', '<POS>', 'franklin', 'mint', 'bisque', 'collection', 'the', 'scarf', 'dancer', '<EOS>', '*', '*', '*', '*', '*', '*', '*', '*', '*', '*', '*', '*', '*', '*', '*', '*', '*', '*', '*', '*', '*', '*', '*', '*', '*', '*', '*', '*', '*', '*', '*', '*', '*', '*', '*', '*', '*', '*', '*', '*', '*']\n",
      "[INFO] Predicted query:  ['<SOS>', 'the', 'de', 'now', 'site', 'pic', 'liver', '<POS>', 'the', 'now', 'now', 'site', 'pic', 'liver', 'by', 'now', 'now', '<POS>', 'now', 'now', 'pic', 'pic', '<POS>', 'now', 'now', 'pic', 'pic', 'the', 'now', 'now', '<EOS>', '*', '*', '*', '*', '*', '*', '*', '*', '*', '*', '*', '*', '*', '*', '*', '*', '*', '*', '*', '*', '*', '*', '*', '*', '*', '*', '*', '*', '*', '*', '*', '*', '*', '*', '*', '*', '*', '*', '*', '*', '*']\n",
      "[INFO] End epoch [98], train Loss: 0.3991, test loss: 0.3989\n",
      "[INFO] Start epoch [99] ...\n"
     ]
    },
    {
     "name": "stderr",
     "output_type": "stream",
     "text": [
      "100%|██████████| 38/38 [00:11<00:00,  3.33it/s]\n",
      " 10%|█         | 1/10 [00:00<00:01,  7.30it/s]"
     ]
    },
    {
     "name": "stdout",
     "output_type": "stream",
     "text": [
      "[INFO] Target query:  ['<SOS>', 'stomach', 'cancer', '<POS>', 'cause', 'of', 'breast', 'cancer', '<POS>', 'low', 'fat', 'diet', 'breast', 'cancer', '<POS>', 'effect', 'of', 'low', 'carbohydrate', 'diet', 'breast', 'cancer', '<POS>', 'breast', 'cancer', 'risk', '<EOS>', '*', '*', '*', '*', '*', '*', '*', '*', '*', '*', '*', '*', '*', '*', '*', '*', '*', '*', '*', '*', '*', '*', '*', '*', '*', '*', '*', '*', '*', '*', '*', '*', '*', '*', '*', '*', '*', '*', '*', '*', '*', '*', '*', '*', '*']\n",
      "[INFO] Predicted query:  ['<SOS>', 'stomach', 'cancer', '<POS>', 'cause', 'of', 'breast', 'cancer', '<POS>', 'low', 'cancer', 'and', 'breast', 'cancer', '<POS>', 'natural', 'of', 'low', 'adenocarcinoma', 'and', 'breast', 'cancer', '<POS>', 'breast', 'cancer', 'lyric', '<EOS>', '*', '*', '*', '*', '*', '*', '*', '*', '*', '*', '*', '*', '*', '*', '*', '*', '*', '*', '*', '*', '*', '*', '*', '*', '*', '*', '*', '*', '*', '*', '*', '*', '*', '*', '*', '*', '*', '*', '*', '*', '*', '*', '*', '*', '*']\n"
     ]
    },
    {
     "name": "stderr",
     "output_type": "stream",
     "text": [
      "100%|██████████| 10/10 [00:01<00:00,  8.58it/s]\n"
     ]
    },
    {
     "name": "stdout",
     "output_type": "stream",
     "text": [
      "[INFO] Target query:  ['<SOS>', 'baby', 'due', 'date', '<POS>', 'pregnancy', 'hormone', 'level', '<POS>', 'hormone', 'level', 'in', 'pregnancy', '<POS>', 'low', 'hormone', 'level', 'in', 'early', 'pregnancy', '<EOS>', '*', '*', '*', '*', '*', '*', '*', '*', '*', '*', '*', '*', '*', '*', '*', '*', '*', '*', '*', '*', '*', '*', '*', '*', '*', '*', '*', '*', '*', '*', '*', '*', '*', '*', '*', '*', '*', '*', '*', '*', '*', '*', '*', '*', '*', '*', '*', '*', '*', '*', '*']\n",
      "[INFO] Predicted query:  ['<SOS>', 'baby', 'due', 'on', '<POS>', 'pregnancy', 'in', 'island', '<POS>', 'in', 'ribbon', 'in', 'pregnancy', '<POS>', 'low', 'in', 'island', 'in', 'early', 'pregnancy', '<EOS>', '*', '*', '*', '*', '*', '*', '*', '*', '*', '*', '*', '*', '*', '*', '*', '*', '*', '*', '*', '*', '*', '*', '*', '*', '*', '*', '*', '*', '*', '*', '*', '*', '*', '*', '*', '*', '*', '*', '*', '*', '*', '*', '*', '*', '*', '*', '*', '*', '*', '*', '*']\n",
      "[INFO] End epoch [99], train Loss: 0.3983, test loss: 0.3978\n"
     ]
    }
   ],
   "source": [
    "# Pretrain Generator using MLE\n",
    "PRE_EPOCH_NUM = 100\n",
    "gen_criterion = nn.NLLLoss(reduction='sum')\n",
    "gen_optimizer = optim.Adam(generator.parameters(), lr=0.01)\n",
    "G_path = \"../param/generator.pkl\"\n",
    "if USE_CUDA:\n",
    "    gen_criterion = gen_criterion.cuda()\n",
    "print('[INFO] Pretrain with MLE ...')\n",
    "train_loss_list = []\n",
    "test_loss_list = []\n",
    "for epoch in range(PRE_EPOCH_NUM):\n",
    "    print('[INFO] Start epoch [%d] ...'% (epoch))\n",
    "    train_loss = pretrain_epoch(generator, train_loader, gen_criterion, gen_optimizer, G_path, USE_CUDA)\n",
    "    test_loss = pretest_epoch(generator, test_loader, gen_criterion, gen_optimizer, G_path, USE_CUDA)\n",
    "    print('[INFO] End epoch [%d], train Loss: %.4f, test loss: %.4f'% (epoch, train_loss, test_loss))\n",
    "    train_loss_list.append(train_loss)\n",
    "    test_loss_list.append(test_loss)\n",
    "\n"
   ]
  },
  {
   "cell_type": "code",
   "execution_count": 8,
   "metadata": {},
   "outputs": [
    {
     "data": {
      "image/png": "[encoded data removed]",
      "text/plain": [
       "<Figure size 432x288 with 1 Axes>"
      ]
     },
     "metadata": {
      "needs_background": "light"
     },
     "output_type": "display_data"
    }
   ],
   "source": [
    "import matplotlib.pyplot as plt\n",
    "plt.plot(train_loss_list)\n",
    "plt.plot(test_loss_list)\n",
    "plt.legend([\"train\", \"test\"])\n",
    "plt.xlabel(\"epoch\")\n",
    "plt.ylabel(\"loss\")\n",
    "plt.title(\"pretrained generator (training loss)\")\n",
    "plt.savefig(\"../result/pretrained_generator_loss.png\")\n"
   ]
  },
  {
   "cell_type": "code",
   "execution_count": null,
   "metadata": {},
   "outputs": [],
   "source": [
    "# Pretrain Discriminator\n",
    "dis_criterion = nn.NLLLoss(reduction='sum')\n",
    "dis_optimizer = optim.Adam(discriminator.parameters())\n",
    "if args.cuda:\n",
    "    dis_criterion = dis_criterion.cuda()\n",
    "print('Pretrain Discriminator ...')\n",
    "for epoch in range(5):\n",
    "    generate_samples(generator, BATCH_SIZE, GENERATED_NUM, NEGATIVE_FILE)\n",
    "    dis_data_iter = DisDataIter(POSITIVE_FILE, NEGATIVE_FILE, BATCH_SIZE)\n",
    "    for _ in range(3):\n",
    "        loss = train_epoch(discriminator, dis_data_iter, dis_criterion, dis_optimizer)\n",
    "        print('Epoch [%d], loss: %f' % (epoch, loss))\n",
    "# Adversarial Training\n",
    "rollout = Rollout(generator, 0.8)\n",
    "print('#####################################################')\n",
    "print('Start Adeversatial Training...\\n')\n",
    "gen_gan_loss = GANLoss()\n",
    "gen_gan_optm = optim.Adam(generator.parameters())\n",
    "if args.cuda:\n",
    "    gen_gan_loss = gen_gan_loss.cuda()\n",
    "gen_criterion = nn.NLLLoss(reduction='sum')\n",
    "if args.cuda:\n",
    "    gen_criterion = gen_criterion.cuda()\n",
    "dis_criterion = nn.NLLLoss(reduction='sum')\n",
    "dis_optimizer = optim.Adam(discriminator.parameters())\n",
    "if args.cuda:\n",
    "    dis_criterion = dis_criterion.cuda()\n",
    "for total_batch in range(TOTAL_BATCH):\n",
    "    ## Train the generator for one step\n",
    "    for it in range(1):\n",
    "        samples = generator.sample(BATCH_SIZE, MAX_SEQ_LEN)\n",
    "        # construct the input to the genrator, add zeros before samples and delete the last column\n",
    "        zeros = torch.zeros((BATCH_SIZE, 1)).type(torch.LongTensor)\n",
    "        if samples.is_cuda:\n",
    "            zeros = zeros.cuda()\n",
    "        inputs = Variable(torch.cat([zeros, samples.data], dim = 1)[:, :-1].contiguous())\n",
    "        targets = Variable(samples.data).contiguous().view((-1,))\n",
    "        # calculate the reward\n",
    "        rewards = rollout.get_reward(samples, 16, discriminator)\n",
    "        rewards = Variable(torch.Tensor(rewards))\n",
    "        rewards = torch.exp(rewards).contiguous().view((-1,))\n",
    "        if args.cuda:\n",
    "            rewards = rewards.cuda()\n",
    "        prob = generator.forward(inputs)\n",
    "        loss = gen_gan_loss(prob, targets, rewards)\n",
    "        gen_gan_optm.zero_grad()\n",
    "        loss.backward()\n",
    "        gen_gan_optm.step()\n",
    "\n",
    "    if total_batch % 1 == 0 or total_batch == TOTAL_BATCH - 1:\n",
    "        generate_samples(generator, BATCH_SIZE, GENERATED_NUM, EVAL_FILE)\n",
    "        eval_iter = GenDataIter(EVAL_FILE, BATCH_SIZE)\n",
    "        loss = eval_epoch(target_lstm, eval_iter, gen_criterion)\n",
    "        print('Batch [%d] True Loss: %f' % (total_batch, loss))\n",
    "    rollout.update_params()\n",
    "\n",
    "    for _ in range(4):\n",
    "        generate_samples(generator, BATCH_SIZE, GENERATED_NUM, NEGATIVE_FILE)\n",
    "        dis_data_iter = DisDataIter(POSITIVE_FILE, NEGATIVE_FILE, BATCH_SIZE)\n",
    "        for _ in range(2):\n",
    "            loss = train_epoch(discriminator, dis_data_iter, dis_criterion, dis_optimizer)"
   ]
  },
  {
   "cell_type": "code",
   "execution_count": 2,
   "metadata": {},
   "outputs": [],
   "source": [
    "\n",
    "\n",
    "def generate_samples(model, batch_size, generated_num, output_file):\n",
    "    samples = []\n",
    "    for _ in range(int(generated_num / batch_size)):\n",
    "        sample = model.sample(batch_size, MAX_SEQ_LEN).cpu().data.numpy().tolist()\n",
    "        samples.extend(sample)\n",
    "    with open(output_file, 'w') as fout:\n",
    "        for sample in samples:\n",
    "            string = ' '.join([str(s) for s in sample])\n",
    "            fout.write('%s\\n' % string)\n",
    "\n",
    "def train_epoch(model, data_iter, criterion, optimizer):\n",
    "    total_loss = 0.\n",
    "    total_words = 0.\n",
    "    for (data, target) in data_iter:\n",
    "        if args.cuda:\n",
    "            data, target = data.cuda(), target.cuda()\n",
    "        target = target.contiguous().view(-1)\n",
    "        pred = model.forward(data)\n",
    "        loss = criterion(pred, target)\n",
    "        total_loss += loss.item()\n",
    "        total_words += data.size(0) * data.size(1)\n",
    "        optimizer.zero_grad()\n",
    "        loss.backward()\n",
    "        optimizer.step()\n",
    "    data_iter.reset()\n",
    "    return math.exp(total_loss / total_words)\n",
    "\n",
    "def eval_epoch(model, data_iter, criterion):\n",
    "    total_loss = 0.\n",
    "    total_words = 0.\n",
    "    with torch.no_grad():\n",
    "        for (data, target) in data_iter:#tqdm(\n",
    "            #data_iter, mininterval=2, desc=' - Training', leave=False):\n",
    "            data = Variable(data)\n",
    "            target = Variable(target)\n",
    "            if args.cuda:\n",
    "                data, target = data.cuda(), target.cuda()\n",
    "            target = target.contiguous().view(-1)\n",
    "            pred = model.forward(data)\n",
    "            loss = criterion(pred, target)\n",
    "            total_loss += loss.item()\n",
    "            total_words += data.size(0) * data.size(1)\n",
    "        data_iter.reset()\n",
    "\n",
    "    assert total_words > 0  # Otherwise NullpointerException\n",
    "    return math.exp(total_loss / total_words)\n",
    "\n",
    "class GANLoss(nn.Module):\n",
    "    \"\"\"Reward-Refined NLLLoss Function for adversial training of Gnerator\"\"\"\n",
    "    def __init__(self):\n",
    "        super(GANLoss, self).__init__()\n",
    "\n",
    "    def forward(self, prob, target, reward):\n",
    "        \"\"\"\n",
    "        Args:\n",
    "            prob: (N, C), torch Variable\n",
    "            target : (N, ), torch Variable\n",
    "            reward : (N, ), torch Variable\n",
    "        \"\"\"\n",
    "        N = target.size(0)\n",
    "        C = prob.size(1)\n",
    "        one_hot = torch.zeros((N, C))\n",
    "        if prob.is_cuda:\n",
    "            one_hot = one_hot.cuda()\n",
    "        one_hot.scatter_(1, target.data.view((-1,1)), 1)\n",
    "        one_hot = one_hot.type(torch.ByteTensor)\n",
    "        one_hot = Variable(one_hot)\n",
    "        if prob.is_cuda:\n",
    "            one_hot = one_hot.cuda()\n",
    "        loss = torch.masked_select(prob, one_hot)\n",
    "        loss = loss * reward\n",
    "        loss =  -torch.sum(loss)\n",
    "        return loss\n",
    "\n",
    "\n",
    "def main():\n",
    "    random.seed(SEED)\n",
    "    np.random.seed(SEED)\n",
    "\n",
    "    # Define Networks\n",
    "    generator = Generator(g_args, args.cuda)\n",
    "    discriminator = Discriminator(d_args)\n",
    "    if args.cuda:\n",
    "        generator = generator.cuda()\n",
    "        discriminator = discriminator.cuda()\n",
    "    # Generate toy data using target lstm\n",
    "    print('Generating data ...')\n",
    "    generate_samples(target_lstm, BATCH_SIZE, GENERATED_NUM, POSITIVE_FILE)\n",
    "\n",
    "    # Load data from file\n",
    "    gen_data_iter = GenDataIter(POSITIVE_FILE, BATCH_SIZE)\n",
    "\n",
    "    # Pretrain Generator using MLE\n",
    "    gen_criterion = nn.NLLLoss(reduction='sum')\n",
    "    gen_optimizer = optim.Adam(generator.parameters())\n",
    "    if args.cuda:\n",
    "        gen_criterion = gen_criterion.cuda()\n",
    "    print('Pretrain with MLE ...')\n",
    "    for epoch in range(PRE_EPOCH_NUM):\n",
    "        loss = train_epoch(generator, gen_data_iter, gen_criterion, gen_optimizer)\n",
    "        print('Epoch [%d] Model Loss: %f'% (epoch, loss))\n",
    "        generate_samples(generator, BATCH_SIZE, GENERATED_NUM, EVAL_FILE)\n",
    "        eval_iter = GenDataIter(EVAL_FILE, BATCH_SIZE)\n",
    "        loss = eval_epoch(target_lstm, eval_iter, gen_criterion)\n",
    "        print('Epoch [%d] True Loss: %f' % (epoch, loss))\n",
    "\n",
    "    # Pretrain Discriminator\n",
    "    dis_criterion = nn.NLLLoss(reduction='sum')\n",
    "    dis_optimizer = optim.Adam(discriminator.parameters())\n",
    "    if args.cuda:\n",
    "        dis_criterion = dis_criterion.cuda()\n",
    "    print('Pretrain Discriminator ...')\n",
    "    for epoch in range(5):\n",
    "        generate_samples(generator, BATCH_SIZE, GENERATED_NUM, NEGATIVE_FILE)\n",
    "        dis_data_iter = DisDataIter(POSITIVE_FILE, NEGATIVE_FILE, BATCH_SIZE)\n",
    "        for _ in range(3):\n",
    "            loss = train_epoch(discriminator, dis_data_iter, dis_criterion, dis_optimizer)\n",
    "            print('Epoch [%d], loss: %f' % (epoch, loss))\n",
    "    # Adversarial Training\n",
    "    rollout = Rollout(generator, 0.8)\n",
    "    print('#####################################################')\n",
    "    print('Start Adeversatial Training...\\n')\n",
    "    gen_gan_loss = GANLoss()\n",
    "    gen_gan_optm = optim.Adam(generator.parameters())\n",
    "    if args.cuda:\n",
    "        gen_gan_loss = gen_gan_loss.cuda()\n",
    "    gen_criterion = nn.NLLLoss(reduction='sum')\n",
    "    if args.cuda:\n",
    "        gen_criterion = gen_criterion.cuda()\n",
    "    dis_criterion = nn.NLLLoss(reduction='sum')\n",
    "    dis_optimizer = optim.Adam(discriminator.parameters())\n",
    "    if args.cuda:\n",
    "        dis_criterion = dis_criterion.cuda()\n",
    "    for total_batch in range(TOTAL_BATCH):\n",
    "        ## Train the generator for one step\n",
    "        for it in range(1):\n",
    "            samples = generator.sample(BATCH_SIZE, MAX_SEQ_LEN)\n",
    "            # construct the input to the genrator, add zeros before samples and delete the last column\n",
    "            zeros = torch.zeros((BATCH_SIZE, 1)).type(torch.LongTensor)\n",
    "            if samples.is_cuda:\n",
    "                zeros = zeros.cuda()\n",
    "            inputs = Variable(torch.cat([zeros, samples.data], dim = 1)[:, :-1].contiguous())\n",
    "            targets = Variable(samples.data).contiguous().view((-1,))\n",
    "            # calculate the reward\n",
    "            rewards = rollout.get_reward(samples, 16, discriminator)\n",
    "            rewards = Variable(torch.Tensor(rewards))\n",
    "            rewards = torch.exp(rewards).contiguous().view((-1,))\n",
    "            if args.cuda:\n",
    "                rewards = rewards.cuda()\n",
    "            prob = generator.forward(inputs)\n",
    "            loss = gen_gan_loss(prob, targets, rewards)\n",
    "            gen_gan_optm.zero_grad()\n",
    "            loss.backward()\n",
    "            gen_gan_optm.step()\n",
    "\n",
    "        if total_batch % 1 == 0 or total_batch == TOTAL_BATCH - 1:\n",
    "            generate_samples(generator, BATCH_SIZE, GENERATED_NUM, EVAL_FILE)\n",
    "            eval_iter = GenDataIter(EVAL_FILE, BATCH_SIZE)\n",
    "            loss = eval_epoch(target_lstm, eval_iter, gen_criterion)\n",
    "            print('Batch [%d] True Loss: %f' % (total_batch, loss))\n",
    "        rollout.update_params()\n",
    "\n",
    "        for _ in range(4):\n",
    "            generate_samples(generator, BATCH_SIZE, GENERATED_NUM, NEGATIVE_FILE)\n",
    "            dis_data_iter = DisDataIter(POSITIVE_FILE, NEGATIVE_FILE, BATCH_SIZE)\n",
    "            for _ in range(2):\n",
    "                loss = train_epoch(discriminator, dis_data_iter, dis_criterion, dis_optimizer)\n",
    "if __name__ == '__main__':\n",
    "    main()"
   ]
  },
  {
   "cell_type": "code",
   "execution_count": null,
   "metadata": {},
   "outputs": [],
   "source": []
  }
 ],
 "metadata": {
  "kernelspec": {
   "display_name": "Python 3.7.4 64-bit ('tf2': conda)",
   "language": "python",
   "name": "python37464bittf2condac6409d745dfe4c3e9b9bf911fea21b2c"
  },
  "language_info": {
   "codemirror_mode": {
    "name": "ipython",
    "version": 3
   },
   "file_extension": ".py",
   "mimetype": "text/x-python",
   "name": "python",
   "nbconvert_exporter": "python",
   "pygments_lexer": "ipython3",
   "version": "3.7.4"
  }
 },
 "nbformat": 4,
 "nbformat_minor": 2
}

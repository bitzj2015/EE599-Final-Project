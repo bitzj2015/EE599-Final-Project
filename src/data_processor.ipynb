{
 "cells": [
  {
   "cell_type": "code",
   "execution_count": 1,
   "metadata": {},
   "outputs": [],
   "source": [
    "import spacy\n",
    "spacy.load('en')\n",
    "from spacy.lang.en import English\n",
    "parser = English()\n",
    "\n",
    "import nltk\n",
    "# nltk.download('words')\n",
    "# nltk.download('wordnet')\n",
    "# nltk.download('stopwords')\n",
    "from nltk.corpus import wordnet as wn\n",
    "en_words = set(nltk.corpus.words.words())\n",
    "\n",
    "def get_lemma(word):\n",
    "    lemma = wn.morphy(word)\n",
    "    if lemma is None:\n",
    "        return word\n",
    "    else:\n",
    "        return lemma\n",
    "    \n",
    "def tokenize(text):\n",
    "    filter_tokens = []\n",
    "    tokens = parser(text)\n",
    "    for token in tokens:\n",
    "        if token.like_url:\n",
    "            continue\n",
    "        elif token.orth_.startswith('@'):\n",
    "            continue\n",
    "        else:\n",
    "            token = token.lower_\n",
    "            filter_tokens.append(token)\n",
    "    return filter_tokens\n",
    "\n",
    "en_stop = set(nltk.corpus.stopwords.words('english'))\n",
    "en_words = set(nltk.corpus.words.words())\n",
    "\n",
    "def prepare_text(text):\n",
    "    tokens = tokenize(text)\n",
    "    tokens = [get_lemma(token) for token in tokens]\n",
    "    tokens = [token for token in tokens if token in en_words]\n",
    "    return tokens\n",
    "\n"
   ]
  },
  {
   "cell_type": "code",
   "execution_count": 2,
   "metadata": {},
   "outputs": [
    {
     "name": "stdout",
     "output_type": "stream",
     "text": [
      "False\n"
     ]
    }
   ],
   "source": [
    "print(\" \" in en_words)"
   ]
  },
  {
   "cell_type": "code",
   "execution_count": 15,
   "metadata": {},
   "outputs": [],
   "source": [
    "import json\n",
    "with open(\"../local/dataset_final.json\", \"r\") as json_file:\n",
    "    data = json.load(json_file)"
   ]
  },
  {
   "cell_type": "code",
   "execution_count": 29,
   "metadata": {},
   "outputs": [
    {
     "name": "stderr",
     "output_type": "stream",
     "text": [
      "100%|██████████| 9520/9520 [00:01<00:00, 8510.16it/s]\n",
      "100%|██████████| 18254/18254 [00:02<00:00, 6145.25it/s]\n",
      "100%|██████████| 50000/50000 [00:07<00:00, 6470.82it/s]\n"
     ]
    },
    {
     "name": "stdout",
     "output_type": "stream",
     "text": [
      "1333\n"
     ]
    },
    {
     "ename": "NameError",
     "evalue": "name 'random' is not defined",
     "output_type": "error",
     "traceback": [
      "\u001b[0;31m---------------------------------------------------------------------------\u001b[0m",
      "\u001b[0;31mNameError\u001b[0m                                 Traceback (most recent call last)",
      "\u001b[0;32m<ipython-input-29-ee7d3b8348d9>\u001b[0m in \u001b[0;36m<module>\u001b[0;34m\u001b[0m\n\u001b[1;32m     21\u001b[0m     \u001b[0mprint\u001b[0m\u001b[0;34m(\u001b[0m\u001b[0mlen\u001b[0m\u001b[0;34m(\u001b[0m\u001b[0mdata_batch\u001b[0m\u001b[0;34m[\u001b[0m\u001b[0mcategory\u001b[0m\u001b[0;34m]\u001b[0m\u001b[0;34m.\u001b[0m\u001b[0mkeys\u001b[0m\u001b[0;34m(\u001b[0m\u001b[0;34m)\u001b[0m\u001b[0;34m)\u001b[0m\u001b[0;34m)\u001b[0m\u001b[0;34m\u001b[0m\u001b[0;34m\u001b[0m\u001b[0m\n\u001b[1;32m     22\u001b[0m     \u001b[0mdata_sample\u001b[0m\u001b[0;34m[\u001b[0m\u001b[0mcategory\u001b[0m\u001b[0;34m]\u001b[0m \u001b[0;34m=\u001b[0m \u001b[0;34m[\u001b[0m\u001b[0;34m]\u001b[0m\u001b[0;34m\u001b[0m\u001b[0;34m\u001b[0m\u001b[0m\n\u001b[0;32m---> 23\u001b[0;31m     \u001b[0muserID\u001b[0m \u001b[0;34m=\u001b[0m \u001b[0mrandom\u001b[0m\u001b[0;34m.\u001b[0m\u001b[0msample\u001b[0m\u001b[0;34m(\u001b[0m\u001b[0mlist\u001b[0m\u001b[0;34m(\u001b[0m\u001b[0mdata_batch\u001b[0m\u001b[0;34m[\u001b[0m\u001b[0mcategory\u001b[0m\u001b[0;34m]\u001b[0m\u001b[0;34m.\u001b[0m\u001b[0mkeys\u001b[0m\u001b[0;34m(\u001b[0m\u001b[0;34m)\u001b[0m\u001b[0;34m)\u001b[0m\u001b[0;34m,\u001b[0m \u001b[0;36m1000\u001b[0m\u001b[0;34m)\u001b[0m\u001b[0;34m\u001b[0m\u001b[0;34m\u001b[0m\u001b[0m\n\u001b[0m\u001b[1;32m     24\u001b[0m     \u001b[0;32mfor\u001b[0m \u001b[0muser\u001b[0m \u001b[0;32min\u001b[0m \u001b[0muserID\u001b[0m\u001b[0;34m:\u001b[0m\u001b[0;34m\u001b[0m\u001b[0;34m\u001b[0m\u001b[0m\n\u001b[1;32m     25\u001b[0m         \u001b[0mdata_sample\u001b[0m\u001b[0;34m[\u001b[0m\u001b[0mcategory\u001b[0m\u001b[0;34m]\u001b[0m\u001b[0;34m.\u001b[0m\u001b[0mappend\u001b[0m\u001b[0;34m(\u001b[0m\u001b[0mdeepcopy\u001b[0m\u001b[0;34m(\u001b[0m\u001b[0mdata_batch\u001b[0m\u001b[0;34m[\u001b[0m\u001b[0mcategory\u001b[0m\u001b[0;34m]\u001b[0m\u001b[0;34m[\u001b[0m\u001b[0muser\u001b[0m\u001b[0;34m]\u001b[0m\u001b[0;34m)\u001b[0m\u001b[0;34m)\u001b[0m\u001b[0;34m\u001b[0m\u001b[0;34m\u001b[0m\u001b[0m\n",
      "\u001b[0;31mNameError\u001b[0m: name 'random' is not defined"
     ]
    }
   ],
   "source": [
    "from tqdm import tqdm\n",
    "from copy import deepcopy\n",
    "word_map = {\"SOS\":0, \"EOS\":1, \"*\":2}\n",
    "len_dict = {}\n",
    "data_batch = {}\n",
    "for category in data.keys():\n",
    "    data_batch[category] = {}\n",
    "    data_by_category = data[category]\n",
    "    for user in tqdm(data_by_category.keys()):\n",
    "        tokens = []\n",
    "        len_tokens = 0\n",
    "        for query in data_by_category[user][\"query\"]:\n",
    "            query_token = prepare_text(query)\n",
    "            tokens += deepcopy([\"<SOS>\"] + query_token + [\"<EOS>\"])\n",
    "            len_tokens += len(query_token)\n",
    "        if len_tokens >= 10 and len_tokens <= 50:\n",
    "            data_batch[category][user] = deepcopy(tokens)\n"
   ]
  },
  {
   "cell_type": "code",
   "execution_count": 34,
   "metadata": {},
   "outputs": [
    {
     "name": "stdout",
     "output_type": "stream",
     "text": [
      "1333\n",
      "3619\n",
      "3197\n",
      "['<SOS>', 'colon', 'cancer', 'symptom', '<EOS>', '<SOS>', 'symptom', 'of', 'colon', 'cancer', '<EOS>', '<SOS>', 'cancer', 'symptom', '<EOS>', '<SOS>', 'symptom', 'of', 'cancer', '<EOS>', '<SOS>', 'symptom', 'of', 'ovarian', 'cancer', '<EOS>']\n",
      "5842\n"
     ]
    }
   ],
   "source": [
    "import random\n",
    "random.seed(0)\n",
    "data_sample = {}\n",
    "for category in data_batch.keys():\n",
    "    print(len(data_batch[category].keys()))\n",
    "    data_sample[category] = []\n",
    "    userID = random.sample(list(data_batch[category].keys()), 1000)\n",
    "    for user in userID:\n",
    "        for token in data_batch[category][user]:\n",
    "            if token not in word_map:\n",
    "                word_map[token] = word_map[\"*\"]\n",
    "                word_map[\"*\"] += 1\n",
    "        data_sample[category].append(deepcopy(data_batch[category][user]))\n",
    "print(data_sample[\"0\"][0])\n",
    "print(len(word_map.keys()))"
   ]
  },
  {
   "cell_type": "code",
   "execution_count": null,
   "metadata": {},
   "outputs": [],
   "source": []
  }
 ],
 "metadata": {
  "kernelspec": {
   "display_name": "Python 3.7.4 64-bit ('tf2': conda)",
   "language": "python",
   "name": "python37464bittf2condac6409d745dfe4c3e9b9bf911fea21b2c"
  },
  "language_info": {
   "codemirror_mode": {
    "name": "ipython",
    "version": 3
   },
   "file_extension": ".py",
   "mimetype": "text/x-python",
   "name": "python",
   "nbconvert_exporter": "python",
   "pygments_lexer": "ipython3",
   "version": "3.7.4"
  }
 },
 "nbformat": 4,
 "nbformat_minor": 2
}

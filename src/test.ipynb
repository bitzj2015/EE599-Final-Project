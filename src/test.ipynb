{
 "cells": [
  {
   "cell_type": "code",
   "execution_count": 3,
   "metadata": {
    "scrolled": false
   },
   "outputs": [
    {
     "name": "stderr",
     "output_type": "stream",
     "text": [
      "\r",
      "  0%|          | 0/10 [00:00<?, ?it/s]"
     ]
    },
    {
     "name": "stdout",
     "output_type": "stream",
     "text": [
      "[INFO] Complete loading data, with # of {'0': 1000, '1': 1000, '2': 1000}\n"
     ]
    },
    {
     "name": "stderr",
     "output_type": "stream",
     "text": [
      "100%|██████████| 10/10 [00:11<00:00,  1.17s/it]"
     ]
    },
    {
     "name": "stdout",
     "output_type": "stream",
     "text": [
      "[INFO] Target query:  ['<SOS>', 'st', 'aspirin', 'during', 'pregnancy', '<POS>', 'spotting', 'during', 'pregnancy', '<POS>', 'pregnancy', 'indigestion', '<POS>', 'the', 'miraculous', 'world', 'of', 'your', 'unborn', 'baby', '<EOS>', '*', '*', '*', '*', '*', '*', '*', '*', '*', '*', '*', '*', '*', '*', '*', '*', '*', '*', '*', '*', '*', '*', '*', '*', '*', '*', '*', '*', '*', '*', '*', '*', '*', '*', '*', '*', '*', '*', '*', '*', '*', '*', '*', '*', '*', '*', '*', '*', '*', '*', '*', '<SOS>', 'breast', 'cancer', '<POS>', 'breast', 'cancer', '<POS>', 'different', 'type', 'of', 'breast', 'cancer', '<POS>', 'will', 'invasive', 'carcinoma', 'come', 'back', '<POS>', 'breast', 'cancer', '<EOS>', '*', '*', '*', '*', '*', '*', '*', '*', '*', '*', '*', '*', '*', '*', '*', '*', '*', '*', '*', '*', '*', '*', '*', '*', '*', '*', '*', '*', '*', '*', '*', '*', '*', '*', '*', '*', '*', '*', '*', '*', '*', '*', '*', '*', '*', '*', '*', '*', '*', '*', '<SOS>', 'teacher', 'choice', '<POS>', 'teacher', 'choice', 'form', '<POS>', 'rent', 'a', 'car', 'for', 'a', 'two', 'days', '<EOS>', '*', '*', '*', '*', '*', '*', '*', '*', '*', '*', '*', '*', '*', '*', '*', '*', '*', '*', '*', '*', '*', '*', '*', '*', '*', '*', '*', '*', '*', '*', '*', '*', '*', '*', '*', '*', '*', '*', '*', '*', '*', '*', '*', '*', '*', '*', '*', '*', '*', '*', '*', '*', '*', '*', '*', '*']\n",
      "[INFO] Predicted query:  ['<SOS>', 'st', 'white', 'during', 'pregnancy', '<POS>', 'baby', 'during', 'pregnancy', '<POS>', 'pregnancy', 'non', '<POS>', 'the', '<POS>', 'world', 'of', 'your', '<POS>', 'baby', '<EOS>', '*', '*', '*', '*', '*', '*', '*', '*', '*', '*', '*', '*', '*', '*', '*', '*', '*', '*', '*', '*', '*', '*', '*', '*', '*', '*', '*', '*', '*', '*', '*', '*', '*', '*', '*', '*', '*', '*', '*', '*', '*', '*', '*', '*', '*', '*', '*', '*', '*', '*', '*', '<SOS>', 'breast', 'cancer', '<POS>', 'breast', 'cancer', '<POS>', 'different', 'type', 'of', 'breast', 'cancer', '<POS>', 'will', 'invasive', 'carcinoma', 'come', 'back', '<POS>', 'breast', 'cancer', '<EOS>', '*', '*', '*', '*', '*', '*', '*', '*', '*', '*', '*', '*', '*', '*', '*', '*', '*', '*', '*', '*', '*', '*', '*', '*', '*', '*', '*', '*', '*', '*', '*', '*', '*', '*', '*', '*', '*', '*', '*', '*', '*', '*', '*', '*', '*', '*', '*', '*', '*', '*', '<SOS>', 'teacher', 'department', '<POS>', 'teacher', 'department', '<EOS>', '<POS>', 'baby', 'a', 'car', 'for', 'a', 'two', 'tumor', '<EOS>', '*', '*', '*', '*', '*', '*', '*', '*', '*', '*', '*', '*', '*', '*', '*', '*', '*', '*', '*', '*', '*', '*', '*', '*', '*', '*', '*', '*', '*', '*', '*', '*', '*', '*', '*', '*', '*', '*', '*', '*', '*', '*', '*', '*', '*', '*', '*', '*', '*', '*', '*', '*', '*', '*', '*', '*']\n"
     ]
    },
    {
     "name": "stderr",
     "output_type": "stream",
     "text": [
      "\n"
     ]
    }
   ],
   "source": [
    "# Load basic module\n",
    "import os\n",
    "import json\n",
    "import random\n",
    "random.seed(0)\n",
    "import math\n",
    "from copy import deepcopy\n",
    "import argparse\n",
    "from tqdm import tqdm\n",
    "import numpy as np\n",
    "import torch\n",
    "import torch.nn as nn\n",
    "import torch.optim as optim\n",
    "\n",
    "# Load self-defined module\n",
    "from generator import Generator, Gen_args\n",
    "from discriminator import Discriminator, Dis_args\n",
    "from train import pretrain_gen, train_adv, train_dis, train_gap\n",
    "from data_loader import LoadData\n",
    "from rollout import Rollout\n",
    "\n",
    "# Set random seed\n",
    "SEED = 0\n",
    "random.seed(SEED)\n",
    "np.random.seed(SEED)\n",
    "\n",
    "# Basic Training Paramters\n",
    "BATCH_SIZE = 64\n",
    "USE_CUDA = False\n",
    "PRE_GEN_EPOCH_NUM = 100\n",
    "PRE_ADV_EPOCH_NUM = 5\n",
    "PRE_DIS_EPOCH_NUM = 5\n",
    "GAP_EPOCH_NUM = 20\n",
    "MC_NUM = 16\n",
    "GAP_W = [0.2, 0.2, 0.6]\n",
    "GEN_LR = 0.01\n",
    "ADV_LR = 0.01\n",
    "DIS_LR = 0.01\n",
    "PRE_GEN_PATH = \"../param/pre_generator.pkl\"\n",
    "PRE_ADV_PATH = \"../param/pre_adversary.pkl\"\n",
    "PRE_DIS_PATH = \"../param/pre_discriminator.pkl\"\n",
    "GEN_PATH = \"../param/generator_v3.pkl\"\n",
    "ADV_PATH = \"../param/adversary_v3.pkl\"\n",
    "DIS_PATH = \"../param/discriminator_v3.pkl\"\n",
    "\n",
    "\n",
    "with open(\"../data/word_map.json\", \"r\") as json_file:\n",
    "    word_map = json.load(json_file)\n",
    "index_map = {}\n",
    "for key in word_map.keys():\n",
    "    index_map[word_map[key]] = key\n",
    "    \n",
    "# Get training and testing dataloader\n",
    "train_loader, test_loader, \\\n",
    "    MAX_SEQ_LEN, VOCAB_SIZE, index_map = LoadData(data_path=\"../data/dataset_batch.json\", \n",
    "                                       word2id_path=\"../data/word_map.json\", \n",
    "                                       train_split=0.8,\n",
    "                                       BATCH_SIZE=64)\n",
    "\n",
    "# Genrator Parameters\n",
    "gen_args = Gen_args(vocab_size=VOCAB_SIZE, \n",
    "                    emb_dim=64, \n",
    "                    hidden_dim=64)\n",
    "\n",
    "# Discriminator Parameters\n",
    "dis_args = Dis_args(num_classes=2, \n",
    "                    vocab_size=VOCAB_SIZE, \n",
    "                    emb_dim=64, \n",
    "                    filter_sizes=[3, 4, 5], \n",
    "                    num_filters=[150, 150, 150], \n",
    "                    dropout=0.5)\n",
    "\n",
    "# Adversarial Parameters\n",
    "adv_args = Dis_args(num_classes=3, \n",
    "                    vocab_size=VOCAB_SIZE, \n",
    "                    emb_dim=64, \n",
    "                    filter_sizes=[3, 4, 5], \n",
    "                    num_filters=[150, 150, 150], \n",
    "                    # filter_sizes=[1, 2, 3, 4, 5, 6, 7, 8, 9, 10, 15, 20],\n",
    "                    # num_filters=[100, 200, 200, 200, 200, 100, 100, 100, 100, 100, 160, 160],\n",
    "                    dropout=0.5)\n",
    "\n",
    "# Define Networks\n",
    "generator = Generator(gen_args, USE_CUDA)\n",
    "discriminator = Discriminator(dis_args)\n",
    "adversary = Discriminator(adv_args)\n",
    "if USE_CUDA:\n",
    "    generator = generator.cuda()\n",
    "    discriminator = discriminator.cuda()\n",
    "    adversary = adversary.cuda()\n",
    "\n",
    "\n",
    "# Load pretrained parameters\n",
    "generator.load_state_dict(torch.load(GEN_PATH))\n",
    "# discriminator.load_state_dict(torch.load(DIS_PATH))\n",
    "# adversary.load_state_dict(torch.load(ADV_PATH))\n",
    "\n",
    "# Define optimizer and loss function for discriminator\n",
    "\n",
    "total_loss = 0.\n",
    "total_words = 0.\n",
    "for batch in tqdm(test_loader):\n",
    "    data = batch[\"x\"]\n",
    "    target = batch[\"x\"][:,:,0]\n",
    "    if USE_CUDA:\n",
    "        data, target = data.cuda(), target.cuda()\n",
    "    target = target.contiguous().view(-1)\n",
    "    with torch.no_grad():\n",
    "        pred = generator.forward(data)\n",
    "target_ = target.detach().cpu().numpy()\n",
    "_, pred_ = torch.max(pred, axis=-1)\n",
    "pred_ = pred_.cpu().numpy()\n",
    "target_query = []\n",
    "pred_query = []\n",
    "for i in range(0, 144+72):\n",
    "    target_query.append(index_map[target_[i]])\n",
    "    pred_query.append(index_map[pred_[i]])\n",
    "print(\"[INFO] Target query: \", target_query)\n",
    "print(\"[INFO] Predicted query: \", pred_query)\n"
   ]
  },
  {
   "cell_type": "code",
   "execution_count": null,
   "metadata": {},
   "outputs": [],
   "source": []
  },
  {
   "cell_type": "code",
   "execution_count": null,
   "metadata": {},
   "outputs": [],
   "source": []
  }
 ],
 "metadata": {
  "kernelspec": {
   "display_name": "Python 3",
   "language": "python",
   "name": "python3"
  },
  "language_info": {
   "codemirror_mode": {
    "name": "ipython",
    "version": 3
   },
   "file_extension": ".py",
   "mimetype": "text/x-python",
   "name": "python",
   "nbconvert_exporter": "python",
   "pygments_lexer": "ipython3",
   "version": "3.6.10"
  }
 },
 "nbformat": 4,
 "nbformat_minor": 2
}
